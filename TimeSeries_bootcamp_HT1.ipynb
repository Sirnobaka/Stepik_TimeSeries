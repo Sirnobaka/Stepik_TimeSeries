{
 "cells": [
  {
   "cell_type": "markdown",
   "metadata": {
    "id": "T34piJw4V7aZ"
   },
   "source": [
    "# Домашнее задание\n",
    "\n",
    "В этом домашнем задании предлагаем вам попрактиковаться в прогнозировании стоимости биткоина при помощи линейной регрессии."
   ]
  },
  {
   "cell_type": "code",
   "execution_count": 43,
   "metadata": {
    "colab": {
     "base_uri": "https://localhost:8080/",
     "height": 252
    },
    "id": "XVm2XfwF76m5",
    "outputId": "24556691-dada-489c-952c-a2300a7d5807"
   },
   "outputs": [
    {
     "data": {
      "text/html": [
       "<div>\n",
       "<style scoped>\n",
       "    .dataframe tbody tr th:only-of-type {\n",
       "        vertical-align: middle;\n",
       "    }\n",
       "\n",
       "    .dataframe tbody tr th {\n",
       "        vertical-align: top;\n",
       "    }\n",
       "\n",
       "    .dataframe thead th {\n",
       "        text-align: right;\n",
       "    }\n",
       "</style>\n",
       "<table border=\"1\" class=\"dataframe\">\n",
       "  <thead>\n",
       "    <tr style=\"text-align: right;\">\n",
       "      <th></th>\n",
       "      <th>open</th>\n",
       "      <th>high</th>\n",
       "      <th>low</th>\n",
       "      <th>close</th>\n",
       "      <th>volume</th>\n",
       "    </tr>\n",
       "    <tr>\n",
       "      <th>timestamp</th>\n",
       "      <th></th>\n",
       "      <th></th>\n",
       "      <th></th>\n",
       "      <th></th>\n",
       "      <th></th>\n",
       "    </tr>\n",
       "  </thead>\n",
       "  <tbody>\n",
       "    <tr>\n",
       "      <th>2023-06-18 00:00:00</th>\n",
       "      <td>26519.10</td>\n",
       "      <td>26542.5</td>\n",
       "      <td>26501.76</td>\n",
       "      <td>26515.80</td>\n",
       "      <td>35.4498</td>\n",
       "    </tr>\n",
       "    <tr>\n",
       "      <th>2023-06-18 00:05:00</th>\n",
       "      <td>26508.01</td>\n",
       "      <td>26535.0</td>\n",
       "      <td>26506.13</td>\n",
       "      <td>26511.30</td>\n",
       "      <td>7.4262</td>\n",
       "    </tr>\n",
       "    <tr>\n",
       "      <th>2023-06-18 00:10:00</th>\n",
       "      <td>26511.30</td>\n",
       "      <td>26551.0</td>\n",
       "      <td>26508.77</td>\n",
       "      <td>26519.62</td>\n",
       "      <td>18.9461</td>\n",
       "    </tr>\n",
       "    <tr>\n",
       "      <th>2023-06-18 00:15:00</th>\n",
       "      <td>26519.44</td>\n",
       "      <td>26550.0</td>\n",
       "      <td>26464.43</td>\n",
       "      <td>26511.99</td>\n",
       "      <td>89.2364</td>\n",
       "    </tr>\n",
       "    <tr>\n",
       "      <th>2023-06-18 00:20:00</th>\n",
       "      <td>26513.33</td>\n",
       "      <td>26541.0</td>\n",
       "      <td>26414.28</td>\n",
       "      <td>26439.52</td>\n",
       "      <td>90.0204</td>\n",
       "    </tr>\n",
       "  </tbody>\n",
       "</table>\n",
       "</div>"
      ],
      "text/plain": [
       "                         open     high       low     close   volume\n",
       "timestamp                                                          \n",
       "2023-06-18 00:00:00  26519.10  26542.5  26501.76  26515.80  35.4498\n",
       "2023-06-18 00:05:00  26508.01  26535.0  26506.13  26511.30   7.4262\n",
       "2023-06-18 00:10:00  26511.30  26551.0  26508.77  26519.62  18.9461\n",
       "2023-06-18 00:15:00  26519.44  26550.0  26464.43  26511.99  89.2364\n",
       "2023-06-18 00:20:00  26513.33  26541.0  26414.28  26439.52  90.0204"
      ]
     },
     "execution_count": 43,
     "metadata": {},
     "output_type": "execute_result"
    }
   ],
   "source": [
    "import pandas as pd\n",
    "from matplotlib import pyplot as plt\n",
    "from sklearn.model_selection import TimeSeriesSplit\n",
    "\n",
    "data = pd.read_csv(\"https://raw.githubusercontent.com/aiedu-courses/stepik_applied_tasks/main/datasets/BTC_5min_sample.csv\",\n",
    "                   parse_dates=True,\n",
    "                   index_col='timestamp'\n",
    "                  )\n",
    "\n",
    "data.head()"
   ]
  },
  {
   "cell_type": "code",
   "execution_count": 44,
   "metadata": {},
   "outputs": [
    {
     "data": {
      "text/html": [
       "<div>\n",
       "<style scoped>\n",
       "    .dataframe tbody tr th:only-of-type {\n",
       "        vertical-align: middle;\n",
       "    }\n",
       "\n",
       "    .dataframe tbody tr th {\n",
       "        vertical-align: top;\n",
       "    }\n",
       "\n",
       "    .dataframe thead th {\n",
       "        text-align: right;\n",
       "    }\n",
       "</style>\n",
       "<table border=\"1\" class=\"dataframe\">\n",
       "  <thead>\n",
       "    <tr style=\"text-align: right;\">\n",
       "      <th></th>\n",
       "      <th>open</th>\n",
       "      <th>high</th>\n",
       "      <th>low</th>\n",
       "      <th>close</th>\n",
       "      <th>volume</th>\n",
       "    </tr>\n",
       "    <tr>\n",
       "      <th>timestamp</th>\n",
       "      <th></th>\n",
       "      <th></th>\n",
       "      <th></th>\n",
       "      <th></th>\n",
       "      <th></th>\n",
       "    </tr>\n",
       "  </thead>\n",
       "  <tbody>\n",
       "    <tr>\n",
       "      <th>2023-07-03 23:35:00</th>\n",
       "      <td>31126.23</td>\n",
       "      <td>31163.0</td>\n",
       "      <td>31118.99</td>\n",
       "      <td>31126.93</td>\n",
       "      <td>24.7985</td>\n",
       "    </tr>\n",
       "    <tr>\n",
       "      <th>2023-07-03 23:40:00</th>\n",
       "      <td>31127.02</td>\n",
       "      <td>31163.0</td>\n",
       "      <td>31120.30</td>\n",
       "      <td>31136.55</td>\n",
       "      <td>28.1264</td>\n",
       "    </tr>\n",
       "    <tr>\n",
       "      <th>2023-07-03 23:45:00</th>\n",
       "      <td>31136.55</td>\n",
       "      <td>31156.0</td>\n",
       "      <td>31120.30</td>\n",
       "      <td>31134.78</td>\n",
       "      <td>44.0049</td>\n",
       "    </tr>\n",
       "    <tr>\n",
       "      <th>2023-07-03 23:50:00</th>\n",
       "      <td>31134.94</td>\n",
       "      <td>31176.0</td>\n",
       "      <td>31120.30</td>\n",
       "      <td>31158.82</td>\n",
       "      <td>54.4029</td>\n",
       "    </tr>\n",
       "    <tr>\n",
       "      <th>2023-07-03 23:55:00</th>\n",
       "      <td>31158.81</td>\n",
       "      <td>31182.0</td>\n",
       "      <td>31131.70</td>\n",
       "      <td>31157.42</td>\n",
       "      <td>17.7158</td>\n",
       "    </tr>\n",
       "  </tbody>\n",
       "</table>\n",
       "</div>"
      ],
      "text/plain": [
       "                         open     high       low     close   volume\n",
       "timestamp                                                          \n",
       "2023-07-03 23:35:00  31126.23  31163.0  31118.99  31126.93  24.7985\n",
       "2023-07-03 23:40:00  31127.02  31163.0  31120.30  31136.55  28.1264\n",
       "2023-07-03 23:45:00  31136.55  31156.0  31120.30  31134.78  44.0049\n",
       "2023-07-03 23:50:00  31134.94  31176.0  31120.30  31158.82  54.4029\n",
       "2023-07-03 23:55:00  31158.81  31182.0  31131.70  31157.42  17.7158"
      ]
     },
     "execution_count": 44,
     "metadata": {},
     "output_type": "execute_result"
    }
   ],
   "source": [
    "data.tail()"
   ]
  },
  {
   "cell_type": "markdown",
   "metadata": {
    "id": "GU_TJpseWDvK"
   },
   "source": [
    "Будем прогнозировать стоимость биткоина на момент открытия торгов (`open`)."
   ]
  },
  {
   "cell_type": "code",
   "execution_count": 45,
   "metadata": {
    "colab": {
     "base_uri": "https://localhost:8080/",
     "height": 520
    },
    "id": "FIhcQ3z_8TZh",
    "outputId": "8a7d65d3-8488-4f10-84d6-6ccf10e58577"
   },
   "outputs": [
    {
     "data": {
      "image/png": "[encoded data removed]",
      "text/plain": [
       "<Figure size 432x288 with 1 Axes>"
      ]
     },
     "metadata": {
      "needs_background": "light"
     },
     "output_type": "display_data"
    }
   ],
   "source": [
    "data = data[['open']]\n",
    "\n",
    "data.plot()\n",
    "plt.show()"
   ]
  },
  {
   "cell_type": "markdown",
   "metadata": {
    "id": "Iuu7Qk4uWMkR"
   },
   "source": [
    "Проделайте следующие шаги:\n",
    "\n",
    "* Разбейте данные на тренировочную и тестовую часть. В тест отправьте 15% данных\n",
    "\n",
    "* Извлеките лаговые признаки\n",
    "\n",
    "* Извлеките агрегированные признаки (средняя стоимость за день, час)\n",
    "\n",
    "Рекомендуется использовать функцию preprocess_data с вебинара (однако, надо будет незначительно ее поменять, исходя из данных задачи).\n",
    "\n",
    "Задайте гиперпараметры по умолчанию (в функции preprocess_data, если будете использовать ее):\n",
    "* `lag_start`=5\n",
    "* `lag_end`=20\n",
    "* `test_size`=0.15"
   ]
  },
  {
   "cell_type": "code",
   "execution_count": 46,
   "metadata": {},
   "outputs": [
    {
     "data": {
      "text/html": [
       "<div>\n",
       "<style scoped>\n",
       "    .dataframe tbody tr th:only-of-type {\n",
       "        vertical-align: middle;\n",
       "    }\n",
       "\n",
       "    .dataframe tbody tr th {\n",
       "        vertical-align: top;\n",
       "    }\n",
       "\n",
       "    .dataframe thead th {\n",
       "        text-align: right;\n",
       "    }\n",
       "</style>\n",
       "<table border=\"1\" class=\"dataframe\">\n",
       "  <thead>\n",
       "    <tr style=\"text-align: right;\">\n",
       "      <th></th>\n",
       "      <th>open</th>\n",
       "    </tr>\n",
       "    <tr>\n",
       "      <th>timestamp</th>\n",
       "      <th></th>\n",
       "    </tr>\n",
       "  </thead>\n",
       "  <tbody>\n",
       "    <tr>\n",
       "      <th>2023-06-18 00:00:00</th>\n",
       "      <td>NaN</td>\n",
       "    </tr>\n",
       "    <tr>\n",
       "      <th>2023-06-18 00:05:00</th>\n",
       "      <td>26519.10</td>\n",
       "    </tr>\n",
       "    <tr>\n",
       "      <th>2023-06-18 00:10:00</th>\n",
       "      <td>26508.01</td>\n",
       "    </tr>\n",
       "    <tr>\n",
       "      <th>2023-06-18 00:15:00</th>\n",
       "      <td>26511.30</td>\n",
       "    </tr>\n",
       "    <tr>\n",
       "      <th>2023-06-18 00:20:00</th>\n",
       "      <td>26519.44</td>\n",
       "    </tr>\n",
       "  </tbody>\n",
       "</table>\n",
       "</div>"
      ],
      "text/plain": [
       "                         open\n",
       "timestamp                    \n",
       "2023-06-18 00:00:00       NaN\n",
       "2023-06-18 00:05:00  26519.10\n",
       "2023-06-18 00:10:00  26508.01\n",
       "2023-06-18 00:15:00  26511.30\n",
       "2023-06-18 00:20:00  26519.44"
      ]
     },
     "execution_count": 46,
     "metadata": {},
     "output_type": "execute_result"
    }
   ],
   "source": [
    "# shift by one step (5 minutes)\n",
    "data.shift(1).head()"
   ]
  },
  {
   "cell_type": "code",
   "execution_count": 47,
   "metadata": {},
   "outputs": [
    {
     "data": {
      "text/plain": [
       "timestamp\n",
       "2023-06-18 00:00:00         NaN\n",
       "2023-06-18 00:05:00         NaN\n",
       "2023-06-18 00:10:00         NaN\n",
       "2023-06-18 00:15:00         NaN\n",
       "2023-06-18 00:20:00         NaN\n",
       "2023-06-18 00:25:00    26519.10\n",
       "2023-06-18 00:30:00    26508.01\n",
       "2023-06-18 00:35:00    26511.30\n",
       "2023-06-18 00:40:00    26519.44\n",
       "2023-06-18 00:45:00    26513.33\n",
       "Name: open, dtype: float64"
      ]
     },
     "execution_count": 47,
     "metadata": {},
     "output_type": "execute_result"
    }
   ],
   "source": [
    "# shift by 5 steps (25 minutes)\n",
    "data['open'].shift(5).head(10)"
   ]
  },
  {
   "cell_type": "code",
   "execution_count": 48,
   "metadata": {},
   "outputs": [
    {
     "data": {
      "text/html": [
       "<div>\n",
       "<style scoped>\n",
       "    .dataframe tbody tr th:only-of-type {\n",
       "        vertical-align: middle;\n",
       "    }\n",
       "\n",
       "    .dataframe tbody tr th {\n",
       "        vertical-align: top;\n",
       "    }\n",
       "\n",
       "    .dataframe thead th {\n",
       "        text-align: right;\n",
       "    }\n",
       "</style>\n",
       "<table border=\"1\" class=\"dataframe\">\n",
       "  <thead>\n",
       "    <tr style=\"text-align: right;\">\n",
       "      <th></th>\n",
       "      <th>open</th>\n",
       "      <th>lag_1</th>\n",
       "      <th>lag_2</th>\n",
       "      <th>lag_3</th>\n",
       "    </tr>\n",
       "    <tr>\n",
       "      <th>timestamp</th>\n",
       "      <th></th>\n",
       "      <th></th>\n",
       "      <th></th>\n",
       "      <th></th>\n",
       "    </tr>\n",
       "  </thead>\n",
       "  <tbody>\n",
       "    <tr>\n",
       "      <th>2023-06-18 00:15:00</th>\n",
       "      <td>26519.44</td>\n",
       "      <td>26511.30</td>\n",
       "      <td>26508.01</td>\n",
       "      <td>26519.10</td>\n",
       "    </tr>\n",
       "    <tr>\n",
       "      <th>2023-06-18 00:20:00</th>\n",
       "      <td>26513.33</td>\n",
       "      <td>26519.44</td>\n",
       "      <td>26511.30</td>\n",
       "      <td>26508.01</td>\n",
       "    </tr>\n",
       "    <tr>\n",
       "      <th>2023-06-18 00:25:00</th>\n",
       "      <td>26437.12</td>\n",
       "      <td>26513.33</td>\n",
       "      <td>26519.44</td>\n",
       "      <td>26511.30</td>\n",
       "    </tr>\n",
       "    <tr>\n",
       "      <th>2023-06-18 00:30:00</th>\n",
       "      <td>26477.27</td>\n",
       "      <td>26437.12</td>\n",
       "      <td>26513.33</td>\n",
       "      <td>26519.44</td>\n",
       "    </tr>\n",
       "    <tr>\n",
       "      <th>2023-06-18 00:35:00</th>\n",
       "      <td>26442.69</td>\n",
       "      <td>26477.27</td>\n",
       "      <td>26437.12</td>\n",
       "      <td>26513.33</td>\n",
       "    </tr>\n",
       "    <tr>\n",
       "      <th>2023-06-18 00:40:00</th>\n",
       "      <td>26447.93</td>\n",
       "      <td>26442.69</td>\n",
       "      <td>26477.27</td>\n",
       "      <td>26437.12</td>\n",
       "    </tr>\n",
       "    <tr>\n",
       "      <th>2023-06-18 00:45:00</th>\n",
       "      <td>26404.98</td>\n",
       "      <td>26447.93</td>\n",
       "      <td>26442.69</td>\n",
       "      <td>26477.27</td>\n",
       "    </tr>\n",
       "    <tr>\n",
       "      <th>2023-06-18 00:50:00</th>\n",
       "      <td>26413.75</td>\n",
       "      <td>26404.98</td>\n",
       "      <td>26447.93</td>\n",
       "      <td>26442.69</td>\n",
       "    </tr>\n",
       "    <tr>\n",
       "      <th>2023-06-18 00:55:00</th>\n",
       "      <td>26430.23</td>\n",
       "      <td>26413.75</td>\n",
       "      <td>26404.98</td>\n",
       "      <td>26447.93</td>\n",
       "    </tr>\n",
       "    <tr>\n",
       "      <th>2023-06-18 01:00:00</th>\n",
       "      <td>26442.69</td>\n",
       "      <td>26430.23</td>\n",
       "      <td>26413.75</td>\n",
       "      <td>26404.98</td>\n",
       "    </tr>\n",
       "  </tbody>\n",
       "</table>\n",
       "</div>"
      ],
      "text/plain": [
       "                         open     lag_1     lag_2     lag_3\n",
       "timestamp                                                  \n",
       "2023-06-18 00:15:00  26519.44  26511.30  26508.01  26519.10\n",
       "2023-06-18 00:20:00  26513.33  26519.44  26511.30  26508.01\n",
       "2023-06-18 00:25:00  26437.12  26513.33  26519.44  26511.30\n",
       "2023-06-18 00:30:00  26477.27  26437.12  26513.33  26519.44\n",
       "2023-06-18 00:35:00  26442.69  26477.27  26437.12  26513.33\n",
       "2023-06-18 00:40:00  26447.93  26442.69  26477.27  26437.12\n",
       "2023-06-18 00:45:00  26404.98  26447.93  26442.69  26477.27\n",
       "2023-06-18 00:50:00  26413.75  26404.98  26447.93  26442.69\n",
       "2023-06-18 00:55:00  26430.23  26413.75  26404.98  26447.93\n",
       "2023-06-18 01:00:00  26442.69  26430.23  26413.75  26404.98"
      ]
     },
     "execution_count": 48,
     "metadata": {},
     "output_type": "execute_result"
    }
   ],
   "source": [
    "for i in range(1, 4):\n",
    "    data[f'lag_{i}'] = data['open'].shift(i)\n",
    "    \n",
    "data = data.dropna()\n",
    "data.head(10)"
   ]
  },
  {
   "cell_type": "code",
   "execution_count": 49,
   "metadata": {},
   "outputs": [
    {
     "name": "stderr",
     "output_type": "stream",
     "text": [
      "/home/andy/miniconda3/lib/python3.7/site-packages/ipykernel_launcher.py:1: SettingWithCopyWarning: \n",
      "A value is trying to be set on a copy of a slice from a DataFrame.\n",
      "Try using .loc[row_indexer,col_indexer] = value instead\n",
      "\n",
      "See the caveats in the documentation: https://pandas.pydata.org/pandas-docs/stable/user_guide/indexing.html#returning-a-view-versus-a-copy\n",
      "  \"\"\"Entry point for launching an IPython kernel.\n",
      "/home/andy/miniconda3/lib/python3.7/site-packages/ipykernel_launcher.py:2: SettingWithCopyWarning: \n",
      "A value is trying to be set on a copy of a slice from a DataFrame.\n",
      "Try using .loc[row_indexer,col_indexer] = value instead\n",
      "\n",
      "See the caveats in the documentation: https://pandas.pydata.org/pandas-docs/stable/user_guide/indexing.html#returning-a-view-versus-a-copy\n",
      "  \n"
     ]
    }
   ],
   "source": [
    "data['day'] = data.index.day\n",
    "data['hour'] = data.index.hour"
   ]
  },
  {
   "cell_type": "code",
   "execution_count": 50,
   "metadata": {},
   "outputs": [
    {
     "data": {
      "text/html": [
       "<div>\n",
       "<style scoped>\n",
       "    .dataframe tbody tr th:only-of-type {\n",
       "        vertical-align: middle;\n",
       "    }\n",
       "\n",
       "    .dataframe tbody tr th {\n",
       "        vertical-align: top;\n",
       "    }\n",
       "\n",
       "    .dataframe thead th {\n",
       "        text-align: right;\n",
       "    }\n",
       "</style>\n",
       "<table border=\"1\" class=\"dataframe\">\n",
       "  <thead>\n",
       "    <tr style=\"text-align: right;\">\n",
       "      <th></th>\n",
       "      <th>open</th>\n",
       "    </tr>\n",
       "    <tr>\n",
       "      <th>day</th>\n",
       "      <th></th>\n",
       "    </tr>\n",
       "  </thead>\n",
       "  <tbody>\n",
       "    <tr>\n",
       "      <th>1</th>\n",
       "      <td>30512.006528</td>\n",
       "    </tr>\n",
       "    <tr>\n",
       "      <th>2</th>\n",
       "      <td>30541.364583</td>\n",
       "    </tr>\n",
       "    <tr>\n",
       "      <th>3</th>\n",
       "      <td>30829.732917</td>\n",
       "    </tr>\n",
       "    <tr>\n",
       "      <th>18</th>\n",
       "      <td>26515.122702</td>\n",
       "    </tr>\n",
       "    <tr>\n",
       "      <th>19</th>\n",
       "      <td>26510.399653</td>\n",
       "    </tr>\n",
       "    <tr>\n",
       "      <th>20</th>\n",
       "      <td>27201.300417</td>\n",
       "    </tr>\n",
       "    <tr>\n",
       "      <th>21</th>\n",
       "      <td>29302.246979</td>\n",
       "    </tr>\n",
       "    <tr>\n",
       "      <th>22</th>\n",
       "      <td>30110.849201</td>\n",
       "    </tr>\n",
       "    <tr>\n",
       "      <th>23</th>\n",
       "      <td>30352.407917</td>\n",
       "    </tr>\n",
       "    <tr>\n",
       "      <th>24</th>\n",
       "      <td>30635.585451</td>\n",
       "    </tr>\n",
       "    <tr>\n",
       "      <th>25</th>\n",
       "      <td>30630.126354</td>\n",
       "    </tr>\n",
       "    <tr>\n",
       "      <th>26</th>\n",
       "      <td>30288.353576</td>\n",
       "    </tr>\n",
       "    <tr>\n",
       "      <th>27</th>\n",
       "      <td>30535.091597</td>\n",
       "    </tr>\n",
       "    <tr>\n",
       "      <th>28</th>\n",
       "      <td>30303.848542</td>\n",
       "    </tr>\n",
       "    <tr>\n",
       "      <th>29</th>\n",
       "      <td>30409.301042</td>\n",
       "    </tr>\n",
       "    <tr>\n",
       "      <th>30</th>\n",
       "      <td>30567.799306</td>\n",
       "    </tr>\n",
       "  </tbody>\n",
       "</table>\n",
       "</div>"
      ],
      "text/plain": [
       "             open\n",
       "day              \n",
       "1    30512.006528\n",
       "2    30541.364583\n",
       "3    30829.732917\n",
       "18   26515.122702\n",
       "19   26510.399653\n",
       "20   27201.300417\n",
       "21   29302.246979\n",
       "22   30110.849201\n",
       "23   30352.407917\n",
       "24   30635.585451\n",
       "25   30630.126354\n",
       "26   30288.353576\n",
       "27   30535.091597\n",
       "28   30303.848542\n",
       "29   30409.301042\n",
       "30   30567.799306"
      ]
     },
     "execution_count": 50,
     "metadata": {},
     "output_type": "execute_result"
    }
   ],
   "source": [
    "data.groupby('day').agg({'open': 'mean'})"
   ]
  },
  {
   "cell_type": "code",
   "execution_count": 55,
   "metadata": {},
   "outputs": [
    {
     "data": {
      "text/html": [
       "<div>\n",
       "<style scoped>\n",
       "    .dataframe tbody tr th:only-of-type {\n",
       "        vertical-align: middle;\n",
       "    }\n",
       "\n",
       "    .dataframe tbody tr th {\n",
       "        vertical-align: top;\n",
       "    }\n",
       "\n",
       "    .dataframe thead th {\n",
       "        text-align: right;\n",
       "    }\n",
       "</style>\n",
       "<table border=\"1\" class=\"dataframe\">\n",
       "  <thead>\n",
       "    <tr style=\"text-align: right;\">\n",
       "      <th></th>\n",
       "      <th>open</th>\n",
       "      <th>lag_1</th>\n",
       "      <th>lag_2</th>\n",
       "      <th>lag_3</th>\n",
       "      <th>day</th>\n",
       "      <th>hour</th>\n",
       "    </tr>\n",
       "    <tr>\n",
       "      <th>timestamp</th>\n",
       "      <th></th>\n",
       "      <th></th>\n",
       "      <th></th>\n",
       "      <th></th>\n",
       "      <th></th>\n",
       "      <th></th>\n",
       "    </tr>\n",
       "  </thead>\n",
       "  <tbody>\n",
       "    <tr>\n",
       "      <th>2023-07-03 23:35:00</th>\n",
       "      <td>31126.23</td>\n",
       "      <td>31117.26</td>\n",
       "      <td>31112.99</td>\n",
       "      <td>31118.32</td>\n",
       "      <td>3</td>\n",
       "      <td>23</td>\n",
       "    </tr>\n",
       "    <tr>\n",
       "      <th>2023-07-03 23:40:00</th>\n",
       "      <td>31127.02</td>\n",
       "      <td>31126.23</td>\n",
       "      <td>31117.26</td>\n",
       "      <td>31112.99</td>\n",
       "      <td>3</td>\n",
       "      <td>23</td>\n",
       "    </tr>\n",
       "    <tr>\n",
       "      <th>2023-07-03 23:45:00</th>\n",
       "      <td>31136.55</td>\n",
       "      <td>31127.02</td>\n",
       "      <td>31126.23</td>\n",
       "      <td>31117.26</td>\n",
       "      <td>3</td>\n",
       "      <td>23</td>\n",
       "    </tr>\n",
       "    <tr>\n",
       "      <th>2023-07-03 23:50:00</th>\n",
       "      <td>31134.94</td>\n",
       "      <td>31136.55</td>\n",
       "      <td>31127.02</td>\n",
       "      <td>31126.23</td>\n",
       "      <td>3</td>\n",
       "      <td>23</td>\n",
       "    </tr>\n",
       "    <tr>\n",
       "      <th>2023-07-03 23:55:00</th>\n",
       "      <td>31158.81</td>\n",
       "      <td>31134.94</td>\n",
       "      <td>31136.55</td>\n",
       "      <td>31127.02</td>\n",
       "      <td>3</td>\n",
       "      <td>23</td>\n",
       "    </tr>\n",
       "  </tbody>\n",
       "</table>\n",
       "</div>"
      ],
      "text/plain": [
       "                         open     lag_1     lag_2     lag_3  day  hour\n",
       "timestamp                                                             \n",
       "2023-07-03 23:35:00  31126.23  31117.26  31112.99  31118.32    3    23\n",
       "2023-07-03 23:40:00  31127.02  31126.23  31117.26  31112.99    3    23\n",
       "2023-07-03 23:45:00  31136.55  31127.02  31126.23  31117.26    3    23\n",
       "2023-07-03 23:50:00  31134.94  31136.55  31127.02  31126.23    3    23\n",
       "2023-07-03 23:55:00  31158.81  31134.94  31136.55  31127.02    3    23"
      ]
     },
     "execution_count": 55,
     "metadata": {},
     "output_type": "execute_result"
    }
   ],
   "source": [
    "data.loc['2023-07-03 23:35:00':]"
   ]
  },
  {
   "cell_type": "code",
   "execution_count": 65,
   "metadata": {},
   "outputs": [
    {
     "data": {
      "text/plain": [
       "(4605, 6)"
      ]
     },
     "execution_count": 65,
     "metadata": {},
     "output_type": "execute_result"
    }
   ],
   "source": [
    "data.shape"
   ]
  },
  {
   "cell_type": "code",
   "execution_count": 62,
   "metadata": {},
   "outputs": [
    {
     "data": {
      "text/plain": [
       "3914"
      ]
     },
     "execution_count": 62,
     "metadata": {},
     "output_type": "execute_result"
    }
   ],
   "source": [
    "train_size = int(data.shape[0] * 0.85)\n",
    "train_size"
   ]
  },
  {
   "cell_type": "code",
   "execution_count": 63,
   "metadata": {},
   "outputs": [
    {
     "data": {
      "text/plain": [
       "(3914, 6)"
      ]
     },
     "execution_count": 63,
     "metadata": {},
     "output_type": "execute_result"
    }
   ],
   "source": [
    "data.iloc[:train_size].shape"
   ]
  },
  {
   "cell_type": "code",
   "execution_count": 64,
   "metadata": {},
   "outputs": [
    {
     "data": {
      "text/plain": [
       "(691, 6)"
      ]
     },
     "execution_count": 64,
     "metadata": {},
     "output_type": "execute_result"
    }
   ],
   "source": [
    "data.iloc[train_size:].shape"
   ]
  },
  {
   "cell_type": "code",
   "execution_count": null,
   "metadata": {},
   "outputs": [],
   "source": []
  },
  {
   "cell_type": "code",
   "execution_count": 95,
   "metadata": {},
   "outputs": [
    {
     "data": {
      "text/html": [
       "<div>\n",
       "<style scoped>\n",
       "    .dataframe tbody tr th:only-of-type {\n",
       "        vertical-align: middle;\n",
       "    }\n",
       "\n",
       "    .dataframe tbody tr th {\n",
       "        vertical-align: top;\n",
       "    }\n",
       "\n",
       "    .dataframe thead th {\n",
       "        text-align: right;\n",
       "    }\n",
       "</style>\n",
       "<table border=\"1\" class=\"dataframe\">\n",
       "  <thead>\n",
       "    <tr style=\"text-align: right;\">\n",
       "      <th></th>\n",
       "      <th>open</th>\n",
       "      <th>high</th>\n",
       "      <th>low</th>\n",
       "      <th>close</th>\n",
       "      <th>volume</th>\n",
       "    </tr>\n",
       "    <tr>\n",
       "      <th>timestamp</th>\n",
       "      <th></th>\n",
       "      <th></th>\n",
       "      <th></th>\n",
       "      <th></th>\n",
       "      <th></th>\n",
       "    </tr>\n",
       "  </thead>\n",
       "  <tbody>\n",
       "    <tr>\n",
       "      <th>2023-06-18 00:00:00</th>\n",
       "      <td>26519.10</td>\n",
       "      <td>26542.5</td>\n",
       "      <td>26501.76</td>\n",
       "      <td>26515.80</td>\n",
       "      <td>35.4498</td>\n",
       "    </tr>\n",
       "    <tr>\n",
       "      <th>2023-06-18 00:05:00</th>\n",
       "      <td>26508.01</td>\n",
       "      <td>26535.0</td>\n",
       "      <td>26506.13</td>\n",
       "      <td>26511.30</td>\n",
       "      <td>7.4262</td>\n",
       "    </tr>\n",
       "    <tr>\n",
       "      <th>2023-06-18 00:10:00</th>\n",
       "      <td>26511.30</td>\n",
       "      <td>26551.0</td>\n",
       "      <td>26508.77</td>\n",
       "      <td>26519.62</td>\n",
       "      <td>18.9461</td>\n",
       "    </tr>\n",
       "    <tr>\n",
       "      <th>2023-06-18 00:15:00</th>\n",
       "      <td>26519.44</td>\n",
       "      <td>26550.0</td>\n",
       "      <td>26464.43</td>\n",
       "      <td>26511.99</td>\n",
       "      <td>89.2364</td>\n",
       "    </tr>\n",
       "    <tr>\n",
       "      <th>2023-06-18 00:20:00</th>\n",
       "      <td>26513.33</td>\n",
       "      <td>26541.0</td>\n",
       "      <td>26414.28</td>\n",
       "      <td>26439.52</td>\n",
       "      <td>90.0204</td>\n",
       "    </tr>\n",
       "  </tbody>\n",
       "</table>\n",
       "</div>"
      ],
      "text/plain": [
       "                         open     high       low     close   volume\n",
       "timestamp                                                          \n",
       "2023-06-18 00:00:00  26519.10  26542.5  26501.76  26515.80  35.4498\n",
       "2023-06-18 00:05:00  26508.01  26535.0  26506.13  26511.30   7.4262\n",
       "2023-06-18 00:10:00  26511.30  26551.0  26508.77  26519.62  18.9461\n",
       "2023-06-18 00:15:00  26519.44  26550.0  26464.43  26511.99  89.2364\n",
       "2023-06-18 00:20:00  26513.33  26541.0  26414.28  26439.52  90.0204"
      ]
     },
     "execution_count": 95,
     "metadata": {},
     "output_type": "execute_result"
    }
   ],
   "source": [
    "data = pd.read_csv(\"https://raw.githubusercontent.com/aiedu-courses/stepik_applied_tasks/main/datasets/BTC_5min_sample.csv\",\n",
    "                   parse_dates=True,\n",
    "                   index_col='timestamp'\n",
    "                  )\n",
    "\n",
    "data.head()"
   ]
  },
  {
   "cell_type": "code",
   "execution_count": 96,
   "metadata": {},
   "outputs": [
    {
     "data": {
      "text/html": [
       "<div>\n",
       "<style scoped>\n",
       "    .dataframe tbody tr th:only-of-type {\n",
       "        vertical-align: middle;\n",
       "    }\n",
       "\n",
       "    .dataframe tbody tr th {\n",
       "        vertical-align: top;\n",
       "    }\n",
       "\n",
       "    .dataframe thead th {\n",
       "        text-align: right;\n",
       "    }\n",
       "</style>\n",
       "<table border=\"1\" class=\"dataframe\">\n",
       "  <thead>\n",
       "    <tr style=\"text-align: right;\">\n",
       "      <th></th>\n",
       "      <th>open</th>\n",
       "    </tr>\n",
       "    <tr>\n",
       "      <th>timestamp</th>\n",
       "      <th></th>\n",
       "    </tr>\n",
       "  </thead>\n",
       "  <tbody>\n",
       "    <tr>\n",
       "      <th>2023-06-18 00:00:00</th>\n",
       "      <td>26519.10</td>\n",
       "    </tr>\n",
       "    <tr>\n",
       "      <th>2023-06-18 00:05:00</th>\n",
       "      <td>26508.01</td>\n",
       "    </tr>\n",
       "    <tr>\n",
       "      <th>2023-06-18 00:10:00</th>\n",
       "      <td>26511.30</td>\n",
       "    </tr>\n",
       "    <tr>\n",
       "      <th>2023-06-18 00:15:00</th>\n",
       "      <td>26519.44</td>\n",
       "    </tr>\n",
       "    <tr>\n",
       "      <th>2023-06-18 00:20:00</th>\n",
       "      <td>26513.33</td>\n",
       "    </tr>\n",
       "  </tbody>\n",
       "</table>\n",
       "</div>"
      ],
      "text/plain": [
       "                         open\n",
       "timestamp                    \n",
       "2023-06-18 00:00:00  26519.10\n",
       "2023-06-18 00:05:00  26508.01\n",
       "2023-06-18 00:10:00  26511.30\n",
       "2023-06-18 00:15:00  26519.44\n",
       "2023-06-18 00:20:00  26513.33"
      ]
     },
     "execution_count": 96,
     "metadata": {},
     "output_type": "execute_result"
    }
   ],
   "source": [
    "data = data[['open']]\n",
    "data.head()"
   ]
  },
  {
   "cell_type": "code",
   "execution_count": 97,
   "metadata": {
    "id": "Xa06z3pX8nZf"
   },
   "outputs": [],
   "source": [
    "def code_mean(data, cat_feature, real_feature):\n",
    "    return dict(data.groupby(cat_feature)[real_feature].mean())"
   ]
  },
  {
   "cell_type": "code",
   "execution_count": 98,
   "metadata": {
    "id": "pMPRyHh-9JKC"
   },
   "outputs": [],
   "source": [
    "def preprocess_data(data, lag_start=5, lag_end=20, test_size=0.15):\n",
    "\n",
    "    data = pd.DataFrame(data.copy())\n",
    "\n",
    "    # добавляем лаги исходного ряда в качестве признаков\n",
    "    for i in range(lag_start, lag_end):\n",
    "        data[f\"lag_{i}\"] = data['open'].shift(i)\n",
    "        \n",
    "    data = data.dropna()\n",
    "        \n",
    "    #data['day'] = data.index.day\n",
    "    data['hour'] = data.index.hour\n",
    "    \n",
    "    train_size = int(data.shape[0] * (1 - test_size))\n",
    "    \n",
    "    # считаем средние только по тренировочной части, чтобы избежать лика (data leak)\n",
    "    #data[\"day_average\"] = list(map(code_mean(data.iloc[:train_size], \"day\", \"open\").get, data.day))\n",
    "    data[\"hour_average\"] = list(map(code_mean(data.iloc[:train_size], \"hour\", \"open\").get, data.hour))\n",
    "    \n",
    "    # выкидываем закодированные средними признаки\n",
    "    #data.drop([\"day\"], axis=1, inplace=True)\n",
    "    data.drop([\"hour\"], axis=1, inplace=True)\n",
    "    \n",
    "    data_train = data.iloc[:train_size]\n",
    "    data_test = data.iloc[train_size:]\n",
    "    \n",
    "    X_train = data_train.drop('open', axis=1)\n",
    "    y_train = data_train['open']\n",
    "    X_test = data_test.drop('open', axis=1)\n",
    "    y_test = data_test['open']\n",
    "\n",
    "    return X_train, X_test, y_train, y_test"
   ]
  },
  {
   "cell_type": "code",
   "execution_count": 100,
   "metadata": {},
   "outputs": [
    {
     "data": {
      "text/html": [
       "<div>\n",
       "<style scoped>\n",
       "    .dataframe tbody tr th:only-of-type {\n",
       "        vertical-align: middle;\n",
       "    }\n",
       "\n",
       "    .dataframe tbody tr th {\n",
       "        vertical-align: top;\n",
       "    }\n",
       "\n",
       "    .dataframe thead th {\n",
       "        text-align: right;\n",
       "    }\n",
       "</style>\n",
       "<table border=\"1\" class=\"dataframe\">\n",
       "  <thead>\n",
       "    <tr style=\"text-align: right;\">\n",
       "      <th></th>\n",
       "      <th>lag_5</th>\n",
       "      <th>lag_6</th>\n",
       "      <th>lag_7</th>\n",
       "      <th>lag_8</th>\n",
       "      <th>lag_9</th>\n",
       "      <th>lag_10</th>\n",
       "      <th>lag_11</th>\n",
       "      <th>lag_12</th>\n",
       "      <th>lag_13</th>\n",
       "      <th>lag_14</th>\n",
       "      <th>lag_15</th>\n",
       "      <th>lag_16</th>\n",
       "      <th>lag_17</th>\n",
       "      <th>lag_18</th>\n",
       "      <th>lag_19</th>\n",
       "      <th>hour_average</th>\n",
       "    </tr>\n",
       "    <tr>\n",
       "      <th>timestamp</th>\n",
       "      <th></th>\n",
       "      <th></th>\n",
       "      <th></th>\n",
       "      <th></th>\n",
       "      <th></th>\n",
       "      <th></th>\n",
       "      <th></th>\n",
       "      <th></th>\n",
       "      <th></th>\n",
       "      <th></th>\n",
       "      <th></th>\n",
       "      <th></th>\n",
       "      <th></th>\n",
       "      <th></th>\n",
       "      <th></th>\n",
       "      <th></th>\n",
       "    </tr>\n",
       "  </thead>\n",
       "  <tbody>\n",
       "    <tr>\n",
       "      <th>2023-07-01 14:35:00</th>\n",
       "      <td>30544.91</td>\n",
       "      <td>30543.00</td>\n",
       "      <td>30564.98</td>\n",
       "      <td>30565.00</td>\n",
       "      <td>30554.31</td>\n",
       "      <td>30582.66</td>\n",
       "      <td>30555.05</td>\n",
       "      <td>30559.84</td>\n",
       "      <td>30559.30</td>\n",
       "      <td>30583.99</td>\n",
       "      <td>30585.03</td>\n",
       "      <td>30590.10</td>\n",
       "      <td>30613.24</td>\n",
       "      <td>30602.53</td>\n",
       "      <td>30564.62</td>\n",
       "      <td>29499.247178</td>\n",
       "    </tr>\n",
       "    <tr>\n",
       "      <th>2023-07-01 14:40:00</th>\n",
       "      <td>30556.51</td>\n",
       "      <td>30544.91</td>\n",
       "      <td>30543.00</td>\n",
       "      <td>30564.98</td>\n",
       "      <td>30565.00</td>\n",
       "      <td>30554.31</td>\n",
       "      <td>30582.66</td>\n",
       "      <td>30555.05</td>\n",
       "      <td>30559.84</td>\n",
       "      <td>30559.30</td>\n",
       "      <td>30583.99</td>\n",
       "      <td>30585.03</td>\n",
       "      <td>30590.10</td>\n",
       "      <td>30613.24</td>\n",
       "      <td>30602.53</td>\n",
       "      <td>29499.247178</td>\n",
       "    </tr>\n",
       "    <tr>\n",
       "      <th>2023-07-01 14:45:00</th>\n",
       "      <td>30556.71</td>\n",
       "      <td>30556.51</td>\n",
       "      <td>30544.91</td>\n",
       "      <td>30543.00</td>\n",
       "      <td>30564.98</td>\n",
       "      <td>30565.00</td>\n",
       "      <td>30554.31</td>\n",
       "      <td>30582.66</td>\n",
       "      <td>30555.05</td>\n",
       "      <td>30559.84</td>\n",
       "      <td>30559.30</td>\n",
       "      <td>30583.99</td>\n",
       "      <td>30585.03</td>\n",
       "      <td>30590.10</td>\n",
       "      <td>30613.24</td>\n",
       "      <td>29499.247178</td>\n",
       "    </tr>\n",
       "    <tr>\n",
       "      <th>2023-07-01 14:50:00</th>\n",
       "      <td>30577.60</td>\n",
       "      <td>30556.71</td>\n",
       "      <td>30556.51</td>\n",
       "      <td>30544.91</td>\n",
       "      <td>30543.00</td>\n",
       "      <td>30564.98</td>\n",
       "      <td>30565.00</td>\n",
       "      <td>30554.31</td>\n",
       "      <td>30582.66</td>\n",
       "      <td>30555.05</td>\n",
       "      <td>30559.84</td>\n",
       "      <td>30559.30</td>\n",
       "      <td>30583.99</td>\n",
       "      <td>30585.03</td>\n",
       "      <td>30590.10</td>\n",
       "      <td>29499.247178</td>\n",
       "    </tr>\n",
       "    <tr>\n",
       "      <th>2023-07-01 14:55:00</th>\n",
       "      <td>30565.65</td>\n",
       "      <td>30577.60</td>\n",
       "      <td>30556.71</td>\n",
       "      <td>30556.51</td>\n",
       "      <td>30544.91</td>\n",
       "      <td>30543.00</td>\n",
       "      <td>30564.98</td>\n",
       "      <td>30565.00</td>\n",
       "      <td>30554.31</td>\n",
       "      <td>30582.66</td>\n",
       "      <td>30555.05</td>\n",
       "      <td>30559.84</td>\n",
       "      <td>30559.30</td>\n",
       "      <td>30583.99</td>\n",
       "      <td>30585.03</td>\n",
       "      <td>29499.247178</td>\n",
       "    </tr>\n",
       "  </tbody>\n",
       "</table>\n",
       "</div>"
      ],
      "text/plain": [
       "                        lag_5     lag_6     lag_7     lag_8     lag_9  \\\n",
       "timestamp                                                               \n",
       "2023-07-01 14:35:00  30544.91  30543.00  30564.98  30565.00  30554.31   \n",
       "2023-07-01 14:40:00  30556.51  30544.91  30543.00  30564.98  30565.00   \n",
       "2023-07-01 14:45:00  30556.71  30556.51  30544.91  30543.00  30564.98   \n",
       "2023-07-01 14:50:00  30577.60  30556.71  30556.51  30544.91  30543.00   \n",
       "2023-07-01 14:55:00  30565.65  30577.60  30556.71  30556.51  30544.91   \n",
       "\n",
       "                       lag_10    lag_11    lag_12    lag_13    lag_14  \\\n",
       "timestamp                                                               \n",
       "2023-07-01 14:35:00  30582.66  30555.05  30559.84  30559.30  30583.99   \n",
       "2023-07-01 14:40:00  30554.31  30582.66  30555.05  30559.84  30559.30   \n",
       "2023-07-01 14:45:00  30565.00  30554.31  30582.66  30555.05  30559.84   \n",
       "2023-07-01 14:50:00  30564.98  30565.00  30554.31  30582.66  30555.05   \n",
       "2023-07-01 14:55:00  30543.00  30564.98  30565.00  30554.31  30582.66   \n",
       "\n",
       "                       lag_15    lag_16    lag_17    lag_18    lag_19  \\\n",
       "timestamp                                                               \n",
       "2023-07-01 14:35:00  30585.03  30590.10  30613.24  30602.53  30564.62   \n",
       "2023-07-01 14:40:00  30583.99  30585.03  30590.10  30613.24  30602.53   \n",
       "2023-07-01 14:45:00  30559.30  30583.99  30585.03  30590.10  30613.24   \n",
       "2023-07-01 14:50:00  30559.84  30559.30  30583.99  30585.03  30590.10   \n",
       "2023-07-01 14:55:00  30555.05  30559.84  30559.30  30583.99  30585.03   \n",
       "\n",
       "                     hour_average  \n",
       "timestamp                          \n",
       "2023-07-01 14:35:00  29499.247178  \n",
       "2023-07-01 14:40:00  29499.247178  \n",
       "2023-07-01 14:45:00  29499.247178  \n",
       "2023-07-01 14:50:00  29499.247178  \n",
       "2023-07-01 14:55:00  29499.247178  "
      ]
     },
     "execution_count": 100,
     "metadata": {},
     "output_type": "execute_result"
    }
   ],
   "source": [
    "X_train, X_test, y_train, y_test = preprocess_data(data)\n",
    "X_test.head()"
   ]
  },
  {
   "cell_type": "markdown",
   "metadata": {
    "id": "uMlXx1e-W_Qw"
   },
   "source": [
    "Обучите линейную регрессию с гиперпараметрами по умолчанию на тренировочных данных и вычислите ошибку MAE на тестовых данных.\n",
    "\n",
    "Чему она получилась равна? (Ответ округлите до целого числа).\n",
    "\n",
    "Также нарисуйте график правильного ответа и прогноза на тесте."
   ]
  },
  {
   "cell_type": "code",
   "execution_count": 102,
   "metadata": {
    "id": "SL2SOJRa-Czm"
   },
   "outputs": [
    {
     "data": {
      "image/png": "[encoded data removed]",
      "text/plain": [
       "<Figure size 720x360 with 1 Axes>"
      ]
     },
     "metadata": {
      "needs_background": "light"
     },
     "output_type": "display_data"
    }
   ],
   "source": [
    "from sklearn.linear_model import LinearRegression\n",
    "from sklearn.metrics import mean_absolute_error, mean_absolute_percentage_error\n",
    "\n",
    "lr = LinearRegression()\n",
    "lr.fit(X_train, y_train)\n",
    "preds = lr.predict(X_test)\n",
    "\n",
    "plt.figure(figsize=(10, 5))\n",
    "plt.plot(preds, \"r\", label=\"prediction\")\n",
    "plt.plot(y_test.values, label=\"actual\")\n",
    "plt.grid(True)\n",
    "plt.legend(loc=\"best\")\n",
    "plt.title(f\"Linear regression\\n Mean absolute error {mean_absolute_error(preds, y_test)} dollars\");"
   ]
  },
  {
   "cell_type": "code",
   "execution_count": null,
   "metadata": {},
   "outputs": [],
   "source": []
  },
  {
   "cell_type": "code",
   "execution_count": null,
   "metadata": {},
   "outputs": [],
   "source": []
  },
  {
   "cell_type": "code",
   "execution_count": null,
   "metadata": {},
   "outputs": [],
   "source": []
  },
  {
   "cell_type": "code",
   "execution_count": null,
   "metadata": {},
   "outputs": [],
   "source": []
  },
  {
   "cell_type": "code",
   "execution_count": null,
   "metadata": {},
   "outputs": [],
   "source": []
  },
  {
   "cell_type": "code",
   "execution_count": null,
   "metadata": {},
   "outputs": [],
   "source": []
  },
  {
   "cell_type": "markdown",
   "metadata": {
    "id": "K69mGN1AXdAu"
   },
   "source": [
    "Попробуйте подобрать гиперпараметры `lag_start`, `lag_end`, а также придумать новые полезные агрегрированные признаки для улучшения качества прогноза.\n",
    "\n",
    "Пропорции разбиения (в тесте 15% данных) не трогайте. Ошибку MAE все так же считайте на тесте."
   ]
  },
  {
   "cell_type": "code",
   "execution_count": null,
   "metadata": {
    "id": "ZnQPssXdXovj"
   },
   "outputs": [],
   "source": [
    "# your code here"
   ]
  }
 ],
 "metadata": {
  "colab": {
   "provenance": []
  },
  "kernelspec": {
   "display_name": "Python 3 (ipykernel)",
   "language": "python",
   "name": "python3"
  },
  "language_info": {
   "codemirror_mode": {
    "name": "ipython",
    "version": 3
   },
   "file_extension": ".py",
   "mimetype": "text/x-python",
   "name": "python",
   "nbconvert_exporter": "python",
   "pygments_lexer": "ipython3",
   "version": "3.7.7"
  },
  "toc": {
   "base_numbering": 1,
   "nav_menu": {},
   "number_sections": true,
   "sideBar": true,
   "skip_h1_title": false,
   "title_cell": "Table of Contents",
   "title_sidebar": "Contents",
   "toc_cell": false,
   "toc_position": {},
   "toc_section_display": true,
   "toc_window_display": false
  }
 },
 "nbformat": 4,
 "nbformat_minor": 1
}
