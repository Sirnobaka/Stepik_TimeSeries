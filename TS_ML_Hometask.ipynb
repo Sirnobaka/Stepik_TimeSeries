{
 "cells": [
  {
   "cell_type": "markdown",
   "metadata": {
    "id": "TQlZSZK9ZoBB"
   },
   "source": [
    "# Прогнозирование временных рядов при помощи машинного обучения. Домашнее задание"
   ]
  },
  {
   "cell_type": "markdown",
   "metadata": {
    "id": "eTbjqaXOZoBD"
   },
   "source": [
    "Будем прогнозировать количество проданного товара в городе Бангалор (Индия)"
   ]
  },
  {
   "cell_type": "markdown",
   "metadata": {
    "id": "LCLn-LFaZoBF"
   },
   "source": [
    "## Предобработка временного ряда"
   ]
  },
  {
   "cell_type": "markdown",
   "metadata": {
    "id": "rD2mGKtWVX6A"
   },
   "source": [
    "Импорт библиотек"
   ]
  },
  {
   "cell_type": "code",
   "execution_count": 1,
   "metadata": {
    "id": "XS505mUhVXJO"
   },
   "outputs": [],
   "source": [
    "import matplotlib.pyplot as plt\n",
    "import numpy as np\n",
    "import pandas as pd\n",
    "import seaborn as sns\n",
    "from sklearn.metrics import mean_absolute_error\n",
    "\n",
    "import warnings\n",
    "warnings.filterwarnings('ignore')"
   ]
  },
  {
   "cell_type": "code",
   "execution_count": 2,
   "metadata": {
    "id": "9021UM09ZoBG"
   },
   "outputs": [],
   "source": [
    "# данные по продажам в Индии в различных городах и штатах\n",
    "df = pd.read_csv(\"https://raw.githubusercontent.com/aiedu-courses/stepik_applied_tasks/main/datasets/market_arrivals_ind.csv\")\n",
    "\n",
    "df.date = pd.DatetimeIndex(df.date)\n",
    "\n",
    "# Отсортируем и добавим date в индекс\n",
    "df = df.sort_values(by=\"date\")\n",
    "df.index = pd.PeriodIndex(df.date, freq=\"M\")"
   ]
  },
  {
   "cell_type": "code",
   "execution_count": 3,
   "metadata": {},
   "outputs": [
    {
     "data": {
      "text/html": [
       "<div>\n",
       "<style scoped>\n",
       "    .dataframe tbody tr th:only-of-type {\n",
       "        vertical-align: middle;\n",
       "    }\n",
       "\n",
       "    .dataframe tbody tr th {\n",
       "        vertical-align: top;\n",
       "    }\n",
       "\n",
       "    .dataframe thead th {\n",
       "        text-align: right;\n",
       "    }\n",
       "</style>\n",
       "<table border=\"1\" class=\"dataframe\">\n",
       "  <thead>\n",
       "    <tr style=\"text-align: right;\">\n",
       "      <th></th>\n",
       "      <th>market</th>\n",
       "      <th>month</th>\n",
       "      <th>year</th>\n",
       "      <th>quantity</th>\n",
       "      <th>priceMin</th>\n",
       "      <th>priceMax</th>\n",
       "      <th>priceMod</th>\n",
       "      <th>state</th>\n",
       "      <th>city</th>\n",
       "      <th>date</th>\n",
       "    </tr>\n",
       "    <tr>\n",
       "      <th>date</th>\n",
       "      <th></th>\n",
       "      <th></th>\n",
       "      <th></th>\n",
       "      <th></th>\n",
       "      <th></th>\n",
       "      <th></th>\n",
       "      <th></th>\n",
       "      <th></th>\n",
       "      <th></th>\n",
       "      <th></th>\n",
       "    </tr>\n",
       "  </thead>\n",
       "  <tbody>\n",
       "    <tr>\n",
       "      <th>1996-01</th>\n",
       "      <td>LASALGAON(MS)</td>\n",
       "      <td>January</td>\n",
       "      <td>1996</td>\n",
       "      <td>225063</td>\n",
       "      <td>160</td>\n",
       "      <td>257</td>\n",
       "      <td>226</td>\n",
       "      <td>MS</td>\n",
       "      <td>LASALGAON</td>\n",
       "      <td>1996-01-01</td>\n",
       "    </tr>\n",
       "    <tr>\n",
       "      <th>1996-02</th>\n",
       "      <td>LASALGAON(MS)</td>\n",
       "      <td>February</td>\n",
       "      <td>1996</td>\n",
       "      <td>196164</td>\n",
       "      <td>133</td>\n",
       "      <td>229</td>\n",
       "      <td>186</td>\n",
       "      <td>MS</td>\n",
       "      <td>LASALGAON</td>\n",
       "      <td>1996-02-01</td>\n",
       "    </tr>\n",
       "    <tr>\n",
       "      <th>1996-03</th>\n",
       "      <td>LASALGAON(MS)</td>\n",
       "      <td>March</td>\n",
       "      <td>1996</td>\n",
       "      <td>178992</td>\n",
       "      <td>155</td>\n",
       "      <td>274</td>\n",
       "      <td>243</td>\n",
       "      <td>MS</td>\n",
       "      <td>LASALGAON</td>\n",
       "      <td>1996-03-01</td>\n",
       "    </tr>\n",
       "    <tr>\n",
       "      <th>1996-04</th>\n",
       "      <td>LASALGAON(MS)</td>\n",
       "      <td>April</td>\n",
       "      <td>1996</td>\n",
       "      <td>192592</td>\n",
       "      <td>136</td>\n",
       "      <td>279</td>\n",
       "      <td>254</td>\n",
       "      <td>MS</td>\n",
       "      <td>LASALGAON</td>\n",
       "      <td>1996-04-01</td>\n",
       "    </tr>\n",
       "    <tr>\n",
       "      <th>1996-05</th>\n",
       "      <td>LASALGAON(MS)</td>\n",
       "      <td>May</td>\n",
       "      <td>1996</td>\n",
       "      <td>237574</td>\n",
       "      <td>154</td>\n",
       "      <td>312</td>\n",
       "      <td>269</td>\n",
       "      <td>MS</td>\n",
       "      <td>LASALGAON</td>\n",
       "      <td>1996-05-01</td>\n",
       "    </tr>\n",
       "  </tbody>\n",
       "</table>\n",
       "</div>"
      ],
      "text/plain": [
       "                market     month  year  quantity  priceMin  priceMax  \\\n",
       "date                                                                   \n",
       "1996-01  LASALGAON(MS)   January  1996    225063       160       257   \n",
       "1996-02  LASALGAON(MS)  February  1996    196164       133       229   \n",
       "1996-03  LASALGAON(MS)     March  1996    178992       155       274   \n",
       "1996-04  LASALGAON(MS)     April  1996    192592       136       279   \n",
       "1996-05  LASALGAON(MS)       May  1996    237574       154       312   \n",
       "\n",
       "         priceMod state       city       date  \n",
       "date                                           \n",
       "1996-01       226    MS  LASALGAON 1996-01-01  \n",
       "1996-02       186    MS  LASALGAON 1996-02-01  \n",
       "1996-03       243    MS  LASALGAON 1996-03-01  \n",
       "1996-04       254    MS  LASALGAON 1996-04-01  \n",
       "1996-05       269    MS  LASALGAON 1996-05-01  "
      ]
     },
     "execution_count": 3,
     "metadata": {},
     "output_type": "execute_result"
    }
   ],
   "source": [
    "df.head()"
   ]
  },
  {
   "cell_type": "code",
   "execution_count": 4,
   "metadata": {},
   "outputs": [
    {
     "data": {
      "text/plain": [
       "(10227, 10)"
      ]
     },
     "execution_count": 4,
     "metadata": {},
     "output_type": "execute_result"
    }
   ],
   "source": [
    "df.shape"
   ]
  },
  {
   "cell_type": "markdown",
   "metadata": {
    "id": "Zzi0oYaRDiTi"
   },
   "source": [
    "Оставим только целевой ряд (`quantity`)"
   ]
  },
  {
   "cell_type": "code",
   "execution_count": 5,
   "metadata": {
    "colab": {
     "base_uri": "https://localhost:8080/",
     "height": 260
    },
    "id": "FHUpi4GvBxpd",
    "outputId": "e7c64c25-7483-437e-b6b4-0e362740d851"
   },
   "outputs": [
    {
     "data": {
      "text/html": [
       "<div>\n",
       "<style scoped>\n",
       "    .dataframe tbody tr th:only-of-type {\n",
       "        vertical-align: middle;\n",
       "    }\n",
       "\n",
       "    .dataframe tbody tr th {\n",
       "        vertical-align: top;\n",
       "    }\n",
       "\n",
       "    .dataframe thead th {\n",
       "        text-align: right;\n",
       "    }\n",
       "</style>\n",
       "<table border=\"1\" class=\"dataframe\">\n",
       "  <thead>\n",
       "    <tr style=\"text-align: right;\">\n",
       "      <th></th>\n",
       "      <th>quantity</th>\n",
       "    </tr>\n",
       "    <tr>\n",
       "      <th>date</th>\n",
       "      <th></th>\n",
       "    </tr>\n",
       "  </thead>\n",
       "  <tbody>\n",
       "    <tr>\n",
       "      <th>2004-01</th>\n",
       "      <td>227832</td>\n",
       "    </tr>\n",
       "    <tr>\n",
       "      <th>2004-02</th>\n",
       "      <td>225133</td>\n",
       "    </tr>\n",
       "    <tr>\n",
       "      <th>2004-03</th>\n",
       "      <td>221952</td>\n",
       "    </tr>\n",
       "    <tr>\n",
       "      <th>2004-04</th>\n",
       "      <td>185150</td>\n",
       "    </tr>\n",
       "    <tr>\n",
       "      <th>2004-05</th>\n",
       "      <td>137390</td>\n",
       "    </tr>\n",
       "  </tbody>\n",
       "</table>\n",
       "</div>"
      ],
      "text/plain": [
       "         quantity\n",
       "date             \n",
       "2004-01    227832\n",
       "2004-02    225133\n",
       "2004-03    221952\n",
       "2004-04    185150\n",
       "2004-05    137390"
      ]
     },
     "execution_count": 5,
     "metadata": {},
     "output_type": "execute_result"
    }
   ],
   "source": [
    "dfBang = df.loc[df.city == \"BANGALORE\"].copy()\n",
    "\n",
    "# Удалим лишние столбцы\n",
    "ts = dfBang.drop(\n",
    "    [\"market\", \"month\", \"year\", \"state\", \"city\", \"priceMin\", \"priceMax\", \"priceMod\", \"date\"], axis=1\n",
    ")\n",
    "\n",
    "ts.head()"
   ]
  },
  {
   "cell_type": "code",
   "execution_count": 6,
   "metadata": {},
   "outputs": [
    {
     "data": {
      "text/plain": [
       "(146, 1)"
      ]
     },
     "execution_count": 6,
     "metadata": {},
     "output_type": "execute_result"
    }
   ],
   "source": [
    "ts.shape"
   ]
  },
  {
   "cell_type": "markdown",
   "metadata": {
    "id": "IihkFNvPZoBH"
   },
   "source": [
    "Посмотрим как ведет себя временной ряд"
   ]
  },
  {
   "cell_type": "code",
   "execution_count": 7,
   "metadata": {
    "colab": {
     "base_uri": "https://localhost:8080/",
     "height": 283
    },
    "id": "fnwxzllI2oGh",
    "outputId": "aa33f99c-5a8c-436f-f91c-e9b151b73b55"
   },
   "outputs": [
    {
     "data": {
      "image/png": "[encoded data removed]",
      "text/plain": [
       "<Figure size 2500x500 with 1 Axes>"
      ]
     },
     "metadata": {},
     "output_type": "display_data"
    }
   ],
   "source": [
    "ts.quantity.plot(figsize=(25,5));"
   ]
  },
  {
   "cell_type": "markdown",
   "metadata": {
    "id": "-BYZtbrpZoBN"
   },
   "source": [
    "## Машинное обучение для прогнозирования временных рядов"
   ]
  },
  {
   "cell_type": "markdown",
   "metadata": {
    "id": "eO5oLIqZLUaG"
   },
   "source": [
    "## Задание\n",
    "\n",
    "Извлеките первые 7 лаговых признаков из ряда (лаг на 1, 2 ... 7 месяцев).\n",
    "\n",
    "Чему равно первое (самое старое) известное значение лага 4 периода назад? Ответ округлите до целого числа."
   ]
  },
  {
   "cell_type": "code",
   "execution_count": 8,
   "metadata": {
    "id": "2Rc4pTxfMCkF"
   },
   "outputs": [],
   "source": [
    "for i in range(1, 8):\n",
    "    ts[f'lag_{i}'] = ts['quantity'].shift(i)"
   ]
  },
  {
   "cell_type": "code",
   "execution_count": 9,
   "metadata": {},
   "outputs": [
    {
     "data": {
      "text/html": [
       "<div>\n",
       "<style scoped>\n",
       "    .dataframe tbody tr th:only-of-type {\n",
       "        vertical-align: middle;\n",
       "    }\n",
       "\n",
       "    .dataframe tbody tr th {\n",
       "        vertical-align: top;\n",
       "    }\n",
       "\n",
       "    .dataframe thead th {\n",
       "        text-align: right;\n",
       "    }\n",
       "</style>\n",
       "<table border=\"1\" class=\"dataframe\">\n",
       "  <thead>\n",
       "    <tr style=\"text-align: right;\">\n",
       "      <th></th>\n",
       "      <th>quantity</th>\n",
       "      <th>lag_1</th>\n",
       "      <th>lag_2</th>\n",
       "      <th>lag_3</th>\n",
       "      <th>lag_4</th>\n",
       "      <th>lag_5</th>\n",
       "      <th>lag_6</th>\n",
       "      <th>lag_7</th>\n",
       "    </tr>\n",
       "    <tr>\n",
       "      <th>date</th>\n",
       "      <th></th>\n",
       "      <th></th>\n",
       "      <th></th>\n",
       "      <th></th>\n",
       "      <th></th>\n",
       "      <th></th>\n",
       "      <th></th>\n",
       "      <th></th>\n",
       "    </tr>\n",
       "  </thead>\n",
       "  <tbody>\n",
       "    <tr>\n",
       "      <th>2004-01</th>\n",
       "      <td>227832</td>\n",
       "      <td>NaN</td>\n",
       "      <td>NaN</td>\n",
       "      <td>NaN</td>\n",
       "      <td>NaN</td>\n",
       "      <td>NaN</td>\n",
       "      <td>NaN</td>\n",
       "      <td>NaN</td>\n",
       "    </tr>\n",
       "    <tr>\n",
       "      <th>2004-02</th>\n",
       "      <td>225133</td>\n",
       "      <td>227832.0</td>\n",
       "      <td>NaN</td>\n",
       "      <td>NaN</td>\n",
       "      <td>NaN</td>\n",
       "      <td>NaN</td>\n",
       "      <td>NaN</td>\n",
       "      <td>NaN</td>\n",
       "    </tr>\n",
       "    <tr>\n",
       "      <th>2004-03</th>\n",
       "      <td>221952</td>\n",
       "      <td>225133.0</td>\n",
       "      <td>227832.0</td>\n",
       "      <td>NaN</td>\n",
       "      <td>NaN</td>\n",
       "      <td>NaN</td>\n",
       "      <td>NaN</td>\n",
       "      <td>NaN</td>\n",
       "    </tr>\n",
       "    <tr>\n",
       "      <th>2004-04</th>\n",
       "      <td>185150</td>\n",
       "      <td>221952.0</td>\n",
       "      <td>225133.0</td>\n",
       "      <td>227832.0</td>\n",
       "      <td>NaN</td>\n",
       "      <td>NaN</td>\n",
       "      <td>NaN</td>\n",
       "      <td>NaN</td>\n",
       "    </tr>\n",
       "    <tr>\n",
       "      <th>2004-05</th>\n",
       "      <td>137390</td>\n",
       "      <td>185150.0</td>\n",
       "      <td>221952.0</td>\n",
       "      <td>225133.0</td>\n",
       "      <td>227832.0</td>\n",
       "      <td>NaN</td>\n",
       "      <td>NaN</td>\n",
       "      <td>NaN</td>\n",
       "    </tr>\n",
       "  </tbody>\n",
       "</table>\n",
       "</div>"
      ],
      "text/plain": [
       "         quantity     lag_1     lag_2     lag_3     lag_4  lag_5  lag_6  lag_7\n",
       "date                                                                          \n",
       "2004-01    227832       NaN       NaN       NaN       NaN    NaN    NaN    NaN\n",
       "2004-02    225133  227832.0       NaN       NaN       NaN    NaN    NaN    NaN\n",
       "2004-03    221952  225133.0  227832.0       NaN       NaN    NaN    NaN    NaN\n",
       "2004-04    185150  221952.0  225133.0  227832.0       NaN    NaN    NaN    NaN\n",
       "2004-05    137390  185150.0  221952.0  225133.0  227832.0    NaN    NaN    NaN"
      ]
     },
     "execution_count": 9,
     "metadata": {},
     "output_type": "execute_result"
    }
   ],
   "source": [
    "ts.head()"
   ]
  },
  {
   "cell_type": "code",
   "execution_count": 10,
   "metadata": {},
   "outputs": [
    {
     "data": {
      "text/html": [
       "<div>\n",
       "<style scoped>\n",
       "    .dataframe tbody tr th:only-of-type {\n",
       "        vertical-align: middle;\n",
       "    }\n",
       "\n",
       "    .dataframe tbody tr th {\n",
       "        vertical-align: top;\n",
       "    }\n",
       "\n",
       "    .dataframe thead th {\n",
       "        text-align: right;\n",
       "    }\n",
       "</style>\n",
       "<table border=\"1\" class=\"dataframe\">\n",
       "  <thead>\n",
       "    <tr style=\"text-align: right;\">\n",
       "      <th></th>\n",
       "      <th>quantity</th>\n",
       "      <th>lag_1</th>\n",
       "      <th>lag_2</th>\n",
       "      <th>lag_3</th>\n",
       "      <th>lag_4</th>\n",
       "      <th>lag_5</th>\n",
       "      <th>lag_6</th>\n",
       "      <th>lag_7</th>\n",
       "    </tr>\n",
       "    <tr>\n",
       "      <th>date</th>\n",
       "      <th></th>\n",
       "      <th></th>\n",
       "      <th></th>\n",
       "      <th></th>\n",
       "      <th></th>\n",
       "      <th></th>\n",
       "      <th></th>\n",
       "      <th></th>\n",
       "    </tr>\n",
       "  </thead>\n",
       "  <tbody>\n",
       "    <tr>\n",
       "      <th>2015-10</th>\n",
       "      <td>1612160</td>\n",
       "      <td>1194608.0</td>\n",
       "      <td>562187.0</td>\n",
       "      <td>505717.0</td>\n",
       "      <td>485652.0</td>\n",
       "      <td>420072.0</td>\n",
       "      <td>468522.0</td>\n",
       "      <td>443687.0</td>\n",
       "    </tr>\n",
       "    <tr>\n",
       "      <th>2015-11</th>\n",
       "      <td>1071872</td>\n",
       "      <td>1612160.0</td>\n",
       "      <td>1194608.0</td>\n",
       "      <td>562187.0</td>\n",
       "      <td>505717.0</td>\n",
       "      <td>485652.0</td>\n",
       "      <td>420072.0</td>\n",
       "      <td>468522.0</td>\n",
       "    </tr>\n",
       "    <tr>\n",
       "      <th>2015-12</th>\n",
       "      <td>513186</td>\n",
       "      <td>1071872.0</td>\n",
       "      <td>1612160.0</td>\n",
       "      <td>1194608.0</td>\n",
       "      <td>562187.0</td>\n",
       "      <td>505717.0</td>\n",
       "      <td>485652.0</td>\n",
       "      <td>420072.0</td>\n",
       "    </tr>\n",
       "    <tr>\n",
       "      <th>2016-01</th>\n",
       "      <td>507223</td>\n",
       "      <td>513186.0</td>\n",
       "      <td>1071872.0</td>\n",
       "      <td>1612160.0</td>\n",
       "      <td>1194608.0</td>\n",
       "      <td>562187.0</td>\n",
       "      <td>505717.0</td>\n",
       "      <td>485652.0</td>\n",
       "    </tr>\n",
       "    <tr>\n",
       "      <th>2016-02</th>\n",
       "      <td>400359</td>\n",
       "      <td>507223.0</td>\n",
       "      <td>513186.0</td>\n",
       "      <td>1071872.0</td>\n",
       "      <td>1612160.0</td>\n",
       "      <td>1194608.0</td>\n",
       "      <td>562187.0</td>\n",
       "      <td>505717.0</td>\n",
       "    </tr>\n",
       "  </tbody>\n",
       "</table>\n",
       "</div>"
      ],
      "text/plain": [
       "         quantity      lag_1      lag_2      lag_3      lag_4      lag_5  \\\n",
       "date                                                                       \n",
       "2015-10   1612160  1194608.0   562187.0   505717.0   485652.0   420072.0   \n",
       "2015-11   1071872  1612160.0  1194608.0   562187.0   505717.0   485652.0   \n",
       "2015-12    513186  1071872.0  1612160.0  1194608.0   562187.0   505717.0   \n",
       "2016-01    507223   513186.0  1071872.0  1612160.0  1194608.0   562187.0   \n",
       "2016-02    400359   507223.0   513186.0  1071872.0  1612160.0  1194608.0   \n",
       "\n",
       "            lag_6     lag_7  \n",
       "date                         \n",
       "2015-10  468522.0  443687.0  \n",
       "2015-11  420072.0  468522.0  \n",
       "2015-12  485652.0  420072.0  \n",
       "2016-01  505717.0  485652.0  \n",
       "2016-02  562187.0  505717.0  "
      ]
     },
     "execution_count": 10,
     "metadata": {},
     "output_type": "execute_result"
    }
   ],
   "source": [
    "ts.tail()"
   ]
  },
  {
   "cell_type": "code",
   "execution_count": 11,
   "metadata": {},
   "outputs": [
    {
     "data": {
      "text/plain": [
       "(146, 8)"
      ]
     },
     "execution_count": 11,
     "metadata": {},
     "output_type": "execute_result"
    }
   ],
   "source": [
    "ts.shape"
   ]
  },
  {
   "cell_type": "markdown",
   "metadata": {
    "id": "UcTKuAox9CEp"
   },
   "source": [
    "Выкиньте строчки с пропущенными значениями."
   ]
  },
  {
   "cell_type": "code",
   "execution_count": 12,
   "metadata": {
    "id": "uXjS8j9dMVtA"
   },
   "outputs": [],
   "source": [
    "ts.dropna(inplace=True)"
   ]
  },
  {
   "cell_type": "code",
   "execution_count": 13,
   "metadata": {},
   "outputs": [
    {
     "name": "stdout",
     "output_type": "stream",
     "text": [
      "<class 'pandas.core.frame.DataFrame'>\n",
      "PeriodIndex: 139 entries, 2004-08 to 2016-02\n",
      "Freq: M\n",
      "Data columns (total 8 columns):\n",
      " #   Column    Non-Null Count  Dtype  \n",
      "---  ------    --------------  -----  \n",
      " 0   quantity  139 non-null    int64  \n",
      " 1   lag_1     139 non-null    float64\n",
      " 2   lag_2     139 non-null    float64\n",
      " 3   lag_3     139 non-null    float64\n",
      " 4   lag_4     139 non-null    float64\n",
      " 5   lag_5     139 non-null    float64\n",
      " 6   lag_6     139 non-null    float64\n",
      " 7   lag_7     139 non-null    float64\n",
      "dtypes: float64(7), int64(1)\n",
      "memory usage: 9.8 KB\n"
     ]
    }
   ],
   "source": [
    "ts.info()"
   ]
  },
  {
   "cell_type": "code",
   "execution_count": 14,
   "metadata": {},
   "outputs": [
    {
     "data": {
      "text/plain": [
       "(139, 8)"
      ]
     },
     "execution_count": 14,
     "metadata": {},
     "output_type": "execute_result"
    }
   ],
   "source": [
    "ts.shape"
   ]
  },
  {
   "cell_type": "code",
   "execution_count": 15,
   "metadata": {},
   "outputs": [
    {
     "data": {
      "text/html": [
       "<div>\n",
       "<style scoped>\n",
       "    .dataframe tbody tr th:only-of-type {\n",
       "        vertical-align: middle;\n",
       "    }\n",
       "\n",
       "    .dataframe tbody tr th {\n",
       "        vertical-align: top;\n",
       "    }\n",
       "\n",
       "    .dataframe thead th {\n",
       "        text-align: right;\n",
       "    }\n",
       "</style>\n",
       "<table border=\"1\" class=\"dataframe\">\n",
       "  <thead>\n",
       "    <tr style=\"text-align: right;\">\n",
       "      <th></th>\n",
       "      <th>quantity</th>\n",
       "      <th>lag_1</th>\n",
       "      <th>lag_2</th>\n",
       "      <th>lag_3</th>\n",
       "      <th>lag_4</th>\n",
       "      <th>lag_5</th>\n",
       "      <th>lag_6</th>\n",
       "      <th>lag_7</th>\n",
       "    </tr>\n",
       "    <tr>\n",
       "      <th>date</th>\n",
       "      <th></th>\n",
       "      <th></th>\n",
       "      <th></th>\n",
       "      <th></th>\n",
       "      <th></th>\n",
       "      <th></th>\n",
       "      <th></th>\n",
       "      <th></th>\n",
       "    </tr>\n",
       "  </thead>\n",
       "  <tbody>\n",
       "    <tr>\n",
       "      <th>2004-08</th>\n",
       "      <td>251984</td>\n",
       "      <td>157022.0</td>\n",
       "      <td>311445.0</td>\n",
       "      <td>137390.0</td>\n",
       "      <td>185150.0</td>\n",
       "      <td>221952.0</td>\n",
       "      <td>225133.0</td>\n",
       "      <td>227832.0</td>\n",
       "    </tr>\n",
       "    <tr>\n",
       "      <th>2004-09</th>\n",
       "      <td>662382</td>\n",
       "      <td>251984.0</td>\n",
       "      <td>157022.0</td>\n",
       "      <td>311445.0</td>\n",
       "      <td>137390.0</td>\n",
       "      <td>185150.0</td>\n",
       "      <td>221952.0</td>\n",
       "      <td>225133.0</td>\n",
       "    </tr>\n",
       "    <tr>\n",
       "      <th>2004-10</th>\n",
       "      <td>1171846</td>\n",
       "      <td>662382.0</td>\n",
       "      <td>251984.0</td>\n",
       "      <td>157022.0</td>\n",
       "      <td>311445.0</td>\n",
       "      <td>137390.0</td>\n",
       "      <td>185150.0</td>\n",
       "      <td>221952.0</td>\n",
       "    </tr>\n",
       "    <tr>\n",
       "      <th>2004-11</th>\n",
       "      <td>724140</td>\n",
       "      <td>1171846.0</td>\n",
       "      <td>662382.0</td>\n",
       "      <td>251984.0</td>\n",
       "      <td>157022.0</td>\n",
       "      <td>311445.0</td>\n",
       "      <td>137390.0</td>\n",
       "      <td>185150.0</td>\n",
       "    </tr>\n",
       "    <tr>\n",
       "      <th>2004-12</th>\n",
       "      <td>380379</td>\n",
       "      <td>724140.0</td>\n",
       "      <td>1171846.0</td>\n",
       "      <td>662382.0</td>\n",
       "      <td>251984.0</td>\n",
       "      <td>157022.0</td>\n",
       "      <td>311445.0</td>\n",
       "      <td>137390.0</td>\n",
       "    </tr>\n",
       "  </tbody>\n",
       "</table>\n",
       "</div>"
      ],
      "text/plain": [
       "         quantity      lag_1      lag_2     lag_3     lag_4     lag_5  \\\n",
       "date                                                                    \n",
       "2004-08    251984   157022.0   311445.0  137390.0  185150.0  221952.0   \n",
       "2004-09    662382   251984.0   157022.0  311445.0  137390.0  185150.0   \n",
       "2004-10   1171846   662382.0   251984.0  157022.0  311445.0  137390.0   \n",
       "2004-11    724140  1171846.0   662382.0  251984.0  157022.0  311445.0   \n",
       "2004-12    380379   724140.0  1171846.0  662382.0  251984.0  157022.0   \n",
       "\n",
       "            lag_6     lag_7  \n",
       "date                         \n",
       "2004-08  225133.0  227832.0  \n",
       "2004-09  221952.0  225133.0  \n",
       "2004-10  185150.0  221952.0  \n",
       "2004-11  137390.0  185150.0  \n",
       "2004-12  311445.0  137390.0  "
      ]
     },
     "execution_count": 15,
     "metadata": {},
     "output_type": "execute_result"
    }
   ],
   "source": [
    "ts.head()"
   ]
  },
  {
   "cell_type": "markdown",
   "metadata": {
    "id": "_-w7IsszCPup"
   },
   "source": [
    "### Разбиение на train и test для временных рядов"
   ]
  },
  {
   "cell_type": "markdown",
   "metadata": {
    "id": "wDgT4xJaConz"
   },
   "source": [
    "![image.png](data:image/png;base64,iVBORw0KGgoAAAANSUhEUgAAA1IAAAKqCAIAAAC/8viQAAAAAXNSR0IArs4c6QAAAERlWElmTU0AKgAAAAgAAYdpAAQAAAABAAAAGgAAAAAAA6ABAAMAAAABAAEAAKACAAQAAAABAAADUqADAAQAAAABAAACqgAAAABAFugdAABAAElEQVR4Aey9B7Rlx1nnu/PeJ59zc+yck6RutbIsWdmSLBnZGGP8MAMDNjNgwDzyMONZD555hLUIa+yHMQwGbGNYjMcRBQdZWa1W7pz73ts333vyOTvv97td9rWf1W3UcotOVavX7tpVX33fV/+6u/Z/f7VrHzVJEuVcpEAJDMWM/MQwVE/xdc3QFU2NFEWPz4U70qZEQCIgEZAIXGAIJMqp7xdqUE70QqhaYegbamTqtqJoihoqinGB9VC6KxF4QwhEUaTrehiGhmH4vm9ZFiWapqmqes6uATifGiuGptIjW1PdoKHpBv748rJ8Q2MsG0kEJAISgUsNAfPUrE9RzKzK7UVRHNNSoYaJEkV+FMemqV9qEMn+XoIIwO1IdByexxHm970g/P9Ovrfizc6rBBl59CLFoWKpumkrSRwFnqVYb7ZpqV8iIBGQCEgELgIEYu3Uq1VB5ESxRwcNzeTGx0KSbmi6vLlcBEMuu/D6EBALud+7nLtYcs5oXxjFLOsqKletUW5GTsaOVEWzFD0RZPD19UxKSQQkAhIBicClikDAmtGpUqLopuIYhBYSPYqUWA91In5QxIUIiEwSgYsfAaJ98Lw4jkXYT6z2itNzRvsijff5FuLtL+4Z/fjffiHSS+22l7ItVytc/AMieygRkAhIBCQCPzQCdnDqaF/Kmh3u8QZKhqMWE9PS066uqImXilX/h7YpFUgEzncEBOdjhTcIAo4s8pLp6Oi45ZZbqDpntG+Be1qqF0bj840Hv7XbKa10/cSyTE89cr4jKv2TCEgEJAISgfMAATM8dfiuL63MTU/N5UMz6mgnemDOqFEYN/JG+tTRwfOgK9IFicBZQ0BE9djSwTYOlJqmWavVent7oX2EAM8Z7cuYWV7usw0jm+3IFfs7hjcYqZyiBZTKJBGQCEgEJAISgX8TAffkpsDXinUojd70rt5soyO1InayrjllKHEmHPTU2muFZYlE4CJDALZHVA/aJ97nI3/8+PHOzk5Oz2W0T4kU3/WtLJut9DhOXN/v6kyx4cQNzItsAGR3JAISAYmARODNQOA0r/ZhKvDCgPf5SsWinusqJ03FDzJR1pQfCHszhkHqPM8QEBt4YXgkIn8srpJarZZw85xF+xQ+05eOwoV3bOeVkN1WbhKaYdjWklMH7c8zVKU7EgGJgERAInDOEeD7FLGyyP4SThdeGfeMsBC7vldsZlXDHbGDQuS4QVQh2HHOPZYOSATebATEJ/qgevA/InwcyYvPuEAEF77pIpNEQCIgEZAISAQkAhIBicBFj4CkfRf9EMsOSgQkAhIBiYBEQCIgEVhAQNI++XcgEZAISAQkAhIBiYBE4JJAQNK+S2KYZSclAhIBiYBEQCIgEZAISNon/wYkAhIBiYBEQCIgEZAIXBIISNp3SQyz7KREQCIgEZAISAQkAhIBSfvk34BEQCIgEZAISAQkAhKBSwKB84D2LXxICTc48rM5p/6BxUtiKGQnJQISAYmAROBsIMDHyV6r5pSFrxWTJRKBixuB84D2XdwAy95JBCQCEgGJgERAIiAROD8QkLTv/BgH6YVEQCIgEZAISAQkAhKBNxkBSfveZICleomAREAiIBGQCEgEJALnBwKS9p0f4yC9kAhIBCQCEgGJgERAIvAmIyBp35sMsFQvEZAISAQkAhIBiYBE4PxAQNK+82McpBcSAYmAREAiIBGQCEgE3mQEJO17kwGW6iUCEgGJgERAIiARkAicHwhI2nd+jIP04jxDQI1iQ9FNxdRjXYs0PVG0JEjCdmL7gdaMdE814kSLtYVkRNHpvY81y7CTOA4jP1GiWA1UQ1H0JJXkldiIDUO1LCUxjcTio2K+4nJMkoWvV57UrMUnE4WGYSWJhmQcmbqRavqu6qhNpXF6w7JGIiARuFQQYJ5YnDd0XWf24DSKIqYOMYeI+YRCEoWnw0XIcwzDEBlUBUGwqJC2i/MSyk8qW5ishAAlIo/F0+mX5ecDAtyCZJIISAS+H4HIMv1wYfLSDZ0jtE3THSttKE3LUpWYuTTx4ziIlUC3NCulRv73axDnSRIzbzJX6prDLBlEIRSQWbWd1P3E1RQNZhkpSRiqqmUYRlb5Hgr5vRO079Xhl0zmYegbWiZj2nqo57S8nGFPjbsslQhcSgiYpsl0wWzAbCPmDagYhYv8T9A4qignidPXIoQGapmJOJIXpxyRFIyQhkI/Mujn1PeZCXmAXWiCmKCDr9UsS84fBCTtO3/GQnpyHiGgqXXVWPj9mCQ+GX4jApcoYaCl1SKPt17gxUloWGqsqV7oKaFiq84pvdcNNQh85lHTsJgiidctTJ+qqqUTxVd4IE9iRYspNBJVjxQ4ZotaJlYSCsmLI3M45FPXE5WgY+SZNPJix7BbSvuUdmWhREAicOkg4LouxEskpg54mDjCAplD4GdUgQZTEMnzPEHRXosPNJFCmBwZJMnbto0Swf9QIjSjkwxGHcdBGKqHQlHIkfRazbLk/EFA0r7zZyykJ+cRAlrTse0FJuf7ocpqr2kS2mu32/XsCShcrPNjgqZlp5LYgPqRmARP6b1GvZ/oihYEITKmaSG2QOlUVdcUFWoXhboasfIbsoocBLb+7UVeZL53ArWsfKvdMC3LSqt+gKwSR0mkEi48pVlZKBGQCFxCCDAxMGMIfka3mToEDxNE7STZ+3aUjirB7U6HDnqgcQuT2kkKiB7o3eJcJJpTxWyGOSFJIdrIk0Fe1J5Ovyw/5whI2nfOh0A6cD4iENkswXrMgInFskgc6QtPt7Cstpa1NN6u05JIabejOPT1RFMNGNype8EUqkH6tAXaJ+ZE3/dYMvYbrA6nDSsNsYySpqEkqhZq33mxD11Y5khDMpj23KTVDBPdyGSyftykTDMUL/JYhT61YVkqEZAIXDIICHrHdEGPFycNeBjlJAGDmFLIk1nMfx9CMDkYJBE+weQQo4Q8hcxC0EeOgtgJWsmTMOaoRY+oEvq/T608Pa8QkLTvvBoO6cz5gkBoLyxeEFMzTIhXEPoQLMWyHSca9BttFn4tVmWV0HEUy1CC0IsW1kNOkcI4UhYegHXfD5h/kyT03Fo6k8qqbS/U4iil6E6oelHsGbHmEAsMF978+95JmTyzrZPMdOTthtf0TZ1n6liDeaI6MAg8yiQRkAhc2gi0Wi0AYOqAhJHEHMKRqYNTquBkiwiRX+SCi4Uis9iw0Wgwa8HnWBFmJRcGyURErWhIIUo4hSBSRR4rggiShymeTv/3mZOn5wQBuUR0TmCXRs97BGajUpztM0rFyMl6RjGyOpVUzte74mP56FiXNVuw66E33WpXWoFXbjZP1x8WPahaeINvYb+bFoVunHj9A6UfuWPVymE9jCpe7CmWCYWMgtAU7xF+55U+oZNplIl123rjvtvXDHaqfn3OIjKYMKEvTLunsyvLJQISgUsHgdTJJKJ0YklXcDJ4m9jYARTwNpgZhIyS0yFDlWB4SA4PD69evZoSpiDakuB2nKKZPLY6OzvXr19fKBQWo4CoFRTwdPpl+fmAgIz2nQ+jIH047xB4983aunVLO7vy5cq077uljoKumZVKRVUzqp7OdS4dm/b+9ZsvHBypJnpGdwpsxj1lH5g9ozAUMylP3Sz1GqYyNNz/wF2ddc/bNXrUi/RcJq0kRuLyPB2xZeP79DDD0vzW64c3b+mdODE+MXHM0rrChG0lvp12UP198vJUIiARuNQQKBaLHR0d3d3dsLF6vT45OTkzM9NsNmGDkLPe3t5cLsdMUqvVqJqbm2NKOSVEEDt4Wzqd7unpue6664jzTUxMTE1Nwe2I4VEljpQPDQ0tW7asr6+PQCMKqYJQCrVwTYjgKfXLwvMBARntOx9GQfpwLhEQD69iwmLmYnJkgaN3ecYtFH/jD7/2sf81/fufOtaoJZcti3fs9v/gU0f/9O8P/9n/eGLLllRPelqZ5xMGilJMClrPrDmt+rMDRucR1wtTRgdrt0rgNYK8ERjNWt6xW0nK03ttPXPg6ef+6NP7Hn6xnFUGumKllYx4RtUy0k3FbGmtnKUZrhWpOb7JkG3O92rZUOv6m4fG//wPD+060GJC1sNY99tLFccPZgLV11JaYLlu3GK3L9tCUqmk2XYrRkIIMZ+Eqtb01YpteuwqqepuEluKarkh+4BD01n45gKslNcTwyTQva5cFGeVaSfOaFHPyb3Dfpiue1FOM/Nt30wZGUIBoZ9uOU0zXNI0j5txuidbL/SyzK3Grt1OfXch6VyOqLQtEbjEEIDk7dmzh+kLHjY9PX306FGxD4PZbGRk5PDhw4Tuurq6du3aBe2jEEkWajnCz5gEiOHBETkyDTIfkofqQeaQoQQaB9vLZrO890IGKkmrvXv3QiKhidA+mizMJCfbArxowpE8tmhFBknySPI6oIggwhQ5FW6I4eKUQpSTEVYwipMYhc5iQgiTQQYlwnnaIkATMqItDgvli/qxLpqQobnQhjwukchQjrA4FaoovFiTpH0X68jKfr0uBMQ1/33XOfPCyAnvka+/NDvfnK80+ECB58ZuEDUq7fL8QLXReWRU/dvP7ImMNWa6U42joNoo1453Wt1easlUEi4vqOkwaaqZSGezRtrL9Kqd3dOV8bh1tJSvt+xkNJN95tFqtcrbgm3NtBx1o9Zap8d5PoagmX3zTd1P2UoxVdPNOcOsINPV3j/hvTI+Na2E1VRSTcXzenii3fRSPYriBG0/o7LTxIqVxFPNVqAWO4uFIGdq9YZbbBtLPGuV6w4UTK0r6GPWdSy1kElZutXio8+uT2dNx1Sttl2stzRjJukr563p9GgtGM+qpl7r6NOnC56b1suGOp8JYnieEaxwg8NOPJC05t777o1Kq+2oTi4T8j3D1wW6FJIISATOKgLMYGISg2xB+KBHqIcYwckE/eIouBFi5CF2RAEhZDAk5kBIkojn0QoChAANBV2jikLyPAzDlggEUkUTMvPz86frBD4gjB7EiEQixjzDKQ2JFHLELu5RiIAgc9BBTrGeyWSQgXfi6tq1a0ulEsLILFI9wQJxCVJIK4Tz+byggGjDTzwkw5EqgqDQU1FLQzpOw23btonuYxHf8IdERmB4uk5dNOWS9l00Qyk78gYR4FIXiSufOY55h/noyLH4pd2Txe4hw7FVvpOsWo6Zc+ycr7WdUmiWzCdfGhufS0dJLqs6mYatFUKjkvFnrZn5OT30XS+u+ondSPrM+Oj+w+Vas69/Tc7orI+V/arVrJlaEPM4G1thy2u5Vc8rz5vRvNeeySr1oDXZbOxtVffpqpbK9dbaDSWseLV06PHVv6wbGC5bfrV0zEJvy7aMUgQZGy0lZcPzp3yt3HCJAKYSs9JuOGiIghGveaxV9luzjqFO6zH6ZtxGnfVkQ3UcO8ObPu12U2kPzM2MBy1Xb+ca01MpJcjYfYFX6o3qk6a5z7Ln1MaoP/2yqhyLw7w31VVaMT06ce3mpVevHIrLSnV6MmhHmt/5BsdANpMISAR+CASYu2AzcCCOzGDwJIJkTGsQI+gXeQqRgfdwFFW8sgJDIs+iMM+gcDJqmQBhQhRyijvMhMIpqJgoFJyPY7lcFpzplF6L5pg+fvw4hmh74sQJ/EE/OuFwuIoGCBmF6EEhHgpatuhYf3//ypUrOYUCwtvwAYWLhJIM8pTgPAQUDYLSwfNQSNfgfARBiX0y09Jr9JPwliVvZFALVkiKQgSoWrwRnLJTF02hfLfvohlK2ZE3joC42mnPxU+eSWpk0mt6Zl9Xvh3OByGfrVr4ZTTmrO4erdo6oKn5bKFjDJ4UBssHjNW9Q49Nzpiz7Q/cu/TIrPuZR5u5zsyG4ea1y5YkUSt91y07D+/d8fJ4LjuU1wgJxsPdypVvG/riiyOTk3Ex69jK2LrV8bolw597aHJVR/uaB263M+7Xnnl6/4GmnVmS85JCVlu+Sd/QV9xxorHn2IgWaEv7S1vXdk5G5lefGn/gtmVrBoypOW3nEWW83BsbUdt7OSiUjBnz9tuSwOhMZ0ppJfPYN8camalOvatS4S1CVTNZI+Y2EOnM8ElYNNxtty3PmGZezSRB9dBIc9dYrZmL/fnuVk29/erU1elthYy2X1W+9owbtGq15uz7frrnA7etjOe9++9af6x2aN+r83U/UiK5s/iN/x3KlhKBN4YA7IeJixAXXAcqwzwGTxIPsfAhysUUJ9gYNAgxZFj5Jci3bt06mh87doxVXbgUNEjE4ZgGyaMESRFUQzOxt8HBQZrDqwRhOqXDSFIOq7v88stZXEbtpk2bYH4ktEHgCLahHzEWneGduLF06VJOoW6sUFN12WWX4R5K1qxZs2LFirGxMdzjDUXBRJGkCcSRcCDUFp10DSdpKygvvaYhHSfWSEP4HxrgkVjZuHEjCJBBP4UgQ3MM0R2ROWWPLqZCSfsuptGUfXkjCHCpizmRjMhz/buBYmeylcasbnqazhf7mBdC16/OjWul7j7HLjQrZX6X6I7bt73vvo4hJ6l+ur7qtvW3rJ96u7Xx4ZfjYr79f/3ilm898eqjjx967zuW3/rWK/7iUzu/+NT+Und206olH3zXct6TmYqNv9/7TO9g8Wd/6s4bVodzM+VX9inv+9Ge/i6nmLNWrV3yiU8eOjDyfM+Asf2y5e+/d1VRCXf+0Utqu7ppy8bbb1h9z1bjsZf2Nezo5tvNFcVs1hle9urkn37sQBD0dA12Hj/ufeDdK2+/ZfD3P/polFR/7cNX3X3b1onK1nqofP3rJ557fn+72XRSOdu2grDV9oL7bywuu2rNX/79N1d3mr/1Mze8uGN65988P2eGijnx07es2rY+89Rz7QFH/9DbO69fUvnN//l8Lr25r3vJ/PShwfRQT0+/2uPzxH10z5xtZd7IGMg2EgGJwA+BAMyJuYvwFQQLQgbfgtnAjZjZOEKVYEUQOOgURgiScURg69atSB48eBCGdMstt+zcufPIkSPwRcTQJjgirRCGqBFyW7JkyY033ghR279/P+SJ9whP57IIwkH10HzgwAG8ou3AwACeEP+Dn+EVdBPy9/DDD8PJOGXWhcNhF/2YxnOUC+dhmZA5PBGF1NIF0s033wz5e/LJJ3Hv1ltvhcNBXoGCLrDFeMOGDZienZ299tprcR6jNCTOhzB6cJ6+n87/i7tc0r6Le3xl7/4NBMQ8wlyD3GKeDNNNOmPWy81CwYncJPDCQNEyBauzlF54/m3xFQMjl+l45sn9q4uZZXesu2FJ9uNf3fP0N6p9xlGtFf2XX73J9hsf/cvRpLRq7OOPfuZjd7/zrVc/+vxXPUt98vCJnp0zv3T7tc3quJkyW+3os3/9zeH/uGLV8qH+PuejH98xdqh9/9t6P/Sz29evH9xxdHfQ8FrPjG5bqdywZamn5l09vedwO4levWfr5s6unthrfOzPXxx5ef7Dv3z3Lbf3PbFp90u7o6lZ++0bV73n7iUf+YOv75nWbDv/X3/ni5/+H3eOHa78+ZcO1xv8WFym2JH3vahSrdqO1tfd97771rz/vzy4uzz8woGxqfqD99xwV6yVnKT/7s2z27cs/0+/+c8n9OFU3HriCff//YN7fvfHbvmNv9n1F78XLfuVDSuuNz/+iScOzx0f6lmRTS1TlJl/A3FZLRGQCJxtBIh4Ed9i4oLMQafYhytiYHAjCkVcTbxCxymS2L/nnnvY6vHCCy9AhtiuCyu6+uqryUPLOCIAeWJihI1BuaiFMN17772PPPLIiy++uGrVqkcfffS+++6DQp2yKwTtiKVdc801yL/00kusqx46dOhd73rX9u3bcQm7+/btg7FB+7BCDA/9qIUjwgtxD7svv/wykzDBRbahoA3mhxglyAsKSOgOHvn5z38ehYT9oI8EBRHAnyuuuILaz3zmM3QED+GCP/7jP37DDTcgjCTK2fL82GOPYRQfOAUTEplT9uXiK5Tv9l18Yyp7dAYIiKt98cqnJXl43cIHmv0m309WE8Nrqu7CRLQwoUzUdhlmZJt6zA92GPb0TGZ2tsi7xTt3H961u/HsoTVf35ML3ObRg+WHng2LS27RE34Os7NSdeO2UlQyuSQ7PWkfm80qscK3VwJDiYx0vWpls31Tc/OPPvNihc/BlNbXWjZXpqn7/NIvH2CYmHRHj8e+YkZ6r5EZroW54+NBtWXWysXHH87MN9erHVtGZ6MwVvJJt6aZ08rxyzY6+sLXpDe1jciznVb7svmat2XzMjdMmU6BX/totOptv66ogaEt7GuL9PEH7lk/nD/eUQhHKtZXX3jZ6qhEs/vfe1Paa0/fd8dlv36X8vM3B9uv2zYRKtuv6C50K4rhdPSXGspcYag0tG5NZMSKITnfGfztSVGJwNlCgOkJ9gOxQyEkT4THyEOVxPoveTHXMbkhfNVVV1FFMIw8nAwiRQAPvkW8DXlkYHsLVOg7v+QG8brppptgh7wqB+fjFBman85/4o7EBQnjsY+YT72ILRfPPfccJIxvAbLwKhzGZxLkDIdpgk4SzA8xOBkUllqOCxPUyW0ocD7yHHGMKsQglywiU0iMkCZUkSBztMIQ3STmxwuCIANHpKfEHeGaJDTAjFGLRQEOR7wiUXW6fl0c5TLad3GMo+zFG0eA65zGXOqkk1f9wiHNA67XzNt5dlyosVHIdxtqWKs3mZA0M9eqRqrj1f3ZxEoZeVWxaiPJknT2oNV9vB1V0y3r45/dO1o5NrTJ+cg7rwqbSapYT4XpoDnDXtf1xS2FIFT0mp5SIstohIHmVp280mL7nWKF2jEnm5mb2pdKVqzosRJvvlWOC2ZvzjEsxUuU6TAOLEcvFZWsEyquZ3Ufa2czrVid49MsWo4PtbheKsp3zCbVQEkn5nE9DNKanagzFb+7qWi8umOnrSj2Y8VPpe0k0tut5vhoe9+x/tu3F67d0P+NJ2c+8bmRfVUvlVIH88Vlq9fs+Nd5djC7RrGtpKYm557/0xnHOeS1lhW7mhNzc0PLh2eao9WkVjSXesmUIX8k+I3/JcqWEoE3iACcCeoGDYL0EEhj3ZZTMaFRRfAP6gMTguIgAC9kiRPaxCmFBMBoyK4I9kYQJIPwQYYE7cMb8nAmeBJcCs5EKzgWtSTenDuduyzpMovCw5BBAw0xJMginI+2C8sp6TQMD21ikZfAHr7hM7VkEKAhAlhED61wmzxVFNI7lnRZuoWMcoTzESx85pln8JP+Yp2XCFHFMi5WOH7rW9+iF5TALzkVvJAMOukC5SQx+Z+uRxdTuaR9F9Noyr6cMQJc6lzwNFu85k/OAGo5aZS0XrU907BzQdZR46YeZwy7ZKqx1+T7eK0kLBhmthlP6/7KpJ1PJyda4cqM6zrxfNNe4SbNX3zfzcudnof3H5h6xbx6bSHNx6tynUnWaUzMu5Hph5afTpmRbyih1tvdqoRmZNTy6Z7G0pkkcjt6G2q7xdfw0kNNa1qJ07OZUPdtLwk0vZMwYcUf1QPnRLoMfStGw1Ns9dWgkZnAUsbCkRVW1wsvTL/7juG3XDn84P7ZIxPuLYOpwa7S3/3rK22tntK6rSDWjcDzFbeZTdklTS3/1icP/h/vzN+7bcl77jfWrVz12S/Vnjl0vGu4x2pFvBHztT1zpj8/aJYiszrfDm11eyb//GyUSSXdBX7ALqX6M50560RbcfhK/xmPgWwgEZAI/HAIQJUEJWL6gmBBa0RUTJAnyA1UiWAe9IvAG8SIWkrgQLA98sx+0Ck04AVRQPgQp+gU06PglAizNwJVsDERk+MlQgQ4RRjiSAZJLAo9lMDnqBJNkMQ6+2fxDSucogQqRi2G8JnFZcgcVmhCwisUIskRAY7II8BRlOPn448/TjCPpWHCeFDb559/Hv4Hz0Mepsh7isTzhEXM4RW+oR+LJEz/cJBfwK0l7buAB0+6/uYhYNlp340Nfv9Wb7rhTJuNvFq3F+4NEr7LsrBCwc9RGvxgm1aL1EkjxWbfw325TsWPbbUvnJr76K/cvHG98+5f/utpJWXzoDu4+vix9nRyRIvWd+SWBrn9fJJZmW7EM2GuO10vj2cSld/6yLB5OKnlErNTyReTboMPH1T8fBdfkGmm6qwLx/moaLTaahQUsRV6maaajwolK5r1lQ4/b8RhNtL6nSEzmHtkOq383r6P/vbG/zvTMXFUuXHj2s//74Off1Tlk8tei7igHScuFI2NcYriNRvzeiv52Mdm/7nj8O9+6G1bNikDy1K/8YfpCb8wlZ1af+WQ/XfR1iuvGZl9ppmkOzqHlHh/ytuUNmat1HzL05LweD61Wg3TagLta7x5gyI1SwQkAqdEAB4jImowGzJsayAjuM7JyerbT7aQQtgPicAb3AgZGkKwKOeIZkgVZI5yCBZHyimBKcIRkecI5RKt4FWUI0AhJiB8SJKoRVK8PggDQwZbCMDSKOQU92B15IVp9MD5IIhsEMYBPMcTdFKCACVCA+UUknCAI3bxkPyzzz7LW4PsL1m+fDlvK375y18WfSfsRy2esMSMCYyiB9/ICMKHb3gruox7ZNBJInPRJ/lu30U/xLKDbwSBller+RXFMPPZYt7OqUmnEnd15zZmlBWakm9HQTNp+VGoJml+tYKpyS5unvNafMl+LkytXdN3w2bnS1/+wkTm2qW921J290R5JJVxlObmtGnXW88mzRWR3kwXbadY8DNaw67XnGZDd3WrQQyxZbRbSr0cxElO0bKtuVbZTcU6nEqvxfwaW87ju3lRyorMmpkzGpoyp026alW1jGrIjy7NJymrabkl8/iNt2X+5I9HPvW5zGPHm//1rw5/6pHmpO46qpVN5RXNabYjZtcgbNTrU1u2rn379ZuDeHgi3vCh3372C/80OpDOdqY7j07vOTyiXTGgfuD+zXsPHZhWVkTqcDyx5xfv6jJsa256VFejXKpgtiKtzYdg2Ol8+I1gLdtIBCQCPxwCBLFgM6zSwmAgN3AaSsgvsjToDmxPMDxYF9wO2kSEDAFYEcyMU0gSGfTQEGHKqSVB6YiiUc6uDlaBUSWIFwJUIYDvUCiaQ9SwzilVbKFFP7ZoyxItYpAqNLOfAxncE3SQciggoUGakMFDMkgSFBQkDP5HK1alaYU2AnhYpy3mYIrked2Q5V12fiCPWkKSrP8iz8YOSoj20VnUiv0iRDdhmbTFFn2kOWqFIdwWGcz9cKNxvreWtO98HyHp3zlBwIp15jio1tTRo+3KpBpbbkNxq42wVg3qkWnk+RJyvXbCVOuOngqDzPTxSS9peorv+pEJJ9OVlWs3KO1G6+DUPTcM9qZT/nRtbV88ZIbmbKUQ8aNqheZ80qpoU7MtFmoDvRibvbVJgmf9bt1sNZqGpSVGVK9P56xlUzNWoxIHZnFmtu57auAZs/ON0OyuzrnNVuRHWb/ptWuuafVauYETYyONpv221d1vvWp1W/enkqmRVnukMl/qmOgOy835o3HQSPFlfGZQP0qZlu+H7bZ31bZZS9vlN9u+kuzc93w7UnjFMGcu+8YXZ9Nt5effN/TOO9KFoDaoHPyTX7/bHbUmpo92lHKa0R1Fqb6C05WPi13ZQv607/qck0GURiUClwgCcCzYzGIES8Tz6Du0BtLDKXxIrMNCDSlkPRS6w6YH2B5iIsJHYOyVV16BDzE3QODgRiToFyWwOvG+IJ/Tg6iJiBq1NCeKhmZBnsRRkCdetkMz3AvyBw+DnPFRFZoQnEMhTSBkSLJBBIV4SIa1WvJQNBwgI47oxwd85hTGCdGE8+EeL/DB7aBoEEFWpdmSggBtCSuyvItpflN42bJlSKL2+uuvJwNKCOAzDqAfHxZpH56QaEW66Gmf/pGPfORkT8/BgZfKFdUenZr70kO7U8UOO91JiaosPCvIJBE4twg4cZYfrlW8xsa1vTffsvqt13R1sIDaxdslZdhSq2WGkZJLhVds6LrpuuGuznjb0v7J9kxYi/NVx2s0nWL41m0r77x8cNXm4WNHZ1f05latMZ3B0q4d81tWrLzxTntlZz7vdPlVz9Brb7tl9c0buuwgzmRL8/NTq3rz914/sHagaLDPNmo1Zss3bN7wo7f2d6YMVmKmjp9gVfeBO9ZsXZrv6sh5rtqoV65Ylr3vqsGB7rRm8nO6LBpPpQsrr95WuvetpftvWv6eG/s+eO/g/VdvvPfa5aGTfenVfV6i5YpZnuKNJKWppmqYP/+urWs39derB9ZvrN369o1PvTTx4GMvmvqKY83poNHcvCJz3eW9P/G2FT96x9KHntvzlw/GlmPlU6WwPrVuS//Vt641U1379k7NzvN7APLdvnP7l3upWedWnSjqYniG04VYhqW3OpORlOXkezr4pRolNhMj1GMtuUgX8fgiCd8fhuXAY+g+DIbgHMwGigOZo4pFT8FmYIdUwfOIihEtg/nBh4jhseeDbx2zHQRmhoxoJRgYdIpC3r2D1SHGcioUDSrGLlqIJhRQMEvMYUKQJ/LwM6rQzxZaCsnQhF/yHR0dxUk0U4tXKOQII2TPL9yUjsDz4GfU4jw9QgDrohUMD7WUQxOxxQf5eDgngIf/8Evignwshu6wSQVqiF06TpCPJWCa0zVYI6QQ3/jUy+bNmzFHJJLeidXeRdq3mLmgryV6sTgc5NmFDc0FMcCUtO+CHlnp/JuFQF5z6mGgJ8qapcN2Vju498DO546MlLVCsXtmyqyWuY68QjYc7OtKAvuFl0ePHZ1W+pYdPTCRUs1ZPd55dEQLrfbk+Od37nvwm+VqszHenPzMV8ePHE+2X7VizjOefP4pnjbnG41yUOkezO/dve+l3Ue1YvF45XCJ2THv7HxlfLIWh/yA7/jUynVdR4/t/tbO2VRvar4WZAvp3iHrKw/tPjp9LFvse3lkYvWqrpwVPvT0wfkowNtDR2dnJ2q9/dVXd8wefUXz2uaufeW5BgvT7pbLBl54+cRcKzFTthqEesR2Pzvbkd+7g2Bh65orLrfT2sFj2c/8y0Sq4Nh6uxFlXzhwaPdI1IitsYnRb3xr9lNfmvQHc1Y8r0XGgf2jVdc/MlH5+qM7xsZrXT39LA29WUMi9UoEToGApH0LoBD34ghbGh8fJwOpIqAFN2KeghLBhCBV3PghTIIVcSRCBk+CBECP4HN83I54HqeQA+gC9IjmUD1oFrVoIwNTFKesw7Koik5O2TMLRYM5YYvmWCePftjVInsj3oZpiNeePXvYsSvYJGRR7KWFBULXiAhSxfGpp56CtPFZFvIYQoxOwc8EOROdwiVOEcM0HJSAIsSO+CKqoIb4TygRb0VzevHqq69C76CzMD/YLXlMY5QMSWjGf5wnLWbE6QV6pBeno30LFeemV4kSJnw2LPfUy/t/7lf+qbRsVb5zTajUtWQh5iyTRODcImC6rbC7O+JDLa36rDdVtHLpoFQ3bVObVdRuK51RrenInY89p900/MgvdXSNeBM96aylO/NOlDHt6Pgcn/3z1GxxON8crWiRVk5FXflSMlsue2U9X4hna5lMTulIN+pVu63mioXjcyPFrpzWzrmNyUJh1VR1SjXnNq28ad/BZ7NOKtHZlTZdKnYztc3OjfOTa5baduLUfKlgu542OdNIaTqb2JpRKjv8+z+96okde776jbm41FTsLfWmlko/okyu/W+/uvShp2cPzVmz1Zl0EvRkeyuNZltp++2GFVmah53UfNjs6O8M/IrD295+Zlape7we3qo6ihp5g5qt5nv2t1y/ZK+olkPNaLutspMuZXLpufKBlLXk3A6ctH6JIQDPiBX1OzFmtl6dXC/KmLNr4sc7MsXBTav48KYSpCPHNXnMuUijfbAZbuWwLiJ5UCLiWLAu2BWEhiqoEnlqoUEcoXScwnsQJoMkfzO0Ii+IAiRPaIByIQxjE5E5VJFBA1MQkkTaoFY0p60glOjBIiUQLPQjBqlCnkRDCuFkWIGTIUMTamEnWKGcDPIwOcqFfnxgSRqjnEJGaYJyCjFNolMchX76BdHkeZnm6MGfxSqaUItpGiKMDL3GGZEXSnAbDwVPIr+YIX/hJnoEYhyBgh7xXW4iqR/+8IcBR+7kvXCHVXr+JiJgpVNTzYoZO0O9pSjxjTideFl+ok1T+IkLr9luKs1WLtWbaJmWUe4esKqzrRWlXLbtzLeMbMqAl5U6OsadVCE5UCuvyDlpXixhCzCfPi6kJtOl4XHfWr083W5NV8NqwXZyTm9kaEuGi1ro6Ima6s6Nz00NLNUzdvrEoX3Lu/rqQaRl1Zzer2vztmPm+5e0zEbSTOf8oO1Maq7d0z3U7Gh6YavgFApd+voroi883o4yIXx1pvlyKtdhh73rNzixl4wePVGOujohtbXZZrNssl3O1oyuHi1IB+5x00h1RRnXO5F2hmveMT2umXanpddyaVcJCmFPvdKaNuqduqk3W55reKYT6VpKVQrNtlpId/nhmzgoUrVEQCJwSgRgM1AZmA30CEIjgm0wHoQp4UieQtgPtZAA6BTsiipIAPyMtVoKCd1xRBgxuALyEDsawpPYkwE5g0aIr+5BxahFCZLCH6pEHA6eIapoSxPBCKllJRf9JEEHMS3cw2eMwgXRSS0rvGQowSin1OIbJQgLGcHwUAgXJE8vRBI8Dxnaijxt8Y3+EjhEG65CN0nUCrdxGFc5RUy0wgqndEF06mI9ymjfxTqysl+XNAJf+M2NZr5wYl7ZsXtkbr7S31Ps60hpUft3/mHsksZFdv5iQ0BG+y62EZX9OSsIyGjfWYFRKpEIXDAI/OwnX7l6c+8NG0o3XKG3vcLRGeWRA+WXDlUumA5IRyUCEgGJgETgTUBALvK+CaBKlRKBc43AzN7o8wcnPv2FyfbJ9YqUamQT3YkSZeEL+TJJBCQCEgGJwCWKgKR9l+jAy25f3AjoS/jxSt2KbUO1IH5q4iZqPdQCxe+4uDsueycRkAhIBCQCPwABSft+ADiySiJwoSIw7Q2klSirhHxLmpeUfX6WQ89VYy0nfzztQh1S6bdEQCIgETgLCEjadxZAlCokAucbAv3+bGLqvpZMqXyrNnYUPRcbHUT8Tn7M9nzzVvojEZAISAQkAv8+CEja9++Ds7QiEfh3RSDQ+DBBpKtB3k74KkEUKi0+rZJYmrzi/13HQRqTCEgEJALnFwLyJnB+jYf0RiJwVhDgU3qeqyXtrGmkVc2I+F6f4eq85ufJD+udFYClEomAREAicEEiIGnfBTls0mmJwA9GIPQUXdUUk727dT5Hapz8CSvF+86PGfzgxrJWIiARkAhIBC5SBC7yr1FfpKMmuyURkAhIBCQCEgGJgETgjBGQtO+MIZMNJAISAYmAREAiIBGQCFyICEjadyGOmvRZIiARkAhIBCQCEgGJwBkjIGnfGUMmG0gEJAISAYmAREAiIBG4EBGQtO9CHDXps0RAIiARkAhIBCQCEoEzRkDSvjOGTDaQCEgEJAISAYmAREAicCEiIGnfhThq0meJgERAIiARkAhIBCQCZ4yApH1nDJlsIBGQCEgEJAISAYmAROBCREDSvgtx1KTPEgGJgERAIiARkAhIBM4YAUn7zhgy2UAiIBGQCEgEJAISAYnAhYiApH0X4qhJnyUCEgGJgERAIiARkAicMQKS9p0xZLKBREAiIBGQCEgEJAISgQsRAUn7LsRRkz5LBCQCEgGJgERAIiAROGMEJO07Y8hkA4mAREAiIBGQCEgEJAIXIgKS9l2IoyZ9lghIBCQCEgGJgERAInDGCEjad8aQyQavB4FYSVTdTTmGVzMsrRQZbc+s+bamGXpih01zRs0ZQdPPxppupMpp3a6F9UzLzkd2O3Qz2WqHFiT1lKrXTT8Vh6m2q6WsitK0bF/XAy9lh9ESRW9qSkNX7UiLIzPrRal2NNayvSTX8pSMr3lBUtWSIAmPoEdVVU3TkiQJwzCKIvK6rtMRtd2RVsNWsexZqlZIz5rjKSUy/N4gaqnWZKIEqu5rRmQaXaGaxIaRJKqicNWgioyCHjTHcZzRzVo7inJaO2pacc40lMT2vaTfUy01HHL0JIn9OPJSlha6nb7tholr2UYY5xpRPsnqijGfBDVDWdB5RinS0olhBFFD01uRX7c1VQl8PQ5AKRuWC7rra6anpVKJYoOHlms5dbXea/iBnxurqZahFCyr7GdbWphWlbSiZxXVMg0tUeqJGSRpx7ZtVSmGSYZ+xWZDU3QtsDOKbcaOGwWGrWt6Qy205sxUEi/paTogTHptF4JiI2xMd9sZ34gbWts0k1xGraptTSnqoZGzM1GkeEGoalFkRH7KNhM9NAuuqSSJp8d6mPJdo2KHuTAIUmlb0SNf8WJdjWJdiTOxnyk7zUj3cnbV1sqhH+laRzt2GqmZjJWpe6GnBIoTBE7SCpspQ0Hhaz2UJZcyAlzClmXxp9tsNvP5PJlWq2UYBpiYpsllHgQBeS52keHIpSFKmElEKwrJk9BGW9d1kV+4glQVhegRkw8ZGlKCJEcE2u12KpUS81KhUPA8D4FTJjSgGUkyNMEE2oQeSsjjg+gLSihHCfL4TwZbHGlLOSVkhFeim7SiBFeREf1FDIWLYghgTlhxHIdyJM80oZ+EXRIZTHBEs1CLXU7RLLogXBI4NxoNhMmLfiEjEKO/tCLhie/7DCIZtKFf6KHqpLVEyKCT/pKEA6LqtUfhBuboMp3FNIZAQwCCZqGWIzJUoQG7AjGUC89Rgie4JE4RpiFJdIQe0ZYqGlIlhIUn5ElU0VxoQ+YsJkn7ziKYUtV3EbCsMAqNesNNl9pePJLSM3GlaLVKSSMqn1DixvLqrJPv7m6EM2Y03dmcs3LDShxV59ph3dDGZ9KjakFZOqGdsG2L61U1MqEPVchbcWdUtdUKpPCIbVqhn2J2zubNSmXWNrJ9HSvNco97yLTqXsbMqf7qkrPKTmVqWoFLiMTVxXXLVce1xxWFu2p+tt5WlfIKY7QVHJjLx5fV3ThMj+bTSyK/oMZFPcnGvu03/KhZd8JYXN5ck9/t6slcpVHt7crFDSWX7XDVuUYzNMKsGuzNR/WgeaRSbWULK5SUMdM4btq1jFZV44KupNJaYketoOLHftGy+8Mo9X1q/83TyK3bOrMGdwIzU+ybq3tOqUvN5SrtrpqyenSuo9XQU2bcjCqRo0aJ36FZcaqiFns1d3mmaSTluDkxEMyutTJzsVJ3vZrrVxUlThs9ttJVmarOT+xWo1oxm85ms4ZqMVVz6wuUqK35RS2tJ4CXbkws7SnXC+azx82R0zlcm+/p7Nw0f0LLR4kR5KenOmemZvvjkheNRUaj3Jzh3lrI5W0jF9QVtak0y0e9VjllO2mbG0wSB7B2PU4CbgieG4SBYmmObZj1WrlYtFS1blfXmt7K8dFio9lvppwwGcvErc76ilqrXCp0ZIye5oylN9JZNddsuvrC/VomicB3ERC3W85zudz8/DyZzs5OGAaTRq1W497PzZvZgwTb4PKHnM3OzjKNIEltsVg8fPgwbckLSiFUIc88Ax3hHk+G2zyTDzI0RAlH1FIF0WQeE5PSoUOHXju9oE2kdDoNR4SIoA0HSqUSjJOEWqEZhXgIEUEJMhypxQEyIuESnRWe4yp9rFQqtKVHopw8TahChkQGPcjgfEdHB/ppUq/XqSL/Hb9e7/+0wgqecMRJHKOl8JkMUFOYyWQwSp5yMnQTn7u6ujhOTk4yEQnmB2KgIRBGLZiQ8JMSJnlMiKn+5MS/QK2oBXlqy+UyHcQKGjhdTN8G6OR/gMD/yGOO49zcHKjSa6DAK6AQPnAqdKKfPAnN1WqV5viGDMrxjVq0caSchEv4wNjhLYVAQQnDyp8BPnNKISZoCxoo4fTsJv0jH/nI2dX4+rXFiq+o9ujU3Jce2p0qdtjpTkpURT6Iv34Iz1/J2A8NreRHvpONfN8zgo60ppay5SvXaBtXlroKjteuzNTrRnZAjXSzHTegFHGSS9Qt6wu3Xt+Tc6fGTlTjvi2BW05czbTSiqnEoZs0K2mtuWFlITBnvLrp6P2R0vIS+EGnGafK00eXlKZvvW5d/2CzGY3OjDOzhq4xX4sHU0oDsLj2uJY4ikuLK9A3E6Xl53Oz77l++ZphoxzNNapukFIj1wpCooqFOGkknuco4ZI+r79oTtW//WR2Evpvh7XQZuezQbOseGluFErKTWkFx4+68oev3tzVN2y2Fe/4aFMlZtjVnbjpuOmqRro6d8LRptcMpS3FbPq6Zpk83SnqmT1Dq0oUR8xEqZjoXGwEdNFQxqdHlqcqvUua17+lkIuPB+Wq4fQyL843T9g1y4OBey21Or9xINhyWWZwRaZS2xMFlTAqZHM9idZMonbIozXxCat61fqskljzlZYXeExH2gLzS2KdB1+NB+ZaLd2aj1Z0VC5fGTv5rLN0RX26KXD+vj/NYjBV1w0v1RNHT924tmf76rXpjmPj423dTgw70w4iTUkiwnSB59ZnerLJjVcNzlQD14+YNePAgOVpupL4ejrr1JsNy3IymWytUhns66jOjYb+/NUrG8uGGyuX97Wb8Oi44Ve7urJBPVEzaqtWjVzPTNrLu/WhwcJcveEFC4P4fR7K0wsTAe6miaJ++0rkEid0QkcsvdWZjKQsJ9/ToUWBEpuJEeqxdjJGf4qOMhVwz+ZChhxwo+Uez20YUgKT4/YM5+Bmz02aezz3Y27SMAB4EsLI9Pf3c8Pu7u6empqiCklUcbPnb0zQI7jLqlWruIWTxB8e5piFaEsJd3paIQ/RRAna0IChU3h5kmLim/BwYGCgp6cHkgGDQY+wSyusQ2g4xT1k4E+Ywwd6R8Iu5nBDWKGK3tFZmA09oiMkKAt60CzIBzKU4C1kheZ9fX2UC+fP9DqiuegXmcVECQ7gFX3HYXDGTyEGOPhJ7xDGw5UrVzIc9Bfrgl1RSxWAACCF5FFCc+gXbgslZNDD6IDwkiVLhoaGKKEvUDqMChmBjMhzpF8Ypdc4g4lly5YhjF38ZGjQhgy2MAqwJGRQhVpGhIQ2hoBT9Ii+IEwSp0jSBJxBHrUME9SWUzHoiDGC4i9ncHCQJwqMLjr2+jPoWewU+YmJCfy/9tpr8UHSvtcPo5Q8AwS0MAcvsGyz3gxTRk/UamxaF//6/3nt7duWXru15/qtnaVU+cDxmal2v2+qGYfVvtmc6/3YfRvecueqQ4fG77tz45q1+UcePuxk7IzdESmJ58/adn3ZgPnjD2z6D+9c9eTu6fHjQSbdpaaa5drcQOfa2tTo8iHv93773mrYtorGB95745Hdr842ZvN9faEbGUrInzsd4ELlyAVJ4mIozyXblqi/8MtXJW3DcLR7f3Tl7KGZo5NGOhVmc06UhG1vrJCxt28Z/uDPXHnF+v6vPDFGK9JJLL792Eo+RJ3bKKRzvmqbGWf80Cs3Xj70ax96W72hlga677nvsmOvHAir6UorMjJa7Dm60+jtsd/zjnX/8ce2tBrqS4fGW0rT1FwVensmSTd1PwgNnad/lVhYIWvNTO7ftLrvD9634YG3X75tddc7rlt3w6Z1j+549cjUXH//oBU5kZVy1Jkb1tu//J9vm3Lnlq0zfvTO5Y99aywO+iIWc/3JEvGzhdWq5l33rPql925vNlL7js6wlOxYppoYkRordhzMJ1E63aiUH7iu5xd/7jKzu3ey3n907zEe5nH/O/h8tydFa6ahp9vRsV/6qSuvWb9uYnb0ngeu7M05O3eOtyKnp2+FGgXt5oydVTdv6P7g+97ylu0Dz708fWK2aauarWV8JWJdXYs1P3bT6Vyj3k7CxDI136247dn/9MH3/sI7V16zrfParX1bt/Q+/fQLLbVvNqwpVpjEZnc2yRTCy7ekfu3nrh0ayn7lmy/aTg9/CN91TuYuYATOGu0TzAnqwC2ZuQJWsX79+ttvv33t2rXLTybumlAoEn/ecC+IBffpK664YsOGDeC3evVq7tyQCbF4hwYS9Ki3t/eyyy7buHHj2NiY4BA0F2wD9kDi3oxpeOF1113HDX56ehoNgiu8dli4LFFL7f333w8BwoGrrrrqyJEjNBHmmN+opQqXL7/8cnzmfo9FkuC1aEAt3SSDMOXI0ykoyE033USTFStW0Beq8ARJMrAfDKEftfRly5YtyIsgHM1f6+QPKMEofcci2ug7R/QLgnXrrbdifXh4GKxwfmRkhE7hs4ih0gSvYC14Ivguw0TXUEhCDPKEe+vWrWNE0Cnco5WAGmDRedtttzGsjMKmTZvoyK5du4QziC36vIDUyTgfvlFL3/GKtpiD/GGLIYbSASxWkKEt/o+Pj+Pb1q1b4X/8YWCdI55Ti2+IoRMTHDkVmeuvvx6GCgj4zHCANrbwE0P8daEfhnrNNdegkPHF7qKHrzODLawv2pW073XiJsXeOAKWbmiWNzk9Pdi/fnZ6pL+v+QsfvOXZx1/+9Ocnd+7ZtbJ3xQ0bSsMD3Y+/dNzVpy3Fc2vVn/uR5TfdOPTh//6/d+4q7nzpufvvXnnVMutrzx3RtWyj3SJUtHRJ79L+/hu3Lelyxr/6pF+Z1iLVU+yaruX9utqVnf/d37zruW/N/clnXnjmBW9+9/hHf+fWl46d2L3XKyr1SLO5nOgP1ypH8lwSXGODBf0Pf+WGb35r4mOfO/L0KxWrXf/V/3DdC3tmp+bmlIRF6lauoK5eum7Nkq6rNtjjR448/HydK1BcSwthhu+kxLRNz9cJPRrZ8bHyvTf2/vp/vvKvPvns3/3TyIt7p5f2mR94x9YdDx4KnMycfiBStaGeYkeh46pNuTWdzjPPHtt5tJrtyudUPYjObBrlbTjNsHjjjRXcfAogK3m9+fM/fbc7H37iH19+9jnfcXObNuirtnQdOjbdnOysmFNa07p+lfFrH7j59//42X98ZOrFHbu2day//93bnnjseDtQMkVlcmK8uzC4af3yVWsLl/WYr+6f2blnQrF5x5IAaEBIhLBJT2HZ5PEjv/0rW7dvUf/qfz7+t5/fV2421GoUWwvc+jv4fAcdRSknS5S59h/9wuVrOgZ+648fe2ys/czXX/rdd12j53qf23PIhUt69Y5itqO3ryOn3rCxb6CofPlbRyuelUnxpqFGsFHVI0M1g4WVMkdfWNQOTEN125Ufuf9tbrvxV5984ZGn9/tN+8bN2vpV3Q8/MR3xvKDbLV7NiRpDy5ZsWNt/3Up7YnrywR0nspn+KDr7Syff7a3M/fshcHZoHzd4rmumBbGmBrfgpgs5ePnll1l1hbHBKsRdnxs89E6QFe70a9as+Zd/+ZeDBw/u378f3gbPO3HiBMJoE2yGEvgKd3RkoALc5jEhqAB3dwgEF8s73vEOBL75zW8eO3YMT7B+uts8sxamkUfbl7/8ZegFqu666y68EsE5TlGINpTjG6pwjFaoFWNCHxGATFCFDFVwOMgWgbSZmZmnn36azsJXKKEXRMhoBf0SOkU57Or48ePQFJS8gXHGE4yiUPQFDbh04403Mhu/8sore/fuhQMR5SL0SMSLPDAiACuFA+Hezp07jx49CqR4iBswKrDiSAJqxOBSwDI6OirK0Y8hInCQ2kcffRT9dOfVV18lsArzY2keT0iiI4sZkEEbDA9yRq8ffvhhaCj0Cz8xRJ5aMrRiBAnIvfvd78bVF154ASrJQAAdSYwF44X/Qj99pxCFd999N+8SfPGLXwRtOo4VyCiQ8qdFf3GDKCCxSfoICNhd1CD0vJ4jSgTOCJP/Xtq34LdMEoGzjoCrTvpxpaNYnJ44lslV7nz7ts9+7sVPfGzquRn1M0/X/uIfxuantStX5Dd0a8VISdUHti7ZfN/t6x76ygvl+bW5gb7D9fiZHd5dV65e0W3ovKpfKFpadu8r83//6R07d5RtZSAMdNXg1fw2gUBDyzXKY/fduWFpPvn8117W8kOdMTKDBwAAQABJREFU/VeMjmoz04377rjaaOXyTg/XG4m/fq5VjuS5ukg/cfdAR3H2yaf8sJTWeotf/0YrZU29/+2rIjfREtxfFiW5p58+9pl/eHCuXCul+7iQSMAlLqpF3Op1nu3ybuT5cbCiv+PeG1adGJ3++jMnlqzbXvWsp5/e5YQz73rbxvpctVgaNPUFavjM0yeeevyw305Mvag6nX5o18a/PTUvqv03M6qy8EiqW7ppq37QDNqNbZdtmRuvvf/P/vWZSuqfd479t0994/FdtZV9xavX9ceNZqq7EFXG33vHttpcffeRONd9XbHzyv/1+cMDJeXqrU4SHGNW6u9f43rGl778xFe/8GLiNVh3TnTiiRZvRRZy2UImy5sYB0a+/t9/8S13Xt71ic/u/uY+d8WqtTmNIcqezuF2I9m6fmDj6tIXv7T70Ig/vHT1xIn8zsPjD9xRXL1Msx2PiK/bTnYfKD/x1NHDu6djrxEHsWo4XuzGSds2CGsyjfo51nZrNdsx0tl0rVHvH1iiqM5f/+0/7Y6sPe7wJz97nKX/Lcs6O/Uo47udnpXLZy3VefzxsX/+p11R08zq3fWmyjx7Oj9l+SWLAFc0fxjcrcUUsXTpUjjBvn37uOnCnCAc8KTly5cThiHD1MGLblAlZFh8hGrQHDYAU4RPCLKCNhJMDprCpMF1CrY0RD+0jFP+kqEXDzzwAEThK1/5CjyAmz1kBWp4ulFAIcwDzoFdgl54i36YAQwGtdTSEE9wCV4II8EutAOdlC9G1ygRp8IKVAO7cI4nn3wSSgQ/2LFjBzwDJ+E9cBQyWGRmoCPQGrqPLUwLPULJ6zzSa9rCFzkuzL8n17jhkXThwQcf3LNnDyAANXyO3gG1kKHVtm3b8AGSBBmi+YsvvggvBH+6hmMc8QrPQYNeQ68ZAlwCChJKGCwcRjnNBcgwWjTQTdqS8AdJ4CJhDp1wR4abKCxsGIWiv6BEcBcSiTn0YwXnYf/kn3/+ebgm+pFkIACHI9qEG2QwQSFWILWgCpLwRVbMGUqeBCC1OCMEUMvDw4EDB7CCMzRByVlMkvadRTClqu8iYFipZgNKFvV2s7vUeuH58rMvz3evWF202tme7sf2Tb06MqUbVm/XMBd+rZy+bmOXrlqvHGRnqJO39xtp5ZWjUBrlR2670m/NNRoVpp6h4ZXZ0tLqwstjima7EauiDrvkMq2mPzxo3XrDkrGDo7WMrgQTarJrPJp76cjE9tW56zYPHasvbGrjiuIS4tISMw5Hrrrbtw+9emx8LJrPpGfzuWrZiR574dCNmwrrVg+1GnXXb7PVuNA5XOjoVwxT1RYejrG+eB2KU0pS5sKLz05uqFyd7y1M37Cxe2bcV7qWliuvdi0xj40mTc94y11dHd3p1lTBaZnpnBMqBT/IpRzeyYsqrTovtQ53DS707UyShS+RzwZYxVQbAW/55Wpx/nNffqrUv5G3G5depled+KGnjjDrl1KmZ7Ynj7XveMvy9atTT784oqZj0zw4Xt41kzEzYePuWzbkM37oJTzb+0mYLeWddK9hp3TTaUG4orjttrxWrdVolOdqH3rP2huvyvw/f7b7pQM93ctWTM0db/t6NVh4gfKUqRSP3fv2EtvSdk97w8ty3thL7N94aGymyw42rOipVWbUMLatjFPoC7VsojCwDu9jeZHa8Nji4VnE99SFbdRBEBmaOl+e9oOW5Zi1pv+5f3l46Yptuj7T1kZqanjohHvwuFeLTKegtGvzzUaLl0c7epY5pX7enGy1Gx3dA7l08ZROysJLFgHmB8iBmB+4uiEc7B4gMsQtnDs0EwWnsDoIB6QBMYCCE3AKQYHnQY8ohB1STphQhAyhdDAtIYxOErXMGLQiCR7AiiQmiBIxv7EcDP9DhqmJ4ykT9AXfYCGQG1gjsxlihPrgnSIGSQkKsSVIHhm6Rh5zZBBmmuKIISTJ4yoewpagLPRIxP8EX6RT+AnzoC20DDGaoAr9aEAztWTOKNE1gQMZ/BE9RT8cCGDhTEI/jAfHKBGn4A+7IvIKHxIdFIyK9Xe6IMgupJBELV0AIhL68RnltKIKP9EPb0MzQUHcIFFLuTiSoUQcKeF+AZlGP2SUv4GT4ipkmu7zSIAAVZhjBKFuhANxAz9phTmQQUzALqwIPkeectgqYyf6AvvEYf6KKGcQwRwZzKEZ/UIJknh1FtNp/7zOog2p6hJEoNUsFPPLWYlrtyADPXtfdMxURyPzTHFifiijOXntyPyIb6kHZucrdl1Z0rjheruhxHOqmy00vLFql736aOVY3RlfNdRvsd3V0earo9XmCacYxKlZRTuhmOVQZekvDkJeOItWrSxk2HZRtY9Ody/PrzO8qYqZHJ4zMkp75bL6tF3nKuLC40ISEw0Zrkzm2ZxlznprpuIZc76bf142PjzVrwfK0BKmtopithr+VCusaQ7fX6lE6sIMSHrtgLKttO21qw3TyaS3XZ7hzbHD+5qTbjOjEZVU5yvLTsyltfRYrreuBlGHMR3EM5ajm2krVuNIrxs5VzHrjfL4azX/4JLEa2Udq1Wvt0PfLhTDVOfXnt1bVTqXxqXeqpph3lYGyrUw5C1FzW2bxbzRvWxZzErykTGr7btqeGRweGhfxRjZN7F62Cxmc5ZRCCMlNuq5jthL6nyHZyGAmahONsM2RKbJtJMa6O3/mbdsefWQ8tD+PYkzHc3ZdnrjTFDpKJ32BRQz27NiSV3x52oNj4/NJNYA+/dGZspKoG/fvDXvdCixWq2DcJiYnp5qKonmh5BZYyGQaRHI9MRkGocL+wez2bRmEnPU2m7Y0TlQrytLm9uzXtLTq2R7C3/35UfLTmEcNpzv0rUMd95GNF2Nj6ULDUWfa3n1Ng8kMkkEvgcBpgWua5gTnADSw+nu3bu5i8PGuEMjyF8dvJA5hHgYGYSXLVtGOfdp8iJuJG7zLMxRws2bOQdJZCjnSCFqxe1cLJtCEAkmsbJJFI0ZCVUwFcRIyJ8ywWagLATzkME3rNBQEDLKcRIP4R9cLJAJUYUkAvSLKnTSBH9gUfhGEsRCzIo0pBZhukOvoTiIQRCpFbwHeSGJNkEHT+nkDyikOUpEEAs3QANVdAfTou9CLf5D1BDAGVY/gVo4TwdBCf2UE4QToTW6IHCgvzREPxmR50gToIAZU3X11Vezn4Pxxcr27dsJGSJMQjkKBTh4SOKUkB4NyeMkp8CImHCSPwzBKfmD4VVISCqkGW/RTEARrGhFsJDm6CQvHCaDn/SLkeIPAG30XZB1GopBYXzxR6CB/EnvFsYIDWcxSdp3FsGUqr6LgMPn04JyshBQ6k1SQZIai71m1l13onPAqKkdlWTt4FXHR0bGD7ZKdnpYm+lO51tuvTKvem0l39nZcqdjd9qbHViyZCrjdLcDW3G6NDW02pmFT8MpXUqccyM9Y6VZAaz7kxu6utK+8orqZ6PJpnKirRbT0UBQbYSK3ts7mG/E9XZQZMO+MTereIauFlLdM1PlK5elXWNq4lg5HdrpDGprtq815v2WNb9qOEOo0vE12x+2dHbDej2xFWhWUwkVW+FjfkpcyxihpfExE0+DDfk1zzS8zP507A+mroiNqJZmA/Osl2cjSmSk5sbC8YzSuaGwqu613UyHGnQSsIzb7IDQAt0oup05NymX0kqY6FyUWuAp9dBoYzPk2lditjPwT9GT7/3Hpt3YzLQ8NeUUzUhrV6aLjt/X4eixW9OO1XOrK3wpMLaGhoOMXn/mq0ajGCjGzMrOZYmvtBylarbS2lJtctC2X96fdGF7Vbc1Pu9ZhZCv4dXm7Zxu+irB0amUnvPLXiYqxDlvvDbxE9cPKUrm4Pjhn3v7ZQ//4eX/+PvLf/W9M2tsbe5E0TZTOhyZAF3STuy4TWhBtVw/LObd5dbwbM0aV6KSm1bdqleYSk13KYa2eiBWgkLZbjkm8c9Ih+2FmZCAY9pIteyuYKARppNsyoC9Qbtjiz2Ztqfo9TCjZG0dVfQuGNMOaQfyP3Xb0ke+euzRf+1QjKPZTDPtR6bGPt6OlOmXglIz4UN/fRk3FaQXvtAhk0RgEQHur/AD7r7MLty2OeV+zCnshwAbjIG7Mjd7ESuiFYEobuGIIQ8tQBIegBiJDE0gHFSRaEieJtzFRS152tKKLSPkIQq86fX+97+fV/TYLQHLoZZy9AiuI3gDhZAVeBhV2IUxoJlCGAmhOApxmHIoAvJwC6gDJoRXZOATaCNRiz+C4VGLPK1wTEQxoSMU8uYcr8HBxsAEtfSChhxRSwZbEBpOhXUU0oRCwY3I/IBEc9xGLcIkHCORQRXldBBtJAyhBDpFBkP4RhOA4kieEpoIVOG+yJOnOeV4gkLhj8AHoGjFminv8zGCd955J8G2m2++mRVtQox0H3kaogSdQIEnmCaPEvrOHwAJN4QJSDBVhOWQATSWnmnCkN1xxx283veTP/mTV155pXjhEogQQBjrRGfBn2GiBDbJUSRM8JeDJGpRCIsVXcAHgTOFyGCCzFlM337T8CxqlKokAiCg6g7RmCT24qBhmHw2ISp0FiZPTJp5cyxqLh80V1zW+pO/rTSMoKc1XC66YeDlMk7k63yHpO5GTjqnJAHf7NCMhc+zJX5g6obKGl/oGQYTn8ZHfPOpzrbbzObzYVr3ohgbjXnXKZSq5clssVRumeyc0NnAG7OPIt2R7Y7brZ7M0rpv/3/svQm4ZkdZ77vm6Zu/bw89d6fnJJ2QEJKQSAKESUEBGQRERUU53uuVRz2ecz0er3I8Rz3qGfThetXHGQVl9ognoECYAiQkkHnq9Ny9d+/529+05uH+1i6yadK7YybodHdVdlbXqlX11lv/NdT/e6vqLTP102Kp0u6n7sFY2W1EupG5I62bG4oZV52snin8fCwdCrB4gyHFlblt5e91fla30poTedjOGGyM4owVB4lezqE2jE3pYL4ytmF2dqlmxlqoJwuVzdk+fIs4Rkp23DPDz7wGC4SzYV/DcQnyCUVpBSjj5T+lz5QmXwRFszyrXrD+JEpMvBw91nOc+mh98/Ok5vwqXup2G+267TS6vb4LFebbahm2Pz0yM1M5/PLLX/DJL089FPfW27GfKhYMylJmpiFghmkbRZSbSrWIfdzUeG619JOIHrjnK6fLRHwCbcMrCgyfSRYXoY8Xnvqui2qpq1Rs5+775v7r/cEll0287ntf2PrpI+/9iH9kanbd5Fi/lzh53ckYIAtHIROcteZYRwkjJh8yBuI0dToXxxzPDRZjdDWlgndrxWByosaNLW8ufRn01wxx3x3n8/B7JemUPnGyPK0ng9ivVqwIj9P8Wg5Tx8Sgp+/clLz1Z/devXvy+LEFzAefO7r58NF4o44fitIZxArS35o3ySm1nAqmjF/gCPBIwBLoYmEe9LJ01cLEImgH7xq9Ph02087ovGEPwAX/EGRIlIVelO/NijmHCBkowilxQSk4IpMiohSUAjnQLExrDB9DcVgHCo0gG2Y2PgLoICgREoiI951EToWGQg7pRKgOVdEEgdRCInnISX4Ewi2EksghG5dIhIhgOYOjoAmJFAQBVoGwkFaQS3SAjlAWOiJahxBkUhdHEShCM1GAGkGPIK4KbYk/LghVuUpx1OAqRYTCVEeERATCOw8fPgzUyCdR3AWKCA5HcTQRorjKhD/uBS0SYr+p2YqepBCohXt32223cXNZPHHTTTcxqH3o0CEQEJP2qIXiYEXVSKaIgIsjZUUbiZBOERRGDVQiDjLkoSy/B1AY2y13kJ8N2BFX5VCKImgFQ0U+tRCQIOgmRySTQgYqErVQRDSHiAikP4tBfvueRTClqG8hoKnlzyPc/LJG19JxLRLPLC1YUIbi8uHh7J0/de1nb/M/+YXDWyYuKvwBk0QqFXvYXSoYl5tw+1ERRnnVajKlRC0cPLppWciYHh9V6KFSvia6Ubgq/jmSEHObhhVK0zUTvyJO38/qbs3WjKXBQGMMQcnZZSLT9LlFdblr9ZbU3nw66hVBUp0dVEbadkvB8IaYCMqRWWz+gIM3aJCn4zZE4bcjM8n4vKz8RIagqYx+LkX5PMayaqfO90BhOt3SIJ3r9qZmq8wxnFd0tdpq4Bs0WopmYn/WNuwgDixN9fQ6iw9Mj70t5i2j9a23Wvm2NzzVj2X6jGFF2PwyPysY7Rwp/txwMRjxtxT6q3/iNBguMpBeYbCYL3KOm0K+MaamW/15dePmMX9R3bcz37V74r//+YLaKqp+xbGcKA3YfaRda3lmfTDqx0qQJVZFz1XFhmppBb6jozwr7IrL5EvMi6qCC0LGXmPskElk12x3+7ZiMVn8p48e/srtoy8dzv/zn/3DnV9deuHe6gsui4Ji73yf/QmUwbK6MBNMnZwfBfr8XIt+Rim9L/Ktz5aTvgXhjBujrO9WWauh5Sk/D6B6QMEHz0iV2NLdkJnZeG3U0onxjTWnauX9rP9g3NXCBbU/Fy7PDDzT7YzVVWwo6XI2bN386X++7cHF7VtqP//Tl251VOoaaVMCZ54Yvp5aiXTZN3zrMZUxicAKAnTMosunGybwkPDWw3gIcAXsXnhyEbP94GqkiM4epkJvTWaOFBePFp03VxHCw4bY8plbGeYjD6eCcpETEkBnD7NhkJepXQxZYn+ChTBXjLJUQZxAFQQiaEJZtKIspIFEKiJOTigINSKcgBqr+hNZHS6kOk7hdgQ4CqKEhQkdKIVupJCHNrLCALsaY5evec1ruIpw0TTqoiEcAYyjCJQSjYV+IR+t0JNKzxTQlgzojygkc6RFCEEB0pFABqbKYU67+eab4VXUgjGMbOThSDbyiCMpaIKGSCCCGmTmEnGOIiKUJIVWU5BZmMy/pHXbtm3D8Q1FaDJiqRQGTDqYCJscRYAFyVxFCBGBEleRDPLcEdFkTH3QdKyJLCi54447kIM1EZZJOkKADuGoigIIEbZD0gmkoxJt5JKohWyohPxVtVdbIYo8W0dp7Xu2kJRyvg0BNlZQ1FzVUjr1JM5L9lZ2uw7k5V0vvUhPh3/5oe6O1uZi8aju+UV3NIiyhssArrYwmKs0J5eX+2mY2m42jCzGM0zIXWJlWKBMfsVigmJmlzYIemMtPQtHWdQcJKzwwMtyEReZa3v8Yiy9rGA6KnDyrHR7y2+9aeySDeuWwwHu3qq5tRTVPvCp/RUVMqFolV5qYbPr8BIu6Qt6tWsXm6KY0Ve+huzLgeU/L7BdliZMJa4yqZmPqQ/hs7XBDc/bvaU5XlGzrhJOaK1/eTC9dX56sdeLlLayQY8P8OYzv8esWXVPy1VLGbHWdzSwx/WQ3etWgkBNxMvvS9wpP2CZFvpdA8fUl4/v2dHGS4Dmf9urSk5R8OGT1QcefsR0vdFwZDuYPht8cPn4bl63/u5Hj+zZGP74W17zM7/ztajSURcOmet2D6cPm149UmLuB875CjvREDwyPJzZWtpiP9C1FPMlqOQwPhZJ8+ViQiNfVS3QDI9Fx3kSeM6wt2wtsMnbRj0ypppu/ZP/fPLGq8befNOVH/7EnePVo9/3uj1W7LHtSj8N7MrO//WxKWbxYfytOrmLO544b3hZshjY6yzq8XHWnAf82IZmpxkDwkWpEo9PgVnSTaLh/Gw6XJx56fON779iWzpUTL3dbKx/6JGFr9x1ItM6XrFRz5UTh9XjxaZ7771j9NZtb37x7lfesO2Lf3OzPrGpCL45ZQe4hGG1vI+PoScwlEeJAJ06Lw7duWA59Nb0xHwQONLT47mNDBAROB+dN10176ggImSAedCF8wqTh3TKikugytXybV5hDyRyiVN4DPnFQwjVIBuJmNwgl1AujG2Y3DAXMfNv1YhFHtTAnsSrTZyKkEycIzqLWmAPIh1NqItsVEGgRShAZtKpmrXGHJEGcWEwGpqC3YvMkBjYGBqyvoSKGAaFJNFSIQ3J5Dk9UDvCSacgAcQgbcyZpoGnZyYFgdAjOC76CJkoT4SqaSysCPsZs+5Y1Qsg5Ecg8tEWZWjLambqFcWpiILkpMlkIFK2eSWC5kQ4Ai+NhcVS6S233AKjZSgWkDHL3XrrrSQKogkC5KcV5Gf8F5WonUAGbjER6qJS8gAp1dEWdCNAFhHFjD3sjtxBrLbcO8y3kFfShQ6ogW6sDuFUKMmR5iBc6Mkpcarm9PTA1WcxfFtf8izKlaIucASYDMJIYm/YdZ16yAZebpPxxNn5483m/S957U3/80+/Ph+xpmlPszWaDcwsKWb76o711XatmGbmcTy0VGuiY7G49fh0Ogwj29P5lGrM7vcM1prCCYosKjQs7TiTSw0rOTy7mCp7HdOveUVvWDrZb1bzisWcOGdqdgGm+KprWlfvaDBkzCwbRv5uf2D0mc/EU/fcXbz4Epd5/1bDztgJwkhVyxtnSHF4YrqfqeyZy6cEQyIOAiGtJRkZzVXXb5jUtOUiXGpUixddv+0FOzGJpWy7oWdR2DG/vv/IscXRIN485q1XIzNO5uzKZnZrc60RS3ePnog8s+UnC3BiBhDK/1d+mxLh88GRfobvAge+CKuB7wOfj9UnSnw4xKnXZxLPyPZqjM/iUw8JfA4rjcZMcKxjau/6qUv+8ZYH7z7Z2zy56HZ3Hundp6m1YzPDPTs8XQ08Rs+VZBT2J1qNmsMOH8qJxaFlO2y0i51xGI6SqPzW8x3kg8gAS1b6ha5ECQaQxIvHQueBZWPUdLJe15rG4yCT7qbDVjZ13a76W1+8j7k5UMZI2bw4dO77zIH7l8253sirZ03NGZqN1DiWJ/54bSLJ9aPHlwtNdRh7NnKf8XeIKEPPaelhsTQ2MByumPRP+JF9xUtbjK4Nw9BznIu2tr927z1+Gtfr6xKW9lhpntUct/qBDxx/07V7zUrfsjf7cSvLZvmGcvNoSPmFXgGZnYVXwZQRiYB4NnjYeOPozgmkQCwI2GxYooHPjo997GNYhqACvH1kgATAJGCB8AAeMApCBSiFEGxpvDJkI5DOK0ngkujLyU+ieBRFLZwyzktdZFilbhCgDRs2MNZJHhHgE8xOgxmgA/mpDgVgHmhFRegDg6ReFEA9IgjkiHCKCx3IxocRTgZB4aoQC7+B5AnDFeyK7wwaQkBJRBSjvfBC0QqKCzlCINpyKuQLUaceT/1enZousEKUCJyKCICgA9IgZLiPoS2oSkvRE7LFXSAbV2kRRRDIJTESTU5BwlZFkZMMIpuIIBwyTcPxdIhYaC7Gube//e3cWdgkcQAhAw0HRopgd8QoCBo0kESOpFM7crjj6EARTsGZWtCQW0AGSkFAuUEoQBGaAwhQQAQSKAWS3ETEkof8qE1x7jjF0Qpp4ukS+Vf1F6fP7lHSvmcXTyntmwjwluAcgI0dhnHsOR1L0w/ef8f1L7z0NW+89nf/fv/c0q6OMz+qK9OH06odDprj9x8PL1rvjbdCYwZyFmuBUavyG6t+7/6ZmAlv+CEe4bXXxmdvuX0ZxiilcOsm+7KxfMDwwkMnlxm53L29rQUPKdXtiu3Fxx/YufEGKMRd+xfYw+gPP/SI0Vtwa5vxp9w2036ujewdh/pqZhcTrY6ZLijWQDWygu0dxsZyK3/k4ElFc2Ns+5bOQC379PK1LvJ0vVHU0pAdyqLMnZsP/+ajd/+9jpuXXqrUDSceDJtpNrrr4PTbcL1uZ62YiXdekDKTo7t548XdTHn4wKjqNAo90HG4shLAS0Q48ilR9dk0Vgy17nqNaOjef3f20D2L8MmeXXrMPzWQn9OWw4A367z40c82kQmmSZfh8uEixtPf+ukXfOHTD33y7v6WWs3qabGhjmsXjTT/818+8Kobrt22pVPccdSo1FkyC4Vdv/7KYzPK3DBlXh3LSnL8IbOiBY+jzNC0FcvER6KTYgI1DbQ7PKVeu65ojvsnZrOWOqoZrV6gh0q7G0wtqq1vHDLe/V9uDZZMXVXcVqia1smhHSXhPUeSG59fbajhMG6FLv6tk7oa51rtwLGZ0slVFHeYx2lnrAhh+rjKkL2jJctLhtJVrTRMjE/+y4HPfjGpMM5eMuTMbnV8o505ymxy3LRwiNrIgtEwUJ1i3XycM1OTSep5Ng+kTBgUCJfxlSCgOxVMGb/AERD9NP0ugT6YvhzjH9wLWgDnw5Ey/T29NR05/TRHiAiuN0ikz2Z6nKAsgjhyClfgERWPGUdBJkgUgQ6eq0gDc1FEcALIHBEUoGp0gHngQYY4EjjlyaUu7GQQAnJSHM6HBGEJIwILFFxB1AiroBbaRXXUQtXEyYMdkXQS0YqcNAfJIgX5cCxOqY5WMAxKLeiD4Q3FVl6d8kBdq3HkUCnCkcaRzFi8CAgk2+mBbOTniHrUTnG0IoW20FIWRtx9990wORSmaqGhUBJRoE1OJHOVzPwUhGnRfLQVMgWk5CesVi2KwKG5pzSWgvBFCrJm5SUrFk2oGAGLHfcUyQI3JNAW0CazuC8gQCJXUZh1uzSWq6QIZVCVdE4ZJeeIVjSNJ+QjH/kICqMh2chA08RESZ4rtEUlmCLKgDBx7KDIEQijP3KIc1xty7MVKW+hDBKBZx0BNdezXGXwMeI9VZMiW9y1Ufu+75n85PvvuP9uc2l0uB61pu771Etu3Llzx8ZgdnDzrY8EsXLZvvpoPp/oeFqSjY2zmFP76j1HctPL+LWssjDEHPhM8mWZaalvXLAAzcsifPqGvdD7wheTrVvb28b0WEN+Nl4pcAh3x0OjA1CTRmUqa+0fuvuD+gND6/5e9DAbszbqh3vdT98VbB/z9nT0bpzyt6OZ75yo3nqgmJr1zUpLLMbjxWN3itJhCG2xu/3wRJB0Dct0vPUHT2h3HXAPLmw/cXT9A7Mbjx5PN01ufnC6ODqj7NwQeM3FOKwsDue276p2GvXPf3FqxHg161SscjSB75GAfTVORI03qslEFBhY7lRHzVnF4GR2xx2v1Nb8I1e1McY4ab8/wLVKs+4N+otq7r/jlZc8+MDt//DRE+PVJJ4+mCyy8+09m7x1o3h4Yiaf6yu7d07m6cg0cMtit+qF7VqfufXIsGA/Otbh4OCFjdBSdMU4arlKOBhpqWOoTAAcRKr5+a92FbfY1Aw367uN3Mu1RM2n+JR8+t5jYUU5Fuhfn06n9NqM07lv0bj9WH9YZ6Jk/7N3+kPFvWpPNewu9BkhN40rdjZmesp9D83hb5pZmxBNldH8wogjBnrpWwwlcyzdUdTUcM0lXz1wUvvyseFh371vJr3r0YFqbg4GdTVoq6N6Grtj9Y0au3y7RwZF7+v39y0nqWmLfJ3Fd58jJlS+qmDO91cgL48SAYGAeAcFuRE0gt4ansFi2y996UtwBQw8pEAE6aGJ0B8zo4t0+AT8gCeKbn7TinMQlgvw1PGkiWdPsAGOnCKfCEf6eERhUdu24pqEhxM2AFeA/aAJdRHBOIThUOSHQMAYoGWUwhcJXAElqUKIgkNQKcrwLiMKCTRKKElF5CFR8DMuIQexZEY+YrlEKa4SoD6wE8H8ILKQJPjNKgtZ81FBPhmoglIcKY6S6AYzXjMglgxkQz1RBJVoCHWxHoINUQTOMCEajmLk5IjOtJqRU4qjJxXh8ZgMYsyUiGgybTk1oDDp4hJVQMgAGejIg1h4LaIoi55chfOhA0eaDD6oR0GcdZMHL31QNBCjsZgMiZATTchDZgRiLCSOHI60nXqRAyyoTUGaSQSooYm0nRqhxWTm6eLJQRNyQi4pQh40oV7yEIT+HEWcyLMVJO17tpCUcr4NgTxR8L672OtXmvWF7oymDn/zN966vj16we49v/pvJn7hF7e/8Qd2fPxXf/7l1x88dqJ/hdd64PDSV26/4+U3XdmubjzwyL15nL79rdd99pY79h+aUbFjpQy2MjCnDUbMzNVwohIG6dJyz7EnlIJhQCaCtT76ka8kcfCKG648Pj07Pbdw0/VXdGrK3/3DP0dqNfZHRj/cWK046VLLXm7Z/Q1O0U6MdXH7ve/bP9FIrrvYm+nr/F2zy94yofzRBw6GiVapNrE6lR+ZOIvDhN3ecdRyKHSG7lhebfTToWqG7MFba4SKsTDhHXFqPQaptTQ/ORz747+5c/ele9t7tkxNjXr+zPU37h4Nk49+/NZmZxLfJkwE4stFKL87TD58LM4p6xAcLzGdKFaWMn2oM4nISgMlidm3He91DCw89idSDNtj+iGfUjqVnB2ER6M0HP3UT772h1766NDd/Au/9sp3vKr2kz/xup989+73/OL32O4B6J0fWX/1Vx/ftr165eV7jh2devjBh370ba9eXOx++vO35bpt2sxiKb9EfK34/QvtY61Md2lBTUzXdAud5R7Kl7927KH7gp9/58sGh48Oe63Z+dHbf3jToeOHb75V26wb7VjdBAMtZvmrFvlFtcnKKHG84Au3zT16vPuKF+/R8tHAt9JM/4GX7fjMLQ/c/+BxVl5XavWMcV+88cTlrr9RhnNoPerVzWyDllWYIZm7A3M8qW3c6Gt5e6LFqEiRnNy1LnvXW65+0SVWb6E7vX+UB8G7/q/n3/vA9K2fU1w2hB6V6+xAlbaUfXNR2hX4NHP6bQ+rPLngERB0gZeI7pzXkX6a7vymm26iP2akFbvX933f9zH++KIXvYiloDxL0DI6bwZD4SL03BTnMYO4wE5gYDx1dN6CD5GZvp+njjw8eAjnEuQAAoc9D+AZXoTlwCRIv+iiixiChHYIQgBLIIPITy0kot7tt98OE2KCGiyBFDEQzIQ8LHlcpWrxhHNKQeLkQQjpKIAQgiCXRCAfKEnVsKjrr78eVkTVkBvIB41l6SuAgAP6ozYNXPlQlet2V09JJA/6lN+fFUbLVaEDkdODwJkMBIpQFyk0/8Ybb2QtC+1lxwsWwwI44WUve5mglWgFI0Q9cKM5QAdQsGRGvUkRedAEUYjlSHvFEQQInIIPE/hoMrBwF7hxcGXSQVvcHcRSO5yetgsCR2ZuJWIFs6cUFUEBIeswSJpGTqYGIp+RXDAUJI+JicgkUBwduEoEfAhCMmpj0aQ6nPUQhwsyBZDHDA1RnvyiFSVAK20Rp6j6LAb9Pe95z7Mo7imJyhV+m9vHZxc/8c8PuM227XVIwaTylITIzM9NBHwttGxWxmbp8uxVe5o/9sardm1xNoxXrtlX3bfVvnistm93VWsrn79lcOjIcZxN5cro0em4PbbxxVemE3b/ta+78tCM+YcfvFV11mnswZbbrAaecOJXX7Px6r07W+uNvNJ2s2hh7lDuOkVUiYNl3LjdcbB43St22eHDr7p+6+VX7/rTjzx8zyNLzaatZXiTh1KVP3L0gpFFhyllBbt+WcUgmjqwYL3ohr073PlrL9KuvemFf/SPj96z/0G3ukVlZWmu6mmM5j/y6osr7SZkI1RqZjoKen0WpjIhLStnARW2aQyZlce0H9uKGQdIeqNoeLyXv+FVe/Xw8A+/+gbbab3/5geOz45YMGHanSjIW2589cXVm27Y0Rpzx1teHs0sLASGVcfixcvO2mU8Gmu5oWJWYOIQX344Z0k7+Sp825+Vx/hFyVSMYu7QX3SN3hu/73mvfXHHLaov3Td+xSZ196bx5+2yd26wv/HV8LYv7i/nPGrLB6b7Tn3b5fsm287Rt/zAJfVq/jvvOzYoKmqs6LmJT8KKFn7Pvq3XXrP34o1GGjfGGsby0kKXGc1a1dGzUVY8dODRPXsuecEL6nnvru+/aYdb3/bhTx6dmz2pOLjc44cqX17mYpddHx61S/fPhpul0w/tX7r0mj07L7La+YF3vuOGT9/5wN/886LZHrdU7gbdY3eyqb/2FRt27b2Izdgm6pUsmZ1b7iU5E+1dPPTwi7sSlcgsdv32+EQymt/Sit/5xj03XbVl72Ttyj2Va67YeuSw+qlbpwM19qpWFzVUvNUsXr5Vff0rtlXb6xTPrjSs3uJCGH9zbtNz8/WRWj1pBOjUucvfNJzDkfidQllL9zvFMddy6hNtjbc0x9sjW0njG2htwXS3BDgQ/TE8gJ7+sssu4wjpwYaHYQaLDkQBZoCFiYW3SIE8MSrHUCPECxIgjqzGJQ+EhgwkkmfPnj2s6xTshETkC0YCG6DXx8aDQVFwTYgXJijB6pAgsgl10Y1T1IM6QFmIQPvIAwshwrgtRjLqJZ1scDK0glVAYiiI8pASbFSIEjQLKkOcnHAR9IFesPh07969tBRqJY6Me0K2IEnkpBXkITOXyIkO1MUR/YViQlXiBKHwmY5oKPgZxQUpZAgVDgf3RTcIEDhjUSNQKfIhdtRL7bAuhJOTRkHguC/MSoQviopoBdkohRyqAG3AgR0KciZUFXABOxEaixzstRg4qRchq9CRmeo4kgJuZKA6tKLJ0Ltjx45B1gETBSiFVhhNucUIAWfEUimOvrnEPUUrhAgNgQj9uTWiOm40YHKbaD46M5rPgm7A59kTGZDPgwEdpDgpAmriyFkNnD4B4Fwip8jAkWcVSGHVqPStkSah3HfvWDCDiG2Xal+555F3/cKHWtt21ju7U2WgFU95v5fvns6ypieNQJHH+KYrx+mwRRl4VivMzM/jQaQ1LJPdV3s4G7G9xtIwXQ6UamMS33i2EhTBfKeGF9M90/O9O+55tDWxGSe9ccJ6WtZvGi5eOYxQK5aLeGh662ADw1Af+KwXthyXAUEmxfQ7dnLRjt0Meh48OsUoqeXWiYdMxHPXnmtiefWTh/dv29Des20DjXvkyPSR6aX1F+0ORyfwMYJkaBaeCSomDpj9LBgonY3LvWFApbqt6eUqtlwtnZPYGOiSGD1xK1MuAElxPuzXnGTL9j3zi0vzC8s+VjJc0zEPD5lAw6CAo9lKmIVDVhxobnOYOotDHJc8tX14bCNLIViKmRe6koVO4TecuO6qJwPLUFjvUiT5UMHPtF0bRe3BsOJp06yHWFyYqXvO+okmHnYMvTj46CO+1kQ/jXU3TL7JGLQNqk7RrDnDpWOW08i0Wj/UWIbM5xFn10xyxLmFqdNbrO+06oePnjg+s6yZbd1qZEXpd/T0MIzUsWZtsDilZcHFe3a22g0cHhw5dtxurGMXEG4h9bIdi1UErplULJUTvCIOY4NbzJRCXBgyu9BgfLzwFd1hPoBpVYfLS2Yx3LdzPetSxjeuPz41Nxhko7Bc02NX6h5OucKhn7pVM29ZhacnKvOqFTVmqqDGENtTw/n0FsmU5wYCdKul04BvKlNODigpV8Vc2J1/qV1pbty304hGSuJlTmimOtMX1gy8yGV3+BhrgRnAD+hu6Z7hEDycdNiwAdIpTt9MCnG6fLpSOAF9PBKw8UAOyIAoelxSiFOcPIJdIaT8YjxmxRF5uArd4RIjhlyivyfzmkqSKDSEW8Bytm3bhgTsi5AP6kUyp1SN5qgndOCIZAKShUwiBIrDaTjSCsgTldIKihPgNLA9pFF2tbjgIoilpQINYSRD8plUPVO6kIwQIhRHWxCgCdSFYiTSRnEVHOCI0CmuohVEjcxkI4K9DbXRloajmyhFcxAoVCU/ZcX94qqgUzSTsgingWBIHgSuqSdVQ8hEvbAxChJHIHecWpCwguK3IMXoC0FEFHWRhwwoJhq1pnyhD4SS5mA2RjJVUBb90ZniBCJAQRuRgCgiVMqRQIp4EsRxzSqQjECO5Ccb1kR+t/ziL/5iKVaIWLPYdzZR0r7vLL5nWXpFs8vXDte/OhtN4GYTJqE5ljWfBvWqp+eMmw7ZjpZtVVc+SGrhu4zduux6EQ955VhbW2iOi/dgtYsr5jDNmFHMZlzla5DhVS4xgph90CBSbF6Baax06cwoRMgv6dLbO762cDlXqVV7wx6e9RjCGLA9x1ohiJyqZyexzx/XcS3H39CPxms9H4fAeJ7RWEnKR5+vOP2JauvMm2bA2Sn9BGrlJAyGdct3k6aapdkhY2kXbv+wmsWjOOjj0oBXjImAjK6yRTGrPziioRbi4c9kYmIcsWrEZB0G21MEke8ZZ+iX1lKetCDpURq7I6PqJl2VoSThqNfrqi1S2EUYt7N4We77Me5XGuyxa7Hqg48+y/24PUwqx1tfVjqvwtoK8yqwqbJzW5HRMnayZClJYlQM1las+BtjRQuLfFluBw6Z2ekuzZmG5pjlEjbTxVtiY+THpro27QsYdNXUqmP2lhbZXRf75OJSb+euPWE8FadM3SyXpBj4+wmTzA/49g8V7q9rOy5TANFFSWMd3FRg7uESsmC1TcLgf5Wv4HDUZ7on++Zl8EQ25LTYzBcPg3juwTjoW43JjFbSja6Mnyg4acQRdxF69rdWRp8BWpl8TiDw7NA+ekfRkfOFEf0lHTNBDIPyCvMxE10yvT7vL9YX+Fz5AgbleiRS6E3Jw1XRy4r+mEuIJRvvCAyDILph8hChCBkw+PECQn3gIiSSh4gQfvoNoAqIC5XykaQURwIp5BT6iyLIR1tRO7qJekUGqiBQNbVwiYqQgHooLNiGKEgeTjmKUuRHJnFkkoE4MmksKacr+cQplCUDkjkKDamaCNWRUnYaK2s+RI3EhSkU3iNuDXlQm1vDESFkEDoIPTlFAjnRDQ2FwhQhLoigoFOkkwcJ5Ofq6YEMCEcHSlEXdwcJ3HSUEYqRiAQSkUCceyFoKIlIE7WQTubThZNCQdghCiAQ/DmiMCnIEZJFG6HmCKR2oSp1EYRAUdGawkUi+oOqgIjMp9I+uZL3CXCTl54+AqMgNyz+wwHzCKMYa0kxErGMfb3qKzhpy1a86iUp3u9wEIyfFLaW8MMgUi0MegWduK55GAqz3oBFELblwsxYWsUCuJxvUxsKxXw/fpTmKdPgSn/MATyvsGrVVi/qxlramKyH4XB++TjLsPigTp98qGaVMzlODxUv1AxmEgZ6rdz3ME4C2EeFVy8cy1Jf0VINtgIVY5Yf7uQglyPIVJlULn0of5iWn28+uaxGwKdggagIupjYOi+qh7HRj33eZzJAsuCQ+BSEP/Ke8yOT6cRG3bPtKt+pnr+kp5GHy5lo7V+fp2suUjBnlh6V8wKjXQ5NY/8xu9rc2LHyYYFP61RjZY1imC0nxvlg7g8yW4G9aWxWbLKUjw+fHfhhbqaO5qJelAcgwDfCtVzddnK14jjjkPY4C+C45aeJVR0symUz5Opia33dH45wvdqcbPGV7A2Ow26VfO3PXLOeLy4sQNcxw4VhbLj21vFNi8N5ZgvyKKz0KUmEcYTvda3DRiMeHgzTCDd+eHKm94HEM6GTmZCqsZHeTKUzjUPdSS0HvziaXnWzkV6pu3iBLth+GD6bRKyUxothnPbwcqY4Ftv0gdiKT27N0OxcGvvO9EhdqOk89rzLPMnQGiL0tdApOk5eTxLpyOmbxVUoCGwJQkAejDSCJ5FN2KXIQ0ACXT6l6Kc5xWKEKAKnoiJg5pQMDE3Su0PCKI5M4mJu2Zr3QdAFKkUZzEsUx0qHPkIU5ABl0ISygveQTu0cCSSufKxKgki2le9SOeiMnsLURAbKUgXkgzzwDwJXSeGUq6JFVC0aJYAi/ckH2k4QChBBoMBcwCWOoi6uIpYM6EAcwEVmFIZ+gTxtJwNXyU+cthNBN5qAekIsGpIH/YGIIiQKGkdmApcELEQeF5DDjaAgyMDnkEkV3BckowAVgR76CKjFvSAzMqkCbRHLJeKPE7t6ij7cOCQToQoyM3ZPhAyIFcWRxmNDXZxyXC1LRIDDEX1OTX+ScUn7niRQMttTQ4Bp+Tpjcjpuln1NSQwFq7gSjqJGhV+oGeOPDPxCpQhsumZDnpSlXE8Ho9Dyqo1GLQnYoqGLPzzdHmNCDp8p7DcuzIbRvnCQ8BOo5FQmljP25MWyY0M4snwY9h2PhfdhMIoc27KbrTDwl/2gZp3RtJNHPbZ5dU0rzstp/q6ppXEP3pCoTQZk2asJwqawtWtJ8grID7ZAOgeMTPzo5VUs7eWl3T2zjdJ1C4MJOlZNmwxBkLO9W9pp1ofDQRisOGqC6+EFmo2KdZw3J5C1OGfOTemvtcI4UmFrsfpUh0wsE38yPvRXB2IdtzKYVmMokw/DKodjgZBqHN0oHeLTF6lJly9TuOIyHrOFZWqKizfUmcIcx0CAjRILLEteSw85uKs2zHB53rBUl1XURun5miUnzJZTXR1PzKNhbBtsIufG0SiMRrqKLZDPU+lU4vTQPTnXaZcuMDLcLqrlEUTxwWfoE9BKTIswa53FOjjczgZQZwx60HkD5zLliDJdFuQQZ45OpvCwJBpusx2LXZ6jeOCpStTvtr26woqWwYgPKJ9LnivcLmbs6BIGOoPqFlyWje4yJSs9w5iFU/p+lEEi8BgCgt/wjtDpii62fOhWTGg8S3T5pIu8PF2CFYkUum1BCBg0hLqJnEjgo3AqKxI9N4lUQUAUVwmkkBnewJHipMNOqFHUteYRBeAu1A4TQhRxnnnqpQqCSC8/SSu7jJBZNGel2rJe0qmXCDSFgjRc8BUqpRT5OcJsOEUUYoUocZU4BUlHGimIWlPDJ0hEgtBEaIUQIYoIpbhKBPnEySDykChSRKvRFjpOE1BeZEZJUZYjeRBIhKuoRwauiiMcCzlAze2jgTScbEIykccFbivZqJoIAoFF4IZKxBFY3ryVAVnyIBmtCMRJ5KpAhhROHydZnFI7YlEGaehMfngkKYgigs7oT1muoiFiCRTkiHAhYTWypvwnTpS074nxkVefJgKMoTHmmvosgOW1YxmAhfe3imsNIla2Y21xcxgIw2+4Yc7DAM99uASutLy2i7lp8eTAc82x5vrl7jzG+jxl/I6JWeydxggjXzs+CuoyroTLNQ68hrxmEBQG8fIsTayUuR74I0gZs+Wtc1SXH9imbkZMJF0r1Nyx5eEI/4L8duN6yebCrFkdGyldPmylRLZtY3qfWcHAWBjqIC09C5CTj+TKGAibb8B18CWosu8uZImxStanMVKaMlSqswZ2lve2VnNNw4LpYeiCPpafg4ThSwYlMXbqZAOiIlITxiKtp2aGGg2GFkMx/ECEtGmFYUOcsJOFbDOME0Jw0S1bTVmPzDLZ8ntUVVt8UOGFtaobxf7cFD8xvbHG+Mgv9yPRGamm22MLNUZeC+bSqayGhqiyJgNIkZFrGS6vseq19Am+nAye+ivThly35TAbL2HzkbXDeGNrVI7e8p1Vq5U6lrzR8pBB3FJtCCZGynLzvdKmquC8h+6EHURwYgi95HNX4DiGTYLpMLAOg2d5wmTKcMSufVqrjheuKO13+QHB58y02VKOXZAVHiR27G3oYziXyHIfDu+6npqbyUgd9lPzjD8E1tZfpp7fCAh+w6vNOyI6Wjpd+mb6YNG/8kwSRAaOogOmnyYCMxB56KQpRSISRJ7V3lp08yK/oALE4W1k45IozhEeAM5Ys6h3TcDJLzgiypABUVQBQVnRrjQlkkFIE3HYAxUROF2tF+FkI5CIzlwVJAm1CUIUQohThZBDZiAiJ5FVOaKiNfU8U6JQGzmrgIsqOIq2EOEqgXqRz3E1g1CYS6QAAvmRJvJwiUCcoyhCBP1pHRFukDDawfYoQjp5kIMOQh8EPi6QTgbBvbhNSBZUGIGiFLWLGkWKqJf8SF7NwykFHydZnMJcYXgIQRqBKkiH/xGnaoSgJDJ5NkhHEyHnVGmimWsK/1cTJe37VyGSGZ4OAkwXoRNnip5t4mEXYzhWHCyAsebyU4kds/owOWaIYcNjR9ZqRS+GHpsxLCws0Xe3GuXkle5gYHm10WiZxRz4yCtXH7H7LJPCICHlT1VWhpbmfRO/buw1gd9ffjx5rlaYvE7EkYONDQbDSxgxpLf226cMIibe8aNZD1YWhcEMOCUx1UZMldOYP2bhhAQjnBrF5UgKM/34rvD68VpSC++eyiBjKZ0XmH/NHL8iZCxnqxXsN4bXZbLxegeD8ge6UylHT2gdE6NJhPMwdoTdsNwTGHesjleq+lQCS1mAGP7Lpy2NU0ynkCL4aVUdD6MgYftdlcUQzM7z8DvNB7MfhpBOuox+f4hLnEZ9DLUxRxpgkPI91aDifGnLJcw6n55kxLgxp0yrZDWtUZo5kzxm5LooqqBAyyu1cpMA5if1+ymjVOXGHGsFJjUya9Cr1EbBcLQ0rDeqnltudoS1AliwpeSZjjGRZ4P13wbMPiu7AX7wwhRpHY8JxsYiCzGkgj34DqKVBTSFwigzpgHNLm0k7MbBU8IoNLfFhsBqFuPTZariMnszyNh4mSnkTrVVjRj8lUEi8BgCorvl3SSQxsu42nlzWj5ZK/twEOEjwJNJPw05YxyQbFAQvgNkIKegCyJ/+XFY6fVJJJvIQFlRRdnbr/irw7xHTkH+eCO4KmjcY6p927/IwSiIWEELhFi+J0RIEQoIgoJwJFMdicgvG/YYqSUnKUJVUYpT8qMheUghToQMpK/WJSKiReJIHtGob1PxCU9OrVpUhxBKrHyUyuqII3w1oL9QlYLAQmZSUIxspAsluUQQBJ2rlOUSgYjIRhxbLMW5a4L50UCuQsvOpD/6kBP53FyEI5acgAzU9C+kCKJWfnVXVqVQEVohE8lcFfUinyLETw/IQWEyECiCTOqiUvLzJIhE0ql09S6cLmS1jadfeuIUSfueGB959WkiYJREwcD1bpSwKyqjbcyGYHJb6qRN7E4MyOIEjoWj7MXFRc+p9c1uqie2x2wzxlT7qR7D4Zb9bgO7IB8gTGeMA7NoApsZXAs7XwB9cdgRDRsUm0owF7BkJCyYV0PbM5neleWR4WmM6qW5DxlS47V/PVMpdjolS7xq+X6G8bKiszSDBcSNImF9BpXi8iXNGJe0I80ojKxcssc3R4xC8A1nUJffjTkrRMtxw9JyZ+qugh2vCNMogNfxFUA/BixTJffZUJjlqK6RaOzPxnw1XMCwNpbFbEamBn46oytPzQxlaNi0kghrGXY6E4/KCpyIj/dSL3KrOPVjfTEr0EZ4gmE8nCUvbGbMigbTxQRY8id+RuKHXzMYs4B3sngCcCGzkFHGW+M8ifjs8VlmxJ509tADK7qMaskRuW8xRrm+X44H1Zo4AKuMhr4BAGuFSFlw61U/XGBdD562htGQVTgrC3oY2MI4usL/GYBlPmfpJTEOsJnqJg3QysF1/mCEKfZdI6kyZ5HveZCz1TFX42GwwHZySTHGQh86XqP0coOhkGeE5XtRzsgJS34yfqOXf4XCQzgI8q6mlNNoZJAICATohkWHTVfKC07gtSUQoTMWFIE+ngiJvPAQPkEI+DrRSXMUebhKRAjhSE7kc5Wj6KRLoSusC7pAB0/fT9VCLNnIz1XBXda8NegA4SA/mQlIQCwaEie/kIOQlYu54H/iEmJFQxAOySAn2Qg0kBTBGmmIkCxEAYjQgSqEgXCVM4lLQvKaep4pkYLoTKVEqJ1sHKmUqokTIVAdKolLpYqPLUYmRWAIAuCASqhNTtQgXbAlkZ8jcsQlGg795arARIglP4H4EwQyoCSlBLknzp3ipqM8lxBOFQhHAqfUSIQjcXQjQn4A53TNKoTmIg8CkSMURk/iBAChCjIQJ8PpQs4k+fScp6eUEJ+e+t1IkSt5vxsoyzokAhIBicB5jADd7bPgwOU8Bkg27cJEAOoJXxRMFE556krekqLKIBGQCEgEJAISAYmAREAicN4jIGnfeX+LZQMlAhIBiYBEQCIgEZAIlAhI2iefA4mAREAiIBGQCEgEJAIXBAKS9l0Qt1k2UiIgEZAISAQkAhIBiYCkffIZkAhIBCQCEgGJgERAInBBICBp3wVxm2UjJQISAYmAREAiIBGQCEjaJ58BiYBEQCIgEZAISAQkAhcEAs8B2sd2TKWfW44oc4a9FC6IeyEbKRGQCEgEJALPMgI4LVsNz7JoKU4icI4gIF4BoexzgPadI6hJNSUCEgGJgETgnECAbQjETgQishTO/P0AAEAASURBVHo8J5SXSkoEniECj3vgH3cqad8zhFcWlwhIBCQCEgGJgERAIvBcQeBx5m1OT9XsObcn7+P0O1VXGZcISAQkAhIBicApCNCfqWzm+ljKyulju7uSKDqU1V7wWxkfKyD/lQicfwhg3hONWiVU4hUQic852req7vl3J2SLJAISAYmAROBZRYDuTfytSC17u7LDWx3VEh3Kt06f1bqlMInAcxwB8eTD+cSLILSVtO85ftekehIBiYBEQCJwJgT+ddqX53nZ6YlwJjEyXSJwfiHw2BNf/kvLTn38n3O0T9PkdMPz6+mTrZEISAQkAt8pBFb6i9Ux3oLTMuWUUV217FMeO9e01azfKYWkXInAWUcAkiceeR5+QfuIkCIUk7TvrN8gqYBEQCIgEZAIPD0E1qZ9dHKaoum6XkbKqFZ8MyJp39PDWZY6xxAoH3t+A63QPgjfyuO/8rIoylmlfaqZqKkfWa6rmrkXDOZyPfbz0Zro6qWdUgaJgERAIiARkAh8E4FVA8bjEKlkB4eTk9VqMjd12MhcU41zLcpVX1Pdx+WUpxKB8w8BYeFzHMf3fdM04zgWzI8jl84a7Svyld9iipanoyJcOnn4G4Vp6q6iZWvzu1z+SDv/nk3ZIomAREAi8B1AwPUiU0mVMHS0XE0dXXNULc3VMI7W7l++AypIkRKBs4lAlmWWZYVhaNs2pr5erwf/E3TwrNE+8MizTNfVnZvHf+LtryrUeo4Z3kzzMF4TqvSb5sk1L8pEiYBEQCIgEbjgEBDd2OnNritqxYtdxzeKTM0sVXMUPc+VyDa90zPLFInAeYYAPA/axyQHaB/kj0gQBOPj48I6/m3Ler+rLS+UJI1Mk59gmh+orqvxKyzOC9dY26yXfVeVk5VJBCQCEgGJwLmKgJopho5Dv6Tc+bMwy3UeKp5dGDSS9oNz9Z5KvZ8SAixgXyV/FGS01/O8s2/tU1UdbXQlq1cMpcgUNbe0NM3Wpn1ybt9TuuUys0RAIiAROO8RONPcPqWwlSynTwEB2J5SaPyfFZllSNp33j8UsoEKpj6BAnY+EcHmt4rLWbP2rfhSUlheUhSpWqRZluiaruh6oa79Wq68v6tqy4hEQCIgEZAIXPAIPOaT4jQgHjMfPJaBIV5MHdg/TsspEyQC5yECq/MfiHxzbPexd+Gs0b4V27uWZyzs4G1MV8geyzuEBfA8vAeySRIBiYBEQCLw3UFAVVMsfMrKgFLZ15R/2krKd6d+WYtE4LmCACY2VBEDvuJnz1lb0pFnsaY7YlVVkiqGpZcbKzIb47EfaY/DTM7texwg8lQiIBGQCEgE1kSAka1CYShp5WJp6yhEx7JqAlmzlEyUCJwfCJxq4TvVwn22l3ScH+jKVkgEJAISAYmAREAiIBE4RxCQEx3OkRsl1ZQISAQkAhIBiYBEQCLwzBCQtO+Z4SdLSwQkAhIBiYBEQCIgEThHEJC07xy5UVJNiYBEQCIgEZAISAQkAs8MAUn7nhl+srREQCIgEZAISAQkAhKBcwQBSfvOkRsl1ZQISAQkAhIBiYBEQCLwzBCQtO+Z4SdLSwQkAhIBiYBEQCIgEThHEJC07xy5UVJNiYBEQCIgEZAISAQkAs8MAUn7nhl+srREQCIgEZAISAQkAhKBcwQBSfvOkRsl1ZQISAQkAhIBiYBEQCLwzBCQtO+Z4SdLSwQkAhIBiYBEQCIgEThHEJC07xy5UVJNiYBEQCIgEZAISAQkAs8MAUn7nhl+srREQCIgEZAISAQkAhKBcwQBSfvOkRsl1ZQISAQkAhIBiYBEQCLwzBCQtO+Z4SdLSwQkAhIBiYBEQCIgEThHEJC07xy5UVJNiYBEQCIgEZAISAQkAs8MAeOZFX/6pQPFdxSnSFXNUKMsNXRDLxQlUxT96cuUJSUCEgGJgERAIkBXUuhKqipZnjqakaZ5qkaqrtiKK8GRCFzgCKhFAds6CyFVMoP3MlcUDI5qEsS+YzgqpE9LzoI2skqJgERAIiAROG8QyO00i1KtsHVLzbElqHQ0qZIaylmzdJw30MqGnOsInDXapxRKkfAurpj4LOhfqhZZkaSa3jjXMZX6SwQkAhIBicDZRCAfRUVmWK6uqGHfd5yaYqiFRo8jg0TgQkfgrNG+NCuHc1VVyQulHxeOS7RMYZhXBomAREAiIBGQCDxtBERXglEhiZUKY0hqQWcTJbltyensTxtUWfA8QeCsWbxTlWl9vIHavQ8d+5P3faIw20EQuqZZ5NZ5Aq1shkRAIiARkAicDQQKxS90o8hTzwx/6WffvmmygklBt85af3c2MJB1SgTWRuCsvQZpGhuWGaTJ9NLwU1+8z2vuDpLCsfQkW15bU5kqEZAISAQkAhKBJ4NAZrlefThYstLZn/yJpJ1Gtq6q2PwU88mUlnkkAucxAmeN9lUth59frmFXq22vum584x7DqytKWq61kkEiIBGQCEgEJAJPF4EwXqxV23NTR9NeYZkV1zC0ItWkn4ini6csdz4hcNZon5JrcTA0K6amqmmaDUbheGNcM40sYXGvDBIBiYBEQCIgEXiaCLh2VTPNKGYtr5pGsYE1IceniyYX8j5NQGWx8wiBs0f7WFDvqhnrefNlLbdsK8bPUhz7WiHn9p1Hz5dsikRAIiAR+K4joCZuosaaG6d9x3H6RVpTdStTGU06e13edx0EWaFEYE0E5LKmNWGRiRIBiYBEQCIgEZAISATONwQk7Tvf7qhsj0RAIiARkAhIBCQCEoE1EZC0b01YZKJEQCIgEZAISAQkAhKB8w0BSfvOtzsq2yMRkAhIBCQCEgGJgERgTQQk7VsTFpkoEZAISAQkAhIBiYBE4HxDQNK+8+2OyvZIBCQCEgGJgERAIiARWBMBSfvWhEUmSgQkAhIBiYBEQCIgETjfEJC073y7o7I9EgGJgETgAkcgN1I18/Q815UoK5wMONRAK6TTvgv8uZDNLxGQtE8+BxIBiYBEQCIgEZAISAQuCAQk7bsgbrNspERAIiARkAhIBCQCEgFJ++QzIBGQCEgEJAISAYmAROCCQEDSvgviNstGSgQkAhIBiYBEQCIgEZC0Tz4DEgGJgERAIiARkAhIBC4IBCTtuyBus2ykREAiIBGQCEgEJAISAUn75DMgEZAISAQkAhIBiYBE4IJAQNK+C+I2y0Y+VQRMpdBVIy8stTCdwjDiQo01XampSaFmuaEXuebzp9hxqsWJGp9JvnpaIGdRFGaSW5mWJYVu2mGaFyp+xdKiiM4kx9UmonQUKMuqaeeppxaaomeRVpwpv0yXCEgEJAISAYnA6QhI95WnYyJTJALKKAt1W9EdOwqDpIidqpnmYZr57UonSZIgDE2zlitKPIgd23Mczw+6Tx41qGDu5KoC74PxRa5tqIUSx4ph2GcSkuTzFc8r1LxIEk1L+LmWZ7qt8f6mZyoi0yUCEgGJgERAIvA4BKS173GAyFOJQIlAs7opGxlFoKqJmac2Zr8iMSzDWhzMYt5TdU3TdMyBlmoaSjFcXjwTahj2HheE+W+YJ4M0SPM0jnxNzco8qq4b7pnkDKPZPIFmOnEUaGoI29Ny3WQPAhkkAhIBiYBEQCLwpBGQ1r4nDZXMeCEhkIwGajBsuC3VdcMkVzI1CRM7U9OaVeiKpqlxGmCiszzGWSPVhofVngAeSJ24CucTkUptLPIDx1AZMi6yPE1TSF+cxWficfWxsdyv6oqrWIpqR3GUqrlRRJF2RvvgE6gjL0kEJAISAYnABYqAtPZdoDdeNvuJEYickdlKFKs/SBYG6SDUC921LcfU1NZgoBa5pRSmrpmqYQwZnbWsJ5Z26lVh/Iu7fkrJYa6pdpyUs/0cF7thcGrOU+NB5PT6fhSMojhPVDMyFNVhw1HGmWWQCEgEJAISAYnAk0VAWvueLFIy3wWFQOyMJ/H8/Mk5Ta8Y1VZvqOhRkhoZyy8MXVXyNPQHqq569bqqNINA8/QzrsYAt1UjnzD7cWxqA7fTOTHTzSwrVXRDV5Cq5rGirc0gR914XSvxzOz4VFw47VwLFCOzDDuXc/suqOdSNlYiIBGQCDwzBCTte2b4ydLnKQK96bkrtk/aHc+yXa3S7vb6Tpq7aU+tdBxX6/cWTMtbHibTc4vV+qYoc5R8fk0kYHhiMp+4ymme5xzf+IqtE1v2/vmHb+mnmaG70MhgFBoZC4TXFKNsaFXe+qZNRdT7wN8eTIp6oQ5if1BJKrkpl3SsjZhMlQhIBCQCEoHTEZC073RMZIpEQNlkH/t3P/qS9TXl/gcOnhwsjU20r71kb10d/K+v99UijuLmS268/OBJ5b/+jw8ORtOq0VHOQNdWoYT8wfY4FczveXusLbuUv/rIcm8QWNUNuWIkid+p1Pqs21grqP7CC5+/LxqEH0x6eWKYhpHE+HGp9hSmFcogEZAISAQkAhKBJ4WApH1PCiaZ6UJDQM3GeoHym399x4lDw1ESja+f/stf3pDmyh+8r3syfLDt7PrynXe+4fUvSNSNsZfZZmbOF+HWZXVxeysIkxpkbrJWyUfGIS+YyFUjM5czBdcrnXrTHA6mjKzz6x872nKUhcV6vd0a9RbGNDOqe0fz5U42r5v7utl0vWprC+NOmvrWfNLSDw+TP/y9pZPLj/Qbtap+rzMayy17qC8qsdqqKN2FqWqnshyahto0Y7+lNpe82WDQVvTYq6V+pClq5HqJP4It1lmUrJj5cHkwVmnncRIlI6/pLPWTdbajpbUF9aitb7TTgVY0fLsf2yPTv8gsBroZ9qPCqarpMKso47P1pbHlY5E2qdnF3j3bD+0/mS5PD9atrwwutCdFtlciIBGQCJxLCPxrNopzqS1SV4nAs4ZArT1+931HpmdmTcduNtsVgqOw3rbiKeMTnUajcde9j952x8ON+oSeWNowyiqV2a6bGYNBlnaVJFl/uKcuFspY39KXlUKtOKlRaJa5vByOBopnN/uz1pFH5i1nYhjkiu5ZVnM4F1eKSbN6aRBXLG3jctdNbD0e97O2OggbVm3bfYePLSZRT68tK+t8ffNIqYZq4qvN6YFqNDcNszHd2dHP3Hk1mLYO93zFqvsTtmX1a2nqhX6nWNrgpoalp1k8MlWl1agnSell2qlUB8PA62wYZUE3nLYnrQXNn1eCxGDguT822Jhnx3ra1HwU1L0xf9p29VbqHm76Fce5PIor121033HTtpnZqNrYp89J99HP2hMoBUkEJAISge8EApL2fSdQlTLPeQSGqfqNew9Gue56Xp5pcRwbJqsudEML/X4Pf31effKB/bP9QeTmhjlaMpWgEe9woqUt40UaOHlSbyhb1Lnczrsbq258cj5ZWHJV1bH1nXvby+E9yXK3bae6o4VZUOhpGPfGTd8Nh8PlLBo8Wk2n1htBHi/24lGUxLW8pkbHgu7RhstCk2phZHalb2bLjj+yzLlO3Rl2R1aSZf0HHOPI2Pj62Fy3RZ8IlMbh/oIfHdi5rr/TOeoOpjNrTxEvaslw1O+mcQyLZbGJaTimURmlgzwZjTnV8Nhovb3exi1gFjbGqkvGUqS7DWd7LVTtuePbO+FScmDGHM8GfhElntr7uR+5Lps/qoYn86g/Vmme8zdeNkAiIBGQCJzXCMhB3vP69srGPV0Eun6khHGt2SnYnSNInEqCxz3GSpUs6rTGFhbnvcIiz9zi9M7JzmteetUlz7f/n9+87Wffse/KfbXf+9vpbzyYpYtf/63/+5X17elgym3X9n3i03d/4pYZtbbxuD9TrU+86VUbrnvezl967822aYzVvDHN//m33vTFex/9uw/f8x9/+fuv31edOTr43T/+3FF/0vYSazQ71lDe/e4Xm+u0f/v7t+pDV0/06/dWf+7t1/zenx88euIrv/1rb9jSGTv4YPBn7/vMyaOJ1SniJJhZTF52bfMnXvfy+w+NLtliLRx/8G9uObxhcl2iOfuPz6VpVq3VirQYDH3VsrSlk5fvqfzI669LjYV4WY9Gmz/5lcEXDoXrXC1asCb0qR//6S3XXbZ3lOdfefCh/++9VrT+7o2e/Su/+tqWMr/DtX79398wGMV/9I93Ocr6pwu5LCcRkAhIBCQC33EEpLXvOw6xrOBcREC3nUKpKIqGqzzHqdaq1SwP8lzDUV6vG5pW0WqPDYJg4/bWy1565Ztet3mi0nvNK/Y5xriqFJfu2uNk+h/8wZvy+MC7/91Hfv+9n1lcUn74bVdcclk112bHJvSX3nDxD37v9g2NUaOqq4EyUZt4y5tfuW9revG28Iff/pqT83Mf+8idey+yfvrHr9E0YzTKtmyuvO2Nl193ZadtVpyiWq+Prrm28o4337i54V55cestP/jau772yH23n7x2n/vDr9/hKblpVI95o1dcY//nt1x1y/s/9RcfOf7Lf/Hlvdds/ot/v+1VL3/Brh0XtRvtIlejOA7igCUmRa6/ZKvy5te89M/e/9Cv/fY3Pvi3Ry7dvLsF34zT5bl87+XVH/qZV/7Zlx+86Vc+/Z/e/8DVz9v6F7+4yzE3LC5t+G///d4oHD/xcPsTn5i58xs9Q912Lt5rqbNEQCIgEbhwEJC078K517KlTwEBXdeVwooi/CfHrulRMop903JVTYMFVmy91+0XmtkdLn7wIx8+eOhozds1F1Xf/Ruf+833nnj/P9w9vt2pjCuPzI9N1a44kDT+8uaPFbay+ZI6HC7trf/4X9934tCRpqnGgW1n4/ffefwT/3S7kkSd9vqPf/r2P/nYA//vBxZuf2Dp4os7zlgUuPn+heX/+Sdf8I0stk/2In/Rb998y/F/uuXrhdHr7DR//y9u/esPG3/wJ9NLkX/pdanTSWaHYTIq/s1bd1tGcc8jpWu/pWXnr993pKq3bv3i1z74wQ8fn5ozHA9v05bDKLY9Pz//2huus63kU3d/6og1+ka48NGv3xcbupNXquvqb/ixsds/f8/dt1qJuunmz0996vN3rd+3dO0+757phSNRUbEVNRzcebx/y8P73XzhKUAss0oEJAISAYnAdx0BOcj7XYdcVnguIJDEvlqYWh5aRp4FWcrmGHnMMK/mWcPpJUuNbKOdaV6mZYWiuZWxNFJu+foX65dtvu3Q/MSGDfP9e/70w1MPP+ymy8XW1taXXbUXz35FPNDMfJQtVTtRlLTYYI0xU9NxbaOTGBr7dHzjwelBX6vs2NwPmocOhfsuzTue1o2K4ci2GvW40MOoVfV2mHU26wgzzcmVxif/6Wt2e4NW9Yol68H9o4sv3qIpx/TKoS3+9noaz3nNhXprwuxmg7nF0aVK5lx9zTV3Pjxr1dcPY9o01Iq4VrHrFe+rR6beeX3nt/6Pn/zHr03f93D8oX85vHPTHsa1L6s7lzUXskn3xh9/yaz6iGJeNlbNDhxs79xkVWpMTCxyJQhxRWg3Jyea6mKkGHJVx7nwfEsdJQISgQsVAUn7LtQ7L9v9hAiwWa7J+g2VZRxFlKa2bWMVC+aSheWFycn18XA6DVOv01pMBrZeU9RKMQhMrT4yu+PrOkE3r1vb/+Xv+u0dkz//mpO7nfr22qjBSti0paaa6laW4yOx6lkVXbGzYDinF2k/tVXPHmSeF7Nb24m46DrKlmpmT+TVhxdn1rl7C7MSjZY8ZdQ0tMXFoRqYtmKpWbK+vvEb4Z3ViYE/nbSr1673msriXKVVG0SjamCkbSXQIidf5xsLfuWYkl00NdNf7o1anuaHcafTDAfzI39gO97nDvVfceTQW1809obrLv7dvzv21QP7j8ycDBNnvOUW6uTNDz0yu3SiuaW5zKLf9KAewlcP1ZVOw45HatrTMk9dynqJZlyiKFNPiKu8KBGQCEgEJAJnEwE5yHs20Zd1P2cRcAvfV3Q4Wk8NMjt1c70b9huNqOp4fhd3eJNjTZbcjvLRmO0Mk3xQuO4gGI5H69IoXVxnzfhT7359+3d+aftDWfs/fPDr7/3sPYldUaNWEA1rDcUN1qvmXBD0dKWjpevUrKZjI0vDiqWMDC3Pt2XqMCq0SB/Omkdz67JYXVzKltdbZhqaR4cnao2O7ywt6amW6aMkG7IYNzQS1UhcbRSPRtWYaGgov/EPd05q4X987bb7pxZNf/JdN77orrz791/4Un3TzigPPXNoRCMz9LTUqdb1dDr7t//j0f/0gYWgUH71bdH7f/7NV0zsiotok1a1lUpUHDi6EHzt/sGBqYXeyQ29ufneoXF9rOovsZWcUa9qSWT5jUhTu8/ZGyoVkwhIBCQCEgEQkLRPPgYSgTUQyAo2PUuLRLH1ajJSo55lK1uCbtUwNM2NM6e3ED+a2zNecxTnSyyKiBOlOTbeHR13skg5evKqrfmbfuyK93/qwMc/fnujdYnX2bRcLNuTQ6utHJ0/kVQCM22ZOWzPN5xl1wtsNVcSR/M9Vwm1gb/RmmzlG7RhtR42K0mmJwMrN+NIbVZabbdqF9ViaLiFy/vrpcWk07SHVlOpObGm9JOOUVGX1bbRuetrw//9ufkt2zf+wg+P/YcfGksOdv/qt2bdYn0wXDTNzDGImPW2nmnd7nLsjdcKs/PFe2d/7g8+/78f0pJ27/U/WlXNYwe8R+eVoze+8NpsGJi1vrdei/W81dKu/V6jNzpoG66tuEWEtXM8XHJ0FrzIIBGQCEgEJALPYQQk7XsO3xyp2tlDoNBcRVOLLPcsqE1YrSgerkziMBqFaaJoVjtT1yn6uiwxYr8coJ2oKLMHF5utHbrVbBTtV177Il1RDjx8dHfrinA+VUK4WGPx5EktLFrWVqXfShQf41yo9OfCmYVkIdZGucOOG92uEiZmOlSWu9lyXlWUqrYQz2ZNR3PSuchfzge9eH4UDQzLNmvqKF8cGAsL4YJaqfp6uFT4RctYVhfQdSo4et2rXhhUN7793X/9wU9nf3xz/1c+dNsne7Nxf1h3PF3RaUWWK/1g5FYdRSu+//WdzWOBPyy++tCG3/6j7vSUtrmlb+/s+tJ9apFv/d4XbX3NC5vx1NJwmkHpg8/ftcEdL4Z+6BpNviC95YNp/+SEM5ZEo7N3x2TNEgGJgERAIvCvIyDn9v3rGMkcFyACfmRUXUZPtcCfi5NYc2qJsm5ia31dOz7RHQ6HdauYVCIrLcLJhqFrwyJeft6W9iPzfcVO9Fbj0ZkIc+HPvHHT+z98fPtV0eV70oqiXr55x/K1+0/MHZ8N21riu9pEW22PFNVT1Eam4xumZoeatsHW3MXRAa1+MXtoZFlScZq9QdrRB2OtCT1SxkxHC5RWUXN8nMx0CuNwrd4cDfI4y936ulzXg9S37ZZR2f/W6yZ3VMLiHVfOONW5xaWKtjPJvLnp6QNHQtYnW+7Qa9t+v2IZTpxOVUabf/SGK/5i5lbLbqb9RbWPq2i/Nz8XJo0vf2rw9lcXP/MO7QXPe+H+ucPbdu6asLf/6t9+ft3Y804cOeknW/dcPn7VVVOb9u274/MPdDF2yiARkAhIBCQCz1UE9Pe85z1nS7dciRXVPj67+Il/fsBttm2vQwpz6M+WPrJeicAqAl6tXa7gTfJGXXvhtVe+9MXXToxbLLNtTW4sHGOhu2TkMVvxrt9g3Xjdpisv7qRuY8vei+am5nvDfmD1Fxamr9y763l7rRtfcfHho95Xbn3wuuu3rt/auvW24uCh+R98w45XXdcZLC13NmyZnz860Ujf9urnN7Te+m3NOPEWpm9755tf+D2XN2tuOtHpTB0/1K5G73jz1RN236vouanMHH3oqj2tN3z/xa53cvPmrTPzx2pJ71Uvv+TyHUXbitdt2XbogW8cnhnbZHe/55qxvZdOXrFz/OWXb3jxxZMvuaS95+qt03Ojqdk5u2Imaeba7CEcxWlw3cWbX3J1ffuOoq8c+v5XX9woxt/7x/f2mxdvavmf++wjwzR6/pV7L93auGTXhFlzf+u/3b6UdPI0ariWlg6vumrnpddtu/lTd8xM9wqT2X4ySATONgJqoanmaDid+6M3ve7qTtXTNKZtmCxOl0EicIEjoDIt6exAUDBzaqCota/c88i7fuFDrW07653dqcIG8LLbODs3RNZ6KgIDtpt1lJoxGWdznue5RiX1D+hRxbDMnqksjPotw4EUZnox0XSdweL+YGyiuVBN6kuL9aiZx8WgnhfbJs2j8/Z83MvjdN/6PfPzi32vZ1S1htKIl/ouBr56fTGLDUaLVTsZLi0r6WRj24nZY1XHruLRJQ4LwwsNy2cDN1NtKyF7qQXuuD/K24aTpvP9+FjH2LikeNXIdluumU5lS4uD5rY0cI+Pgtfd2Fbq2mduPbS3vrFaRLE7tDrDG3Zf0dm67td/728t7+LYz3TDx0NhnNSaRrORPbBu/VjabPb96fkDg5HWnm7Obw7GM91L42RTzd3kmlkyum96YWBvSIvZWkU1h1U18McmwtTQpmeDar3DVr6nwijjEoGzg4CaG6o3d/LOdH727/78/9y9rmMYeCZnf8Szo46sVSLw3EFAfqOfO/dCavIcQqDeqKhZ3/fDNC8G0bKpGWrRMdO6spwVE4ZuW1GYFEk+ioskq6pDT+lsXPbt3ihyzBrb4yaFMpcYy0erhXbS6FTSzDjc7as6e2KMkn4aFXFkboXV6QN/ZGdmboSj1M8qatvrz89WGmMLWXQyUS2tYbHUQ00S2451bWnZVXC9nCVJGjDBUFero+pVeRCejP0NVmVq2M1GxoS582QYWkX+puv6r73m6h/71Q8oG18wNZz3ezNJY++Rr5tHbv3QD/3/7J0HmCVHdbY7hxvnTt6cdxUW5QgyIIlgQIhoggEbg8Em2YAjNo+Ns/0422AcCQYbsBFCIltGCCGBEsphFTbP7uRwc+f+3542919WK4Hi7s6cYmlVV1edOvVVzdQ3p+pUve0tvqcYtu4WS63mQqVUjHy/ro434tL+fXrjnrZjr+jv29TtTPRFQ4qRjE3dsW79xl0zrd0TZtTVB1atCv0H+9yB1sJcxe2LzcGdCwdcs2a76xrhg6YyeAz1oqgiCAgCgoAg8MMICO37YTzkTRBYRMDvhIYeWLpaHqjMdMY6wXy1z+bEFtdWm0ojSFItNvrKNT9tLwTNoeEBxb8qjk70ypWOc9BsRbbuxGbX5GC+QG/6uprYSRD0ua6Wrg8jy001Q59ytYKNfTvRTEUvR5x9wl1o40V9qNtc0Nyu2+f69bYVKbbGPkC9YnTVYLhS7KuHY6Ha6g89Na22m7HqhH0lNe1Mu3YaqrYWGbWaMblv36bTTz5pi/r6F2777K0TjTTqBGYyPfvq0ze9+KK3X3Xt3rKzteNj0GxZen8SsCFwRkkLnmYpbn2w31KDZHL+lnXDw/7ESMdtbx94/uz+hwolJa0NhZWg0x0f1VY2mvZgZXS+Oe+b9eKI6c+6Rtyvl1WFbYMSBAFBQBAQBI5VBGSR91jtGdFLEHgCCDxri/K8i899xhZ9cnLhgQd2KIlbqqzRzMqnrpkYHx9vNBqO47C82+1mNI1V7DCIn0BtUlQQOMYQkEXeY6xDRJ1jBwGx9h07fSGaCAJPGgLX3dG8e9c1K4eLa1f1D/Rv9n3lwdvGdu484Bdrvu+rqsqFajwNI/sNEMfC+Z405EWQICAICALHMgJC+47l3hHdBIHHiUBQWLmv2dwz27xpR8PQ9oRxqumWafepnY61GKB9BE3LTu4Mw1BnqVmCICAICAKCwFJHQGjfUu9had+yRCA2O5WhgqVXIp9jB31+zjVT0w1V6TjW4hkrcRTEcWIY2XlJcmrSshwj0mhBQBBYjggI7VuOvS5tXvIImHEj7pqtAMffxLbtYsGJ0qDdqDtGP4u8+bFNmPqI8GSpF8vfksdEGigICAKCgCAgtE/GgCCwBBFwE86nNYyCpSoalC7o+uzf4zJfmprv5GOlF8JHnMAmvyUIgTRJEBAEBAFB4GEICO17GCSSIAgc/wjoWgGrXrvbgtsRIHa6WbBMJ4hbOcnjiamvF8hz/DdaWiAICAKCgCDwIxAQ2vcjAJLPgsDxiECXg5UdjTP/opQtfKGqGFzHE/iBDt1Ts7XdEC+PxRVeXefGKhx7ubpKgiAgCAgCgsASR0Bo3xLvYGne8kQA410aJ2msaorxAzteomdruZC9DJJF6x7vvML/lidI0mpBQBAQBJYdAj+YEZZdw6XBgoAgIAgIAoKAICAILC8EhPYtr/6W1goCgoAgIAgIAoLAskVAaN+y7XppuCAgCAgCgoAgIAgsLwSE9i2v/pbWCgKCgCAgCAgCgsCyRUBo37Ltemm4ICAICAKCgCAgCCwvBIT2La/+ltYKAoKAICAICAKCwLJFQGjfsu16abggIAgIAoKAICAILC8EhPYtr/6W1goCgoAgIAgIAoLAskVAaN+y7XppuCAgCAgCgoAgIAgsLwSE9i2v/pbWCgKCgCAgCAgCgsCyRUBo37Ltemm4ICAICAKCgCAgCCwvBIT2La/+ltYKAoKAICAICAKCwLJFQGjfsu16abggIAgIAoKAICAILC8EhPYtr/6W1goCgoAgIAgIAoLAskVAaN+y7XppuCAgCAgCgoAgIAgsLwSE9i2v/n7aWuvFoaqqpmGocZJEqVuoznXi1OlXw7jkDia+Fid+WPDSYlePDKuzJUwnG7ZmmWpFrzSdsKMYrrfZMyftshU2dStpaUYcammiq6o+GGhd1Y3i7pCpu2nqJqmlG+OOFaRpsU91p8zK/qoepG5/aPVZaqS6XS1BmbzteSRJkjRNieuRFRpGORmq6oUD9njbLpb9tUm3HhsphYzAVtNyYtixHkVUY46k6pyqDMZKUbM8mqagk0JTtTiOA7ObGIYRV9NOqNthkyRntWbb8+6CY44WjWTOGQ/1fqNRUtKBOG2pYUFP+8KkkGiObRaDluK4xmPuoETTMsXUNImiKNX0QqDofpr2+ZWq6exUJ1qrEj2YcwPNcGt60E3U0G6uioyBRnGhZBi6MjBrBok9WzHLe41GXPD7uqqh1DqaYqiRrpU6hREtOBC6pSQpVFU/taMgaSl6xU5TRU8VpaDGiuJ2GyV1PlVLJi9ZAFtCHucJzkEaF611QdfQHEW3apo6EOpeUJyObL2sFEqp3018X+2z9MgseFPKSt8oKE6qpYUo6mhWpJpFw4kCL0l10486adomJ/Vrqq0a5Xas1ZIFRetGSsVW+i09CS0jsqv0bhpVXcWhu7uOFxpqTVtViModgNK03pDINexpKxFBQBAQBJYwAkL7lnDnHs2mlV0H2uMHQarqlmUtzE2uGiglncm67j04sbs01B/HttLp8+turM3F5W/166fYseM3yzPjO53u2Cizsn+gqA1Oz+zrH6qYBSuJwjROijCjMDK7bSOZUpJ5JW3HkVdwS56vtzsaXKUT+dbCt7a350b87qQ3vV/z2srcoFftYZHTEab8fNYP1WZozHejhfGH9m2zbHPufj/aZ66w4IQJ/zOjMG4kQafs2q7Rnp+4qVp2A78NZ43iADIBzYNAZBzCMrRAjbu+ZoRuf7XZDkb6Ct7MDmWqMeivDqYX5naZpXCrri04/XNR+fuaoRaKFOq25+6zlenIny8UjYVGvafnjxmxLMePwiAIXNeG2XY6LdfUyyVnrK8zOz7+DG+Fdb/RDddMl/r3hdN2JYispjXwYJLsc/1V83viaH5yJC1pB1Y2pxoryivTQFPssJvuc+CJimakentiR80Kk7DF/4MwjjOqrCpR6BfmtU5NVwN72GwdXFHbba9PW3NdSGhGp/JnrwlgHvbV251r+91m4KfTM/cVu2PFGcNqrfVa9dB0ZrqK4zhFS/N9v9uYXW23ovndVtIIvJauQw/jdqtL3eVCMfI8x6IzSlGi+mEM54b/9bnqA53hjl5M0/1B50DXdyY7+2N9p+3FKlQ7bcKq7bSStjt+a2e7/VCx4vV0k4ggIAgIAssKgcduXVhW8EhjHy8Ckde1TDeIE4xkShIO1gqzE/evHOl/z1tW9BdWmWbtuzfFV165s6s+I66u7Gh39M3sNap9O2cn3v/WUy46dfXcA915tfXBT+1fMzA0X4dNdYYH+800nhzfVVHdS16wYXTD0Kc//QC2K123u90g1SsFq89vBU7U/f13vWTEWO8F2tfu3f/568dW1mwtmVEUBzqS2aAWrVAZeVkMtSH3wT2FWnnu937v4mLRNYzmZV+/5QvfGd64JopUP1Y819KggGN7dm5d6/76B17+pRt2zU23DVNVVCVWUgqEMSa0RDHTstLndZu+3vB9Exo4s/eeM7aufuMb1jfClXrUvurLe258aK7QbzYbrqcUhkvurgd21Bzt0gs3POuC8/7109+ebYWuU4baPibI0UE1dDhqGEe0r+TamhLOTkwEhvOBN5z1ovMqY/XpA+0VH7nstjvvb9v92xR35sDUng2btu3fte/8syqvfeOzxub2r+sb/fu//949BxdWj2ytN8eNKtQtbdYXHKPz6uduO22t9dmb6wcPBmGgqYZlJYkWxr63ohtNVAvpPbfdd/HJZ77hJ7dEpb4Hu0NX/Pe94JqDnD/z5iTNE8N4Pk7ckjrx6p/adt7pJ4dN5e4d9/3n15v1btPqG9SSZho3LLcQtObTibvf/cbntaPoS1/fFdkFJKSRkcbdOIwKlh2nYdcLVd20ixZ/WLTnphXFe+tLNlx4/tlVdWbuYPyJr01688NGWjCiVYF+U0Efifxw5uDe07f1vemlz/3eHbu/evuOslF8TDhLZkFAEBAElgYC+oc+9KGj1ZJECRTV3j85+6Vv3OP29duFAVJURT9a+ki9TyIClqZ4QaSoerlahQxFndlt64fe9saL15VGCl1zsE8/5eTKadtq111/37ziKO78grvGmNn/J2/e+IxN0V99csdNB4MTT05fd+aJV12/T1FX9Q/V6nPTlhGefubWi84/4c0vXVvpK33laztiU3GMUhxbqR13mo2hQvyBt20K07V//U+37J448MpXDFaV1t3fb8TFigZJOyRgQ8rZSX2mu3Iofs87t9dnZj/zLwfHJ72XvvrEijv7wL2Nbhy5ZTto1ctu9cILL3zdJdvP3mTeMxY8sGOyUCqkSjcJDcxIXthWVcOLO+W4aqSBWtHakVbRlXO2Vt/wsmfeePP85Z+73XKji55/wsGxPQf3dW17tVms1menzj33nJc+77xLn7t61bDy1f+931esLgusj3H4p6mmqIlp6V3P0zXTtXTfa5Yc/Td+4eRnnr5q58G95f7K1tHSs08abc7v2zHRNMraSHH7wQcnzzzVeN3rn3n1Vbu+c9W+IFz4uTdfcN89O/buinRrhV22O832lrXrn3fxM15w1sj526v/c8vB8alOGvuh5RhxoKCratsDTugvvO7Z5778hafeuPueb1wzvuvGgme0MmZ9yApvjjrr9mFpOAzH337Jmq1rhv/uv2745g33vvyMbVs3rr7pzgd0t2KlYaddh62efdppP3vpeS84t2CYhW9cfXeoW4phGaptqJ000iw9W1XGqKiarDfHXqe5ZrTyvGefdc7m4fmD7T6zcMLmwqZNpXsfmh2fiFV9Ti+V58b9lSuqFz3nlDe9cvtpm/Trv7f3wYOubR0yGhaXoX/oXV6OdwTUlCHSbh1MOu1Xv+zsgVJB0yJFMX+w1+N4b57oLwg8fgRkkffxYyclHwUBTcv4C8ugnU6HhdAwDC+55Dn33jf2vN++9qc++K0X/tIXbp5RNm3pu/Sl24LuXFUZ2N/yzj117fPP2XzNV2ZuuUu5/YDx1x+58/TNtde+7LRme183apeKLGKat9/10He+fVPabXVnPfZ1JRlV6uqqlihxEEz8zKtPW71p+Dd/57NTlnvHgeDOm+98z2u2bl8x1InDHhEhktv5cvXSlgND2jw8+Lcfvn7GTa+6c/zW77bf94rhFVXbMs0wMjTFVGLtmmu++7WvfduJWykrvu1WjN0pxYypREm2a5ClXtXQ4mzzmBIbiqYZSmfyXW9+NgvQn7xsshVs/vwVk9P+vvf98gX9ltZo7teTjqUX7rjnvss+/7/t2QNVg1VTvdkNis7/X4x+FGwP/aRqKXv6FtlittbcbrdDv/3c5zyrGwcvf+cX3/kX3sW/eMN/fnt8dLj+7l84Jak0In+isTA/XPZ+9X0XTnYOfO6KHc3O6Z/8wtj09J4P/tKlA5XAKLlzcwtqqLVayqf/4/LO3Dhb6BrzU2kU2w5zp04tpqFH2sHZB2Zf/+zTf+GNmz995XX/+uXdeztpo9VhZZ9Oz3jfIcwPiEqFdndhz9lnBS95wcb//q+7791dmvLcT1/x0KueO3LhWSsbU7stTS/VKolu37Zj/yc+93WdZfsYuylE2KTqxA8YTJqux+CehQwDYHccq1QqVavV3/jnB9/y0W9f+vvXfvJ/Z9esKrz43G2FwC4NqKEfu+5Au9u5/ju3f++a60ylaapa4Msqx6GDSOKCgCCwjBAQ2reMOvvpbKrnh67rsjrXbbegQSvXrN+xu/Gvn7miPJQMDJXs4sZ//rdr0zA976y1gyOj8+PJFm3seS8u3xNrd0yfMFpprdD2F52zrh0bu+SiyvDAgh9NQqt0tdQNBycmzc68UzTwubAVp2xoetjtxJF/8pahF5xTvvJ7UW3lpkLfjvl6etNNlU7QedmLT1Kbe3IWAv/ogUAKhOmCc6pb+ga+f82sVds2pe9tV+o33LyzGK18xcUnJn6z001svdBstBe8sFgdUlQH/wldYe+akS2uGhYsB4H4U9g6y59mqCezjU7a8S88bXV/WbnqurvCwSl35bRS6r/uxgeGnOT0EzaMjo62F1oVF4+L0sxc2G20Qj/SzSqWCEN5bCu8VB15Pgjois4+N80w2eqHzQ9Lx2WXtcJojWPro5vWfOKrt96xo90fD24rrevO9lPqBRetKaqd/7nm1oHNpaZ5j7mi/4bvTa/tUzZtjBr+ruFB3TGThRa7MjdNzszC3zCO2rbt2gXaixsM9XhB9R2vrbz5xSv+5p9uu/qe1taTtxWLbX/wToRnjG8xECfkmM97G9brhbe+6Kz9fnzPZMXVYtPce3srOLB35m2vO2NNRYtCpdFpp/DpyJryYdE4AsUGWzl1U8ekyVjR0hh+zwbObM03TILA1FXXLU5MzV/x9avjZrBpe00plm68ZTZVTIt9fA1las60tZamR/WOPznltBb6NcWCKZpOd1E1eQgCgoAgsOwQENq37Lr8aWqwYUZQoiQe6KsylXcD9ctX37j25PP7PXUk9U0vmRmLmjNtTe/M+w+6VX9Ff/+Zm52oM7d74m61rCbFgfHG2NSe3aNm94TNq7wuhEAJwkQr9qeWy0qjqvp1rxWqqe06jmnFQXzaiZt0b/5Aqz49MT/grhqorZtrFhQr2Li5u7K8AR6SN7zH/DAZQfs2rW/UitpMiz15mh2dWCucPZe057w952wvrBi0sd0lsVbsK/hGOrXQViLDyHhDUYH7KRASEyGakmL8Y5OZYiSBqQSpWVSNN7zkLM+b3VsvmMaGxny7YK8ef3BbQSmcd97gwfGZSnmABU1orOkM66YDf4xUx1e8MJp/zL0ThTaL334AE00xh5m24xRuufW2PRNjq1emdvB9y5/sNEbG91QsTSu4UdEd6gbNE7aVS0pheve2oD3EXsAkXrV3j2MqyqUvOW16djzshiVXb7E8Rsv0ooLB0yqwooonbej5nu83Ot0ttcHXvHx0x+69X73CL+qje+85kM5v1/0TgTf35+jhnCPfUhoDlfnNQ9W77zzYDvQ+xxiprm00BnZPLgyUlMGi7kVKoVK24rYSePbASGzaC23fj1XPC3AmsfXUsvXYUEM4qGFg+gXsVn2+6wWhDokrbusrF2fCEUy5nZlI0b55623V1Va51oo6HnTcrKS8hKmLG0675QesU0sQBAQBQWBZIiC0b1l2+1Pf6FDBRIRngxoHPiYiL+SUkeqeieZBa3CvHk2XjRm7Uhgcuuf+g92W681XTq2uLCgrxur9s/FCMemv+qVEG59rnK6GzqaV2/WkYpq4rPqJGfpmPdDHk7Rb7i91wu7c3EypUE5CZcOadYapz+6fHB0YmZqeCfSDQUude6i8fkXRrHR7tI+m54yEFBTbun4Lu0l3TdYXOrPV0n0FZXZyrnIgGFi/QtXTDpkNXe0ETV8JrVIZAgTzyQioFwZ+hIODomBqY5E5tQzTC9qJobiFPo4oMcKZvoJ5cF6xtLBSrIfJPalnd9vz28+ctStRO2zjb5uoeGGYLD9jrAtRyogKrFo/xlBwHCXOVtKLxSJnzMzOzxuWuzBft4ZrBz1LLW/x9Upgd/T+xnTU/fZ0I7L2Fge9U07B+2QW+g2jqpQmMbzFaSnwFvoq7rpVp/gNJ4liJ3P7nfZSk67Esgl3t2F/BSp0gyh58wtWdJS1/3L5g+eda7/zTat+8kVbgnTKDWeylebF0KN9NAiok3Bq62kbIWRWx9K6+0Mtmp3W+jVz71w3iJVzzz692fI6XtdV/IKatDw/UrVQMYqlPtzA2c7H8TR0VjeMVMvq+hn6jqUXHdswzDDR5zvR7cqBeWfdWD044VlbP3r5tbc9hDN1Re20HXUojdNmcCAw5lSOytHom4qpZyZPCYKAICAILEMEhPYtw05/OppsaBFn7KWG0wwVs1hkztb8cMCqbmkYRWdTc37u1JGSasZfu+5Bw+hT7E40ekBXonS6U3SHF+wJX/WLyUmteJdiGqODoakHC5GbOKEbTBY7ZpysUDhBruu7HRfKN6kcHLDXbBzcl6aVrtdoFWOj3lc1CgeHxzjfpdhWSiv1RhBr8BXF051Wqs9GSTNKw1K1OFiIUiVqamXbciszq4N4X9dq6/MFPwxWVE8MI69ph/gLr8KXYM6IjIhTWOaS+VqxuMrsC5qR5aUlL0Zzo6UWyqNFf1U41igNNkfWjkyNcXoIJ8l1re46tT+ZLtxfimt2fWX/QDnyAziN5SeR09Cish4putYodVa22HPOWm+2WqtxbGDI1kFdhy8bWlVJzSP+83U9iI2SMxg2EyVS+iq1th9FZqUSan16PQlZ4axU4unTRtbcdM29PkzIKg20K/1pcdaD7s3YtVZ3bpjV84N63W8bJ/VVLX1HUoiSYMRNElMtGEFsqlGMD4dje5DfuNlp+qtWhFvOqxQ6M2edtOnc81aft8n5w1dt+cc3n1Lq69S9NkcecmpjYkSRMd9OpiMrjpwUYya+1rHSrfszmrGmG2Ez9RQfL223T1OqTjNhB348lJh9HTOxQ5Mj+oZqZmOylUSzhq1iZm01qm4RRtitDpTCpOmlUaCWW00N2+qoHg6FKzZYk+++pPbqU9d0d8Wp3rH6pxVvJNaNljHdH65TPLbzN4zYCjjfMZiHlUJGCUTyOD8VRJ6Onw2pQxAQBASBo4eAbG0+etgv6ZrVxGrPNdhub7lmozmL4a9QLLY4rKP2/YVowwq9/Y7XbPrXL83fckAxFD0umv39q5IOM7HPAbuW5+ilNLTn45BTNmI2qHWaraGiaWgFzD6KHuDciU9BsjhH20YRPwJWgQvOoKorScpB0Abuq3OdRFcsHfc9lcNV3BWp4s803EIxjYaTMGLf3kil4jXCQdZblWan0abK+WRWVd0Re1UnmTbMATaIscNMgxhoVhB5FvvdMO61hlx9ZKbRitMJY3hNGJtBx2iwzlqeqTfuMlOnsH4wKfteNyrbbuRrrlvoNDyvo9uZ37pSrhba7W6lVExDDpfG3MhCcwAnzp0UoB2si+OZG/gJJxHjJ6LgrqHAEjs4NhxxvKhK6oXZgdNuwQzDKOSoEs6NtrSJjof3cuB0Fxr3vOXZ584OeH/ypfqqfsXr2ivWVMnJ7jg18ZPE1XQrVZtaYlT73TpHRtvlRiP2kpZdTdutgC2LtDoz3GqsqCeWZcStcOWK0VFj6qHd6he/M9nojvmfnzzrpNG/+OUL/nj9xe/8s2uituXGrurrfe6aTrzgN5rFYv9EZFTKOlvrJqeixOKQ64gT9xLL47DuKFIsu6SlM3HcDtOOZhZ1w3dMjcMIy5U+q4RDyYKrZd68ibfg2NXGnMeWxZADnt250kpjrh2kUbpioLH9jL7nP/uUWll5/6+cU7ly52c+2zEHYtxxksyzCC+T/E9cDNC4AcvvvSOOJkkUBASBpY+AWPuWfh8flRb63bBWwXSUdBZmDKibZTM5R3oUuhvUZulFp48Y9co3v7MzsbaMrFL86ebsAld66JE/F8ZJ2RxqtRd8o+HoTgR10iBzXMmQmb8SWJCiZKu9i+6ixKEiHKusqLHJvQ6qp0D2UnO+w50RSkWr4FKCAc1vqnXFNwe6ZnHaNpr8Kwx4Las9mWit5ryl9BlJ4ri6WnGStJR6HUPv4qkRcj9EEqgR9bsQRVhYpESBssspN92+xCnjbNrqLCyUFLXMpsOmO6IWNvUNBk1tepaDZYxywfYCj+NVtKKeRuV+ZzDFZul300htzM3mK6EsEOOOypNACrSPbZAsG+OpahlwSZM6y4W0aOHXqhzxn2PHeJIoatfzG37UdgpcM1JgQXSkUrWra4FrizHy7HPW/cXH5+slqxaZYQf/htmIU5mxKoaeqpTcYl/Xb5phwLUnNDsO2TtZZGlXtdKCM8DyLtZDHJazddaIcmrke7Vqn5LU9k8O3THWbJrzav/ADbvrd+yZGy66m05aP9/uONXY7luI9IZRaDjlmVRlF2YZH2gofnVgYydpFgsqx850NL+IA4qutFGE3XyGr3M8X2IE/jxGzpiDAsOk3u5ypQZHKrpqNFBQBhW1LwhW6vrqAviGnXmOlXGcypq2l3798rE/+NOrPnXlWN1vvv3SU5514prQbFg2rjZs7mNwWfmuAyWF8z3GY3KOyo+QVCoICAKCwFOAgPzV+xSAKiIVpVgpc6qa367bpl6qDOJK2QiDvoGhhcnKqcWdl7784j/64+/omlcqJLvG9q2P18zMc6pze3S4GLLbHuZXrew/2M5W9RR7cnaOHWWYxKCSmm2athUq7AfL7tfS2TrH5RzYggxtYrwzUnD7SsXmQr2yzk07kA2vv1aJOR2lq/dV5//8dy9Zb/l2ZEe+4heVj1x588f/66H5cHAjG8b0cC6qj6pcEmbrVnOkb52ncGfGvMnPR3ZGnIvdL0gCQzFMp9pozVmaY6QlViwv2r76137udK3ISXZKLVVaHeV9/3LLnokFeBsOLVFqpJ1unfvQrDVlvRUonYZvWVgBvS7XUUSZbfL/Au4lnHGTBh6tKkH0Us/rhl63NdjvvPB5F5x0kjJUP7IXwj7Huuzyu3fcv8tycZPAsNqGIlcqlWTBm9DD6rz/u+8/76vXHbzlvpl+R01it+T6c00/o9jqQkGzu1GxEeOrq+FdHalhM0zr9bBaKre79dlGS1VWJQprzNxZgs0zxWOZwOiOoriVtCa6rmkN9qWtktO/q+1dc+tD2zaefnqtdCBqvfNVp515RjVJbA6PTpXmgw+5r/2DW/aPwdm36bjBKBo+MErsaXrF0XzMcAdm5qC/XMDSSQyub8FFWsfKyinMbC/UbcM0Z2emhsql977zRdtHMA93dUXzFPuyr87815fuji03iTtaP5cBPmPn+J6xK8f6SxteddHC8MBUY8Zn3LBiHSc6uwwwcGJZZCAREeYnv6UEAUFgeSIgtG959vtT3upYizte0y2zOOjONzlmt9Jnq7PTU6uM2be848S//+8bdrFVv5uO9s+qwXq9Zk8vhKE6VyxaNafIra96UF1ZXu+YEffh3n3/XsNyshVGjvLI/Djhe6y2Qh8ix1JiDujQVT8Jbr39wKknnF6yolrZwixnWioXs2mGPucb0zPN1Bq4/c6ZBzv7C50qnpzqqP3AQ03TWXPPgejMDcpwv9ka0wuuF3Sm9ZVZAABAAElEQVQLVtnlbtm9c/FMo+06xTTQWSWGh8Bhua9MTXU1wQpXKJipH6fzc62bbnxgIZl0nLVu1Akjq9sKvI5614MTZ540unJAn59Wu2pkKqqV1A2nsHe/NzM3O1qrBWEID9HhlJBXXcXah9UP6sN1Y/hntFqdYqFcKg4mUeO73/3e1Vc3YvXIt0pwhUi92XGLtTg1olAtFitQG78VBrpXM/vf+uYNt+7addl37htcP2wsjMwFLdPwW1Hh3j2d1cMROxQ780pozvZXRwosnevlO3Yc7HbTquvrppGq7AsE48VjrlWchDFAWoHqu255ZpoLPFY57v6yG+pxYWZ2wo9YMS9yAE0QDcwt2A/t7sRGqzlru64fpHO77yvaxcbEVIEDc3V1puqWab1lK3324GAt86rdOTlpOrXMmopBONUqpUFoMQcAwV99NXPHwVzned6uXf6Be/cbWkdNIstduWf/XKh4GDijtDPb2FUdHiiW3Ymd5s2373rlRVs8bJ7qWrYNYG9luGNJZcekaSoY/zABPuU/AFKBICAICALHJALy6++Y7JbjXyk223FLLOwBPwC8KcyubxmdPnXhvW956b9+8XvfvTmordrk9dV33XNw4/DgbrvjHug8ODcy1L+i335gLuWm3K7eqJ+w7ewFT3lgz1ygaI4a2Y7R6gQcROzjzhtbMAMjaBpmNTIgcsm9D+Jvq2wata9LDna6dtyon7lWr/bVrrulM9Os29WNf/KxG0LfrxQ3JLHip3tsl7PzVn7rxpk3/kR68tbR9LqWOtyIp9Vqtb/cV7r5mtkmd6hVMMgpYehzYFxmM8RvNwqrZa6Sacz7M12n/5Zx5aEvzM2mZlQf5zQ5zqPT+1e0IvNbtx0849TR9X2tyQeT8oYVu+/bccnFQ+wR/Nb1Oz0uNvPDjJUqcLYkO/xlcW8fvATy1234pq4UiwVYccD+tVYnDLmUzAvY43akUNLCKMYcZuEGgqRWo6nG4eBA7f72vtduX+0r5b/8b7V/aHVrzDL762kwbeoD893gmuv3vusNJw7Xdu48OD1UscenZ1eeMIKXyfW37rcLRe75sEqu5loL43hUsLbMhkMwCBNHZSXY0uyDk7N6qG1bw711uwNjS2FgKN0zU1WqStO+pTU+Wat9/JqpzlemlbDfLgam03aMDX2VZN+sundGOf+MjR/71De0kbWsdcf1yRNOOnuiqTw0PhurrhLbnIcYQFrb2U5GbuSLgg4KpHE0UBuan5z+h3/9T9c8qzXfcdkLaE+HjmfWBlq4j/hWzbqw6R2AlNu63Y72N5XzD84uKL6nWzDr7H5hvK3ZS0lvxomXsF1A+eFrOo6EraQJAoKAILD0EJC9fUuvT4+JFtWsUuzFjYUmHrID1Urcnlzh1t/x2rPvuv0Gb7924UkD2/vjNeb9r73gWS+9+ESOeAmS9JNf3FOrGCdv1HC1rVT6BvS9W7eUvnZNo9E1NctJVKgdN3NwTl5Gj0yD04PxtKjrbH9LfKNY3D+u3HBn4yfO3KAGU+VSdj3uOWeMcMzbpy+/w62VhoypNeXixpWrXQe/BH+waK+vaKXWnZNT4bcemtu+ubTRjA802O0fXHSSNa+4196wL1Er7GZTIR1xAN0rFQqYo7x2odvgDjYue0tsRzMrJp6n6mBxZLNnb7K9/jA1Jmw7uG3n1M4x5flnncpx1e1uYFudZ56zatcu5ft31odWD3NrGLYraGsYcpAczC+mIjwYSCyXalxDQbTdbbHAWij3G3a/4Y5U9PSI/3DM0Cy76Xkzs9Nwv5HhGocATk/s/YXnn3Lh6fHl/3btGae4o1rtGYPROautd/3Uc3GJUEreXTuChRnljDNLltXwmnoSLjzzWafcu7O5Zyx0iw7bCIOu4rNKHrc4JIU9jrBQ6GmmKiQ4Vust77+ufmB4sHzqxlp9OmrNjFhJa+M2dW/D3333NWuH2/2FaFWtf8u62nDZsRJdS+bMxN0/H172pdvW9elbVibd2G+04xNXRwXX+vI3ds90VdWOOSQHw6dqzyRx1y5zoXPAMne1aLMRj4tDNLc2uv5kY8WEu7ZtroiSKi7O3Jniu2GwpuAE47G3kMZNU2vtfN6Fz/zCNQcfHJsdreDuArQsoLNBMcj+xZ2I04RifKYlCAKCgCCwHBEQa99y7PWnoc1pOzF1060U/CBozM6cuLb2hpee+Kwz+8ZOH37XK7rM7227M+C/kr31v/aX1xanS+6Ic+OdrZtv2v/yS8689hM7Zw5M/9UvvvDgxM4rv3J/ovU5RStp46WKBXGg37QGqjX2dg0NDU02uH4j8eNupbhqdrx12RX/++EPvvLC55x95c1TJ5609Tk/sf2/P3/twUnTWGnWWdHV3NZ0vVxK3ewyNGtm2nf7R7z5xkcvv+8Tv3XGq567/iN3BVtXpy+/wP3cl+/f8eBUaWB9mkxkHhfcCmdoQwM1cFv/DN38/mzFLcRds96ISni6auGMN1VqN1t2ueJUk8Z0sTy6e/zAV67+3utff/7ZZ5z2zX37L7ronM2bav/84avmGjWnr4ubs2tZGmuOjtHf38+9EdVq2fdN1WqnfoJJynGtCDaoxKmq41WiK4Wu7h2x1zBc2TZb5Fw8OZLEG584OFBynn3xxe+5uLBvUrv8P9bAcZq6UuEonVbx27fMTU12jDXezh2tKy676yW/sOVbtyR7HlBe/JObVq3Q/u4j35iaqxlVv1oy6x1LTdW1qwaHuT5ZDQZqNdtpZ8ujjpF0gcT98BXTF5y79U0vO6Mx/t35tnnyaYObn7H2Q39zV3N2zeBANQg41DCuewdj9mYWh/wwKqmVsKJ89+YH95y74Y2vueC9/36HbVV+7qfPeWjX9Ne/cZfRN8j6rD+fBFbbrXqjVpXT/DZv3jQy3Op4M5zNbRVLXc+aXGjZwUC1rLW7M5Vipd3ssCfzDS97xsuev+UTl916214HJn3+cwZG+oc//rkb1IJqxY3IGGGFngO9i7Fd7csu3Bsc6hse8fEkliAICAKCwDJEINukfXSazWlpaRMnyO/ecf/b3/dftfWbKwNbI6XJwbdHRx+p9UlFAIMWe/CigJPvWn19zqYNQ6tXDxQcLtlqwKIW3VcNL1DGp5oP7Zk4MDlnu4M4mVYda/sJwyefPMKS5b13T915++Q0K3/sycIxIPY4mXh0qLJ6df9ArZwqwex8c2xsdnK6zTpyqjns0ufwks0D+mmnrlq/fmBqcv7O26Z2jwUB7hgud6od+T4uXRlK/IMrBsIzT1m5dt2a6YXopjsO3rdz2i6WOHYwDjlqxK9W7DWraqOj1VLBSjrFydn5vQenp+frnNyce+By5Aoa5Ku0oJg5Z6QpW9M4QvnS8yuGXZmc7d52776xibqmF9nFxz3CZlrfuG7lhrUDfRWb7X3c0MZOtT37J1hYfkz9kDm1cHAfFFLTsY2lsbdhw+hJJ20zlJ0ogCcGX227gB/r5OT0rl277j2wzrFUJWyiwNYNQ2c+Y221oNfnJr54U8CGQlabsc7yo4lVjDv0Vq9esXGIu+hMDJbjkwv7x+bm6p6qOWzZa7fmVwwVnrGRu98GUHjn/tm7dk2MT3cofkT9sczFgZ10k1opPnV7//atIxwSM7Z7+vKb97KBErdlTp5hrJRL9to1g6MrhopO17SL9bp//0Njk5ONlBNkdLsb+JaObpxmSHuxvDYdLdp+0qazzzjp1NHG1IL3wFhzx9763gmPm+XiBNuhZXG6nxZxdsyqFX1rVjICjU673Viof+fu2SPqKYlLBAF24KqFqfFbounJz/zbO7eODhgGm0RdOZlxifSvNOMJICC07wmAJ0UfGQE/8hy7YLK1KophTxCNMKh3O82itTlih13QxkrH3a6Gw2m7LuuULLgmbM3zI4Mzdc02297ikJM6uEIsYjs/S7uUSpjCFa40i3lmf65wdUSaOXlgVVw8Xi5bKvXrnUolsi1W99LQL2lGLTU548/TKHSkkGhW7LVMpY2LBs6qHdw++cODg+f8lFto0Z+r1zjphH17cdiFV5lcBIx3Q7aFLKsUkZA8dDNMG5VgfgQWbQlQWzR3gjHTKXNjW6MNAdO4So7EmJMDOzAX1rZbQadBEbtY1a0Snr+qwbazxxCyY22Qq+hcnsGOjZALRYIWa59Jtx9cUImDWdg0mGGo6qhaGM3wBCm/1TIUtVR02b3od9uhU0kTVs+zs05Yy6WDYEuWrTUmJha9TixkQLyg4zpryarBcmkad2zVL1jZ340dfD1SW9ULGUE/UgiipmPVOKvP9+Y0Y75cYpXcatfTpFjhEmFd5eAWtt7B6LoMFVWL2wsNt1gyrELM8YIgblictQeq3IiS+eGiyqKXcNBdiDieJ4lGSgNeorSDpM2yfNZgFNVxV+YIGMOgXRyQ2PG9Dt1In2K0jM3ykdSUtKWCgNC+pdKT0o4nHQFZ5H3SIRWBGQLcm6XAu7Lt+Jz7oWfeqiZOFINxWjPc1OTsX66CxVcA2qZx6l7S8rMzmrGxKRySFze4/yy1CppTUdNx9rplmTJ2wGW4cKUswPrwfGX9DmaTqhyEgsNpzCay4sDaKG34YQs2o2fnz1mJ4cVpV4uPbEXTDE8r2lpa6mZnfOD76SkmXsAKLIODW9gNFqImZ/YZOGu4hos5kvNHuD1Dgfb4URcWgi2yYHJUHmpm57HA4SB8PHllzTGIB+ImJwSbMDtuEk44Ky/ucsqgURzEuxRaY7qDlKIxsQYWbKd7bLQv8wJ2HI58xv/XgAw5XJ6WHVoSlPRFZTB0mlm74hAnVg7E6TTGI5bfddsqVLjqbIYD8zKuWTGTOjSRYxDZX4hFBOsgoLdb3YGhkyibaUhTORIRmx0kN2yy2g47C1OLy0EI7LjUVIsNl1GY3Wj38GDrCQ4g+GEnapGL+hoct0IExxUDrxEgjQwO4TG5F5hDp7u4z5Rqo9mmvFjF61YzYNKcbh1aXF7CMYVmBn63w80d7PmsGVYx9DuT6XCCs7fDCd0qPjGWipnW42ZA7mzGE5vtoIxBLiVWMRTqLpAp0cLDlZQUQUAQEASWPAJC+5Z8Fx+lBsLFWPnkwlkDWpeRNuZb3C86wXzCsSXZxzDFbpPd1sBpLByQwuqdz1Yw1hQ1g8tTTSx5cdQpmzZZOXsNW1TGPAyMTab5fzcuZPKxCsJyIB4Ih7i0wy7sRzdhPVwjq7CcmuhtzeSQkCPTvpjN/jGHhmA75EhAC/Fq0uVcvYwrZEf2YSfDiAbjwVqGAtx2lhnPIEBc/YCRCXKZOzrA9yhAHgL8gifpBI7Tw1djEQckZJeMkA+30jCZ5r/YDA0uA4HRJB0/8WmMoxz5oJZH6kVYGovJrOfCMDHmcQFygo0LhowjcECruZwMdsyx06EXtYN219FGMheVzPtXs22V1qawcj1OAwP2zS0fUC30x0zJzkNwrHfxtqBFSIJqJxhEoU8O1tAAbWk/jcrcwkCB01tiDLYZDEcIbI+kLyLOj0a6zUGLOna3/OaMFDqoqCFUNQoX/XVsA1OeXSY/WtMqWDZeGSBuZku8LazItoPVMNMVhxZuCjYLRlebxkEbgSRxIDbKcuMxfcQWAS87bTpi3EB1aRk3oHS40wWKK0EQEAQEgeWHgNC+5dfnT0uLNW5Eg9fAQFjNS9m41YFfQRpcs8JyHlyPNV4NoxLzf7YEhy2oDhvC2pVwm1Z2SBzGHw67S0OWIjMShSgoE9QgjPgvQUUaF2dAIlgB5JvGLI8zhFvssoKqcDAwd7zC2bjPFc5pJN6RPSIUKyk6lhbraRh34JdKzMItZ6tY3aBL+eyQlezKDGinF0CXsAamDvTVzM2X3CmB+YnDTah7cW8fei2a1mJ0I6CbF8wri+vLUQcrWmbXxHgFz8E1GVMU/+f+D0qlauSwUgutOfIWxKzFRwzoEuClSvWL654QTQ9/iigqFjgGD2tlxM0bmUXQQDzkJ1FZG9W4AM/DEstyuaZzOEsUxqHOIm/WX4qtQYg0GCTVQeyccqY14iG8tBNqRbPgfi4MGH8ThdvrshsvoH7QPi7+6Cx2zsNVVY0inW0p2EHpJj/1oJlQT4u7kjM44ZKLRBn0cGXhQmKvM0XFlr14eQl2W2uRprG6a3coDmxwe2qmJS0/u7KlYGK3zHqLC40ZDCpklyNwVCMBfLYVpvzdECXYEZUunVIoGMpjM6o+vEGSIggIAoLAcYmA0L7jstuOA6Wza0+zq2aZbjn0jv1gtpYdz6FgjsrsXZAfts3prM3G2STOQSkdTh4xjVghG8ZA7uzgHgssgWmFF6ZyDS6QcUKWJGGEBhwlkw15hJplh7HBUfinakE9u58NEhKxtgshIHFxy11mtDtCCLoJN7NpVmionL6M2Y27yGBCeH66aJ6dWpJyl27MxraSjRuBrSichxxGWNUCbgpR4BAsIEJBYH/QQSrIiAuGwEXOx9PQOdyZDzpGyUzfjNuymoxni7WYBT/hRR+mJLtBgn2FMKnHFPCHwCrGASWQJwJcyDRd8Gm3FrJjiW1uxIPxQK0yayvta3gHXMs2HZ0jc6BslpL5grBNz8NeFy9efMJKOVEILgY60+p6s9x9h4ETzoa5jOVTWhFzPrLfYsUWIyhCM4UXuWNGf50jW1W7HhsQsSOGrP1TVdaTGt6+uHQvLtNHIX0MSYfeoSQKhH4dix+b/LAIo1h2rzLr+1FaqBhYMaH/2GWzJrO0DDdkeM3X6AvQ464RTn6hRZyGnd3cjAvK4t8e2V8Oma015W4Ubr8LwscI9GPqFcksCAgCgsCxioDQvmO1Z45zvbhcLFvUZYWXE3gJ2RWrELzYhTZkZAo65TFPY48xXLwjVMtZ50cdzqtjR5zK3r/MxIeRLjELrOsx87P2mLGyjF1pdppktI+5P7tEQoegQO7gT4Zhm92WiqOpYTtUST2LK80WS3uY646IaKGvhAMpl79inszoGbfgspmMpcBshXSRBmkQDoP7vXxcBqhUqUMzoUZZyzQNQoL1EWsbNjTIERl4kk4gjr7wWagrN3tgGKO1xNkGBw81wwIHCMMDI66RyOhjtlGNCmPlsZn7/C63iBhmIVuDhuHRECqF9kVBplB2jLNqJiC1qDzamTpYgSQK4hCTdhctduizaGldJKaLR5tkBsKMVdHQ6iKRZfE2u54thC+xlBwEXMubscOIm5YzYBetayyhaou4kXB4KLvFGEcTloWzFXPYc2ao82PfLbioTb+HIQbIDD0+wfKKZj8qYQ1FSdJAB0ILTq1uk+5huZYEFGNTY7b8r8dWWsU9LVt5X+yXxeoXWbYDHpD/jA9TDgXQn4vvWC8+XEV5FwQEAUFgGSAgtG8ZdPLRaKLjLro1cC8tEzdWJZbpuJ9Mw9XUh+PAJ1jLhcRxOh2WHSKNOVZW2Z8HO8JyxEQNVcqWQzl1jmU/GAe71bDsYDpMYkw6JlfF6im3teFtgbEPd1UMhpnAojsEFct2heETqgcYwDDu+AF07sgoLAR1PcEvt4wxEh7DBrhI7Spm10ZblMCbA5cUBZsWtj7sc0ak1/EcyFgpxkXoxCI7gmlgnsoroFRG+jBOok0cm84ALhDY8Wg1TNTPGhuxuG1jQ4OB4cERZ7SJjXZwmyRzdMh4z48foDqUoCIsnpTC9xa6TIQdg7hBUF0mkVXrRZscWjnKSu4D5p4TlQvj8JBQsTDC/RTLdxbpKkUzdkshZGb3oHD8nQpvzigVq9ws9nK/iGU7dXyuYcrgYCwuUitaF2fZMHEfQf1us5l5jGTLsnBl+C2uwVbmcNNscwygbVnZ8n7G7PM1Xz3p2niOQBExAmLzwxWGw3RQzHbKUH+4GwQOYuqanPKcslAeldnbh+kYc96iXZjmZQvwaWQtXs4GOsCD3VmhLZkZ8ZEO9KEKCYKAICAILGEEHmEyXMItlqY9LQiwHofVhqqYuJlsIwXjGdQHe01WPWu7GL5gCItv0BRcSzPWkm+Dyz5k1AVjGLv92GGX7etanNMXN46xHS2TloWsTJ6GKWhRVpBmLCrbo5YtnnJlb5YtWzt+hOBSU7ZK7HmL5kC4GeueqJs51WYMDA8T4pBQKN7iCb94DODZkUvLKU62fSymmXka1IoIDIZnRv6CRtYUhGS+xmwbXNyjtigpjciJ3osp2OAyskWWxxaoIbOOQf4WIaO9GegZ9AjDSyOLEbDVZVG2tilNMi4uR2cGN1LZb5flYEmUDHnhLJI1PyPNi5vgfpDM1sSsdby6mYU1K4cTcvYfQE7Z25dHj/DUnMxAS2CdX4dKAyZ48M9CYLaavvgRA5/G9sGMwOksIi+mZcrgQrzoY0NC4FMJIwrCmWXMTv1ZfOVEv//LnrU2qysj1iyoZ5bFxQAkWb186jXzB5/kv4KAICAILBcEsl/iEgQBQUAQEAQEAUFAEBAEljwCQvuWfBdLAwUBQUAQEAQEAUFAEMgQENon40AQEAQEAUFAEBAEBIFlgYDQvmXRzdJIQUAQEAQEAUFAEBAEhPbJGBAEBAFBQBAQBAQBQWBZICC0b1l0szRSEBAEBAFBQBAQBAQBoX0yBgQBQUAQEAQEAUFAEFgWCBzNc/uyc9Gys/8XTxRbPEqLOCeQSRAEBAFBQBAQBB43AqpqqzoX3nATjqVwQx+TTOoqKid+Lx6T+bjlSkFB4PhHQKx9x38fSgsEAUFAEBAEDkGA88YJhyRk0fzQ8sMS5VUQWG4IHE1r3xGxPvwn9YiZJFEQEAQEAUFAEHgkBHLedyTy90glJF0QWCYIHHO0L1/zXSboSzMFAUFAEBAEnnQEuE87D0gm8qTLF4GCwPGLwDFH++RH9PgdTKK5ICAICALHBgKPfD/0saGfaCEIHC0EhPYdLeSlXkFAEBAEBIGnBIHMO3AxIJ3/PiV1iFBB4PhE4JijfaouXibH51ASrQUBQUAQODYQUNP/o33C+Y6NDhEtjiEEjjnap2lC+46h8SGqCAKCgCBw/CGQZLTvMLVTJT086bAc8ioILAMEjh7tUxNNMRIlCULbMOOoqy9MT+pqmCrJMoBdmigICAKCgCDwVCHgx3HV7U9bjqZ6qTIU6YmuhGpqcoiLBEFgmSNw1Ghfmmgxf3wpgd+ZtbT59vy9YRqrimfwkylBEBAEBAFBQBB4vAh0FM+3alHHqzidVn0iHhlUdEtJNaF9jxdRKbd0EFCPlucsPvVpHGtGOr3Qve62B53SkKIGSdw0ouLSQVdaIggIAoKAIPC0I+BbbVuvxp6Sho3nXnCKo8e6YmQrSbKH6GnvC6nwWEPgqNG+JFG8TrtQsKIk9RPdsHSs75oSqIp1rGEk+ggCgoAgIAgcRwjESqgt3sOGfUFX4yQO00TXUhOTnwRBYJkjcNRoX6woOn98pdnfX0mqhFGiJrGlxJFx1Nadl/lQkOYLAoKAILA0EDBU9g/FqarbjpUkoZZbFcTWtzR6V1rxxBA4arQvVAItgvmx2UJT+DOM05VggPBAYX1PrEeltCAgCAgCyxyBbDbJ7+ZgCcn3WU0CkCSNDN1Z5shI8wWBo0ayNEXTDSPxY83KOB8uvbqmJSEe9nKRjgxLQUAQEAQEgcePQBKrZraem60mqbqhqjrHuci+vscPqJRcQggcNdoXRJFrGJqh41rVidqaoVqKpduGnKy0hEaXNEUQEAQEgaOBgK7ESpSmbBY3jJwAYlpIEtlDdDQ6Q+o8thA4aou8xxYMoo0g8MQQeHSP+IefHPvEapPSgoAgIAgIAoLA40HgqFn7Ho+yUkYQON4QEMJ3vPWY6CsICAKCwFJGQKx9S7l3pW2CgCAgCAgCgoAgIAj0EBBrXw8KiQgCTz4CbCfKheZmPzH+PfkQi0RBQBAQBASBHxsBoX0/NlSSURB4ZAQeaW+f8LxHxky+CAKCgCAgCDzdCMgi79ONuNS3nBHI2SFPTZPTJJbzQJC2CwKCgCBwdBAQa9/RwV1qXWIIPJK1r5d+qNnv0PgSw0GaIwgIAoKAIHAsIyC071juHdHtuEHA87xH0hWSR8C8lwfij5RT0gUBQUAQEAQEgacUAVnkfUrhFeFLDQFcNGBv2PBgb7klj+fs7OwrX/nKPXv26LrOK88oivI4mX3fr1ar119/fa1Wo3ieYanhIu0RBAQBQUAQOB4QEGvf8dBLouMxj8DevXvHxsZyNXuMkFfIXxzHsMBWq1UqlWCBx3xTREFBQBAQBASBJYuA0L4l27XSsKcTAdu2YXiwOux5RMIwzBkenA81IILmYng6VZK6BAFBQBAQBASBwxAQ2ncYIPIqCDweBKB3+QJu/mQlNyd8kD/iPSMfcTLAAnspj6cyKSMICAKCgCAgCDwuBIT2PS7YpJAg8MMIGIaBkQ8+RzKUDm6XEzt4Xk71cjrIV+F8P4ycvAkCgoAgIAg8fQgI7Xv6sJaaljACrOqygS9vIAyPSP6EDuYUEBaYk8L8uYShkKYJAoKAICAIHLMICO07ZrtGFDueEGDnHgwPjXOSl3vy8spSb8/ax6dF21+25ks4nponugoCgoAgIAgsCQSE9i2JbpRGHG0EoHdQPSx5ObFDndzal+sFycsdPnglgxj8jnZ3Sf2CgCAgCCxTBMTksEw7Xpr9+BB4OGMjpRdymT1LXs+2l9v8+EqEzI+vaiklCAgCgoAgIAg8QQSE9j1BAKW4ICAICAKCgCAgCAgCxwcCQvuOj34SLQUBQUAQEAQEAUFAEHiCCAjte4IASnFBQBAQBAQBQUAQEASODwSE9h0f/SRaCgKCgCAgCAgCgoAg8AQRENr3BAGU4oKAICAICAKCgCAgCBwfCAjtOz76SbQUBAQBQUAQEAQEAUHgCSIgtO8JAijFBQFBQBAQBAQBQUAQOD4QENp3fPSTaCkILEMEemdf523n1MNHAuHQTxyU3TsrGwnEefYK5im91+UTORQEWn3Y6/LB4Ygt7aFBpBfPj9vsveYFF7///+GUJx42xo5YxSMlHloW4b2h+0j5JV0QeIIIyC0dTxBAKS4ICAJPPgLMuNxrwtHWTITE8wOxe+dgP7w+MvcS8wOxKZiXyl/zr73EXuZHiZCZr4cWf5TMx/6nwxpy2Ouxr//TpmEPmUMHVa/23tecn+Vj8lFGZq/gI0Uom4+0PMMTEfVIVUi6IHAoAmLtOxQNiQsCgsAxgUBvxu3NskR68UdXMc/28MyHmlUeSUJu4Ol9ZT4+dErupR+/kaXXoie9L47Y40fE7dCcxMVQ96T3hQh8KhAQa99TgarIFAQEgScBAeZR2FuPAj6KxHxWJjOBbPnzsPxHTHyUPJmspXKTHvjkbcmZSi++ZBp4WD8+1tceIDk+hxbvfSKxFydyqFkuH36Hljo03gP/0MRePK+xV++jZ+6Vkogg8LgREGvf44ZOCgoCgsCTjABzXh6Qm9tO8omWV9IfxZrSm48frlCvIHkeJVteMJ/LqYhSPVGPUm8vzzEe6TWBBuZtROFe4jGu/NOjXt7jvUFCpcR7w+DQ9F5irlhuIT4U2MMUzkfdYYn566GV9qo4TP4RC0qiIPC4ERBr3+OGTgoKAssXgSdrZjp0RuzJzCM9dsJrFEW8PrrZD1GHSiCeSzi0irzDHp5yaEfmX3NRh8o8NM/xG++16/htwlOhObAQ6G7CEeXzlfTeVxhzPrpy6txLz7PlEnqJRxTYS8yz9eTzeqiQXjaJCAJPFgJC+54sJEWOICAIPAkI9Oa/MAyxozC5GovhR06iUEPKmqb58ImTFEQR0A9h+YR9RF2RQGYCkVwgXPPR6eYR5RxribQoV4lGEQElnr3EY03bp1+fvMd79TJU4HMk9ro+x82yrENxIw/jhOFETuJBEOQZDs3Tk3nESN4F+WAjA4OTlDzxiPklURB44ggI7XviGIoEQUAQeKIIMPMhIn/mstrtdrPZdBynVqsxHZJ46LR6WH2+70MTScxpIpF87kRgHmEi9zyPdAT25ubDhPDK5N2b6RGYF++lPDz/8ZUCCD2Ulkyjnqwu6P0xwBgApZznFYtF5BNn7BF5+OgiMR9gZGDEPj4+3ZOPtFwCEQmCwFOEgOzte4qAFbGCwFJGgKmO0O128wgz5W233fZ3f/d3UCvieSLtJ86T18suu+zVr371H/zBH8zOzjJBktLpdHjyFW6XIwUpYVolkH7//fe//vWvP/XUU9evX/+Hf/iHFGFqhPzlAilLEebmPHLXXXf9zu/8zsaNG2+//facIOYCeeYVTU1NfexjHyPDZz7zmbxSPuUsEGKXy6R24pAhGsVX1Hj+85+/efNm5nIqymd90uGXPHsKUISCpKBeHiHei/SykdgL5CTwiliKE8lfkdx7zavL5fSkkZ/MuUwi5Mk1p3hesPfKV0JPIC3Ky37nO98ZHBz8vd/7PZpJKdqYF8y/5mpQ8NDEPE5i72su+bAUXgko0FOPgrk+OZ587X1azJs9cpm96vL8vOYpfM0zkJ5r2MuQR5BAJM9MhA7txfkEbjl0eeaeGvmn3rNXJI9Q0Q033PDa17727LPPzi3HuZznPve5Z555ZqvVAlWGEDJJ5wmSJN53333vf//7TznllAceeIAUxgzyCT3hxA/tU15zrXIhVPSud71rxYoVDz30EE3OS2XlfwBRXh2fiPTGbZ4hf+b49BBG7KFCDs0pcUFAaJ+MAUFAEHjMCDADMY+6rkvJq6666ld+5Vcuuuiif//3f4dJMO0xOfGV2ZHpB1Z3ySWX8AlmBucgfuedd5KOHSXnJeVyGSHMUjA20pm6vv3tb7/5zW+G7R04cIAJGJrykY98hK8Iz3MWCoV8EiUyMzPDPP31r399bm6OelGsx4fymY8811xzzac+9Sk0IQNTbD59YvZjBu2xQCKkIz+vZX5+vq+vb2hoCLEUwUCYz+V5cWSSk3jOAPiUK08iMkGACGqQjUppFK8Agnzi5CQQz4vziVdUtW0b9cCEV6ojnhMInnxFLPnJjMxcYP6a58+pAE+mf4qTgeIIJAUF6Cbi6ENk1apVFOyVQn8AJ4WcFKQ4BUmkxjwbcQrmalMqhy5vYA4U+QlkIJCCeojKez9Pp9KclOSNQgJyaEiuKhFSeFIdlRKnRgJcCn2oCCGI5St6EkEZvlIXEUpRhFcifKJDeSU/r+hAWQLZ+EQiapDIJ+TkRXI5PMlDBiJk4O+Nb37zm1deeSWleCUdIYwxTM6MB/Lk3cRX0nmiMCOEEXvFFVc0Gg1S0IEhnUujOgKJKJy3jlKk0Cn5cMqFAAhFVq9ePTExQavzJpCNIln5RQnk5FNeb64t6WiYYws+vAJ+ji2ZqTErKUEQeDgCDCwJgoAg8GMiwC9ccvaeRAjT09ObNm3iFz2BH7H8N3se55Xf1MPDw+Pj4xRkkvgxKzpesk1OTmJC+6d/+ieaecYZZzAP5fjkUyng/Oqv/ipTGpNc3qI3vvGN/f390AKmqzylFyGRAEQveMELsLXwlbmflDe84Q3f+MY3mMbynHliXjavjvg73/lOYMealaf3nmRgimUu/MIXvkBffOITn0A+WpEhn4nRkzi1YKf5+Mc/nhfMtaUs5I+UvF6E5AXzpiEnF8Wzl4eJnzg5KbL4/f+6O0/vCc+LUCk587K5GsRzrYjATvL8qJFno3bEkoGQx8mQq5TjlufvIU+2PIVSuQKIwtqal6IIkZ4mxHs65DJhM3nxXJM8Jyk9sYfm5yuvwJVnRgJ15cV7bcz0/oFKeTbyUDDP2WvvoVXkaiM51zbvjt5YopZcB8rmfcRrHjm0XcSpN294rlL+pN5ct/w1bzVxpG3ZsmXr1q18JTHXGU3279/PV2rPq1hYWMgjJJIT4zQ/8pjr0KGnGJ/QvCc5F44oUhiKhzV5586deQae6JwLJyeRer2ef8oRIJ43PIcubyCJBFJ6YvOvebo8BYEeAmLtezgTlhRBQBD4EQgwFzKpkAlG+7rXve7tb387tgqYX052+f2CZYL47t27//qv//o1r3kNr8yXFGExiyfLwcxbFGdK4xPSIHNYawhku+mmmzZs2MBX5JDy6U9/GiJIHnKSiJkQuxHFCURIYWrEjkjmUqlEtnwuJ50ZFy5IItkQy5OqScnLkp9Iz6b1x3/8xyzVUQqamLeCZ6VSQSDtQmZeKaUoQiJlEUUeZlnmXXQjDwQXZcjJK1+plHYhMye+ZCNOixCSR8hJhMy5TOLUhWRyYlXileJESCROOsLzPNSLDrxCPkhBJkUIpOSfeFIKBXIQUIBsFIFz8yTk9iESUTuvi5RcW1pEKexbSIP8YScjG/Fc7Z4yJBKoFGlUR3HsYWhCIplzmXn/kpKX4kkXkB+ZPGk+MslJjXkGEqm611LURj6SEUse5COKODqTk5C3grIowCeQJPAV8KFK5CQPVZCBhhNBONnIwFdqJ+Tsik9EqJda0IcxA7AIz8HkK5owwlEGi1quKk2gLuTTWORQkCdf81JIIz0f1Qih1QTkIBxRrAhjI0dJNIEFohKKsQmBCEJ4ognCkUlZIvk4pEYQ6FFhsiEtL56rlI8WslE1EvhKHgmCwGEICO07DBB5FQQEgR+NADMW0xuzIIHczDfMW6TkEyFzYT6/fv7zn2eq+4mf+AkmM6YipmHmNrL9x3/8Rz4nEWeCRBpzFXKYGpnGKEt+Isy+JDL5EScnM/E999yDbZUpjQzMiASqpoqxsTHkowxPcua1k07k+9//PmKr1Sql8tkRJSlOpbxShHQ2JrIMzbxOdczKKJPrwKZA1CNbri3PPXv2kB8JVIQ+VEF+Xpm/eSUzbUcIxYkwW9ME7EzQX4RQIzyMIuTPNcTEmHNNjMF8pSAByWTIVYXjIpZXVsbJgNqoRB6qI04eyBlCkI9uuaokkh+zEAUpQltYK0dnqoaUQGr5RAbUQA4AUpDnLbfcQn60JSeVkggyFOG5d+9ecoIh8qmXeB7AmTaSiDRKkRM1MFnxFYE8SUQZwo4dO3hSlsAYIGeuKm0hP0uoKEaNFEErFCZPXoruRjgA5p9ymTBRVMphZGxQC9XRUlIYDOShLE/6padePq6oFOE0Cs0ZD5S6++67EUWEnOBJQBNkUhx9GHWkkxmFSaFentSCfColM+koz45SuozBQ+tgk+QB5LwJQEoTcgJKQ6iIsjfeeCO257xGhDNIKEJ+BjYFaQjS0BPhPFn2BT0kkE4RQp6fPkI9VOIVsYwfPpG/hwBCECtBEHg4AkL7Ho6JpAgCgsCPQADWwjzETJbPiEw5zFv5fEk6kxmfEHHNNdcwJ42OjjJZMlEx7w4MDLBhbteuXUxUzJ2kUDaXxtzGlj42/yGT5do3velN55133r333otk5ja2BrJA/J//+Z8vf/nLMf7BlqiCGmEq1Igth0qZ83gyszJ5Myn+2Z/92Stf+Ur2aVHk7//+70lHDQI1UkU+LyLkH/7hH571rGeh7T/+4z8+73nPYyshsymE9UUvehE7C2EJTOff/e53f/3Xf52l/Jtvvpl17RNOOIH46aefzlIdTfjbv/1bUtjR/5znPAfqg1ZMwDmC7Hr8xV/8xfe9733btm0jQjr1UvvBgwcvvPBCakECBf/mb/4GORQBE9pLBCXJCXpQBJxLvvKVr6AMy+hYifiU0zK4Ggr/1V/9Fc1cv349ulEQ9vAv//IvmGB/5md+hlq2b99+/vnnf+5zn4Pt/dZv/RYU/C//8i/JRsOBHUzwswFz2n7yySe/9KUvRQ1gJB3CwfI6xlrCs5/9bKqgXuClLIrlEcCkRTSHrZPAxRZM+giVYOFkg0z/xm/8BsjQiZhsIUZ4RUBSUR4Jb3nLW37t137tox/9KKBRCgpIYj5sYGMvfOELkXn55ZefdtppIE8vMH6Q+bu/+7vveMc7wOSnfuqnQAPDMEVgYOiMelC9ffv2seJP16DGz/7sz+asmuZ8+ctfZti84hWvoHeoiFFBcfYnfOhDH1q3bh3jiuLUQhVIgybSLgJDi/yf/OQn6QJQYlDRI7SXdDJffPHFDEvK0gRGCBrmXBA1WO2lOrClLMP43e9+N3pSxYc//GGQZPCTn3XhX/qlX6Iu/gr6uZ/7OaShLZCiLTnpCGBh/AARqiKB2tEcDa+77rr3vve9z3zmMxkVYIVpPO9lNiby44DCFM9HEZklCAKHI5D9FpQgCAgCPx4C/NolY+9JhLA89/Yx+RFy2Jh0165dy6TOXNUDEgbD7MtvHNgJiVg+wIoIsyCJt956Kxl6EvJ5jq3x8AMoxUUXXcTE/M1vfhNLD6zrz//8z5HPVyRcf/31UCh2XzHlI43Zl0rf8573MK0ylRLPUz7wgQ8wF2JZIQ9UieJU+rGPfQxppBByVVGASRS+whwPLfvWt77FhA1r+aM/+iOmdtbUoCPo+T//8z/Mykylr3rVq1gOhqVRhFcYA6wRnsHcDMWhCtgGwpl6eTJVwzywJzFh//Iv/zLT+W//9m/nTYZ+/emf/ilTPg2kOLwzL5JDBBroyROUQJWGIw27EcwMEkYpstFYVPrSl75EQSyaAILlj/zM/dSCJqCEqnAL0kEDoxTEhXSwogiNQia85GUvexlsA84NS4a1/PRP/zSfUPitb30rOqMGn1iUx6m5B12v11ADUVCZs846C4qPseqzn/0szYTxEAc0qAk1QragazAniBHmPQRCxF/ykpfAC5FJEXocioNVEibKOGENNK+acQWqMD9UJTA2GFE4bhOnZ2kXZA40Fj9mD7qeQBXnnnsu9ULHSczVxkyLpfmLX/wiqNJeOg7KReeCP/ybwYNRjcx8RWBO6/MeQUnQo1F4w2R1LJqQ4dBUAVawWOCiIqpjp0HO29gFyADGD50ITYDg8jXn6+SHa/KKYzukjcGMwgDIHyqAQz/m8kEPdkiAMfPrBbXR8NJLL8W4SAYK8kMEAWXE/uZv/ia15z0O887HT95k2pKpK0EQ+GEEMpO1BEFAEPgxEch/q/aeRAjLkPYxo/QmFaZqpq41a9YwJedcihTwZP7GJIb5gRk6n5vzIjkVgNLBHg6dsylLBggHk+Lb3vY2JIAtT6gMMxy2H+J5fpgZec455xwqyvNg/CAl55dMw0yxvGL9ogjzLnlgaaRgeiGFDJn2i5MicVKuvvpqvkLd8sR81sStBHIABSQDEmCH5MGERqV5tg9+8IOkQBB5RQ4BjkUKDIP8OBefdNJJlCXkBCLfvMXEDzODZaJk/gn0fv7nf554TqeQ1pu2McKRE2TyT7DS3//93ycnebCHQRxzDMkAJYIZYK7L5UBcYKXozCvkJpcJg8HShgGJRDSECGIoyj0V8hovuOAC9P/qV79KBoyyf/EXf0E24mgIN8WQxiuiSCHQF7zCVCgCw/t/7L0HtF5Hefe7+95vb6cf6ajLkmVZbtjCNriAY2NMSQh8+RIIpIeQFcLHTSEsFtyEXBLuJUAgZRGKIbTYGBMMOC5gcMG928iyejk6Ov3t7+77/o4G3ii25GXZss850syyt2bPfuaZmf/M2c//faZsUrglwLAhMfQRgAACtYLiiCHBXwoVxvNKFvgWAuSi8iIFrx63DBu6W/SUwA1wcFsKeGG6oiD0fO5zn8PTxi1xqKSIcKUtjC6opFAoBgkEkRWoPCV84QtfoALQL3GLwxVWB/sUo4uC6DhaIRqIDDXspogscGJWtYq4AASmC2mGO4IAIxb9bGaiJtxu27YNEGCZyKOctvCUnwQiOwOeiKCGMHvi5IKvIwMPFjJc8dFSSQgocZTgIGRg0CK6Zg70OKbrEej2JjLdvDIiETgcgbmJGBkkAhKBZyDAqxxnDy9T3qSYDd6wQoAU0jFL4lZEkCHCtfunJW5RghiJaBCTYuTldYx5ENl5hEURt0IYAfFogV/BAUtG/akn9III1guiQMNpICmki+lXzBLowTZwYDD5hSQ8jFsBowAQs03zBQ6YOrBCP2JkREAwAGZCMYcUin4mNCEocBocP7j0hBj4C7NNdryD+GZwgKEZJwoZWcvFTDHkQACLMJQCdoIwTykLzTSBcgnUhKdUUpRIFqqBDBGKo3W0hSuGn1bg6EKMCBoIRGgyksyrMln88Y9/HB5DNWg7tA+IaCAOPCLMw8KrcAvBMJgFBhny0gQ0UwF0UgHINIOHOUQoJkfH0WqEUQ6zhLThXsKLRhOoLYHNpzjAeEoTQInmMznILWJcUQ7IqOVK4BanETO5zAijgQhVGhoawkfFLDaVgRHCaNGDgxNXH6ylv78fHAg8pQiqh1qIF/gDC5Iop5nQWVoB4+eWQNuZZaZRCDDFTz2h4ChkeFAuNUEAdyAePjyXzLDTKTg1cUkCMq5TfJbwVDoRYXLh98LHhi8Q2GGTdAo1oRoIcKVbUUgvABRVYms2xIiakHjNNdcwZ40MAcbMLb4xepxJUlxuZAFnWoQkrRPNJJEITUAtcQqiqsjwS4Ds+N5QJUY1jwAZSEkhCyXS++vXr6cf+e0h9qGDEtn5eycLShgVc1U59H7gSjoCRJAhwETpCHqEynBL6ThHmVBmVQBskiUNlEiFmXwHLhSSlwqQKHpHVFg0ZK4MGSQChyEgad9hYMioROAXCIg3uLgTr2OMFom8VX8h8vN/hQnkhSveuSJVJBLHVpFFvPFJJAhygzBvc+LdW97Uz1b+jLIWzi12iMpguuAZ2EWsL5xGeEdEizBjtAimJSwcjYUQYKgwq6STBUyICBDQRgAcYAEx8kIOoAWCAwl/EuCjCkaFgUcAbxZORLwj+OQEzuRFCRjilMKtxeG3WERBAtBJ92HjqYMQpiY8JS4UkpGaoJYIKVx5SkNEK1BCdpGXFOpJKeikFTyiqt2+4ykpUBwqs3PnTmgKC9GQpy1Mz33oQx/iKblQjgnHicWKLhqC046ZViqDAwxihAB6yEKhV1555Tvf+U48eUQgK+TCV4pCWBrkjOwwKioMztSBKvEIPbBb8gIXjaImPKJcIuIplQdMbuGO9Bp8ToxwZATIXFEC0YTZUGdmeCmXhghtPCIvECEPjExhUzrxuaF8iK3CF6mJAJYSwQ1hJMmFAK5H/J3C40szRddQQ1gaRBYSBp+jOHZ/w+3gPXi54HkUSouY0MRFJwI0EToILeaR0ANu1JyyxKBizzgI4x+FnVNJsGViHUnkUQtlZJfMRz/6UUEoUU6vUVtRSepDHD0IAyNXAonIUMqjjz5Kp9NMctE6xhUIgGp3UHFLh9ILLF6kFFqENlpK3QjkQgm3AnAqQIRbsvMIAfTv2rULQEikIEYLV1oK48dxyLpAsiDGCMF7SsWoFbdgSxzN1EToITJXbxkkAv8TAbml43/iIe8kAocQ4L3Jv9gAXrgYMOK8VTEq4k3KS5wU4kQIiHFLRCR2ZYhgZlAlBIQ8MiRiQriF1ojsxAlCAwILP1BzKgnnw2JhF+ENGCRMYLcVtAW4WIGEJHYRs4QVRAwooGVMnmLV0IBJQ4BAHJzR1vVXkQJKXOGUZEchTzF46MEc4vDgkQAWhIUGYacR5hYZmBZ1Izt6oFNCHj3IUxPRxSgknRrSv3gERRFcqQxKaALp3IqaCw20UZhYIqTQm5QixgZFU5bgHzyC3/AIEoA2yAcpPBWqmCXEKwazYcKXhW6wHOrAUkKaQBYsOoVSCg3EN8aMHvs5cBpdccUVuA8pV7QXSgGAkBhBI6iJqBLgoAQEKIsSQYDqERHVhiVQE4ojL6XD3REmzlOuiFE0Cpk0hBcy2w5QzKFDr3FeiibQTCLopJ5IQkBpIKVDXFBFOk9FX5CX0olTEx4RYVUcOJOFUqghDeERHJ1bihabqfEvQtSAiL7GRYejCxcp1SMwi8oULZ4w5oWhU0zd4uuiOAJPxTgRPct0MF43KDXDEicZ/j8KAh8KRRIqCWtkzhRnJz4zsvMItHlKdsChv7r9KEYmAqRQBO8EastcLXoYTqJ/aR23ojIABVsFQJY94MKkCeQiUfQapSBJYwEKzSIiOoVq8BRURVcKzgdo9AuB7MQhf5RFQQCLHrKQSMXIKLJzpaVcUcJVBonAMxCQtO8ZgMhbicAcArxPeWnyXuZtCzPAEvBiJV2YVd71XZhEHEkeHZ4uhDEJGBIe8XLnKdaCdGFauPKu7z7qPu1qXsgR8KHCmCVMDvYGrOBVoIR5o0XYJ6409pJLLqEVuKa40liyMEGGLWfyEdOFGKaLdOI8AmdyYR1BhjjZUU5gRT9XdgwAMkVAGshId5CIWeVKZcgiihCmDu7I2jIRh4sQMJPIoFMAjjA9whUZEmEG6KFiJBKhICqAWooTRhoZ0Vk8PbynkBdFUwTaRBwB4gBC69iN0U2n2qzQZ0oRpkX1mMGEHOC7wpCzNZX1hZQrhhlZEKZo6BEROJ/YMkJ9mHjFccXmaOrMlyGoGMIMM8oiO5QI5dSKrqFKggpAI4jzFGEIAQK0GopJG8l76623Ig/RoRdoHc4kFuQRp6rM+cKurr32WmbVcawynys0i0IRRg/+QpDBqYYqqscjAhux2XFCiujTLkQMDxgetYXGsfGC6olAbekgJqmRp3oUDeviDHDoGk41aghFRhsbJmgmPk4YMO5PwGGWnL9Q9FMZehbkqRIp1AQGCZ+mFOayIZFMqfMIJSDMthgmYXH1MYNMXtFfVACIyEgbGWPUkAi48ZRq84grQ4II4AAp3lyeUi6BatNN5AUKItB9lhmw1xhySXZKpJnk4ikVoJ5IUhkeCSYKFSYggH4KBR8C+vmBhBjl8pQIhdIRRCiXAUA6YwC00UleyiWCBq4iUcDOrQwSgcMRkLTvcDRkXCLw3wjwpua9TOAdzcuUF6uwAaTwVuWKABGu5OFVznVO+n8yQqwpr2nEeAUjg83g7cwtEeSJo5MI73qe8h4nviiCqDCNAhbi2DMBl2At3PKIFFxErNNioyLptI42stSJ5uNlAQHEhGMDhHlEECgJYLGm2G9y4TXBrEI+BG7gSUZYBU4alk8J/IXJ5BEasIhM58HhoEqUizOMRFgOklhZygJhlKOZziKRmlA0EZxkRCBV+GDoGp5SkOggZFDIlYKQITtlQQ7IRRyFVJW4GCGiH9n8AZuBbXAKCXp4imacZ5AbWAh7gckFxxWUjqZh47nSUq48oqpEmN4V3I50HFes66Ju6GGHAR5TOCVr11CCPEiypxhWzVilStSNFNEu9FABmsMtNQQNAg0Uq9M41QVs4RmIUWE2h7JKjJ0B7CpADFWXXnopRJA4bIyCaAg4kA6SJLLiEFXMBbPOkkJ5RF7YGN5cIUOKwBDoqAMybHyhINrFyEEhV/yy/DbA5QmPoQnQMtE7cDvQoxQmf6keHBQHJOWyypBFfvyoYPME9UGJGHjEBe8hCxroAnqfZYK4/SBMlC568MYbb0SAFHqNjOhEA+RbVAYximDAAKCgZegUnU5LkWFU84iN5JBd0ilIYIJOAsI0DfK6ceNGlNNqGCS5KBrNtIIITSZOXgYVkvxKAX/gIh0B6swGGh7hyyQjKQiAD/gz1c4opVZoRp768FSMN7TRHJSTKFIYomSXQSLwDAQk7XsGIPJWIjCHAK9U3te8hXmZ8ioXL1BhA0jh3cqVpwSeYlN51Yr3OHmFHeIRKdzyCsbDgZ0jTkZuuQoZ8qKTdEEXeIMTXxRBGDDqL1gUnhIcErQRWGgaDSGdlrIgiUX68ABsJK3GPcOKMYgFhhMxGAzWCyVATUTYVKwgj1jbJEwXeqAduG3uvvtuVuijBH8PZhtygCqQB2cQw3lGBBjh2UTYJgn5gyex2ZOVUuzwJUKtcIYJpxrK6WIKomiywzbQDJNgOydkkZqgGXaFjGgL7aV13HIlLuRpF3oojkJpOAFVPIXEMGBYdccCLx5hwtl4AdOlFRzJAamCw1EQRh0DjyTWGqvPLGRXA3pQCzIUxPEc8BKBBgwPdoIfi1rROtgPzkI2gX7wgx/EB4Z7DBKJ2BlcNQAAQABJREFUNipJHcAErKgPTQNGIjAJNAM7VxrIVmgOR6Tj4GFUkj3CVA/l7DiBnLE+Em6KGHkJYAsJI6MI1EdAx3YTmklxOLdgihyDh4sLzdQNGQYGjWI+lGbCh9BD9SgLNxvK6QtuSfz85z+P1/AP/uAPiONiZLSADxnpIECgOzjghlZQc1bLiXHCgOGW6WCgEBj+ompzf03kBQS2AeEqZiyxzZanJIpOh5JSEByaClA0/leeMrroehBDG1d6HyKOKrKQkVuAIoIkf85MEKOfK7ueIfHs8GDCnYw4+WCoOKHhhRyOg58StZwETkZWLtJkdNL7tIXpdeaXcfcyQmiC8IgDI4/AjQluAAFMnKykoJnfTrTlXe96FzWnK8WqPmoFqmQHKMH++RNDnkqKvywiMkgEnokAA0gGiYBE4NkI8KrFwJDO656TIPjtzmohlqJjgbDo+JO4cnYX1lqYSf60xAtX/I2JuDCNpCBPXgLCZIT3kPHiQ3szMU5s5GRy7dl1WLApmENRNyDCmEEXMHUEPHPiTA2eIoNBIgKdwtDinGP7AlaQLNgkoQGQhR6MGfb1Yx/7GMsBMW+owk+GZkGzkMcEYi/RgACbG8QJZ+TF4GF94RlACraYUpGI9QVYkIf/wTMgT1hi6BHp0AVkKI4rFaBoKkMXQMHpYrobQw6foCxML1wNAkS1KZQxgN8I5kFnQTrpRzZt0I8opz54lag2udgiyqGDKIf0sAsB5iSGBM4qCqJcJiupKq5KjrKDkTCKmIhEnmZypT5ARLuoG6v62JCLJFwKYTRD3XgqgMUJJw6oQz/DkglNst9zzz3oBBCaz3hjelS0FIJIVXETUkmcjuhBGD241sSMIUpYw0ciAS5CcTgm6TU6ApctXjdBIgUbRoa80BQiVJtNGGSHLELjxACg8ixDpFOY0CdA6QAWYbZ0cIXl4IqjXPqamrP3ArpPu3gE+CzaA2oqzw5f4lBAykIhpVAT2oWfklxs2iAXWUSgGoISIUmTxcjBXcrSOgS4JZ0InUK12dJBhZlBBkMYGJ4/upIIpdNeSqcgcbIgHBQ3JIWSQrkMBsBBDyMNJxysFKKMn5UOgul++ctfhm1TE9xy6IcgQtcgZCxGZNqanyuiLziXByJI34lpaxoCUFBh/JcchSP+NKgkJI8xSX8x5iGCYtzSCugp/Ys8vcPPCeaU6VA08CsLCk4dRClCjwBHXiUCXQSeuRqJkSqDREAiwLuVFzqvb+F0YdIKk8NrFGR4X/P3A6vDFHHLT3Nesohhp4U/Q6DXFUCep0KYCLfED5ckBeXQGvSgbbGAjx2lFVQYbwqGDQsHAtgqbDkB44qnirYAGqYLGegIBgzjShYkgUKAjLGHHBNHG8QFcHB9Yb8xrkhCegRcqMJGsnEEMegLWUiHUWELcSaBIaUAINogK2QnLxrEQWhQB2qLowXrK/oObWTv0nQS0YBfkOLQT7/jyYPEUEncilA9WoEfhTZST6gGYthawXLwu6CHFHyKCFAuzIYpQkgAlUQz89oQJogvq/1EiVQGhRAvlDDMIATwDCSpEhVDA1cBkfAwgR71oYEQBXQSupWneswhIswjNFBhSqfhFET1oKeAiYOQatM11BymIlDCqQZFoyACe6JBjGrAJJAkLzCKosEcNKi50E9eKkwWYIeFExF1JotYzEdZuDOpIXiy/YJ0xJChaGalaQLZqS2B2jJFiyNzeHgYAo08lUchI4dH1JYmUweAhW+RggApZKfJaKNW0DLkkaFRRISM+CMScRIZmXQQQ4Ls3IrRSIREgGKIim6iJlB8eg15hhMTqcjQQaBHHDqIX5Z+YQgBEYk8BQGqQRu5hXKxFI9EKCDjhwjV4wcGXUAKo5SaI89PAh4xGPgFwowtmvlL4Za8oESi8N7xNyJaARQoIZF64lUlr2gXoxqdJFJDEulK/nDIjkJoKw0BJWpL4KkMEoFnICBp3zMAkbcSgZ8jIN6wvJR5I2Mz+MGNRwczxgsd+8RrV/Ae7OVzQCaMzeECIgUN6MccYiB5TWMD0NY1w4fLy/hCRoBOPGL1nt3vRxR7wYnzVe4LrvDzzDhf7TrWco9V/nk2vyv2UuvvFiQjJyECcm3fSdjpssnHgAD0DhPOj2/mv3BRiB/QXHGHoIV0iOBz23je4N1AFuIiI8wP5wckks9PoVm4Oo6hZlJUIiARkAhIBCQCx4iA9PYdI2BS/ORAQJAz2Bisjhbj0mPuhqkoZiqJkA7hE0ggwK2Qfz7YCI6IPBnx9rHGi/2YxOGXUECcf89HiZRZIAgcrd+f+5fAi6/8fJX74mv+3Brmq13HWu6xyj93q5/99KXW/+wSZcrJg4D09p08fS1bemwIYLnFy5fVTmI9E4frokKsIes65+B8x6b3kDT+QqGTPacoFNpemKoXULrMcrwQYJAcMRwv/UfTc8RCSTya/GJJn692HWu5xyp/rPi/1PqPtT5S/kRCQHr7TqTelG15SRCAjUHLWOQHP2OnJ845Xsr458QMr1jS/vwLJq8QRifL/Nm4x3p54mgTRPD5q5KSEgGJgERAIiAROCYEpLfvmOCSwicRAt1pXMHJmNuF6vEBUyAQWymJwOF4+sJAgS/yXVG2T0rO98IAlLkkAhIBiYBE4FgReIEW61iLkfISgcWFANO7wi0HOSMO4cMVBxHkRDTOMxOJCJAifIFHa13XtycExC1XFHKYCKfckd7ll6ztO5oemS4RkAhIBCQCEoEXj4CkfS8eQ6nhBERAMDMaRgRaxpUTv3DLcZgLB7Gy2q+7OA8ZONxzQEDebhAKuUIc0cOJX6jiKZySFLmf4zlglI8kAhIBiYBE4MUjIGnfi8dQajiREYDqiSV3LOwT7A1vH8cF02a294pHMLajQYCnkNP4xNYQrmhDCQ5CDv3nOxCC8Imnz6HkaMplukRAIiARkAhIBI4JAUn7jgkuKXyyIwDV4zR8zvDDBQjng8CJ69FwwYHH6fyCMiKDMPSOK58L42MGsEASxRWXIdqOpkemSwQkAhIBiYBE4MUjIHfyvngMpYaTAoGux05E+JzunXfeibuO2V4mao8GAU8hiMLJJ2SgfXwrjG/A820lcTQMAojx9LmXCR6tCJkuEZAISAQkAhKB54mA9PY9T6CkmERgDgEIHFwNz9yf/dmfcQtdg6tB/o6GjqB0yMD2yIUkga+qw/k4EUbkgkeKGV7h9juaKpkuEZAISAQkAhKBF4mA9Pa9SABl9pMFge4KPKge389lohaHH5+f52CX5/gsL0wOzse8sCB55GUD76233spH3/m8G1/mEKwRLniy4CjbKRGQCEgEJALzh4D09s0f9rLkRYsAfjtoH6fu0YLuxo4jtkY48MQuYARw/vFZDjgfETifSBGcD1oJBTyiEpkoEZAISAQkAhKB44KA9PYdFxilkhMfAeHtg6LB2IQPj9neN77xjbju2KuL/+9oEEAQkcQpyJUNvHzVFyUQRzx/QlV3bpcipNvvaDDKdImAREAiIBF48QhIb9+Lx1BqOIkQwCEHXYOoEWByv/d7v8ftcx+zDLcTE8Gwune84x04+bglF6iRgh6uMEJuJec7iUaSbKpEQCIgEZgPBBaftw+7y7QathNrKmwnuGE4SceDgvnEudKddxN2lFsMLTLcsqCKMzVEBCUYbG55xJp6tKEEM4xCkUXcChkSmarjJA4iopTurRDrloKAtN+AcKIGMZC6jrrNmzffd999DB5B3YRvT1xBgOHE8CCCR3DJkiVPPfWUGE5yhJyow0O2SyIgEZAILGQEFpO3D0MLlMLLAsfC0HIiGhESMaIEYYm5heSJFPGUWxJ5isWF6gkzjB5S4Hz1eh1hoY1EsmC/u1m4FbwQDYLzsTYfo84tLJMrJIBcRNDAVYYTHgF6nDaK7mYsvfe97+VWDBgSxSglnTjjiggf9kCAWeAPfOADDB5GIOknPEqygRIBiYBEQCKwABFYZN4+bCdeE7EFcmpqigNvwVR4WeBegoc1Gg1kRJyn2F0CNlg452ZnZ0ulUtdRJ47VQEzYciTJ2HXvHd5hlEJAs9BJRkH+yCKYH7Ycky/KlXb9cOhOvDidLn4h0PX8KrjgggvY0st4YFTwSLSXkSBGF1dSzj777B/+8IeMH+EIFIPnxENGtkgiIBGQCEgEFjICi8bbB6PCfGI1Dx48+JGPfIRNlJ/4xCe++MUv7tq1i1NzMaJYWVwpMDNORBPcSxyZgbtOOGa+/e1v83GFP/zDP4TVkYLB/vrXv44xvv3225FBOVxNZMRzQ3HdRfrIo5YiBOfbt2/f5z73uS1btqABMcw/QfA8UdBC7m9Zt+OCAF2PHhiecPIJhx/OYEEHxWAQbK9L797znvcIzkdGkf241EQqkQhIBCQCEgGJwPNHYNHQPhgV7Gr79u1ve9vb7r///lWrVsHqvvnNb3J22r/+679iR7G4nI4miBcsjVsxuSbsLi7AvXv3fvrTn+brCJA8ErHNtVoNDsckL7dkhOfxqFqt8ohbQfKAEncO2igCH+H3v/99uOO73/1u6CalCKCRx8Yj0E15/h0gJRcdAvQ1Q5Fqi1HESgP2815yySUMJH42iBEIHRQyeKaJs4EXGeQZSPxUEGRx0TVcVlgiIBGQCEgEFjsCi2Y5GsYVGsdGSNbFX3vttWKeF/R//dd/nXSIF0a3UCiQIh5BCmGBmFjYGMZYfEf18ccff/LJJ4U9RvKd73znW9/6VjFTLPR/8pOfvOiiizDSyAg3IZrJDvNDHtrHBPHatWux31jurvGGByCDRSed4pCU4QRGAHLP+jwxrhhgxOn9P/mTP7ntttsYEviGxRhgCDEkxEDCOV0ul0kXQ+UEBkc2TSIgEZAISAQWMgKLxtsHt2NZ3kMPPTQ4OAiggrrBw973vvfhpSMC5xM+OcwwhllwPiS7/j/m4JAcHR0VPjnMM/48OB/0DqaI/unp6euuu46MWHH0Q/XISxwBrDWqmD4+//zzL730UjRAB0kR87+iMohJzgcmJ3wQXS+GhPhVwHh47aHAGGAQkkhELADglwC/It7ylrcgjxi3jBY5Tk74QSIbKBGQCEgEFiYCi4b2AR+mtK+v7+qrr77hhhuEXw0mt27dOhbUE8GsEiYmJnDp8ZTJ3K997WswOawvebHEREjP5/OwPeyu8NXdfPPN+/fvhynu3Lnz9a9/PUfpwguZSoZikkXoRBJTTZwUVMEdRQQlkEJ0couxx4/Iuv6F2c2yVscRATFyGA+QfvGrgCu/Fli9RyJx4RumROH8+8u//EtGCEOIW8YJ6WL8HMcqSVUSAYmAREAiIBF4PggsJtrX39/PhgxYF1+y//M//3PoGi3EA/f2t78dA8zSvb/+678+66yzvvrVr37mM5/58Ic/zAo8zlS75pprEBN2F+aHY08QuB/84AdveMMbmORllR4Cd999NzSOcNNNNzGJLMwzJpyMJIrsAlDhrUEViQSKJh0ZFh2++c1vhneKFCEsrpR4+K2ML2oE6HTqD7cT9E78KmBY0vuvfvWr6WvGGAK4ihkJuPouu+wyfmkwbPjdwlU8XdQIyMpLBCQCEgGJwCJFYNHQPngY4YMf/CBkDh/eP/7jP2JQ//3f/x3csbsY4N7e3gsvvJAlfddffz3mliv7fCFhkEIYITYYooYY/Iw4qs477zxmbFnSh7sOJb/2a7921VVXYZXf//73/9Vf/RX+PxKZOyZFmHmu5CWjmCMmF7dd187MzMxv/uZvXn755dBQ6iNGA8IigpiIyOuJigADhgH2R3/0R/Q1geEB/2OEkMJCAjGESKf5YvidqDjIdkkEJAISAYnAQkZg0dA+4SnBp/KpT32K88/YwAtjw+3HDspHHnkEiJllO/PMM3GrMOfLgj/2XsDkMLpYWbbfwtVgY9BBTC/mGW0Y45GREWGbyS5MNY8gcNyKWWOuxDHeXAmCAnJFp9CG54YsPIJ04l/88pe/TBYEDonPuRi7eUWKvJ6oCNDRjIorr7ySLUFiUNH7p512GoOQR+KnghgMiAkWeKJCIdslEZAISAQkAgsWgUVD+/CmYDVhddhUON93v/vdD33oQ8Vi8cc//jGbKFmKB8RQN85wZi6YiDi074orriAXp7SIDiAOXeMqnHmHW18ce8I5h0cQJkdAjFzi2s1OFgJ1gDji0UEPVlw8hYYK+S6VRJIU1B6uRAjL6wmGAFyfjsbXizeaOD3OwGC1HzuNGBhiJIjBwLV7e4KBIJsjEZAISAQkAgscgUVD++BSHNTMRg0xfQY5YyqWA/yggFzZgYuhhauRjkcQJxzmFt8ePj/SSSEXT6GDPBIkjFvstDDAJOKlwyWDwUaGdNghZhsZ+k/IUAGC6E40IEOcLCRCAUkhC3kXeH/L6r1ECDBIOEII5fzSeNWrXsWo2LBhA+cNkSLGEhGGh2CEL1EdpFqJgERAIiARkAg8NwKLhvbBwCBnrNgTdI0rRnTp0qU4VCqVyu7du7G7cC/MKh44At4+KCD7dmFv69evxwwTEXaXp2TnVmTBKhOAiSOdERD6uUUbMl34BCPkFgYpMnIlkIXswvnHVYiRLqihqBK3XT0ycqIiIJYEsNjgj//4jxljv//7v8+pQAwnMbr4hSCGAUOC0XiigiDbJRGQCEgEJAILGYFFQ/vgcJhSvH2csQLx6hIy/Hns8BALqgTZYnEeM7bilBaOeoGKsatD9IEgfxhgkR0vIBHYJFwNMZb6YZJFQewCQRs2m6tw7BERcZyIVIBALhQSUI5pf+yxxx588EGeirIE7SPLQu5+WbfjhQCDipHDKGI8sMIPPx+bxLuuZRK7I5Yhwcg5XuVKPRIBiYBEQCIgEXj+CCwa8wOd4tA+5tFYO8UncaFl4+Pjd911F7s3fvu3f5upXrxuuOv4FsKtt9766KOPwgU5wO8b3/gGn24TE7gcyMc0Mce+cCwfALEckDj2eOvWrfA/eBuuQXjeX/zFX3zsYx/ju23EhamGwBHIQh0mJydZPoh15+BoyCXGnnJ5xCfdfuM3foMzXPAy8pQUTDtB0D5BDUmU4URFgJ8B9DujiB8J/ORgCPGDhB8qYniQKH4zIEOEcKLiINslEZAISAQkAgsZgUWz1ZR18QRO1Dv33HO/853v3HHHHRzOwgI+Jnk5OQVahmU9cOAA5/ZxDgvpt9xyy5o1a+BwmzZtwgzDF//t3/5N+PCwxO9973vvu+8+CCK2mUc4ZiCOmOS///u//+lPf/q3f/u36IH5oUd0HsrhcDBFFhHee++9kEs4H3PHcFBh7LmFgMI1+UwwWbqEbyH3vazbcURA/DB4tkLJ8J6NiUyRCEgEJAISgflCYNHQPgEQxAuihvMMrxs+PLwpzKwxlUYEASIQMk514bjmsbExuBe7eknHJGN98dUhzC0UjUfESRezbxBKlmEJbsdTsUhLlIg/D0eOmO2FLyIjpvPI2PXz4SZEIb5GNnKSPufMORSEBnk9GRCQtO9k6GXZRomAREAisNgR+O8tCwu/JVAuOJ/gYUQEtYKQMbMGpSMC7WNBvaCAzAhDywQ5Q1KICc8cAqTTXtJFqwUdJDt+QcH5mPYlkVxwPmSY7RXTc8KNB01EOQGOyCEyCGD1BedD4HDNQr+8SgQkAhIBiYBEQCIgEZh3BBbN2j7B6mBX8DBIG5wM0kYcQgbTIgV33cMPP4wXkNObcfUJSgcdFAwPikaKWKsHaSOCKkgbEWS4Igbnoz+45UoceUpBOZIEyKWgdEQoC+4IDUWAK3nFVZQiij68a8l++K2Mn3gI0OlHDCdeS2WLJAISAYmARGDxIrBoaB/MDCoGuwJr7CtXEcdFJzgZeyxuvPFG8f3T733ve7jr8AuSBSomhJEXvA2PoHDdCcce1I1baKXoRW7JSBxhQQHJKHgbYgRuBZUkjgyBp91ShJLDr5LzHY6GjEsEJAISAYmAREAiMF8ILJq1fTAtqBVXaBZgEYEIwtWEo06wLrG6DpoFF4TSiSxwOIia2GKJmFi6JyhgV1LcckUhkmIeWZQiChKFdjsJMVQJ9kkiekS8GxGJQr4r1s0uIxIBiYBEQCIgEZAISARefgQWDe3rMipB0QRSxCFVBMH/SBRUDz+c2IchVuZ1hREjBXlSugrFUxx7+Pm6iURQQop4yhXNXAW/JCJKJBc0EWEiEM0uX0SARK6iLCIySAQkAhIBiYBEQCIgEZhfBBYN7QMmiBdcCveeYH7QMiiXSIeN8QjWRYrYlsttl3JB0cgrOJyga0jiwCOXuO1SSXErrmggHRmuBMqlLBJ5Cnck5XAXIOk87ZYobg9PIS6DREAiIBGQCEgEJAISgXlEYDHRvnmESRYtEZAISAQkAhIBiYBEYLEjsGi2dCx2oGX9JQISAYmAREAiIBGQCMwvApL2zS/+snSJgERAIiARkAhIBCQCLxMCkva9TEDLYiQCEgGJgERAIiARkAjMLwKS9s0v/rJ0iYBEQCIgEZAISAQkAi8TApL2vUxAy2IkAhIBiYBEQCIgEZAIzC8CkvbNL/6ydImAREAiIBGQCEgEJAIvEwKS9r1MQMtiJAISAYmAREAiIBGQCMwvAnNHEM9LSBQvUMyIL99SfNiyDY47Vn1F1eP0vNRHFjq/COhuojiqoipRJ9ZiX3UMJdYSQ0uUmO/p8W1lTsAW52OLT6FwXPb8VvgZpWvx3ED2Ar7swqHeStO3Uo6ihkpo/vxbz8+QNxZW9Z9RO3krEVgcCGiaoUShHySWxbvDT2I90CxL9xTNEef20wwivEA4S198w2lxNEzWUiLwkiEwj8c1e7FihLGu8Q8WM1aSSFFhoVrwkjVWKl64CERqDMOLD/0M0BWoUuInaqQ6aUUXleaVDdXrfm2v+x2UBdKkjkpF+epfbCoeV0idphhKECpq5og1DOftB9cRqyMTJQKLEgFfSfi7CxIF1mcqMX4EvqHJm8Th709RxBfYeVeI7ydJ2rco+1hW+ngjMH+075C3o9NsP/bYE5VKhc+nBX5kpdItzTvebZT6FgECOPc8N8SfZ5oGn8AL/ENfW07CdqsG1TuUbtIMInwc7/BvHy+QtoW2GvteEvHzxYhD3zF1w9RiVdO9//6s8+FVDX7OZg9Pk3GJgETg2BBwkkDRU74fHPrZFUedpmnprYSPdrqbN29GF1RP0L7u59SPrQApLRE44RCYV59DqNx003ff/ptvb3n8SDsEraHgnpfhJEQgggbh99WNRAsjnH2xmbaYtAlCXedjyu12+3BM+O2+0Lx9VB9+p+GsNipeGGQ134/bvmLqypG913McVgaJgETgxSEQqgr/4d9jfYiiG0YYpm2lruY3bzr1uuuuGxwc5F3RJXziY+svrkCZWyKw6BGYN9rX9MJsSssVci0/1otLBldvajb9yPPThnNEUIWX/oiPZOIJgECgNrQgl7LTbjzjxpoR5SpOvONnN8WRv2nTJvG+xsnHMDCMuUG70Nb2BYmWDeppp/T4nurkgW1n9Rm9WcvVLN8sHLF3LOaiZJAISAReHAJ20PK1jBUHkW75VinbOaAZxn9snVsNMjQ0hG7XdXljiMUh4tXx4gqUuSUCix6BeaN9msMsb8TaC0UtLll9xQWX/7YfZBw9NWF0Fj2osgHHjoAVt5JW3jGMVjye2Gkz6U3545Ouold/+ju/8zsDAwMQPmifeHGLV/mxF/IS5pjUM4NaXVPVL3z9hnv+84l3X7nyDWf0RbqZr7eOWGrEZhUZJAISgReHgK+7gZ7Px/VGJ2qmBwfj1Ohs42ef2Xnw4MFGo8FODsdxhMtAuvpeHNIy94mDwLzRPlNl+YVnJKqi2YFitbXceI31UYHuNI6I7kKb1DtiJWXiC0bAK4RKEoRJ1FAbbOC1I09RG9X6U+rMDL/UPc+D6kH7mK9heR9h7gfDQgpNlhVZtVypOOv5Uw0lbE7YjWC27k7pcy6HZ4dQrGp49gOZIhGQCDx/BGKlFXkp04+DxPPV2LLD0Hq6vvusDT3ZbFYQPpb3oY+r9PY9f1yl5AmMwLzRvpglT5rpsCQqqtU6+yJrQsuGtmMn7SNP8iZzyzdkOGERSDod1Y0d2/C1xO94SehldTXLtljDgPE3m01e2ZlMBrZHILLQgBjRVLtaM528nerzFFNNrQiNYjNq5pwje/vScpJ3oXWhrM8iRMDIOq2ZpqE3cqY1Fcx2vHHD7EmsPG8JFgTzohBbOnh78IuRlSH8YlyErZRVlggcTwTmjfZpasz2jVkrb8Ruj6oH4YAdVhOOwUgmNTUVJ0aisz5e8aOQuGXncq1OoPgc5Ua2iPX/ScJqedtSm0cxn2L3lvi1R5wgYLMto+P6um5pquF2WlnH8t1mOuW4WjoI246jNWr1QqbIlv8wclV+PSYpylXIdWh3gaVrvltzzNiPssezH056XWrkOOmwYdRVr78cRnW92jALamDzmvZ9v1gs4urD4Sd29dKbvMfpXN7jvNaREau2mcchUbzZeYQYtwTQ7caRJ1ic7aXrOBGPlxnwlFY10z9g2U5jt60EbhRYajtnujrHShwphHKS90iwvOC0wIi00NJDW2MCQQ24iQ3OUjQdv8Om6jDyGRus+GfchKwuYYwkRz5P8QVXQGacFwQ6btyfUibUAUtJckqgpYqdhuvEdf6ueVfwVy/eDKJux+uPfV5aKguVCBwvBOaN9h2tAaox4PtJEml6rOpGlEow7KrSimfVlm5qnNEUciInnhXDDkKv5TYsLX9EVcLYdx91bzutqm2nwrCtGFY6Y3NMiJLOtCCFuB85OZApZ8tJOHbDDTTdjFSfFWUd37Nx39i22+FcUM00suGcr1KG+UQA6iZe4l1WJ2rDux6aCOeDF4r3PpLi7c+VQC4CESFGfD6bIcs+TgikPC9OokRLNAtC7Su+Z3iqqdv8vbZiDtIx9ZQTJXEUeGoyNzbiuZ2fMkgEJAISgZMOgQVH+zrBnCfeNk2d17Pf0RR+wlu6agRGOVYiJdFw8kRh1OwEmqJaRukQVztCt8EGDln5nzv5urQv1nXDtqB9cejpttqJEsW0236QS+YOiqNs3bSCWOG/dMqOw7kDgpNwzudocSpozInBieEU2x0PV9ERSpVJLxcCXbZHLwvHHiUTx6kjeJ64JU5AmHRSiMPz5qz+oSB44ctVZVnOS4hAHKhGKuXpWi1oqomfsUwrshNXjfD0wfUNvgCjB5HH2wOHvca5kHNri48QGEJHSMU/eMhnfMRHMlEiIBGQCCwiBBYc7bPTnSiE28UaL++kxQcPVBZ7cZIb03Eqbj5VUwKTzzdwSJNuWZrVjI68dkr0gXiJi1e2uJqZXj+ONGbewiCccwuplmlzQDCqUUkaE0CQPc208Ba5XjMxHcPMRUhqHMKGF5IcQaDE8rTd+R3l9KYgfFSDeRzhtCMFYgeZI4U488JcecQtvj1B8gThI5fgf8jMb0Nk6ccFgcApcm4vX0extBS+PbrXVe3Y0NPKbGKYsRGxISgKIjtlW3rcaTdw9h+XcqUSiYBEQCKwuBBYcLQv8tphoPmJzyGbh7iX4cYGvjfHrttWDncNVMzUo1TaCbx4utawM0feAiJogegMQfhgAASOc2+3Ovl0am7Stt1ydL4CHKbVeI5nGooP42OqN9Ec0ww8vrDaCb0olyryLAx8A4uReJ2gbpg2ZwvLMI8IQO8onZ6F0hHoWVKgdCKFR/A5bnHsQe94JNK5hf8hLGii5Hzz2IPHt2grFXeqLSPSe7IZOnymWW/HnpnOayHDIGSNsKGwamNuQt8N+T1pHnnFpfTqHd9ekdokAhKBhYfAgqN9plLJ5TJhpHqBm8Dy/JDvXdlGho83tH32gViqUXSTZqMeqFrRKixRwrEjooppf0a6cPOY4WQ55bTbdStXVJg+NjU1ck2mjRWTyUIIBJyPpeB8KrhVny2m5qaUPb9h6OVQ1XylwURz6Hv5XNrvSN73DIBf1ltoHAH2xpUJXIIggrj0IHbc0t1zvXloYpetG6SzuU84AgXbI69If1nrLQt7aRBQvamcnVY9rVWtRzjjHS2T0gPFnVUyHO2tRr5tGo5lu77v4fPjU89HWZ7LcDpiBZ/9PjmimEyUCEgEJAILHIEFR/uaHU/THbfdCYNGqaCrmuu5HUdLu0En8mxNydiOppqhy+qcwOW8Z753f7TAm5ogmAEReADM4NXrzKWrTr3mB7e7vqpZWZ8lffzEhyIYGmRBt3Xcftwroa+G7mmnbFi5zLrplsfaoaPqKb4Za9q2OnfEiNwHcDTUX6Z00a0YafoUkkekUCjk83k4Hyk8heFRFcHwiNP7Bw4c4MoJrgwGZPjmm+CFL1ONZTEvJQLtwCr1jyjpwVonDuIgl7FSbO9ot2b0YiWtR7MHvKm9eujz6edQTUz28/pHntxnbLyU1ZS6JQISAYnAPCNwdNI0TxWzskqoN4O4OjzgXHHxGcuWFNrVaTWK8QBmUv3tZjJbHU8Xmb3JP/rE2E03P9RUjnwc7rOrL5jfG165cu1ZpdvujPfUmmY6x8vfMCxDSwzVaAcdrkwcMlmIh8DWlY3rVl3+KuXeex5qTDYi0/GiJGVlFNcP2+rcF1hlmD8EBLeD7cHkuEL4VqxYMTIyMjY25/3lpFYCB3fNzMxwVktvb2+tVuPUflKggDj5YIoc3y9mh+evEbLk44aAm1o6lVpWWr95cOU6lgJX9+9OZmeKihZmewvDRWXHA/vunPK8WQ5smvv9d/QFnUejfYyx41ZXqUgiIBGQCMwfAgvOa2XFOcXVMobhddwV60pfvu7BT3xl699+Yd+e8fj0IfXmR+/+m28+9emrZ75y05blZwy09R4zSlSDJVx+SrGUTj4Db/MmWeUfcfCfkov5GIJmhB7fRk0X1b60pnz8O+P/58MP7NbUcsdxArdkho7bskOtE+UUpcnK78RjjijlKWUz3/OtG//rw//vndurQ9l4TS6YrhjT0XSSpEoFJTR8vjNS52S/SHP0TBynJlkTyHEReBTzyqCtTyiqE5qaZo9rtZFC1G/qJS/em3KM0E0hY6cyXqSHeuw5ubZeNbWm0dSDOFUtec3stBMFqXgyLgdxu1zwrCAbz+jtst1MzfRakWloZuLY7bBpGw1frTfNTpSp6zAZ0wizqmk0i1YSeFFoKS3tQFazQx1nZSuKvSjWPdtpaYE95wkJbRPmw7z5bEFT7JZtqNkZtf6qvk6uVGkEWlbTo8BR9CzT3Yn1XPtmjtfo5cA1Alf+wwf78+uzvC8YZmGbIW349oRjDxaYSqV++MMfPvjgg3feeSefZoIIbt++/e67737ggQduvPFGhAkY73q9LqZ6UQIBEInE0UDppHBFJykIMy+MUxBCKdYIvoC1gOg5YphrqgzHD4FKPGlv+6F6y5e8gTPMZqz+x58lP/rK1B3/7F33iakbvzi6cqPpNtJRyeMYP02fMmxO42RbRyrdzrodu1XkqL+6Nm1qJW3DZVabF8oUywKClMmukDE7pYb5omb7waSX8luaY3hJSlUKbBZJkkwjCfVMWeMbM7vLkeskU7WoUtZrWqrh8uerVjwnw6rDfCssJ/nAlYcFHr8ul5okAhKBF4TAgqN9QezOzbFqVhjpd901MzY+RbtYUddquezkDX3Hc+NWu7pr1/Qj949ijAMOWA7dRmwcdGejwmhVm9ALw0mq7HqtUG3EltuJp8yKX7VmJo2aVyzsndZ3jVc7Rjop9daTynQrrWZ7aprqK207W+okod2jtszJljXVYPtIWHp8Z8PLujPWrrZlBVaPmo9a1kxV9ZN8qjqT70ubTjTljvZ2Dq7PVCqtlNdU3ankwORMKZXt5WyY2Y6RWbvvQHKP601mnWWT067meJqRdBodM4nSVuBPzKajIUWtFIbSSjibnk071SW6NeSGwwdnW06vWvUOtDrNTLFnKmr7PZOK4TXaVfY2lzJ9tjqgtysZbzipDoeFTNSph9OtqWqqFZWzRs6omoPOeWPhuNZZFk6uUK28lW3nfDffdqKOaqmZyenmxHTc1kqjRtRZaoVKOFStXHLJ+nSKXTXTYVh35pY2cmw1R+ksRN8mRlfwMxgbDrzJyUmceVS4G3jajeMFRAYaV6lUyEiWarVKhBTi5XIZ1shx0HgB4Xl8FIQrnBJevHTpUq4I85TIC/ork5lecgT4rl/CTl624TONG4acxsimrUzWGc42otH7lTtvTBntMMU57ykzrRRmdoYapzNFalOpNqpuhfOblOSgHlz8q8WhSkfppDthZbaeTM46rdmlWi1tTe6N6lpYLEYlk5+G2YSXS90v1kK108OxA+29E6Zb2rwjs3pfqBRtZXLSCab0gqss0Vvq9H43U2rk06PBmN8nx89LPhJkARIBicBzI7DgaB/Ho7C4huV9sZK594En2+3ISafmjm9RcXJxMBt7cAv5st1uGT+9c3SmOjuxSx3OpG18aLrKJ307U2nVXVYb21mJK3nDLmqDuXDEm44UrRmZ09NTzZTRLGUSxct4fMXRr/utp/VwQmVtWGs01XHiGa09GRtxMW0UlbbVHm0Urf5Oy1Q4H1rJ1sdaST2MWhqHvkbt/blYnxkbs3JBZrBa7LUP7h1vz6jlol7K272ZbGff3ng8VFr9kxNKPrveMlpuM1/pG9b5BAlOAhN3W7VTHV/eY6WSqenpHQerk2kzWw50qzFTndlV0Jbwsbr2zB52GfeE2cYuTUlWtCPFT8JiqaLE0fTkFOxEaUymOpM5Q3Wrbqnjj6h6X7E43p5q6wedbHVsfKsdpgcztaXFybTlT47hFIRgZmp+y2vvWLoi05ezB5JsJkkdqI0FyYE3vqL/rE19pj5tm24ctdi2HPGpy7lPoyzE0y6Er44reGLpx8fHD9n7/6Z6cL4u83vkkUcEvWOFH047poCXLVtGRjx//HiAMkLsSocCiTwlLzwPl+HGjRuHh4fFN93R9tx/TvLpfCGAc5Zj2FPZgqI4kZXxzUxDcSY9bdznWylBcdvPgqhz0DYOqENjSrq3lLY59L2vd489mCqNpGJ/yu+Uz76k/OrfbrbMWTsdppbodikc3tTJ9SuT1SRq9xWVJF32Gklmans+nmnEndnUQCmV8ScOGrpSz6ULjW39te0Vzv3EG7jhnHj5aTuNcm1mf38qVK1CrKULsas32vOFjyxXIiARkAgIBBbc2j7dUCLOyFNteB5LsexMwXJMvpNmsdROU1pN32PNvuo6qSJnvCxbWXrNJvMVG4av/85oZWjobW8r3nb39k9/8rY3XbLmjM2pbXsmS/mBNUtK37q2ev8TS5etyyw7zz93be6U0shHv7WnOrr1wgsH3nTRK9oz5nU3Nt/wpuKG4fXVqvL16+/cNa353sTKEeMN71yzZHjZn37qRxDF5Uu8q95+rq0W/vn62974ho2nbSgUHPuzX37ipscCrdJOtfesG2xdddnqvQ2rMWmf9XrPHTvoxT1VO33dDVvTmt0KmYUs7Rl7olCwc4rTbvzsbb/6y5lccWa2tWKpOz45fc31+xSNXcxT55+X+aXLz/vJ97fu8Tu/ctVV64vK/Q9NfunbWxphLuXASfL1VugkQX+vM7CkcNH65cv70lffePdbz1h98ZkX0J3fvPnB7z4046cG3WZrw9qBt1y6fvu2ndmCNbRm8Ib/evDJLW4raKcr8ZteudZ3+tRqY2POqUfqP/zg8ZWr+t786yMZOzzn9NNP29j7yB13bd0/lS2WC8XcbDvWF97SJrBgihbaJ9gYJJhlfMK9JwZ319WH5MDAwPT0NPKrVq3q7++H0vX19Z1zzjn33XcfnA/H3oYNG/gEHP5CFJ5yyinMFw8ODi5ZsgQvIB7BNWvWkPfRRx/lVr47FiACwdy3e1Q2ehlJy2gdSLf36J1O7I/pb/kba8tPa09PpYaHVm++2Djt7bV7b9j/X59KSiMDI5uTV1xl7Ns+fcPVSn+Peu7F06FdWfGaCp/WixOOcM9e/lvxz+6fvu6z2XS2XMxVfuW9SrNV+/f3G6nKwCVvVDa+NXX/D6Zafv7SK1e4xoF/uLxcXttz3htna2O5sl0YGky5Awe+8/8Vgif8Wi00MhUnl/gcOroAwZNVkghIBE4iBBac90JN5k5f47c7B+zZTsbQLY7jINEN25zmwjZe+F+7U2OzHoc3G5a5bCh7+vLgjZettTR9345Jx8wPLc2+991n1hvuN742/b1r3ZHh5m+8PV3MhkHLM4N9F20eWT0cNiYODA6kh/pyZ67Jb1qV3rh+5Oltu773n4+sX6u84fXrxkcPdFra8pGlK1caK/qaS3t7k8Bc0rP09NW5gcL+11xw5tR4/abvPGyE1V9+XSqlRRmjT61H73jTOetXGtdc/fD3bni03fLe+sbTNp2aDqKamWvPzowVsgONzkzfsJkxKmGt/Qe/d/G6U4qf+sS3Pv/1G+66/e5fvWTtb/3yOZPTuzqpzFnnrT+lZ/Sssyunrl597XX/deOtj/zS+b2v2JiarVW9MJqt1TK5Mh8qabeb2XLujA2VzRuyp20c6M+Wbnn4KaOs/O6b1792XbnT8B1L//AfrFeSh7707Ue/ev2uNZXgD9+2zCk4+w92Xrtx6WmlMz73qYe/+q29+ybcocpQqr1y95PD37i+qkTGzd+/48bv3dGohf39g4qaNJuNBejkEm48/lIFt4OT4cxjZhaG1w3i71jcsqQPyVwud9ppp+H5u/nmm7/73e+i5MILL4QsivStW7f++Mc/3rJly+zsLHPBe/bsgefhGiTvQw899NRTT1HKSfRuWFRNdeK2ErTganU106mcqq17nfPKd6UveY927q/WvYpvaX69/uBtN06nK4WRc6JseWl658x3/iWt6tbKnsj7We+2u8IbPlMJ9ikPfnPyJ5/Zf9vV1Ye/lkvqhbIy4O7KuTt2PfF0Pbc8XHOOZ5hMCwdVr1McCpeuPJg83n7yhszEAz2BWzjtrE5tovbtv7c//n/tuOWn1ppL0+f8r1pd6cvqStaZYEZhwb1uF1Ufy8pKBCQCxwOBBeftYzE/n04n+H5b0yzXDdQwdswUzj8+r2Q4oZUydFbYJV7bb4xtj/9lj3XpZ84e9X72z9/csuqm4Y7TE+WX7anWHtsy1DCre+vNBx6dPf3MFQ3z6Wo7W7t9zY/X737NxqxWMPc0Jh+5fvzS9ReWi5kfP/bTPRNuvlHfeP7TvcuX9a1Y2wiyX/3uE0528H9fPDTeSGph5kvfeOq8jctXr8lc99m7Zw8UQrV26grl4kt71vWPbZ+oru3PnXt279Vfa2qFET1rf/uH1decv+qhJw7+y9f3956aqpRPrdd3+FHHMdqNqfYr1w6/+pwlf/l/f7PQu4YvAt//0L5bf7DjystWPb635ys3TjU/9fRrPr15tJr9ty/dqZdX7Nkx8ZpXBRvOXvuFnzzJV2bTmXar1eyxc63A+97Nj62Ky+vfcsG+/c41Vz8+aSc3373ji396+Xve/Kob77sh8Zt5v3b/z4xqZkm9MbvjiT2nrBwJm51s7F22ZlXvwFR/b7tm9l37xN7ToDaYuOqYn+5XkqKTqgRB2W3MduKmZmuGnrTa7UxqYS3vE2wPqkdEXInwg4E/CsHzRET8jZACYyPgveOKw4+pW5b60W48fJlMBicfE7vLly8nwubfbdu24Q7kEb49Jo5JZECysI8sx+OPTuo4/gjYLJVlqQbvBn4JpIthquLZPR2+8tioGXyTLe2VVGVlPGunzKjdUlos3u2vDpQKxorOTLjPKvUUBvNOv5IuKMMV/ZGkXB7IK5NRIxsppVYuV9fNnmSvvv9po1zIOdNqR1fvvUHf/EeaObHy3vuCA9+Y7ulJF5cEF/3+9CO3ld/53rbZs4pDos145BXnjt+SLbjtuY1lkdZn2XXOjpZBIiARkAjMHwILjvZxlAor9RU11I04CDsaxyeHCd/kNY0sX1BrNGdqtcjJ9et2I5eJ2xO9lVVRJ0keeWLMKa8wilFT36LmBv6fj/6ouv+M8y+xRwa1TaeNGFGPqz6u9z3FB39t53LVdoPESTKFsMm3N9jta+4en8ktH0mezjVaUyOpohfsDtWKYseFvoF8Lmr4B9ViqtcsBmqn2pjg9P/yysqumdHZpha085Hb4/rbKsURHEF21tXTu5NC73hjwrbO7BkYLPZFqrWrM3mQ3bfDw/3j1VE7Kl5w9lBK8d12gV0qBaU9rlQe3ev+iumf0hdWKiW7WFHUganaTt2xgoxT7USq0VKiCduOHWdGi/UoVhPX142MVeBjIhZfp9u1z1NL2tKRFaMHH9p1oL1iML+0zMr0le//+EMHZ4MLXrGyv5RevuKUTFYxtEhPe7fct/19v7vuY39x1X/dtfeOB6r3POjly8u81sN6qqXofI/YnZmdLaeMVMZJ2PYbp3IqCxI78zdKj1AyDA8qJjx8MDNB7KBxsDr4H7fkEdRQZMYRiNMOYsdUL+v5kCR97969+/fvx9sHsSOOI3BoaOiOO+5g/R96UI4YT2GEKITzERcZj1AhmTSvCDSMvBZ7bGvKhZP2nh+5931Rj3NW0DDmzn5qTMy0G1FQyLB4Q52JO0MWZ7CrxZxWbU4uYVd7jg1cLQhhrgUn9FNtt9ibYuev0ubvLFTDdlktxblCOterm9lq2/AUZ9Dh0KDsxHa+DT5dXDvUMOrG4BrN7B/cPab3DT86W7HU+/Z9+4PLs3q+WImazawRaJw50PSUtHQYz+tAkYVLBE56BBYc7VMiJYzmrLjG4SZ+p5DL81M58qNWY253XjrNSfuKbfZOexO2Vk+SFZ3ZTirMDRXXmUlYm9hbXuc8uW9mdXLO3/1NcutW5a7vT4Wrl/h2Pa3lo9BOcNa44xk1m7RTQZz0FLJppWnHmZI94EUNyxvOBdlcu7cYFdnlV3HyYc3XO+0ea9lobdTwapof5ZK1WrveUsbNeKme6ijp1K5wt7M6enL7xJ5tI1dcnPv69YWx8fyrN+McM1kexwkoajPsMevTWjg1XcvyaRDVHxpMAoXG5RU7KWQO7osy+4N84lsj6VIcbtVzg42WyvGFBd2o4aYKrIpazLqxXvWdXOgZLtO7ZT4kYiYcRac7GJbYUxsZLe4cmNA9c9toY8nqfHHYu+eRneX+U//l/aUHnpq57+6Hty/Vlm1YH6ZrRnbpNY8cCP8h+OD/2XjBSnvfVZd96BOP7TtYdfjQseeEcSudMxzXAu16u8mxLyoEPElDBxdUOLQSYG5DLvyMisHwIHO46OCC4lZcu8yPlX88YmcGM7n33nsvnjxoHJO8rOpjhpfrbbfdtulQeMtb3sLuENb24epDPwv7GI0o5wq/XFAgyMp0EdBjN07C2LB9oxLlVtRK6wx7eUdrpO67JezpxJrVTvfF4YwSZILectxsTS81l40eVJSOr43GUzsHzSXTpqNkSlbckzd6pvmLak2tzhY1vxC02K1bmfAm2sE0757h2JwwNLbzp21loOm2fC9OzuzM7F460utZtemtn1cf2LbR7BmNNiwzd7mNSad4ypSfpCpKMwiYt9D9bpVlRCIgEZAIzAMCC26xCdyDPRwqPicfJ18a9w1r+Nj9WtC9SZ1Pd7TTQbmt7tH1druxJGuP6sUxPrdZD9uz2lPZIXVq1F5f7vnkB3pufyr9pVvqO6L0bGCzmNryxywzXeerupHeNlI9SRyYecVtWXrPDFN4VhkXWmR7brpWMxqBaUZ6vhGqLQNDYqhevmQpvK41O8cXvowgbzphoVloa3FTmdyUWqnsGfes7Ce/ut0N0x/4Xyv/9KK+15/X/8//+cSPdrssNuux1xxI3GzYp+jVttrTcTpNd1ZPKvn+sJOkZ6sFNekJPI1WjHn7A6fZbrvszG3rlWaUtdyDeTsZtxXX9Jw4U8vxmWAnnVWnYiWxOL4lM9sstw0t4ypuNJ6pDEXeCr86xdbCHbu19eWhL/5h+bHp/V/6UfPJgytVPx42Y72eTbtLV6X7731q+k1/d+2/3NMaLCp//97TSpXqhI9/z2zpmhWokWJNG/VCNhgwh/1OWk3vm4ex+ZxFwvZgfuKYFfgccSga5EwwOdgeTE54/nhEwFEHz4MXsl0DzodAT08PGdnYwUZd9JCX1XvXXnstbj+Odz799NMhfIJEQvioC5qRec5KyYfzhkC5bTXVpK1FBZ+zWXL6ZCNr7Ol1G45Sy02M9eQUvbOzqhmFlNuaNGxH6amOTfTZU6lM1Bpu22t8Z8YMd9XpZWW6ZXZy7nivtk5PP93ymxyVWU+xVagSqY4b+0FascyaM1t0lLCpmrNKj2J3lijTrDlJ+YXk3HerSmV3zym5/saomi698pdndCufShXram/dyrQW3saoeesxWbBEQCIwPwgsONqHicVIA4Zp6vzHCplWi9m52Vw0YCSpdFRROJot0HtKA+lsqum1/BnbiBUzMgpW3ohLXiN43ZVnF4drd9221225pq01E69lTiQOx6K0UmmjrUeK7tTi6dDoeAYuII+TkWe9cQ7NCzsNS8kZsTMzsS9rBbbi8x0230yaSr3u20zINs2GUrZcq9ZR7H25HZZaqyhD2yey9eLytj6xYrXztW/tfd+1O68bf+pDX/7J1d+b7ITrDG1wauqJQtrx7Jk5p1Fkhu2eB+9vsrz7Ta/rj/bs78+v0FpjpUyLA4rvuVPR6qtyqumFnZQTdOq1tFbymxwX006Upg73C9hBkmE/YMqwEq+jRO2UiWeUqxcVVk429qeN5vqNvQ8+MXFgX/u8jcGmgcKd39emJia07JSSZ9tJEir2RO2RM1+zw7d6Dhw4458+Vf/Hf3oi36OtGGGfiGo3kmyU6ox5wWQ7m1TadbXjdVIFqzN3qM7iCGKeVxA+uB1UD/6Hkw/GBi/csWMH33CD0rVardHRUVJggRzpx8ktzPCSCC/8/ve/z0QwH/wQR/qx8o8IjxiWXBcHCidfLWfSVswaYJWD8aYUq25buVZHm7atjlPumKVxL920hkI9pzQmhktmTbEZE7MBTnObE5tNrdFsm3Zk9QQtJbZnIoMfehzt2a5xKPuKUS897U45TPWrqh4E1VYw0Wgn2Vyo+HUlyKlPtOx6Ryk0d2wJ3J3FC9+QW/Haof3bq7snenrXK72ne+lhl0OpWEfg+ONyF/jJNzJliyUCCw2BBTfJq+tzs2mcp8v/zNow1ZjNOflCulieUJPi0ECUz81O1Q6qZjoMypadXzoIlVGKpSRsVf24lDEGJvZVw/Ocd17lZO7LFMvJhlWq4RYv2rhhXzPYcndtML3UVLSRgjG6f19vIV2xLdVxekw37JQzTkfVOMVu6YrhNaMziT13PGubE/KW5ZMtB/WlPal02InanIHcHJ1WSlbGalbNWm3jsmh63OlLZ9/5a0tHn95dLJ3ejh4rnLF5CnfCxI5t23OZ4mA9CJ2MH9ZVPenkc5VHtrTueGDfhrXlyzZVH91zTzk1/frL3vbtW3du3d+uOMWcudfKLbU4bCxnaZGK5wn64qTUnoo6WXPzqfxUtVou90Zaq12fiVn9p4abNq64+wcPl52lGzaMVnrO+/KXcHxmEmZmW413va7XusXpH1Y2rhxI6vpFG1eNNcY2FZeP/Kb22a89XioVRpujB91TJmuzUaLVGpGeRJdfVtk2ndk3m4ztT/g8cipXnp4qOQtskvdof0j45NiEC8+D0uHDg7RBBGF+DCcmc6F97OpgLpczXEhh0hYmRwR2yBEtrPPjG26c1cdSPzbz4upDCRQQv+D5559PfPfu3XJt39GQn990Jzhg5pZHA+trkR45eX3FWWH76Yx/cMY6Nasq+bBu2U6tVW8+fqe+8fKDr/5AyvBXdVoG3ni1Xz31stSuR8NWLWxNO2svXOLv0urjwdQTyYE9g2efo7z+PdOtrY5d9nI8o7MAAEAASURBVJcsc1LZ8tmv64zviNVVYTsZWnLO7uFN2p44k8uFyQHlx18x3/jnjT/+VOEn/9k/OJJqjwaP32xM3JvNZfHrt9pub2/Jb8zOL1CydImAROAkR0D/yEc+Mi8QcEiLrkVP7dh77Ve/mu9f13vqayLX5asKpMNyiPCtjjD0OUCEc+MGBvtfeXbZKlntMBeoZS9us/ZOCazensr5r0wtHUzZ5cpMJ6zVJ2LT3z+2ZcOang2rRi547Zotj1f3bGmetXnwwEzu7tt3vGrz4LlnD7e8SdWuzDZnzjptyaa15cTqtILM6PTk2aetOHVTYmaYZy0+vXvrmlNy5796oGQ7zdA8ODWz6YzSeWcOspW24Xfq7cbGpf2v/aVT9Vyn1mxM7bf370qvO8W/cN3KTSOZ15w9cvaynoteseziC0a27Nw/XtM67EaO1axVsFXfyaj7J1q797fXrV59xaXL3LTz2gs3uw3j375+a3pgaSbT/KWLNvb1D7Djz42Mydq+0zcNn7Iho1nWVN2caG9vVbVCTzn0/FanUe4bPHNV4fRTCk1lYHVlsDeX/d/vWPUf//HkLfe22llvZtxYvrx83rn+Ky9Z9uADB3/26OMXv3Y589ff+eYDq4eWXnx+MZv1C+X6JZdtuvWnW3/4YJVZb0+vbVyR3rR57f66e/e9T7OZIUz4ksd0T2llFDRf0nGSqImhGJEWKBGH7yUefhjd3PPQd2J3+sorr2QXLc42+Bmsjggj5GiVgeqxLYMA82NiV2Tka7wQO/x8cDgCMsQRgNvdfvvtKMQXuHLlShg26/nY5Mtm3ltuuYXznPHzQQFPPfVUZB5++GH0oPOIRfMxuTDRsmn7oYce3vbUU68/feDMfqvDPvQFeODhERuw2BMju7P+3Nyai7L54TQDxVCqcSc93VCz+bQ7HndcTnuP2lVP0YqnvaJn/Vn8Kjr4yO3sHbOL2fqe7Z0DOzjx3MsNNVdfZaS19pYH89tvj4JG0numsebc2eGzq9d/xcj1p4J2Z/sDrag5uPIMZfVSpcOE8dry/p8Z9kxL9b3HH/M6rWj1mc6STYllbP/Jt/0nbxkpm/Vm7BvFYrYYTo8n5iL5/bRIxkOsqJYSBhz/wMecksTWk4Yff+6eqXL/wO/+7u8Kr/8iaYqspkTgZULg53seX6bSDiuG5c2m4V1/051vu+Ly4Y1vWv+Wv/WrVY5f8IMI024Ymm6oQcBBdYHjzB2r1h5vOFnPDzNhVIqSWqK6fgdDnnXiwaQx7qkps9IzPbNHsVjSbxXCarlffXpfuRHNDFTmPnzrmg0zzfK4dIavLjV2p4pr94yH/RUt5Y1rfPIjPsXz9pbVDYl/IDGaqWJ5qjmZMXsVP5xt7uxbsm7vdNRb4pTo2XbDUEzVtTM9oVnzZ+2CytYTvx4s7e05a3P9nltbdbPTX8hGs1ZQy26+JDtyavrvPn5bujQcJ2VLn27V6g4fbUs7jdmgpLklZ49V2WSH1oF99clQscqGk1R77VRzMlAzbKyozDSmKwXmncfdZuxGI0GqmrK9mu/ZkYkVm5wO3nHJwG+9bfX7Pnp3MekNKmNP7tptxGvtVF9oq436bFqZ7rPimWAdX20z1P0Fa0UnsgN1NmOk+1u1oOAPre3b/tSBsQkrPTiiWh2/fqDYsfWc346dOBoMPNdKTZmWOjttpDMvrbmaW1qp2J7eTvxMRotqepAz0z/5/LuC6tOf/exnWY2Hmw3uhQcOFx0j5LCh9D+iyIj9trjxEIPGCaYIE4DtMYeL0w4uCM9DElYn5nC5ZSUBO3aJIE98bsi12xRKLiQJXer5P8r7xQ2fEe5E+kAl9/nPf/EH11//T2/f9FunZ2Zm25p5VIb6i6zy3+OAQKbFn0rR6mhJfb+lsQep2DSSgY4xZWhW5Pr2AN/mcLyDjZn9Ybao2qZRaxulnGtV7IM7+QtO+oa8yb0ZzUmMlmano2a61/BmrWTMHB5hTUk03lLVfUavaaaWsGYvnjU6w/tzdtZXamalV73LarJs8HRPm1bGZzVj2Uw/57DPsBN/tt3K9bDTv6PGHTVopCxWsKSPQ2ulil8gECisenFbatpSkiCOclY82gjP/uSW1aefwfe4+XN+jp+Iv9Ah/5UInFwILLhJXmw2dh1zyw92w5jzrHhu6LmzgWbVXZOvw6pRzTIV07BiviSLM0bdG8eBxSfMlH1abqreaPeX1x3cZ0yHOc0Oy3ZONXKesrMDhZla0VInGtEUJz63mjv6K+tUdWLWQ6kbRlOq05xpbU1ZadbK7d73UO9wqelGoatHZq7VOMB3PJt1N+ooTmlQac2YZqcdm5WMOj7nOczm/fbbXtVfbycPPqmVN/Y+cU975UCxPjbj3zf5+qFN5exaj4NodFPRW7l8penmA21My4Vtt99Wz5scb1cnd/b2lSuZzOTsTLHSt3d0IuOwxaTjNralCvq+6b1pK2tqDp8djrRmtR5pGT4Er3hBpOpmsdwH0Q1C7aHRVtzxlcKmxjgf621G0wezWjngq/PNXiW/Hw4d+T2hXQua7P3NtuKt+42NXqP+2G3b1y4/M5tR3Zm9rD8sRsOtNN81na3VWcWeNxyDbbzMkfYUiu1wYR3gcrQ/U/gZ44df+fjzIHAMJMHziOOrw8OHGYD8kY4Ygw1uhyqeMtoOuZm1iYkJ5nnFzl+onnAYMNLIBRfkerSiZfo8IjBVHLY93wlTXqGUGJHpF53Qmy305Tp7OO0zUrxWdX8mlfTlU/y4gb1lcjbb8zPpWm8x027qjcjtHRxKVZttS51p+cX8oBd6gbKnpE5NzSZ5J9UTtwrObBg2Yt/TnChVyRSV/fWOXta9SmFps6ZFru1x0FFfuui1itNPu0rBMnJaipUErbmvDZlqRndSStSYR4xk0RIBiYBEQFEWHO3j2DV2dHAQG1aZ00s4l8M4tNpPZaudlonDtsfMWcQ0TkqH60FnjNnYxnPTnjgwW+of7M3rbj3MlvoT42knGmi1nmjW/3/23gPOjqu++54+c/u923fVJcu4F9xiyzaOjQEbDIRQE8pLCOQJkB5eQghPSHghkDcJpFKCwQkt9EAotsHEAYMNtjHGRbZsde1q++3Ty/O9O2Yj7Hv1WI6k3dWeo/2Mzpw5bX4zd+Y3/3ayufzanNY2NT2ONgZB1cia1dZOIjRIil3Jjchqs1kN9exYS5mIjCifr7TjtVJQ9PyqlY1ycklvuplioNt5NLUQCR2iKEeKNOTW91pmbU3fmNdsbV5jbF53RmJN333n9uScMUVvnPmi9Yla/Nd/+X6irg0SpWCgGjayOdM0Qi3UdBXHjHYryEdKfXDzQKs5o7dm+nPFmbnp8hDStklFLsoxOosSAWuwKEJYJSWeGiKcwtWwVcxn49htNautxqQfmCyl0TSUfmmN5DYrgwPzM1OlskScMIkO5CnZ6csqKEMitZXR7RlV8k3lXK+426tnNm7ZvH9ie94Y6SuoupGZmQwTc1qTvL4KARNb1UYg4zsSGu3ARZWyIhIsDawgf6llHrpddlNWR+HiLnyOG4wz4hASQUz6UmEebA+IKYERYhHIUVgjiRKaUw3h34rAYbVN0ozqWbfhJxvswkAoewVXyiXzkWfEKA8MKxfUS6odBoajlR1rsCVbc15zsDji2M1dUkbJVPTWVM0Op5PiOiUsaNOy4e915YKVG0Uw7yJGah/sxDCvYVyg5ddm1XpzViWG41hhM/aA8XwhzBqR0ZImp+tja6eKxYGJsFao9Gle2Nit28mGgbV+bM1NV61SUZJFxO/Vdm+K8xUILC8Elh3tQ5qCZH7BJD9ZkPnBtHiVE6NlTJJzhGjI6I5uZm0cNBMfwY7h9qGySbz6aP+Gtq1ISijFk5ExMRtZa/P5jLml3ewPNdZAn84odmLMyMbQRL1RGbbsuUTWpXrgB65TKQ/ZrenO4rNzCvLCSjnXbNYylomd2axqV5RiPW4OoZyV7YPJ+NrMWFPyM9lWO84XK9mgHpqZ4Xd+4msvvPwXLz5n4OIzLrPD2Zmauftg4/vfq/tBwaw8qMWbXbeuqhtipRVJO61gxAqHJWnSs3bKsWp7JVVem41sxI4Kzr64Iqh5YiaXcpXaVJArVlyig4X1PFEkgkoctyzZiB3P0JMrtl1w1qkVOan94mVnBz9uNg/8tCyvm1F+kOk/ac7uV7P3Gt75ktUIvHlVyRoai8m3oC8tR3cU17KjUXODPXWgWMCYMm5Fers9a47lzMYm4trIEjwPdTm0J+fHrXxeRb++vO7cHrPhXuEIFC0N4AKHIw/D417ipkoPIdWD/0HmqEw1CuF8VIApwuo4ioKYm5ASKgAB2wXu19EOd/i3SMsPgTBE0tdIIr/kOF7ieLph6HJQN7RsaSrK4M+9vpxr8chIrD4l1Nr72hnFi0alRKlk0d/asZzJ5CqevXPaPsXUqoE/oVkjeiI7+8al/BY/r5tu0q/LfpTMu36ciVk4MmuyeI9djKdamXxbQvvgDxcKihs+MrEnHt6wpb1/MsxKoxclYXNq/pFyRskOVx4N1ZFo+WEnZiQQEAisJgSWzLYvCiRZd7/zH7c+7/nXbLrk1zZc9ra6WysHUpDtKN26pZ7mXN0qd1bo6lrOCg5dyzsRu44kEV9wMUEs0sSgZb0jFkpZAhVgDCSogy/3oE1xj6AOSnelqhJ2otvQYaqRTDMdphL0kCIcYf8ICBfP63hmEq2uNvNGhcXua0RbccwRzQ9+9K/XufOz119/fUrRQBKE2aaU7phOD0i79t/rvnIkPZe0B3LKR75w85c+9alPv3zjS0/LTLlFTe1+HWXikot09BBADNe1s0Tq/rs70uvLEkFd+0eI3r1clB4XBHTdjt2KKs3VMPIzTqpEj+70pEv+//Gh00++7777mAIfeKnBLo9lnpbHZVJiEIHAskag+7Py+EyZNXZjpcOGpuZ2npRt5DItE5M+O9d1dGJmdS3vWRj3oHdK9/Ik6f6a7/V60Bf6XzzKMwVCQHKJAaPIiaxIWie0LxyNlUJJBuGYuya5B82NukcGDg2FUXjVdEaMiDqNEWTnjHJK9/qy1J12JEc6n66TP3qFcZA3pJIWhTqqdN+LcN7RLDMuN/wJZHUI6hDFkcHGjvNFJoco7ugN3qWnFNUuB3oUmSpGqIQYz3qSEemEvekPddOJcsWeL5qeB3qMIIoPhwC+X10Pq2p3F4ow6k7XVGKdd0+dz61uSVzHbqgcrzJH1pDU5q0+g6CKUqYdZKqRbMsmH4eYZPDcWLTK4OnBM0Qwv+N1ZcQ4yxeBHlzk2E9YVfgMR3SDwpYFwZCK6e1m4LXapjHQdXACunQt71UI7+qaYGddyxcJXNejTywkjshCkw6l4yhCRP6HK6hBJwDNQklnm7IHthEn3C0lPWx9ZKm71E0LHxPQ0mea0lGCHieMMWK3YSnr3r+EUd9SpIBlUAyf1UYkAu6iS9MIia15moQXBU9wHtk4ZPDVTh6+C/njCX5Mpwm2XftPL27XQ5JqJqqBxWVnhZnA546wojjyewS+SbrT9O49i9L/GwKK2v168f3QtWmv13+0oPTv0qSXVK+XFLBLF6LoGCBgdSI6Ba7n+l6iaFjCEGohY8Z45WOeyxODIRH4Qf7YPQbDiy4FAisPgWP77jwcHkrI6rtNN3Z9a9gY04N+PZCKOvH1Dxyu1ZM+1uu13auDw73Ou7VJ1A7tS1ul23REVs3oLBAL81sgfx3et5D8XoE84l70qztdMH/2FmMIFL1MrTOWxNol3aUXUk8l71y300KK2GM+3WsftdJYYeXfqB3ZWZ2l6YJEC205aPiK1GzyWF+3bh20DyChfQxJBiJ41Mbu1hFDdCt+DO0nHgqJdp0b6Ktk+qykpMRFM1LNoN93eBE9sTIliSRoX1dgnmIhbjxdW/Ir6Vp+pNe3c8W6p86vT6SlQsCLQjlrWnpfxW65kmblC9qkrTltRH3pI4ILDeFLRX1LNUkxrkBgWSGwZLTP5y1eNCRe9nFQzklxc58V2gUjpwalIwKo5+O7Ry89H94pS3tCq179o8nt+iKItMdeA2lDqFnaZa7X+ma9bOl6SAGDhf7Tzh+bGw67SVJJur/e5B40LlF6fPv2ms8TkDnKBXoLwaSS+IUoITajKjtSqA6Xx4J4Yu/evYj3SKkhIywQppvyv6M8h/9Bd4YcNQJWA5Nrc/OxoT1Q0zdNW22C7czXu/Ya97Qx7VpdFP5fEEjiHvc/Puzd0mO/nSccSj+inlAM6+shBe/1udWlC1F0DBAIYk91y0okRV47bmcsbXdV6itIqHdxwEodBHlWYA2MfoCL3vP6HoOpiS4FAssTgSVz6UDy7pvqTd/60fOfvc3MF+S+p7vyvIlyz+v+mO7Byh7Toj55cHt9/eOG0bWTXo+JWHvsNbP4/kgzOrZ9P0t0SPM0xQuuGE8cQlY6nqRPTEncg5b9jEc+blziWz+xE0oS1KbdUs/+e9DNbn0czbLEK6HCbZq2FQ5knXkWMJWNsejArTiqoOdF1MdgaYwVrPrgfzh5HM3h/8d9YZHalrW+SrHVdvwooyTNEos8YNnZS5ku91K+/4+nsjo7wC2/a0p64NzLun9hQfAuPQna1wWUpS/KaTqrZeMflZESFkNSEtnIDrlJ5qytxbvuugslL4QPaV+q5+XRkap9l37eYgYCgaVDYMmkfVLEj7UTKWP9WLZNhP3pe9VcI3YRgvRSMnaX0/VSsRDxryuqBLPrmpSusruuVRcKWcyB/xe512LFzILu8dByaB9H7e6sDKfc7h64vaR0pv/Y0mQpm6TntP92D6mG2oPGERNwcc4/l+lR/+fqHIMd2WHh4aSjCXcqml8lIrfnzo+UpRm/Y5JfqVRSqsfne2qmfSjCx2A6R9xlSQ8jL+t5rVJGq6nEWczJlqQk2YpzsEdfPWhKj9qi+PAI9PoM6OXS0bt+rx/q4ccXR5cGgWwcQuXMKNePgZBUj9q+JbssvrRu3emzs7Ojo6OI+nhWpI4dUEBB+5bmOolRlxMCSyftc23f0omvNb/7xwPFct0btApO2LIDE5P+LqnXYzolPU9s0Ku8F1040vraz1xM6DBtm27dBU/hQ3tLR9S6CzHppbtUL8HFoVsKf6bLetyJEGOsW3X6745nLyngUgVwycRSoPotK5BaA31xs52zp5vFzRmPhdjShzVbDHRS02zI36EIdz3x41yIOEEurTVaExWl6RtlvmeKVlwLTUXtjr/Q8R7dCySj5uuWkrg7jet1/zzuZ/XfXfYKwMTqvyItHQJK0GyUi7FtZXg8mE5W1rJ+4ujtKMmvXbuWeWETkj6iyRxrP7Clg0GMLBA4AgSWjvb1mGSvxy4/Wr7bukrpYYQkJPlPPEpvHOLXDmOgh9SZi8LUwpdHP4XkKSeDPIk8o6Tl7NIh0+QDMe2ZrjhKSZrh1U40YPLUpzLlaSfpUyY9v/R0qJBm0kKxFQgIBAQCAoFjhwCP3GPXuehZILCiEfiZ7GjZnwR8CwMvtkh9Hn300S9/+cs333wzS2nBvdjC21KZEOyKkvRs4GrswvloyJbVV2+99dY//MM/JAOT47nAWt1vfOMbZ2ZmqA97o4eUw6XsbW5ujmqktGe6TR8lt9xyC4FAU21jyv/gfCl9pB8yDMo2zSx7XMUEBQICAYGAQEAgIBBYLQgsOylUL6kYBAvqhjvna17zGhjYVVdddfDgwd27d0MEh4eH/+7v/o5D5OF/1IRykYeNpZa8XEz8+T//+c//8R//MZ1A2srlMkc//OEP/+Zv/ubXv/71Zz7zmakgEKYIyaMt3gO0Ik85NBF7Mna/+tWvvuUtb+EQvHPjxo3kX/GKV6Sj0C3lDEd9ToEER0wTDdllK5JAQCAgEBAIHAcEePYeh1HEEAKBlYjAsqN9vUBMidSv/dqv3XHHHffeey/aWJaXhfmdffbZl1566Ze+9KW0AowQ+gVvS+V2qTKXQxBB5HYveclLcO+CLKZK2/n5+R//+MdwPgZFekeTRx55hDifGIVQmUKeHRSSpzmHrrzyyte//vXPetazvvOd77zjHe+A8P3whz8877zz0kdMtVrF5xT+l55COp9epyPKBQICAYGAQEAgIBAQCBxnBFaMkhdFLVK3T3/60y996UvhYbAxdLuDg4MQvlQyB82iAsZ2ZEgQPmgZsjcYHpmUmUEKEchRAo2D5/X19cH5EOlRQie0+tM//VP8v2CNJHa5GLQlw3CI+v75n/8ZtnfxxRf/yZ/8CbJDOrnhhhs4RLVarZZyPgrTS3jo52ba1XG+tGI4gYBAQCAgEBAICAQEAocisGJoX7FYTMVp//Ef/0H8XrSuiOUQrW3atOmUU05JT4lC2N7U1BRbmNb27dvJ4/sJA6MmpBCeB42D51GY8jxkeI1GAx45Pj7+vve9D25HOSwwVRlTGf6XErht27Zde+216S6M8znPeQ7K5QMHDqTivVKpBI/ctWsX20Xmt5gRtO/Qe07kBQICAYGAQEAgIBBYEgRWDO2DQg0NDT3vec9DLfuCF7zggx/8IHjBsRD4/c7v/A5Ebf/+/W9961tPPfVUvD3+7d/+7WlPe9ppp532qle96s4774QFQvUghcjkkPal7ref/exn6eeaa66hAke/9rWvIUqE/2Hw9853vhN/DrhaStfonPJLLrmE4RgUkSGMk67glM9//vOpQznCSFTA6H/hi9RPryWHUuZ3qORvSS6zGFQgIBAQCAgEBAICAYHAigk6ldrYoYRFovbd737393//9++55543v/nN2PYtemNA7xDaffGLXzzzzDN/4zd+Y9++fXA4ZIQ48EK/qAbzYwvJQ2gHiYS6QRYpIb3sZS+j7bve9a5f+ZVfgS/i8wFXS+laOjSdU407hk4o+clPfoJXBzI/OB9WhpTQhC2dLwr5qJz2kG7F3SYQEAgIBAQCAgGBgEBgCRFYMdK+VJeKs8W3vvWtf/iHf4C3XX/99eeffz7MDwEbCJ500kmQQgzsWNHhAx/4AE67H/rQh1796lfDz7D/Qz6HEA5CltrqUf+KK64geguZtGeUyPA2dtEa9/f3Uw25ILuk1HaQ5hSyC/9j9Pe85z3EgiEKPIJACtEaf+Mb38DDA81vWp9C2N6hFJASkQQCAgGBgEBAICAQEAgsFQIrhvYhSAOjVOT2pje96cYbb3zta1+Lrd4//dM/oeRFx0oFPHMhZ6h34WdI8qj/3Oc+lyYPP/wwDAx+RjnVyHfUtwsxVlIuCDlDSofFHk3I0ISU8jnqp+WI9DjEQJT/zd/8zRlnnIEGma5gjYzLlvS4q8hwEMTHFYpdgYBAQCAgEBAICAQEAkuCwIqhfZAqfGyRwOGZAQ+7/PLLP/axjyH2Q7ZH5pvf/CYEC0KGyhUXDcgcBnwAirYXukYJJA8Ch1keFdDVLor9KEdQBz9LPTlogrwwJXN0CM9ji6QwvTa04igq5m9/+9tECqSc5hyCfTIx8vRDooQ8KW1FhqHTvNgKBAQCAgGBgEBAICAQWCoEVgztAyAEeIjZMK1L+Ra7BHOhBFKFQy7sClrGIWhcKqiD4SG0QwWMqy8ZCBzcDmUuxBESyTZldakwD2qINy6jkIG60RvckSaLFwbKSM8Qvo9//OMMSleL1eiHQ4yeVoY1kthl0LQw5YKLXYmMQEAgIBAQCAgEBAICgeOPwIqhffAwGBuGfTt37gQmeFXK7ZDnUb5+/XroHZwPqgefg7EhfoOZTU5OwvCIqJxqYJHz0RDiCCFjSw8QspTt0Ukqk2OXDEyOo1RGq5teFcSHKHM/8YlPvPvd74ZHwgIpx62E8NF0y/ToilZMgDyHoIyU0EOa0k7EViAgEBAICAQEAgIBgcBSIbBiaB/kCZcLQvG96EUvwnkCER08DKO9173udZjZvfKVr0SZC/ODgXGUwH4cZUG23/3d3/2t3/qtiy66iOZAnEbyI9ge1dhFRghBpHIqmYM1QtRwByGA3913351eErS6ZOBzMM6TTz75/vvvf/vb304MP0bEcBDzPjyCqQC/RO984YUXIiyE+aVtU9qX5sVWICAQEAgIBAQCAgGBwNIi8HgvhKWdzeFHn5mZeeELX4gsDTXrTTfdBCHbsWPHhg0bsO2DbCGug/lB4MbGxj760Y8Sz48ALrjrvve976VbeBvx/KhMq6985SuQtoceeogKRNr7/ve/f8455+AITBA+fH4/85nPsAQcS3HQCrEfHcLeYIeEiaY5ylzq464Lz0P4d/XVV2/ZsoWayPYYHetDKqdnwTxJKd2kk0P1xWkFsRUICAQEAgIBgYBAQCBwPBFYMWvypgI5iBSCOhS4qHpRv6KQRd8KtYKWoZMlCB9h/PDwJd7ygw8+iJKX3RRNaB/1IW0kjAIhZ2Toh1gt09PT9IkoEWFhKjKkIX2ixk39QmgIWST+H7upmJCGqQ43JXnp6ER4ZheRYap9ZsKkVLm8yP+O56UVYwkEBAICAYGAQEAgIBA4FIEVQ/tgTofOezFPOSkVqqFdhb2h1f3rv/5rKBd10vJ0u9hEZAQCAgGBgEBAICAQEAisQgRWjG1fr2uDgA1VLFvSnj17EMghnEuVsykjpCGZXs1FuUBAICAQEAgIBAQCAoFVgsCKp31cJxSvELtHH32U6CojIyN4bLC6bsr5FpnfKrmc4jQFAgIBgYBAQCAgEBAI9EJgxSh5e50Ayly4XRqfDyUvjh3UxNgOsR+63cXUq7koFwgIBAQCAgGBgEBAILBKEFjxtO/Q6wTtw50CZwsyeGxwCNp3aAUI4uNKDj0q8gIBgYBAQCAgEBAICAROYARWUgCXrpcBJoeXbirewwM3rSPoXVesRKFAQCAgEBAICAQEAqsZgRUv7UPJizNHeglR9S64dpwIBour+aYU5y4QEAgIBAQCAgGBwLFAYMUzpJTzQf7w3iVIHrtoeEGKEhJiv2OBmuhTICAQEAgIBAQCAgGBwIpDYMVL+1Yc4mLCAgGBgEBAICAQEAgIBJYEgRUv7VsS1MSgAgGBgEBAICAQEAgIBFYcAoL2rbhLJiYsEBAICAQEAgIBgYBA4KkgIGjfU0FNtBEICAQEAgIBgYBAQCCw4hAQtG/FXTIxYYGAQEAgIBAQCAgEBAJPBQFB+54KaqKNQEAgIBAQCAgEBAICgRWHwJKFaxahVVbcvSImLBAQCAgEVgQCYjWmFXGZxCSXBIElo329zlbQwV7IiHKBgEBAICAQeDIICNr3ZFASdVYnAktG++QklCQ9SqREDlTWzpU0x0vUjGtIxuq8EuKsVwYCP7/K8+KcI0mK/NDQDEmW4k60cEljOehISrTlFTCc1yFhzNMg5+kahsQ5ZzeWEklWFueqsp41O0ksycHiOYqMQGDZIRCa3LkSxkr83OIwkrVEkzTJkaQMcfsft1wna3iyaPuyOwUxIYHA8UVgyWifF3qGrnteeP/9dwyV+6Q433aavjKn6H3HFwExmkDgKCAgu82MmdcVo2G3/TiSVUWKZV3SQhlCuIwSVI8Ez2ML/1NVlQxcMAiYZ2waWhRLQQhrhfhJWctshYtUcBmdhZiKQCBFQDdDRdbatqfJctaU/SByY0lXIiNSLrjgAuqwYju3Nzc8t7rgfOK2EQiAwJKt0hFKgecr37n5ptf+2i8HrhR6+UzWlPRq7GTEhREIrDgEMlkl8BMvjHzfVY1YVuWW7WasYux7y+1c4HksY4iQL5Xz8S5kMWsrUwja8xk5jgIp1qRIMYIoMUwtFtL35Xb9xHwOQcAO64VC3mu3YpevFDUJuHMN3yj/4iXn33DDDQMDA9zk3O208DzPMAyh/D0EPJFdpQgsnbQvCSwDaYI+N+eqmcFs5WRH1iJpzsrZq/RSiNNeyQjMxeVYkcyiHrenfGdq44bBYUnxAjmjL9lPrCucvPagfUg+eB1SgTyKsFqtduCglzOLW9cUFa+RaGooG45nq7JkxMtLWtn1pEThqkUgCKx8qaIXOipdSctbkutJxg/2B7t37y6VSundnsqzIX+C863a+0Sc+KEILNk7yZINNZEC21f03JZzrr7wGW/wZEPRWi1fKHkPvUAiv7wQ6PXm0MOqmbG0xPv+TZ/Y89OvveSXXnz11Ve37DiJ/eV1ApKEbA/ah4aXF2FHzmdZe/fufdeb3vSSM8p/8MLTKnEdba+kaooqZQwlcNzlNn8xH4HAIgKJr7uxXlCcIFGaeqms2zuna6/+4H1a6WRke1TjBwsjNE2Te36xlcgIBFYzAktG+xSscDEij0LsoBq+2VQGD867ih5opjAhX8035Eo9d7duWUF2uK8S6KXEieUoVuKkOlfXDRw8llHiLYhhe0r7eC9i+cTkZmdn57GC0nLFQsGYR1pp+xLqXj9Uw9AYXEazF1MRCPw8Ajkzsp0gp9heotRjK6O6UTa5ry2d1Gzato0BAylV8tIOPS/87+c7EHsCgVWHwJLRPj9JzCQp5Awp9gIPqUhoWnohlwuby046supuCnHCR45Atlxqe35HroBWV8M6Lmy1WqEkm8ryioieyjx4EUL+0i0vQgze+dXZruPW59XGvGFYmlXs6IJlvylcOo78ZhAtjhsCTbfpJ0YSe5GXeFE+jptFJWPkzXw+z1fNIuFDts0Hj+B8x+26iIGWMwJLRvskWSXihY6iNwl0JTBk34gCvzGX6MXljJeYm0CgKwJqezpvZfGF8OyqFDqyFCRyYuULSYDOdBkltLq8AknY9sH8SI+prWUpUWR8ODqvRjXTCnQX/a9uGVFrGc1eTEUg8PMIxJpuqjkjsjOxPGj2Fdq1ZsuRW5rjOKkzB3c4Aj9ueD5jyPx8a7EnEFiNCCwZ7VNCfASjiUjXEtmM4raWTeSaqvZ7vlTIaa12VTMtJ9KyVl/Y9EpGpmmPF0oKwTE0dTQKVTeYLFU014tiuXucv0SKHnufLditc23ZJSWWbjdb+WwuDkMl0X0vKhQqtWrDykpx4iVSaKhGECo8JQzLiBM/DOROedzRDiiy6fM21+REjjF6X433izjnXgioViS1m+pIjvtD8qpan67kYndKUa3HteD1k5bwEkLrxC7CNl5R7JJ4S1GCoAIVFdW4Y7PZbFr4uH4Ov8t7DlEHzemZDjt3/s8itiDwI59uuavpPBWKoPvtj2bHlUpRcRSpkVUM4vjFRCJcTSmJO7/rROlcFCADRoUvVBALI0OdkJNRJxjy1D2WGWjxCF7alhrPG8RnjAaJQRo4dTVS9KzRlmL9MYSDuGO1ov7sWqjJ8pL+rvRrG0hKMalNKyXDSmRvwssabhQSBDa9+bnP+U1xjotiv5V+vmL+AoH/OQJLRvt6TT1rZTzPVhRN0xVLCz1/PJLsJhRuYNO0Ny3nUUbtVxXeZ+qMF6h61oI+dku857oVS0hhErhiEslKWJ2fwsPf9g4U+yzP0Xm4dyzwfT+RCClo8MRvtpr5XMXUcnGiR0EYxZFudLR2rmdLBGUTSSDwVBGAjXGDHfpOarfbMDAIH+Wpp0XnhoxjChFdLAaefZIDwlp456WJ3wJd0ZBBn2TzVVtNN7BnDKF7CEXVBa5MyG1onZKYbaXY5itTtsuS7gZGPQ7ziR0RFU7hUZAEEJAOzB1WpylK52txgd+rkhqT5zuSAz9j/KsWXnHiAgGBwJIjsOxon+NU+brOZsu+Hzquqyhmudgfh0G76qpJPpsvhnEj9ANiZRiRnsvlfKmHEu2Qr+rHCCD6ZD7Ig/rwQGV+vmboZl9lVJEM342UheC0PO5Zp0DRVCnpvG55Ufb3ldAV2LbP41zXLeSBcsJcAqLBS0JfsOQ370qeADQudafAHBBallodpTIJdlNSuBhpFkMlbs4jPV1oB7cx25QCHmnz1Vk/BW3h58+PvsOVU/YWhLoq5yKLtUucjG8kqtEyEisIpVDPKwlupAlPGVVXFjxhEBNCBumESwn4uK/xqUlX7HWqiSQQEAgIBJYOgWVH+8rFXK3p2q7LM9dSI4vgzXK1bs+XrKyhDoWBbigVwuF2PpuNwLZ3Sz1X9eiiTOEJnpEqkpPN6qbrBZpl2Z5rGvkoCpH/4VvceUF2Vq6irRz4NqvG6TrLLaimkQ2i0LUdTZdM3ShYeQ9VgkgCgaeKQOcbYyFlMpmUH6DM5f6E6kEByXAwpXpQQNKRjkNzmnTu5wUJE0Owm3Z7pF2tqvo+1wX+pqKV7ajIO4aQfOvJUkNVR7ywqEeumqt7hqtGoSm3W7rJSixxoimJh+8z9sqJypelovE0YWG7WO1oelWoYiRDDCVV0f1ERCpYVTeUOFmBwLJDYNnRPs+vRxKxZM2yUSImU1QL/US2jJFmtDv2WnGQ5QM7kTwsOUxTt4rrI6e7yTmPbF5y6XsufQV2HuBJ4tXrrVq9PDBIkLVGe8bKKbopu05DifsW7G+Stu9aOk9zzbM9O/A0XQ59TAyL0cLTn0Ehh2HAWqXL7lqKCa0gBCBksLpGowHbI4ORHxns+SiH5FHC7Qr/49Yls/AdcmQnl975cA6apXc+GXbJH1lHq6x2ui6xCoHDsBenF372qiLrWlFvWAd35ezQzm9yJUMO5wqerDrluplRHDsL70NGiwlZbPB4UnSax3w0puDLKBMSVj2GCYrnxiq7n8TpCgSWHwLLjvb5bpIrVhw/ajTHN/RZxYyeaJnQyMatoVBiHR4VbYuia7Jujx9o2fN5qedabp3H7MIfr85U5sErL7rq2camLWde/y9fzhbWFst52w5VxUpC2bK0ltPSLM00MjTD0CprWeedc86atflv3XzXbLVm5lC1ZbEItNuOJlu8F0QSCDxlBNLPkkqlMjIy0vka8TzUvqnrBnImEvZ8sLTx8XGOwv+ocERjpfSObSrwI5N+/BxRJ6uxcgpTHCHkg/mBnpaxrEy2NXjKdOUMI3BMqxQZuUCeMZClbjhFj3e4u7YrkqPg9ZFgLsK3pRzICP0wqOSxIwcdSW1H5wuYGAcb4rmxGu8qcc4CgWWEwLKjfarS5/tKkNRy+anX/tqzh8phzXfHG+5p+nkDa/xdu8c9Z6w8ZEm5gzsfqf/Lh3f4mYGucHaYXkewQUhoma/ujsoLrYscX7btjC3rKp/8TGI7rXx+0HdtXWWJOAI+NYhoYShGzOoEUUe/pme00ZGhZ14ubb+vr1adRQYTyEGcOGGU5AsFz290HVcUCgSeDAKwOvjcGWecAe3jG4O7C5K3Zs2aubk5RIAYrUI/CoXCrbfeOjU1daScjwmgO0ZfDI9MmR8lDMcogvwd/uqgj01gewmUTUZqx9rK6HvRzhY2Xtm+9Jelhqv/5EbNkmzDUPwoN7TVmvrPg1OziT2uaqGMDYps8sRxolCLFNXQoX245NATnjqIDRMsQxYcew8/B3FUICAQEAgcOwSWHe0zM0Gz3TayeT0Zk9v9n/nkjx54tO6ow6958cFnbxq76ds7771rCjeM9WfPPOeaX44NR5L4e7KJN9+//N1DilXIqk+Po6TZ8Cv9lu0ejGXfd/K8aw3LmpmrW3oGMUxrfuK7t/7nQ/c2H3yomi2cHGlGM2hl8hZCgLbtLqzu/WTHFfUEAo9DoFgszs/Pc0Pet5CgBf39/ddddx3L49522231er2vr2/btm2wQ4gajBDG9rgeDr/LgqTNZhPOxxA0p3KaP3wrcXQRgQUpKbK60G61Etce/twflS+53LUPuv/xVjWY9QqbfDvUNw3mnvt7voSYlrgtfBNi5KfA3x0pwKEDkz4+NxN8O3DxNQ1Z0wkTIDnCtm8RY5ERCAgElgCBLn4PSzCLQ4YMlc4rjvBl2Xz5G/fM3Lhnn7xxZF6esxV7IJEa4eBBQrJXpHu399/5fVsqzhKu020VTFVzEz+IRvKyosW7pHLRDEpSy4ojxVOzLdnkyRuFnm45u+SBR6t7dhoZ2Z829KzrtXgku8loX2msZc8401EwpM7JbbV5QCn3P+po390lx/2b5aJpKbPYZs/GI7JeJoBgPnbj3NrJpFrJFaRawaER4XqjXNbTGuG+GVktxZlyNu+Z2Ywzz4v7kFMU2RMQga5StF6FlCPhQ5j36KOPIsyD4cHMCOaCbhe2QYICYue3c+dO6CCuvuh/ET9TTmGqDk6JIP1QCEfkKPSOmnSSRns577zzkBqm4j0OUZPtCYj70T4llXCHMpI5xe/EeYosTc0pciYIvb5+d84OrIyZH4vLT8vpcwNmxt//yMRt3xiU9iv9QbkW5Nv6/rwaqh76Xz/biNu1gm15ZS+oz5tbni+d/zpjbo8n5z0ct73pWiBVkmaolB2tbIatMJmMkqHAGDT0A32JWdU8P9azLCfr+6qkG0HTU/yaisKis15yKAeJdoAl9lwpp8txNmiprUgNiVjMcZEEAgIBgcDhEFh2tM9zAwv6FCXV+dqePfsymRyvK3ZTaQevRV6EnBBvye0PPhwG0dzsjv4+u1nrBLmNzR/P1Q6q4SUTu5VmfVff4L7RodmINUanmhkejlpeam12Jx/OhV42Nvqyg16rnjRnS5KXCaRHdzw4mK+UIlWaToatsw35JM0tS/Ot9dZw1CzUp02nqit1r2A3DD9uVx0j1Jx99w4puYmD07khKaMNV8ejRrtlmu3S+jVFuVqrhvc8OClFrflcsa2IT/zD3YWr8Bh0jVs61cMu0rL0Jk+j90EKYYRUgMmlxA7b0lNOOWVwcHB6epqV31JfEOjjueeeSyHVCEJJfdS711xzDRmoIXnKIYWQRZgfu6sQ6qNyypoeFbIjePZO+3OqMRxLxbmSEWfWDe38sdcIdzVGdmS22po2Wh0vR0oQjkkzlfroRtv1B+vx8MmnZ55xpdo32LK0vmRWZg28whqtNCy786VoQmtMT8s5wxguSnsL0a72ZGvezoZZPZTbjmeNWQN+YzzIDGh2eW0rypYrYXlEG5/O2MPZZpwNvZocTpl6VMmqGWwHBe07KldbdCIQOJERWHZKXsA2DBOJBXHKZmbmCgTqCztmT7wmOdThdklnUalMJj8xeXBs6/BLn7Hh7C2lhx8wJoLW8158/r4fqx/94Pbnb9Muf8Z1O3bu76uEA78c3HlH+5abJC0nn3J+65cuvWqoYL31Y/fX5/ZcdPGZ115+1vTEzDdumXjVay/duqYvNxt97L9uuv3ee6Wo/bRzN7/u/FO3Dq//s49+2w60s9Zb1z7jfDf0vnzLj8695unnPG1jpRh98t8e+u79uAG3k0awedS96rlbjR2FBzOt5z9TmtpnN601UzP7bryznY0tfzkifSLf2cv83BZpH5wMIV8qjUv1sGkeuoa4jjufhMnB1q1boXrwtg0bNoyOju7YsQMdLkLBs88++4EHHiiXyxdffPHtt99OD7BAfiDDw8NnnnkmXe3atYuG6Hz57WA4iCXDMkdmeU6vbktZf7rizYbOfoiaE7vhFZdl6nHjvi8ka8/cdNqVlUuv8h75XvVzf+8ViqX1W7LPeP/+9v75D/9zds3T7Isu6x94eji+P/Oc15gTk+VkbesXrlam3YOf+x0nUx5Ye+bwC94w69n2P71Vkb3o2S8zz/v90YmbrUe2G9uundD6rU+/plFrDl3+y0bUtLX+oXOeHTlT01/4hDL+wIDpE9SAb94Chsy+IysivsDyvH3ErAQCywiBZSft4yWHZEKRNcvMaqqpaQYUEAkfwe6B7bG3IwHJdNRhmqpZJdW88DT9gjON5uy8PydJoRsqP/2DN6zbsfeu6//xJ1+83j1zw9rnPtMwM1WjkFNUbU1f85R1Wuw11IypGO76kfjy8zZc95zLvnHTPf/2yW+fNKa/7JpfyOqWkuuzneTk4f6z1hHhxay3gljNbRmuPPOMtWedevaevc33f/jDA7m5X3nu6YRzbsdJNnLe/KqnbR7Wr//m3V/46vaf7Jq95rpT5Wx1upVRtOEku2YZXXMxlWWAAPc5s4CKpXPhxibBBdnCAvkJkLD/Y4uG95xzzrn//vt/+MMf3nTTTTMzMyhwcf6A21144YWPPPLIgQMH7rnnnn379q1bt4763/ve96rVKgzvroUE5+Pnw4+IQ9DHZXDqK3IKfVZlPjzoD25rXvL/uZf9Smnb/zN82Rsj1cuXhsKZCfvWG30ija67TFM22C2v/pNvu/O7150+sK6yU/3RZ4JvXJ8NW+Xp24zPf2jq7q/Z997IEmIja0qjar0U7ZW3f2dq5919ay/yDd+T64WaXRjsy550luNX7UcfLEju7IQ7cvYr3OKpu267yfzaX23/0NvdNduUZz+vPVCQIjsfKcUwk2tHSquZ3lQrEl8xaYGAQOB4IbDsaB/OtryfFp5fsmF0TJrQfC0slcQCR52lFVVDZd023nlmJr9//OCXb59xpP57Jqe/cW/rLe/54Qe+cFu4bv3dB63xnWP54cp8zZ58JGPGm6yK7Jm1m288OL6nGbZZfG2NHYz+53/trk4EQUv7+L/cUp3ddNv3oh075tcMDySBGWqVHTvdHffNOTWn5eVNc/0tt+7a82hT9aSvfu3hu+7xZxpX3vbtuY1rpZERrK+kwULu3I0jB+/INUrBaVvP//p/zfNWV33zOz9sZv1W03voeF1QMc7KQCAlfPA8EjNGSseW2x7al8r/uMOha+SR2yHeYwvJQ7aXKmphhKkhIGrfsbExVLr33nvv5OQkUj06oSEMD3khvZFP4z9TJ1UirwyAltksQRJgceQCdhL59NpNuHYxq42Fs0o7qGIA4iuFSiFjVCetgbpfqAehOjaWD3J+mGnqoRpk/b7NrXZ7ru1LgXEwzDesNawg6ykZxZ7PJnUrmJPuu9kef1huTvsPfvvgV9+T+cfnxfK8eflzi0ZfccMzwotfMnrK5oKsjJ50crHUz02CQSdRY0zLMlhGiIjzIgkEBAICgcMisOxUjzA8Hqq8sVrNumF2wqaapuG4mM3orIwJKeRJF+uxFwV9hVJ1rq4P9emJMj3VZLmOBWI47ziV97/tQT+ZP/eZ1oAhrdkUuW621jbigcbo2oITSm07bLvVAjbatbrbdJqq25RlXfas/uF9jd1DVpSzmo5iN+GfcjZbKXvY9Lnzg+vKSTbeO74vzmciJxmvtUNlOAynrDgJ7Xh405hlRJI7bShBPDenJzzip0b7+ByfKSd4jUiOsLo57I242g6m+txFaV+6CwjQCyRzOHlA0RDUUYEIL3hysAvPgMwh7UO9izyP3YcffvjSSy9FwwvzQ9W7f/9+fjiU8xvBLhB2AuHD+I9OsAtEagjzo//VBvVROd+Z9uwaZVia+WHx9neYnl4N7brijYZGoNoNvWCb8kCmr5xENWvOVc2ZRBox1NJ81mlHk0O61XJxVJOHrXo+p4V+TqkVsbG0tE4gaMfNJNWs5rfyfWFYDA2tRPXBfDyRzwWSPJxtzDwyesHLpVwxmPv37Nb19+mnXlBuTH/r7wbd0JxtSkbR1mNbaltqVrGwOo5MEUf+qFxv0YlA4MRFYNnRPhRfrIQBleLtBQXko1rXDbkTFQFBSEco4vtuaEWy1pGLZPMFS21obqAHDS3RhwtZL1EPzMxcunn4yl/Zdsv92+//UWPnKT9es2GtlrNrjp1raYmqDQxpiXxw/9R0zlJH+ouSFjlqW/En9cwWKRvLUt4IC07sxVEmUxyUwkwS5gpKeHB8OlKLpeHSTHPHmkJB9u83coOmFskNbag/++0f3nftQ/F1v7rhg/dM3rVz9/966QZHH77hpv9iWd99Cu/fsuLPnLh3kTizp4JASvW4jdO0SAG58yF53PCI+lKpEjXR5OLYAcODusHq8Oegzp49e+CIp59+OvZ8GP/dfffd6HxpQlpcxhfXEPpBJsQUMexDlP5U5rrq2xQsdA0D1bBdV4akysY43KU8eq/jy1vV/raHSTB6AEv154z2uKluUJLhgcac1z9i580+WS+F8pzqOkpVnXOyhWyY2EEz0BNfUuVsABFvu05YqDaqWcfWk8HxplarNeKGobXMZs5W14czOUnfOL330TX3feK8zMmKW1eN3EGtrLL2W76UMR3Z5buA2II4EPNxKfy1V/3NKgAQCBwWgWWnFIDw8cdbyjB0Zs4bi+AJEL7Aj7CD4n2GPINEZq5a580360VSRlYrBE9Qpm13pqUOnNz36v93aN8D9k1feWRm/0BW3Rw6BS1am9XWWUk59MvNWpQ188P9ayU3155XQt+KlcJQf32mOpHoqu/KmTBXsfK+57VZ+S3SDTWfk5VCJsvCmrbvaHk98OZzWl+zZiRhpqBkbGc8P3T2Jz47eWC+9ju/dNJrXnH2VZuTz93wvcmd5qBW880JPdh12KsgDq46BOB2nHNK9ciTIH/skqB0yPO4t8nwxUAetof2FnEd0jsKYXI4c1BICcwPTw7M/uB5p512WhrnGZpIc9rSJzSRXWryq4Ejrjqgj9IJE8Wl7c3IhjZk9IfepCo3h1qRFU1VHTW0sna/7MqeK8fzfWaSYbW9yNOqkqnwbdqS+YR1i9XW2rpTyBb8IHaMXGiuaVtDsVnU0AoYlmcMhzmr4rm6GwW5sts/UIikPCuBFIfMMBzSH543pPjMX5o3K+5oeabU5xdOLmxWo6FiPVJzXrQ2koqepCUs5bfsnudHCX7RjUBAIHDUEFh2j4nO+pXEyFcVz0enm7f0YSlA1pbNVCdtjfj3jtwYV+UBFkJS80ESzZabiNE0ljbN1WOjP/Hs9iuf9vRTrPhL37kjyp1Zs8aboRpJOUf7cUOen1bHpfyehqbmba8aDiQ5p67v08tybMfzwdn96owcmqFqHVB+2IqH+3XJ0ed9NagkzoPqAULyhU0WCK4OMGKp4Kk+IVk9tX82Ox9o+bi9/bKL193wKfeD1+9/8OGJN332ob+8dbZYsjKtsK85IGlbjtoVEx0tSwSga0+cV9fCtBofNlAxaBnkjBL0uWzZ5TsHloZBHkdhbNBB5HwcuuSSS4aGhlirjegtJ598MqZ++Pli2AcRpAkuHT/4wQ8I4IIWGP0vhXRC5GeaYwsI26Nn5Hwwv3T0LtvkZ4+CTgZFcLq76jTCqiyxlgbogRgL6foh4UDlKNYyzZ1xruTW83P1+Yo1JWW31AKlZQ1Pl/SC5pUm3SRqWjnNnI7jmX0qK4bntxq1qbpm9M/4VbPfLQ3MBoN6sMOUcpKmss6k4R5QklZfe4fnxMVCZHjSjJ/jUTVpDgxNTISoesNS1msbmrFrNi7uvWPdRdfZF7xRevRHgzPbzSAqnPemQCvowaSmRNOxMmspSS42kSCKJBAQCAgEDovA8lPyJjorGPGVbJgsrxbYbisKXUWP123d0HClfCnsq+iBa6tyToqNgprbuDZ03ObooFzIzjmtpFAuPnjgUVcafclVlR/uCQuZwdPX50xVuXTrGeMNrVGrD2kjY4ZUTtSJ5rQS1E4dvro6G2wu58f3792QK2dso0+RThkZIzIasfb6pX6Wa7Nsf6t+StKwM1KwYWCsnNzvzOJurOvBTEEx+6rtmrwlO5J7+raBk8pT6zcMeS3fzJxTD/y7H5mvJv2B3Iji20uSYH6HvRNX2UGEdnAyqBgJkofojkQexoa7RhqWmQpItTHOYyEPorFccMEFZ511FowEJS8OHFTGdRfO99Of/pQeEAdi2wfVQxY4OzuL5O+KK67An5c8zDKlkvBIOlxlSB/Z6QIUDUC+Q/skIqLgE6PpmjmhXbROSgqD1vT6k+en7i6Gk8j1Gq0kmxt2Z6YzflvhSbX2PG3baxtuWy9kdsuZNWPr8+ee797zX1JyMGnuKp517uQVbyqbsX3jQ4PTO/Snv8Db+IaDm1tJv6uX11hZbfjiU+bvvDXSPWnziDpXa1umJzeDQqE0dyC6/Yvayzdbr3jrzJYL7KgdrdlU/+4XpEbVRLyH8lkxLdlUUYf4gaSL63tkV1ynPWiuAABAAElEQVTUFgisNgTUd77znUtyzqwapSrRQzv3ff6TnywOnzJ42lV4XvCwlRQ0UyqecnHi2y5fy8Gpp2288pm/cBLm08XC4Poxo5idmpmq16u6HKxbM/Ccy85E/bVp44Cij23fNe6HFgtv5IeyL7j09MrG3I9+8Gh1r3P+JcM7J7Q7v+dcfdnoGWfjHayWxkoT9q7nX3fumoqsZuWkItWdfReeveEZz1jXjupyLtk9sfOC88eueMbGZjg3vGnd9u0PXLpt7UWXDE7WDmw8ZeP+A3ues+2kiy/eOjm//4xzz9w1PvHo7n2jo+1nXbzulJOzz3j66IVnZC84K/ecX9y6e99UdTrWkoHO41mkExcBubOOa5Do+ebOO+YO3H3hpZdtXbfe9tqEGep60pC2VBYIY0NEh08Gsjo4GUI+ttAO+AdbEnJB3DgggpA8wjKTx5MDzS/sEEkeDh+bNm1ibV+qYduHYA/aB/+jT9jexMQEFoF0CDuEUKL5hc0sEJqOfjnNMAGo4S23fOeMkeyLzyw1fdVUgoWV4Pg18q+LFLPrGZ0YhQkL+5AWXKpZvxEBLPhkMpb1wj9vNfDZquv9I6HSPzMz20wkr/C0pD6eL220nLm53XcoYycVrvxfueEt0W3vy63flpUd/+G7o/HdWXvOC4LC8JpcYZN5y+f0QvvgrgdN1Rx8wasKIyPNr3/G1ILa2DnBnd8Pi0PqM54fNftZ3c04bTCa1XO16Tgf7937E2lianjdacWTz8yWVfuObzoP3G649SziQZnAzvjxmBrKZN9j1aIT40I8ybNgnXVDCgO5w3ZZHM9Uk6Yff+SO2b7hkV//9V/nzk9v8ifZm6gmEFgNCCzZkk1BGOua9+Wbbnvpc5695swXnPrL7/ZrNfw0wkQOAl9XtWzOiJOgjQk1Kt6sVXEKNcRqWTXWUXHwRssGjs166aNFfXpql5VRVGtksmZZhf4wmIr8ibUZczLORQqRW2oZM5z2rSDKjBZkp5mofmyUKw/MHtiyZr0x12Q53nAo1/b0jMsS63OBOlMYHam1ilTL40/sy8Wi5LbystpimfbAwbrK8R2roMxL1rqGOqVonjSn9GuVa154wSe/enMfYTgKBVUrKm377M3WOReuf8+HviD1XRJ71dVwP63ac1QiLdbbcXZk/OYP7LjjI29669uuvXjbTGNKUwmr0SVBLXghwb0Q3bFF/QozQ9ULkyMPP0tpH5yDex0pXcrnqANf5GVGotWCCWxHHcwuFVLFMU1SqSECRfx5YXtUQCOcRn5ZZHv0n04Ac8CHHnrobW97+8vOHvi3V6wbbxpFze74fbDAbALtO7K1gLuc6ooqguV2iIIiJ/GCwl3uRI/vAAgV34eJiKIPDOZaceJOR1Ysu7lEbYXK+jhRmkozMo0ozLbbTo6lfuQ+PcPias0+Xc/FzYmGqw+srYbZYf9+unTkOC5uaIRDZfeAaj+gb7rIm6zp7rgVWv7GLfZ0bcirYy8YzOltvdZfWR+0bJQektVnh3kjbmS8/a5asHB1SySf55lqdYKYxq5J8AF1ddG+QFJyiduWs4aUBHFUMGLMes57//aTzjoHm1d+SoL2rajfn5js8UCguyjieIzcY4xMVpPsKPC8VpPVMTXL6FcVjP3kg61KDOmTMLvhGzxxsXoxZNXS7psJi5mtaEPCtl8srWvZ7USJs4WN9cCL1c2OMu8FtjeZsSpmti/YP8cClxk4ZdSeLQ0Y+2cODGhDjbAh2zOJWlJ0WS/mXL9pNxuKpviqzFCuWXLdPRlJC6KazxpK2cFAfoj14abCgVLktNyMaw4P6N7vvf70h3fuODhhTvd7KJ3j0M8SNqbSt9aXG6yh6YflHucrilcnArAu0oJcSSXDrQ4/g73BAuFnkDMKyZN4b6WyOsgfWCHGI4PmF7oGsYPhpeFdyHMI8sduWk4eCki1tH+2NBdvwcPfb+AD+KwFhGEfiZhQfIV2PGSC2nBGcjS5jvTeVv3SmrYhFetTRs6X40YVNqaHQ/aE4Xp89jWyA4rS0LxJW83Nhdqkmhsqy4k7MajJtlGRrTEOZfy64Tn90oydyR2Yqo44s8V1W7zJZrXRHDISNQoP1vz1pZOymn1wvpHR8wO6K7lTshT5klIYXCu3qyhFPEwP+X7Q1SDC5S3QiGq/ulj64S+mOCoQEAh0QWDZ0b56fZ6F17JWifB8jh1EkQdLI8l9Bw0toox3HhVCJwwUyXV8q7LWi+KsmbPnZyx5RsUXLnZjKQn9lprZGbWd/r5B1LiNesudjKychaOdb9sF03JsJ2eW/bY9OjQ83xzXdNWuzpZHhgPPZC32VqNJKCx8SHSpisIlrw84EQ/YtpxMEyDVUkadsVa4Y3xLtv9AUqt6cWgMXPfsilqYv/PBk8tGxlIamaJdGFp3w2fvyehnZtTID7ugL4pWLQKL9CvlGbC3zk2+sFAHQrtUG5uCAwnhEIyQoxzCY4M8Gl52Uc6i0k3leVBD9LnkU9NAMvxSEFNRDv9D7JFyylUL+JM9cb4aWQIceZ/SiRuAJhy63HGL1kttPWl2HjVSBllfHBK8c7CU7FHK/V5QSOp9WqslV/YEg2s0J+M35vQCsXaK2ZwStGdkK6vrVaelyEHelQ5K82P2QUXPjBtmwhob6taSqtSzcThdU5KZ0BiqViWNUMyWmswdVKN8ktUyBS2Zsqt+PLc+6/l2NL+vkC362PIhluzcHAleJ6xbjpHBqvPBebLXVdQTCAgEHkNg2dE+dKgdEYeLIETN5TvyD5bg9QPX78QdS3KZCru6WuETN4yDOLRzelBz5r24kM8hBamx4Bouvq12w9LsvtyGON5tt/dmo5MH8sWauyeO1jpBW1JQmRGQpc/1w1iznaCVlfMy4VOL0Xz1YKk8WKs2y0Wkdi3UO6rkqVZpfn7OyimlbDEIsJGqNJpubbrVb52mS5mM/BPf2PD+G3a/6tqnX77twsu3Tc+jr1Eqj+xTP/PlH7TmCoU+PQr2SnK/uOkEAosIwMZSPS9bZHIpt4DJQddSCR810wocIgPzIFGTOqm0j9c9UZ05BPlLhX+0pZD6dE41DsEm2e2IrxYs+ShcnIDIPBkEUhgxGwsSI4BC2zqcPImdghUojtT0mpI1WIia88ba8SSXRM6w0crFzk+V9cNhNfCMAEWvNF/EULNWk6SSAm8fkTY1fV3XHDV7KhH3lPjBjLyhdcC0KrXh8sDMzNpmtLcCB/SGp3PNXBAmpWLT0dyZJkGoNGvEbithW85HYaCH+FxjB53gb+xoUFOyiPrEFX4y11XUEQisYgSWHe2TJV2RO4tz8NIKQtv1AvQafHkX9MF6bT5XYJmjmm+j4dVkxVPMdjyvrBvt3z/RzlVGZT3xWqGulfOZbKwU98zelTFGi7n1tdqDSlROkg2+Na1olm6YrM82zyqWphrn5VbkEZxPTiI9I8e6NNGsFivDDbudKWTmGnUZ/49BMyjWQlkJXKLdSkYuI/UHo8nwtN9yCnLdbWWNgXE7euf1t/d9JhqWNzql1r7WfZ5jDGN9XazaOXcuLA6I0Aqr+Gf2xFOHn0EpYHiQOURx3O1pHUogahA4ylOuRgkVqE8JddiSJ0HpOIT8D91u58eyoA5mmwr5qEYnGAuyTTNPnIMo6YoA1wUVL4e4EPGC0hR4LS6HT/i8kpUdtJ1aNnJVuWDnRkqKOt/IO7ncoP+AIyWz1umyu+8UbVdbDWW1QAh40ya8vJdt1ayBfsdv6nPWfjWTNzbNJsW8vqdPiQYjovm1wkTKhPlmWBgyi2vaLc+bqmTPqoVZ06lqg/21tmLYLCKuOJ6T14tWWGxZriJ34gJKrLwSOprGKuWmE8rSsnuid8VYFAoEBAJLhsCSPSQ8LdQjdZjAWPgKZvoKsT7tFw3TlpQAB8KFb1YWzODBZqTYYO+eyxtNu65ZHA5CKcA1VpYyUkGqt1i0npdiZxkMjJtjab7jNRu3yuYYJZ69P2MUWLZI0xqas2BfHyx0aXXkh7qzYAHdGcSjS1XKmeS9WgbHMOLFGJaEn1jbz8sLDTvWMwzOeprUt/NYEXv1orxViic0RcpV8pROxnNSWyrJfVKWV0coawV2BzqSm9XlEQkUqyrFBJI0hpD0IEzmDV6Jq27cCLWi1iOU2oIAjviUnQRQKcMjA+egBHFdih7EA4bHUUoo7/CQhcrQO7gI5VA68mlltil9pBr9wAvhi+RR8qajpG2pk1JDyumcmtTBjC2rR1V1YCDemYSmL7GYhJQxFA9L2tWUsA9BcYoYLT1plUcCiVJcW6KyJkuhO2vIJa6PJjuST22igmoZaaqt8CuXKv50qFitwOIRwYdeHw8llnRrhYE1JLWaqpSPNanMsSgY4bkgm35iZvyDjcwIbfWkyjdlPXEkvnutsVo8K7GCkKVFWBAzn86jOrYyxPxzWguPbYWhuTiqEqv5BRcc2nFzUG0VJcVQ56T+4WjS9mKvvKXP22NijRl27n++fJCOp1ikvxF+DqsIGnGqAoEeCCwZ7ZM8RdK1zttNiRvelJNMeoZnFsKoWeox1SMr5md/ZA161ObN2uNIr/4X3hNPaBNhJC7SiYuAXGrU7Jm8pvAql1REQ5IusXS0xGdD19T7vupa/agV8rtYHBr+R4LzkZJYImqL7YdKlOAYYGIKGPlx6AgXgaMGvejoGCCgY70Q+TqmPYlk19suyxwbxY7wfMF2ggEhfNzzKeHj24nvnGMwC9GlQGAlIbBkvwGDn2kseR7r7LIUx0hOX1vDQ6PdJOroUcGvF+tbfOc9bpSeNLEHWzvSdZCSjt2NSCcsAm5rMGMaA3l9rzokJUVDK/SXK22vrunmsjrnlPalL0W2vAURBOI7zMdKvthnVsZYnjCMIjSUkYTIJNLzxWU1fzEZgcChCOTVOGjFqqmzkrsp9fFz85oxDtj4syPMxqUdwofYLyV8PR/yh/Yo8gKBEx2BJaN9OMmhjwhZA0pRC0pstOdHdAMxSQNRwzFNPaR3vZ4IvWR66OK6TrMnrexaWxSeKAisw51SibXWXNKoETd27/j4Azu2Y37Q6/x63W+96h/Fcm5RxHu8DlPFMcyPBd8IMNScGb93+0OWh24RjWMWsWBWl1tT00dxaNGVQODoIoA9dt2XCkRKVzDi8WcVZ6YZ9RkJKxkSugjL184nzc9Wpun1cD66UxK9CQSWOQL/rfE5zhO1Q1+XjFtu/uY1110rGbqsjRG5VkqmTT93nGfy1IbrrB3cLfV8sshilY5ueJ0oZZ6pSn6sZLJJ2E6cejYj2Q6GVnxWLdPIPanYD/jhfx3LJ22tFNXKpue7nSU6QgzHOrazwkPgRLlBT9Dz4Nel6qiIiOIlsQSNlSQsc1cNh09an2HRQjgfZqypVBsA+Nohf4IiIU5LIPBkEVgyaR+euI7js5zk1pNGAid02r6VMxWM+/zKk537YesdLWlKTxr3M6Pvw87i0IM9tMWHVhH5FYuALtu+B19KFD1vZfsI99ZqomMqRngfLb/Ey48be1HahxZMt0puU9bkkPAkqoXngeX5oaaoCQ5MIgkElisCdhzlCiXfaUqhbxl64jYMfK0LA6dv2pCK+lKvDggfd/uih8dyPRsxL4HA8UBgyaR9UVJX5BISsPF9ewbLI2psuaHkJU3WID0q533sad+RfjUKad9RubDLtJMkyGcMFoCR2m7bl31Zi+XY12B/SnfnwaN1fx4pHLA9XoEodtmSUv0Xk+GliFYXv+BQTmCqUcjitJGp6aycfaRDiPoCgeOGAGvmEaCy5fqmqmCTQMAvl7U9Ze5wo7+/H+bHF84i8xOivuN2XcRAyxmBJaN9xD6RJDPqmM55SexqSslNXEluWZ1oJys49ZIOLtVrfgVDuaKm7ku1JIpNNYPWNJRUYg9hvNpxg+0hT+91nxzrk+Y+hO0d+v5jJgs3Z0cqGXWizyQsLchKwKjEyEpKjxM41hMV/QsEngwCEaZBciwbCgZ8MSv06rxTcPMgA+djlRr6SJ15+dRBqr1o5/dk+hZ1BAInJAJLR/t6wMk7qesRXlTEIeMQn268pfglpy5a/IwXf8yYcZBHYkFlMrzPSFSjFXFr8/k8hbRN66dvPppQQp30XciWxAOCcgZKt3RCHUZny3CkxRmmT5a083SlBDrnKDVJC+N32jIW3S62EhmBgEBAICAQOHYIpI/3Y9e/6FkgsHIRWHa0D6rUFU3IU1oOf3rPe95zzz338CX3qle96uKLL/7+979/9dVXQwQhfCknI08m/eWTJ+HJ/53vfOdrX/vawYMHP/7xj9MWlvb1r3/9E5/4xO/93u9deeWVdE41totskoHogUAAdEXP6e6tt95KJ9S87rrraPW4h0tKE7vOv9d5da0sCgUCAgGBgEDgKSOw+L54yj2IhgKBExWBZafB6fVzhWk1m01Ebr/+67/OxXj6058Ob/vwhz/83ve+9+yzz7722mthYPAzKkCwYHVsYWxp3CYKSQcOHPjgBz/IMqYpOcO9f3Jy8uabb37ta19LhyxsOjDQ0S8T7QmSR4Zq9IMvGFNqNBqscP/v//7vf/AHf4AscOfOnV/60pc+8pGPPPOZz6Qao0AKmQ91aMjQJDI0JKUlaYa8SAIBgYBAQCAgEBAICASWBIFlJ+07PArPfvaz4X833ngjGlioFUTw1a9+NcTrq1/9KjbpcC842aJylhJUrtBBBHhUZvclL3nJT37ykz179kDRGAjmt2PHjpNOOikV2tH8Qx/60JlnnokEMZUaUkIr2kIEv/nNb376059+//vfT//79u2Dd46Ojt57772siLpoRAK55Cg904QE1VvsOc0c/uzEUYGAQEAgIBAQCAgEBALHDoEV46aH6K5Wq6FjPe+886BW1WqVEqRrf/zHfzw4OAjbQzKXcj4s7cjABdlC1+BtwMcu5A+xHBSNthA+EoUnn3wyhCxV7+7evfuLX/zixo0b4XwdMd2CcR49pBaBY2Nj73vf+xirVCqtW7fuV3/1VxEBUoej9EzAW0ZJ+SWF9Jmm9MpRcuwuoehZICAQEAgIBAQCAgGBwJNBYMXQPhgbtA+e99GPfvRHP/oRMjbUr1Cu9evXX3LJJZA5zhY6iK6WauT37t175513osZNq1GTOvV6HbaX6oKhegjzHnnkEepAy/bv3//mN7/59ttvR5I3MTEBI0QiSDkCPJrQ9pxzzkELDImkk3K5zFFkh4j06I1EUHiUyLt27aIh3abQc/TJXANRRyAgEBAICAQEAgIBgcBxQGDF0D5oFnK4t7zlLcjYrrnmmr/4i7+AZkHLEL+96EUvQtQ3Pj7+rne964wzzvj7v/97rO5e+tKXXn755VddddUnP/lJ6BeskTqklPkhw8Mp5BWveMUFF1zwwAMPIBe87bbbYIqww8997nP4fKQSQfgcNWmOGI+LwTaVIN51111wuw984AOwz1RSiLr5uc997i/8wi9A++iEyrSiTsr8FongcbiiYgiBgEBAICAQEAgIBAQCXRFYMbQPkRsUCtr3spe9bH5+/h3veMcVV1xxyy23wLFgfum5nXrqqVNTU9/97neRuuFy8e53v/vBBx/83//7f8MUEdpRE8UrNA5mRv3h4eEtW7bAAlMN7Mtf/nKcRTgEoWQUjqba4ZS9wf/ogeYMjR0hnhywTOwC6YdDtEKmeOFCguGlHVKZTJqnTlf0RaFAQCAgEBAICAQEAgKB44bAiqF9IJKyqH/913/9xje+8axnPQtTPMR++PCy9iJHIWo4fIyMjGzYsOEv//IvUf4SmeXtb3871WgC20sxpZNUPkc1aGJq4cch6Bo+vGRmZmbYwhER7KVSupS00RAKCINEj/ziF78YRfO2bdtwEIHeoVyGFP7jP/4jE0P/S8N0LLY0WdwuFoqMQEAgIBAQCAgEBAICgeOPwEqifVAxJHBQMdgeFn5/9Ed/RDQWBH54dRCND7KFMwecbPPmzeBITYjaaaedRjmFlMDP6IGEgSDsjRK4ILpjXDQoXJTnpQFcUNpSmErsOm2iCG5Hh5DFN77xjQSOIZILKuMbbriBQ0wJ+kiFhYqdMNHphUybk0/pY1ootgIBgYBAQCAgEBAICASWBIEVQ/tgVChkcbmAXYEU3hVoYzHIu+iii4i6/K1vfYtCaBYcLhXXUQ3d66WXXgqfg9vhkwFpoxPqkEcnCy8k0QqeRx0oI/Z/1GExD8SBCO0W2RtH05qwN7qiCdXw6qUrCGXKFxkLz2LKKaQCNUlkRBIICAQEAgIBgYBAQCCwTBBYMbQPdgXH+sIXvgBw8D9YHTFTtm7ditQNDocxH+VwL/gZIkDyiOvY4qVLCb4gSObYhfbBzFJyhhSQTmBpqU4WtgelowL1cd0gQzmq25TwkYcLsks/KXdke9ZZZ2FWCL1jbnQFa6S3xf5hjYvMjwqMLpJAQCAgEBAICAQEAgKBJURgxdA+MMJtloXREPili2EQMwVeRTg9xHU45FIBigY5Q26XhvSDirGcBjyMSCup3d5iMJeUh6WUjgq0pWHq7cuWXTx5KUELDOGDDlIfLsiWXVrRP0FeCP7y+te/nmoMBMskCjQOH1DPVEyYDrEoMqRPkQQCAgGBgEBAICAQEAgsIQIrhvbBtBDjIWzD3/bzn//8Qw89tH37diggwfZYmZfgKVTo7+8vFAqs4ZFG4yNEy1/91V+hC4YaQviggMR8QWJHxBa2hPejE2jZww8/PDc3B6ujGvrfP/uzP8NNGGPBVOYHs2RQqN7f/u3fEiCQ5d1w4KUh3f75n/850Z6hhhxFzvfKV77y3HPPhSPC/NIrmgr/lvDqiqEFAgIBgYBAQCAgEBAILCKwkhZnI5AyrAvu9bGPfQziBd/CM+N1r3sdLh1I7OBesDrWVUPyh/gNsRzBXIjM94Y3vIGzhRT+yZ/8CUyRDIuqsZIvgsOvfOUruGIg2Hvb296GFzBcEBJ5//33c5ToMIjx6ISe0eciumNxtt/+7d+mT8wKiQ4I5zvllFNghMgRGY4KL3zhC4n5zDoiTIySRYhFRiAgEBAICAQEAgIBgcByQGDF0D5YHSQMZgapQkQHe0tt7OBtMLO0HAEexnZvfetbIYJI3eBeeHhwCLkdgjeUvxjwATrSOJpQmPaJPI86iAPTThZpHNXoId1CAamPLJDREQ3C/GhFn8yEDJwvrUbnlNA5GcrJp6re5XClxRwEAgIBgYBAQCAgEFjlCPx3hLllDgScjxnCutjCq2B76YShViQ4GVtKEL+lPrlkqEZh2oRDNGGXwkVRXNon7A3OR4W0ZppnN62Wbuk/7ZwtnI8trdjSW0rsFvukhHJSWiHNi61AQCAgEBAICAQEAgKBJUdgxdj29UIKmoWkDY5FBqs7hHxoWqF3CNtSeRt5Es2pQOrVjygXCAgEBAICAYGAQEAgcGIjsOJpH6pepHQwPNbquOOOO4jkjCb3U5/6VMr20u2JfQnF2QkEBAICAYGAQEAgIBB4MgisGNu+w5xMyu2w9iPh7Yvwj8qL6uBUwifkfIcBUBwSCAgEBAICAYGAQGA1IHAi0D48LbDk42qlTh4wPIR/TzStW1T1robrKs5RICAQEAgIBAQCAgGBwOMQWPFKXs4n5XzpieGNSybdPu5Uxa5AQCAgEBAICAQEAgKB1YzAiSDtw40DT1s8alOn2l6XU0j7eiEjygUCAgGBgEBAICAQWA0IrHhpH4pdIrMQP4UgfCmxQ+fLlVt04128iih/SYu7IiMQEAgIBAQCAgGBgEBgVSFwIkj7VtUFEycrEBAICAQEAgIBgYBA4KkhsOKlfU/ttEUrgYBAQCAgEBAICAQEAqsNgWW3SkeqqF1tl0Gcr0BgeSKw3OwixPNhed4ny21Wy+2+XW74iPmsZgSEknc1X31x7gIBgYBAYAUj0OszQNC+FXxRxdSPMQKC9h1jgEX3AgGBgEBAICAQEAgIBJYHAkum5O31lbY8YBGzEAgIBAQCAoHljkCv90gvaV+v8uV+nmJ+AoGjh8CS0b5ep0DglV6HRLlAQCBwnBF44mo3x3kCjxtOPB8eB4jY7YqAoHddYRGFAgEQWDIl75F+pYmrJRAQCBx/BHr9To//TNIRxet8qZBfWeP2um/F/bOyrqOY7bFAYMmkfbLr+BkrjJX7v3/ThtF1VWcwSGbzqtHWo6Nynr1/3r2kiUcWy6bXY+WoTP7/sHcmcJZU1f2v9dXbX+89PT37sDMMy6Agi4AI4hJUiCZo0Ghi3BISjf7d4x4TjSbGLTEGUbK4IS5hU0EEBBcWWQeYgVl7et/eWnv9v6+PPMexG2GYYbp7bn16am7dOvfcc39Vr86vzl1KKVEI7CcErFiLkyTWYz5swzcMjcRImdbk5PTtd/5cAnusfF6v16ndsg7Yw+Fx2l5Jm8un40lLD6xJ3e+q+XZ3frSs9WSTyuOUUqcWKwI5rT4QdxRtza5PatnOOPKcuDGtZTqKuYsvvpgPOLGYv7Sdu91xnMWKg2qXQuCJI3DAon1aqJUT96r/u+mNr3peraaFekGzKlqipYMnbrySVAgoBJ4cAnyyOpkpYVh6HCZ8tSaTcjzfi/XmowCqx9duOA/54zAI5vw1zvVatd9fhxyr6IVV3TEcL3RtUzNWOd6gp/lPDgYlvUgQSGla3c5nzUR3a3XNMLQ4m0lX/Pyx6/qvvfbaJUuW0E7f97mfSXA/87azSFqumqEQ2FsEDtgLfeJ76WyqVCo1Qs3MF5Ye8YLx2oDphY6Z3tu2/Fa5udySps0V1ZsrCvhbalsH+929tWpSCYXAvkOgTdOihPGzv2Z4tmllU87k5GR95FfLly8/++yzG40Gvx027nD2c42l49SsRu3v30XNCHpc283kxqc3Xfu9nxy3vPuPj7EmfD1tzm7PrEaqzEWDgJV4dbM9HdQyGol8HEdVzf63Hz5oWStxLjSTG7h1DyvOt2iuu2rIU0HggNE+ntOJ5rp1Ag3plYc859Rz3l0O6t1O20C4n9/bkzlon/7kaN9TAV2VVQgcKASckD7eJEo00zQJ7FmG7tjm+OjYrZc/f82aNRdddBH9YghInC+dTvPN6wNl6qz1uolbirJhprRx4403XHfT0X2F1zx7lZ+yOtzxWeVV5uJGwDKNRmLrlSSd6dCcopZED03GV/9Iy2QyNJw7nPuc25g032qXxOIGRLVOIfB7EThgtK85wshIUrgd0zYz7b7dNTQxVC8HRm7k9xr91ATmoH2aon1PDVdVeiEgULETLTFinf4wK9SgfXFD0yaTYTrCyuVytVodHR2lR4xgHi6Tw7miegeqrboRjYW+EZlupVZt+El9qq0xNjg5VY7VsK0DdU0OZL0JDsRK6416HEaVSdexIi/uGAg0f3SUsaoMWmh17JKWAPaBNFfVrRCYBwgcMNoXMaZc09JmlESVqdpOzxx1Osrp2Iobzcj8/twU7duf6Crd8xsBIwx1g19983UriQLbNEwjrHo1AiHZbLYZCIwiOsXwkYRJHifUNxcdRMN+BYApKW4SZXU9ZTmaruWzac1KGXEQ2/v7ubFfm6WU7yUCQZw4hpVKF30r48Zh3gosI6dlnWKxKBM45AWGmxkWONdNu5d1q2IKgYWJwAGjfWGkMchWjz2zOdouCELX0MLArQWp9oWJpLJaIbAAEEh7oZ7EEUGShHh7qJtwJ8bweXSBCWOjdwzaB+HDTeIs52rSXB50f9M+DdMMQpVGEoQ8OKbrrhZoiZ1zkv08OGQuIFT+AUXA5EYMvObNTF+uredsz6yMRg2PG5hYNTew9PY2x/fFzeENj3NLH9B2qMoVAk8fAgeM9jGzKko8emqylplzlljxEisqmX5DM/fN43tO96M3JyrOsiVPDoq53N4smlWWQmDeIBCkNV23w6g5pCGK9MQ2bDP2U80QOAPecY3sWxN4hfzNavucv69ZpfddJsvNVIknxknzjxdHYn6aE1g5P9g3z419Z6nS9HQgoFtOHHqJnlRjO4ojZnAEcWSlm0NXifbxeoAR3NXcyWo+x9NxPVQdCwGBJ8d19mGLwiS2ddMv5BtBrIVeaNX06lSc0RM/SbfZNb8SNNycUcjZhelKNZVJWam2wfKjdtFry66o10M3HHeMYjbOhklzjbHf3XBLezAzCfKbScTYpjCkL8rgueCFXmwGcRxmjS7PrxppLQpjTXcc2/G9umHEuVR5spzK5pY36hVdnyyUUpOVMLE7WR3qdyvdPYfaxTXKfg9jdpdUaYXA04aAEZixxhSIJIhiR08lbmSmdX4PGADb4zfSXMxvxlly35JgY9gfLhM/yiluY0b+MeyPs/x88KaS5iwbGshHgDQzgkWSTLqPkaQK+S1IYyWNQvQXCgXESHAqn88Tp6GXWcT22Fc1q5TUdK3mWymtZhlmFNrlbD1cKL8vI063af4OrVGzi4d7jh6MVVO+bhRr6axej9ui4SQZjQorp72eSDdq5nRPxJI7v4WbtLRq2MvCcMDyrKjANYqs6hLP2qppRcZtzmzAKwhTnAweh3sgufuh6JScVqndBeZtOojCnBbU9Gw+cQMtamiZNL1GgcH9RkNABsubN/FMYt62QhmmEHg6EZj92fp0WrBHXUmYqkyGdr6opbJE6CeqjWx7cbIxXWqMLG1r90LfHa5rkVHIFjKW5buTmj37UO7df+fyIOOdj6ebGxVdr1rMZ7Q49OkoCkO7OanY4E1Rt0wtaY5qqtW9wAtyWafRqHhBB4NHatq07hATyXiNxNRt20oirzmGaffHpRxKLaRbT889ZPZorzpUCMxnBLiNhcaRgMzJzTzjRpt0EMtlpDy/I4kUIkOa6cDQOE5B+EiID5Zmtn4OkmCPflRRHHkk6W4mh8P5DMte2+bHQ5qTy9hWI6qP637sWJVMxuZ9tzxhGqlK++q6viaolNvdrW2psB4HDb17pq7dSNvM4Ekzid0YWmOmIp/ZaGHCyoV6zrFZGGvm20sUguq1zATm3TS0sh97TO2O9lySuxVSSYWAQmABIzDvaF+24Pt6XA/qPInSThQYE76ds+zAa4790yPXyWadpp9wYWxVPa9pzZfhObcW9xIJDtO5toRh7A5jhOB9Lu+EHFlaKggbBv3OUcRYkBRjxMM4m01HQT3Quq2cV2nsYiFQRy8mEV810IOgomtN6FC4x1OSw1alckr2rcw5bVUnFALzDwHuW5gcvwt+jyQ4JObX/G2m06SJAsr7FXuhbpwlkx8RGznE/BAjIePraR+Hu/9kOEQtpdgLgyRNwG93IjL/UNl7i0Krfao539TsMxsZrVGJo7wXtkVB1JGPwspYfaSuteUZc5kORw27Ya3I+WXg2gMxQEvFkZvotsHaJA2w8mKnEWtpLQkfi9RiYuvVF3m2WY1GZo9TUt1ixX9WEFSmQuCgQmDe0b5qg97XjKmXiumMO1UuWMvC6ciy9GpqIvaDtNVe1caDmpcK20LLq+tWxxyXq/XYkqeYSPGAG9l2c3fP0vHBWqnUbZtZK9N8ILpBFSqp6XRZRa7PXDC7EfkTYyMpOmGmNoZ+qlgq8C7ulX0tasYwwjhK6bOs9o6q1gO6qXfmUPZzmKmyFQLzGgGhevA2+AG/EUJ33M9QOj7gxq0OHYSl0QBYIL84ziImMlA3TiEA4YMIkkCMsuxbv00O2fhBUYoNGfm1omFeg/IUjDOMjBvZfJVSD12XkF8270dO2TP0zQMdHWEc2J2xlneSadMB4JW5eExnfVOm3fwmVscCPBwRFw0N3SKkx7dWGJGpZ7wkcryA5Uxm4BX5JpwgDO7MnpvV6ubZ3+m1kMxZ5VWmQkAhsNARmHe0L91Znpoaz6U7veqk3mjks8UgsvyGqbe1aZMDGac9KTAJuF4yujQrE4e9mjE46zVgzSYeXjPPL56AzYcgT0MecS8+a9mqNcd9/Zs36ZHhhYaVNiK9qpv12GdpiOawX8/3S/m8nmj1Wv3YY486fm38f9fcU6kUdSuXhEG2aEV6HPmmof/6LXmmil/7M9K4SXnUyr51lsNZ7VSZCoH5jABsjB8OdzUbNzPMrK2tbdWqVXzqlDQdshLwaw6WsG1ucoS3bdu2ZcsW0gjAFCUhPwRpaeu3IKcQayknAYNEG/XOZ1j22jZHH3ZKhbSem6qYbvuS7Jp12cLhYW4V6E0FQ7pZSEXZauyOAcLAA+WfXGqWikDXnHX9GD9rLkOi6wAVsOq2F1S0lG7qDt9dsXV6e+PoN4y5WaLV+TDH84fl7mb0/ebp1KyJ91VzceK/1xdOFVQILBoE5h3tK4/22nwt1G0Y2q53vvcCLRqcrEylsqWM3rs8vWRqfMl2ezIxw36tY3D4oS9e8YA2x4Iv4q5a14kHGQ4JB3PGycd1L+m44YbSRE0LGlBKIzEjw2RaMV8uCDPpPCP/4IdEIFIpa/nyZWedbt588+bRicDOQOl0w0w8P9S15hdLW8p3T7TyeZhKfitndzGVVggsCAQIvHEnQ0qwlh5bfkR884rPuO3YsYNTHB555JH81u655x5ieyQOPfRQEtu3bycNNaEUYmz8oOQXsceeQ36VIsbEDgkrUnZBgLMXRjZcu+qPFo2GrxV9T7e2bXFWreh8zrnh1JYt117XTrtZT9HS+k96SXblGVM//XeDeB5RUmp67HlC5I+/hFXuo2pcixtda8A2O7nN4LMUSSEOXCBl47EjTx7A5BBaOKu1+gzUMyWazysp0iw+q7TKVAgoBBY+AvOO9uWzlVJb98TIVBLzmc3U968au2/j2ERl8u2vLp757OWf++bmS2/7ZcfSjotOOfHodYfErmakarNeBRwSG08xcSHyXGP/1W/c2d7dt320TAevlU81H6CRHYc6Awa9mWHpyFQqFQbJBG5l4/33fuYRfctQ3Shk0iW9UUumJiuabudyhSj8rZm8lMIM9vgw9lIpewzgUB6ms9qpMhUC8xkBbl1+R3I/c2/DMNgPDQ3ddtttZLKtXr0aenfvvffC7SB8/HbIhCbKPF/S3P+UIoAnzZTfQmvfVDETUOQsqogUTk9PE/ATLjifkdk72wodx7jT9zqJZVgdTlSxNt6ulS3t/EvMiVrnnT/vSNwa3eaN4fJDO7IbLnD1I51wR/N5wr+ZJwy4EfnjuRbZmVRSS+KUs3o9lsSDD2qm55ttrGcI3wZSBMGc/QzAzAD5TTxvd8sRbRafeVRKPvIk+HDz7mIqrRBQCCwaBOYd7dPd9NRQIw5Ty5etvu3O4ZvuuLt3+UksHDHibk3SqbGg7vSva+S0K278YS3Xrff0a+7stE8eeVyn5kNzZpt5curbJ0qbRytatkN3eA4Gsa/bcTbFCOmkgtNChq8V6IyVtvQkq+/cuX1jZZlV6nPNKTdoZJiYmGk3NTNw3dhoPhZF5+4JCVdIpXKWJy8CsiehNoXAAkKgOX1qZpotNzNpCBmzdO+//346eUkT/2MP7YPkycIrRAH7+voQ5gfIWX553PkcMhyQBFvzbWyGZLAHBxghHBFhEtC+4eHhgYGB1vyPBQTUEzR1YmJbIT1mmrlBt+akraVt2cmcM2BmzbY4ybrTsTFYXLY8rbs7b5rcpNltE+6EC7xswsYADULMlphJOnFN27GXH8FhEDTiRrlm+07kgyQbkhBxAKcstkVz0D6dqWozOuVyUMuv65qdJT7BVioxhYBCYP4iMO9on2/Hpu4zYnlwojpw66ZSzxFuUE850wXnyFSSr+YCI3Z7zbBeWnXdj+LQGJgsdy8tDkSFxuToir5sUvZrXrzeMe5Jays7ezfVLct7qDculUe7tpTGloRDOTM3UWof32Qetj5ODwzWU6nt+T5tcMpuVHd1r+kvPlKejF2/d6XtPzo+tsTKWH25wnh+XB+PjXBpLZhq6/BHQqcrLhcM19fbGRM4nvI7zLVDmdFSFE+Pm/2rGQOYmxiuDY/UrXysm27B6WUJed1w5+9doCw7aBCABxAMiiK/GUJiElPMuLo5RyyACoRMCEez4Mx0XVgg+ZADWAWEAwHSkAYZ5wfh2LJlCySPoB2rtyxbtgxeyCk+9Ts+Pk4HMXNB+HAWAwTp0p2cnIREog3JE088kUwSdBOzbh9FFuU1ydqR43dPmdliUtZ9Y8LOB+FEXxAZk+YuEE5byyc2l5cc09sxFm25M+o9onzo4UFmdefYHe2Dt+4oHJ1ZunSXtqLgD1sjmyx3TfqFF42f/Frztv/2jzsvPc1I5bJrtnmV2rKxO8yOlal4+qHs0Xoqv3z7tWkmwFlFv+sZHa43NTygH3tqrI1UH/z+8ti831q+6uiz2kudE+6I+/DN+cpoRU/ZzbWw1aYQUAgsQgTmHe2bC2NCcYxOwangfnA8jCAn2lAs5f/8pen1fc//3vV3pI/uftUf9f/i/rs/9vfXnnbioSefae94qK+4su2Q87v/+zt37trW29ldPPbluVPXrmxr199x+QPxzpHzzjzunLOeNTQ8eeU1Q3914Vluh9PvZr/47V9ee/fo4V3J+ae1bThBt9P2h79azaSKRx/XOPfMlcFk9xe/e+9FLzn8lA2rHni08r2vbx2ZistRNRXa2fLA6163dmDbWFwvnfzyQx55cCjVseK+kUd/eVe9Pj2QMTrnaprKVwgsOAQI4GEz+9bGD5M0ET64HYzwkEMO6ejogOrB89auXXv44Yffd999jzzyCLHA9evX05lLXHDDhg3wvKuvvrqrq0v4n0wWFqK54DB5UgaDlQAo+4ZhQ8KnqyxbUGw/8YKxTXeZ9dv0yV1LV6xwXvhG776fla/aTNcuDPm4l79RKw88dPnf8HG6keouvlCX7bRqdj3d1e4bWv/L3q9tu3voK3dMVabaVh5y5Ks+qk2P7vzXH/Rbz/ROOdU++xJ94829D14d/cGbo0q1dM+vqm3FtRf+ZXDTj5PhndMven33WZckl70nmrzF1hXte1LXUwkrBBYMAgtm6DSzLpiPS1yBSWzSK0HfKX/LC7X1K7RzNqzvsnPbH6wFEz1rlhXf9jfHN6Lgu98c+9aXNx9/VPril55kutVaZcTz3A1Hdh/W1+GN14qlJX39XSv7U+tWdZ127IY77opv+vlDPWu1816ystBuumapHFjLVqx41mH9Kzqy5Wm3u3D4sf1L1/VPnXvKukcf9D/z7z86bk3h4j9cXWlszGTrxuSOt7zyRUevXP6163L//I1tD+yavuj8Feu6gz6npzG041Bz+YK5I5ShCoEngAAkj20PQXLon4X5sUHvCObRHcx2yy239PT0EMYjnykgMB5ypqambr/9dtgesb3BwUH6dkkzahA6ODY2tofmxXTYwk0YMxyXRL33SOe0NxgXfMI+7x3FZ57n6A3bdK10un7XdZOJHuXWVPxGvr6tes9t042q5llLhqfzY5Phz3/VU/EzDz0S3HxrfPsd/i0/Hd/2iJZuD+1CxtB33nlj7aHb/Xo9sUsTlWHtxq+1R7XRYmps8MbyV97lXfEZvTaov/i9xn33jt56ebjpq8uufGchmzL/8K+tym+mAy8m5FVbFAIKARBYMNE+4nyYGwbNWRqMFw+TVHP8+Hjlv741evz7j9/W2PGlK+8s/aDX1XOZ9r5Jzbju7umpgrl1YvSnd25bsXJlR3su8tqv/q62ruNXzzvrOKvU/+C28n1X3HrImg19pZ6rb7x1Z2XZjnDjuuX6cetXs57LgJve9Itt7Ucc/poj7c1jY0F335ev2HRk/6EnnWB847of1b1lI5OpQ5ZvvPgFfUf3FQbuq68/vPvUU42PXbrTsAeWH128/scP/9FJ9qOPaJ/+yqPdz0w2bh0qOEV1wykEFg0C/AwhK+x332gdA/X4YXZ3dx922GGkCfgx5o+AH33BDAckf9euXaeccsr5558PHZyYmLjrrrv6+/vpAibsJ8MEUUgvMPKLBqvHaQgYNs/qeqm6SX/ompqTnax7mpOqT0zmglopaRiWPq1Vs44xpmv5rF2oB9PepJbtqnWk0olecfR6wTK67ajdapRMrcFXI7OaFwbj9dVL25fkDIdV/2LbqgdWKm6YUyUj7hquuXdvqrYNR5lC35LVHYccXxt7sP9PPuvlltbjSasSl7RSvm+pW1ucneyPcy3UKYXAQYLAgqF9uAHmlrEn1EfMD4+iB3x7MQjbDg1T2kODj1YzBov9TXi13vzqd7/9jnHffsaGjhWHHN/bywzdXZliWC2PJP1eqfOkKPa9cKitf8VomRHmFuu2DFcG+pcWNbc/47V3RYUes1jPWeNTo1l/PN/TbRf6Byer2S4t15MaHmOZih6/bSyfWhuyVGqSTIzgzlaxumpkaB29NSeVd/Xmt0r5iLCmB20dffXG4JL2JUF99m8HHyT3mWrmIkPg13xlt1aRw0Y8jzc0Yn7E8OjJhQLymyWfFV5gdaShfcT5jj76aLjd5s2bGQgIL4TqyZQCJFEp+910L/6k4VYrD98TZU3dq9VTfX1W5OUKsWsPa4UCczKqo2MB3+BoW5oxNCtX19tS03yMzew07AzfGC/7vYFjenousEaM/h57Kq8HSXV8OC452urefE82dnWtPNZxhBEWesZ36b7udh5Rru4qd68qeEll1/Yl9e3TlcBI2fGN/8JYy6FGvltTtG/x33WqhQcnAgumkxfHwKSzJtvT9cBn5hrDXHhMpdvz7ZHmGX6mt3R4HBQLmaw7sVMb9/7+zcvOOMy96Yqr0q6ZMazRbWYhv2FkOudORe2anapWGmNT6dDpYTEWlsDSsubU5qROt3HbeKXBhwUm3UrGCLvrCQte1Yfq+TAsmiFjpS2tkNN7nbieTG3LFYy6XoiybRPZh3/2yPbBce2Fpy9xq/1TW3gTryem8/Cjd7Ubd3fs6mofaU6mU5tCYNEgwM9w1g3OB4GDycmsjq1bt9JvC89jigYvaTQf5nfllVfeeOONLP531llnnX322TBFpnfwA5fXOfYya2TRYPU4DaHVzbNJMqR3TKZW+30nppceVh3Yrk0NjjWCHWGvl+hF3dWqW/rb04V0vtqoFgIvDsuJk+Ibb+l8oZZoVZ2P++qTfAo5jNP2VGSHdSepRmXTcUObb4H4forvievLyyOlypjWFpdR5Vf7x7c6xc5arqQ/smXotiuqQ7d1b729Y+JBP9zR3Rh/HJvVKYWAQmBBI7BgaJ+M8sYlAPdjY/v4JIBWnpzMaUZfW19lJLS9Ffp0T3em9k8fOe2ejWNf++ZAub5haNqqu8myZR3V6Y19hV7mJbKofUdmuZ3ktcj33TG35tvptUlmyXSYjdJ85dL1jXAqsSpJxnaWerVkaVdnV8quDuim1l7qsaenJovJspxuBEnaj/zOnJYyJ822ng/90+XexJK/fU32lWfbr3jRKf/xja1X3ztczXlGZ8dgfjGPVVrQPwBl/N4hAF/ZY+NXSQ7aiPAxqo+fKsQO/iff8yD+x/A+Xtvo5yXOBxe87LLLNm3atHLlSgTgeQTI0QA7JE1i76xaEKWgy2KnACi4Lcm5q+JHl4zc0F57MIq1Mb1dyxe6zWp3qqF5gZc2M43RXHlXI2w4IV9vY4XrqB43WLnF00Mja7Mas5HPmJlMsbxZZxnnVIZP4pWMaj6cDKpjaceuemuzmYbekZsMOstVYyoVmO2ZaFe9FAXd514YLD05X/V9s7Y9d6jefnJHr7MgkFRGKgQUAnuBwIKhfXgFmkfAgGclEQVWEOPp2exLzQShFk3XJ5L0NjO/Zby86ZznHbG0f+LLt9Q3Gm1birsm20fs9t5HN28upkatqtvITU00KmXfi4nm5Sbc1HbXKU+bTIRzG1rNDiZ7Ajc1XOnLdwWmO6kNRYXJsjtR8ypdS9tq1vj22kY9GyVGEGX10emEFaUzg1p35Shb72hb1XvDT+OPXX79/eOTH/zMzz/+Pw80SmutVH9UrxtRei+ujSqiEJi3CPDTkw3WQoK9JAjmMS13586d5XL5hBNOWL16Nfn8bJcuXbpq1Sp6eJnYAe2DF5L/s5/9jD3skEWe4YXyaicjAudtw/eVYUKRW/vhemPK7tlsrhzPryrk0+nqo8V4OJ2UJyvVab/LPfTZozXN8+Ps2hOC3KETej6na7YWG55rx3GO7/DW6iZ9417oOqsNsyNV46ttYdlYbSx/buKsTtXdRsZ0h0aCOp/4rfRbg7bHaqZFd9eNxuCN8dEXRs98jVFIvKTPW/vCrjPO3b79t9ai31dNVnoUAgqB+YDAvKN9jsk3M5qfF2ezTcM2ktgvp41gVcdoWdeWFo10eUdQTWu+ZWSyoW8X40FdSy/tdtL+iO/VeoodYw/Yodbx7hf3P2+5f8kpHet61lr16b992bGdxUNqWrkvdqxiob0wNlitpFiBr/PYrNNWqj80PtZ7XOhmrWK1o99gOOC0aQ3ExUyfo3UsMWrVqU7NaOTNVJd1WJf10Fi1fWcwsrw4aWtmo2PwYebOaZvf9/pz16/fdd75Zz7z+Nwrzup45wXHri+keOAm8XSKj2WqTSEwDxDgZQmmRSiu+QObWYoP0taKPz1xA1lphe24446TxfaOOOIIeBs5aIbDEcDjMx5MzmX2xite8YoLLrgAtsfsXZmrcdJJJx111FHM9li3bh3zdjdu3Eg+CzUT6jvnnHNY3gWTnrglC0sy8L3ESrcbMX3h00Fqatnp2ef+peHv6mvrbJz5+iB7RFIr6MlAbJthrRQUSoVwWPvF5aX21fZbb49f8nf1/tW2v83pWpU6+aJAX+0lUfrh71dPep3+tmvsruOtsOz//FKtZ3XjzTemX/2Z6OizrZH7i23m9BmXZPTQP+cfjcCzD3tG5ay/sjzWJzVSZs+2b19qjdy68ryL6+8dKrz/piMOX7Xr2m84hebSjAtim/Urcsmvw6kLogXKSIXA043AvJvSQQ8Rr/uOxcL9fq3GKv9ae0dbZ2dnrjPF++7KI9Y+s24OjtcHhnfWa2GpK3Po8ac9PKStOuyY45+Zu2PzVr4Sunlo4s6He084sXf5oedc9YNfXvODn7z8hWd0LqlP33LnhmNXrVrWN7BzbMORS5kTvKavN2YkX9J4/nPXXbfxgXXL80lnecSNj1ifLt/54LHP7S6uCjaNljecfujWH9675tD+VHt+pFY/9bkbrr1t4OTOY/qWHDE4XTv3xGXBjdOuG95+7/iGFatPXT2spVezmFZkeRNx79s+9OBYvGos0ouLdPnZp/uGVfXNDwSI6tE/C9W74447sIiRfEzIZQ4HP17YJAQOzsegPcJ78EJo5Z133knvLbM64HkkEGaDI5LPHppIt++tt95KpJDpvSzgguT8aOg+tsIp5D23wR+t7uVL406QDNw7PTWQsY0Ob6RUMqLJOAxC3Xb47G6l2ljS1X3/T6+w0rkVS5dq1U1Tj/ysrteijT9tbPwxfbhueWL6tm/nhjZZO0caW36RyhambvxW8ZANKzMd5tZfpB+4xc2n4u0l/7bvp7tTJX17496v1yrlTOKFHT0TkyO5vJd68LbJ7xvmunvblix1R7cM3nqVtm3j6o72iX3cbqVOIaAQmC8IHLDPxQYh6wp4V153y8vPe17/MS8+8sKP+lNTlsn03GYoguX5cB5h81sCCSs7NOf6jT3iMpiu1N0I9bofznQwBUv6etNWtGvbvT0dK8uN9LTuZTKlqYGBdmeia2n3ronURNXMOkkppTFjl48WxXljWS1s+NPF/tXbh8O8YXToY43Q8/N9LB+WM5OgsSuXZ73UVVu21oulTJzsiipOR29fue4zqBDrvEbdyhQq9aC7rVirjfItJZ7QjGIKw7EN65ZM7PDK1WTa1XKl9mxSW78qd+rJh77zY/9ldR0TxLN/RG6+3AjKjoMDAcgEE+JNKwmi2ORLDHGSSeuDu7bc/tVXMMHirW99K9MvWqsl8xucKxAoI/BaApKglkqcOQAAQABJREFUILSPjR8wvJC+3VbcjoEZZBJopKDEF0kjAHHkFNE+6uUK8EuHMqIN4VkvSKRbmbhmZDsefOCe97z3Q68+qe9LL+mdrjcnC88qP98yYycb+67uu0T7TDsVGXY11hphlGhRR9rhA3Z+oxrpiZVj8HDKc8NMUnODSHeytYbLO7CZhMWM06gzXcOw/DRzpoNUoocsF5+Edr5iF3r0oZ1jGdfMl9qCYHqoaLbXgyTOhKbm2IHvJETHsq6RYWWXlF7RgvFid+eukSpf8y1Zjh3WGL4SF9v8TMGqLoyVB8LEyPKBTj3LMz6Io0IqHqiEJ/zLxkOPOY54M7fiQrkx5tuNquxZxAjMu2gfP1ScQRhGJHAJ+IZqtc5IoPbMsonaZNYy/DDgl5zNFitT1dHBai2uZI2lo+NG8zlo6rXaZLGrS4vah7YNZYod7fk0HzbnoapHgebX07qzo04XcGbHju35fLHhmzsajqtFnj5Yqme8Qqmhr5qeqI+PVywzPTxWsYudekYf3bazI5+t1uvYlC8WayypZRv3DFaXp0tVvthW7Iimhv/uVSdaZvL6r1+7ZOVqLRUak6NTA+N1bZm5ohx15sq+W5h3SC/iu1o1bb8jQHiP3yb8rFUTv0poHz9eiB0JNqgbAohxigSnyOEtDtoHKYTtoQRheB5xQb7twXLNJDgk5keipXkxJRr1Ssoy7HTGiJM48LWgVjSTdtv0oobeqIWJZbBAqZOKWbYgCO0krjndxTzEEC4em9kCH+HV/FrBSdfTdkODMhetpO7XJ5yMo+fban7KMjv01HQxl+T1tJFbkpghL6/FbNe0FmlTu7J6lFh6BcpvF820E1X1qcF6JpXJdWSS2A1c3rE7Ar0wNdjoKiwm1FVbFAIKgd8gMO/ICO6Bl1p2eAvmXbDxCdFMJjcZjqU7m0PpghBOZsVa7GT4eq9GbK7kdIwPDqYtN2UagV83nUytouXhZPURPeuk87rv1/M5M2tkqlOV9kK34eSHhzcV0/XQs4xUV9ZxvKRsZpJq4EWpnGU6QW26u9v2yo3IsiNzIkPPS+Rn25jbW50K+aRvngHRy0qpXJ01KaqBq+Xj8JB09qh16fe++aSb7/GqgxMduerxFy9ftubwy778k2LU123449rs0YvfXAqVUggsHAQgZ5A2+By8DasZ1ccvF65GJuM0hPlB7NigemxQOgm9iDz5lGJtPxLypocMP3ZIIfvFyvloct6CfyUQ31i3TDtjpXTbiFkA1C5k/RqvtFqSSmlG84EDg2Y+Lax4cHy6kM929fTw9tvwapTytIwRVLP5jF8Faz3beVhF86qVcpvtDEw1CjwRs9l6LY74WnIcmCl7cKJu63G2uHQqqLP4gFNM+d50ecxty7Yn2YyZTgcGyx2YkabXKmEm3VjWU3QbkwvnZlSWKgQUAk8CgXlH++K4uTo/oQI8Cg6AdPOTbKxVb/h2KkMkIWUXHMvxXXpFbCuVjt2pkcnRQsHK5IzadGJFZuJXWTPZtw+xzCnDdsPI8HVnwnfthOdp9/iUF2WSQudhMT0oScIapVqoF63eqluP7TiFSqvg+uHQ+IRTKNbpFQnSltYWRSmDAKSZop/XSArlSpQyGzt8I1siXjHZ5qz49OUPvPCCZWeevvT0Q72s2e833Du2Dn3tyh9t8+k70UtWkdf6J3FZlKhCYH4jwNg76B02QtrYwwLZkwmhgcnBAvn9SlQPnkdaWJ20qfXrRgCyKBSQBGfZI8meIiK8yPbNTkfifCxKQMhTM2hpEjWDpoHrOQad4xA+tsAyNIKCvN12mNVCR9aNzanJcfor8o4TmcwHSWeCcuJNZvjOUirnhnFNT2CC3d7UdN/y7FS1vGOb31FKF9POZOxocT0VFt1Mo2p4VtG0Q7qZS7qROAVTK+yyJh16Q2pxXrMKuQ7GotS88YY2rmttiwx51RyFgEJAEJh3tE8zmt5C13gXxh00P3dBf5DXcNNOW33K4604ZeUTwnxJHCWB54dd7aXhoOFZDa/hRX53Ju3o2qSd1f3psTga0mI3Y3QV0lkjpaMnjFyjxxr0JuhMSftJKu/EGZ/VrxI3yxhA25jWwqFIDyxGiwQNm4eyG6RYNcusFEqdtUpNC7xsOlWvlq18HhXd7avK1W2ZbGF7OXSSwkf+8+a0Uym0H1etDAdVtK22rM52Y2vO9rW66Tedo9oUAosEARmWB19pET74DAyPHHhbk7rMrOrS/A3PjN7jxydnYYRAIDE/SVNEeCEMUjgiCeQXCVK/3YxaI6R10DuT+Bu95HSAM/3ZsBlynDYtW9e8KGQwHjw5TExGXupabFl64rkId3cvKU9P1iaH29s7TSsz5k6V0jzajHp1nPAfH7fTpkJ/56Df3cajrYeHYxBN5rOGFndWXHdJcWKyYtpZ5o6MluuEGC0nN10b7QrDFF2/OaMae/Uk5Eu+OXp/PX9Krdz32xdOHSkEFg0C84/2zYT6wJfHHG+94kVwD7bdYCBzsVCiC6juVZ2Mlej0LsUjQ1a21FvTpvzYK+UZ1efVvUGTCF8h5xgE/3JRo1APjcCoGLZvmKns2ERPh+PX4y67q1abrkcT+SiTn856bR22EbLSqR8ngZ3KFvvqE+WOVFcSVzzdHy/vTBnpvJUPGeBnGbGT5K1GdtejbYY+aJtxoWo1tvaV2iaCZwXTP4v1ZWZPZxQPpuLRJfmuXYzxyzlwP7UpBBYNAhA1mB97WB2NguQJe2uO6WOUxmNxO9IQOKGG0B0pxU8basgmBcmnrHTsSj7yEgJcNHC1GpLKFLWYGWkBc14Yo0JnRuwHftJIp63YrXhRZNrNjxHNrGFl6bpdtTKpwM9kc9WGN1CLLbu9o7ugVUanza6ksGTSaxCeyzPAxYzH6ppuL40yVSNiSVKrztpRESME877biNpyfnViScowa5MWI5TTbdUkarjekvZcXXMa5YlsmHRaqUYY8w1gN12KUmGO/ma1KQQUAosRgQNG+/zAsHWnJ2mEZoYF944zh2q838Z06XYIzjJYnAdj81O8sRaFjpPu9maeRbbVEQdINjfG5BEhsLVuomlh3PwYBgsjaImWctl1N7kWlM/QnDineTmOPKdNqzXLjid1zbTTQS99SxMlhteUfb56qaVZe8UixDhNj0tbJakZJhBZvEtTtjnI3Gm6NMNnkGFXJU9SS3l2qtnZtYJerqwxmJir6HnR/GnOaFr/aJlnuKMFvLfPuyUSm9ar7SBDwLRC+g8bjTCfaw/5zJfuaZbpziwrCT+DkEG/WE4FHibhOiFnjwMSYnuc3T1H0rA9ZFoBPA6piE0KSmexpJFnQ4D9Hmrl0IzChqWlU2FD17Ia8xWiiaRU8u+sGf2zys+3zIRnwcz2WPN4/DQfDUmDZ5UxM6oPEh3PPJeZ3uvlms8WjSvVXM+m+VTRGuTokMSqVZk5ZepE9bIBaPDxu/FUU2+zDF3INo/AcIzHkF8lbc48DC36MLSojACkO5gOba3ZrcGVqIWUjBwerPWFNJmmypzlZKpbd3cFRYZNRiyOn11tBfdzd3EXsZGQ2AG3mbyiNFFTm0LgIEbggNE+C3IUe9PM14vT+XSfE3XnWKvKdHx966yXg5/urPn8sGfN31eZc9XrzdEJ4jz2ON/DAN3av3buUZ06VAjMgQBrnZiRHlp8bVoPYs21dDtju4TcWB2ThVRIUJBXKQgfUfa56Nccyvd7duSGWiqycxkma+Vy2TjdXk53t2XXF3k1VNvBh4CTKjoMv9HNnNZWyLBG17Q95XZBck2TaLQQPnl14U7mxWOxRpEPviuvWrz3CBww2kf8rjll17EthtWx6lR1wKozLM/0nebQn/m/pefoA/FVUG/+X7yD2EJ+dE3ap9l+lGI9OELpVujoZgkfed9991166aXiLImRiINsxeTmCWZMq4oSPqJt7tw1zLzWO7eOfOkH9+T8IZ9ol9oOPgT4+jBfK+YVYDCo5lNGMZkaCjPbI+2EVIrYHmMMWu8tTBI/+OBRLVYIzILAAaN9rhcz248xLmFjdNtdXx/e9UuXBUI9Pssxv97a54omRnPQOxbDnXWbK2o4q7DKVAjsPwRYUI+ReET1Qj+gFzCTceqVZu/h1q1bH3nkEblRCZDgMqGA+8+MvdPMIsZ8rtFknoLO8A/j7p2j2wZHk1Cb0NSCI3uH6MIuRcg6rbHujzvRMLXEp6fbyFie2cViN/V6vcASD5bFLU30Wu5nRf4W9vVW1u8LBA4Y7WtPNUee5FL5Iw9ZPl0v87kLvRimMymd7+3Ots0VdeDHPJv4fs8LsX62zZw9m8+kq07e2fBSeU8vAnHUXB0J0sQWp6FOJvNKA6ugF5ZABBnY16SDM7NoYX5ESg7U72suVEJNNyLfZr4/S5DYjutHzO2iW7rAkDW1HXwIsMZr5NfS+aLtacyDzkTTeIqikTv22GOhfXA+FhXiVpdRfTKA4eADSbVYIfBbCBy4j7PVPL7CwSDm8eHRzu7O5lL9rptKpb38wnh8O3OsL+HOwfsU7fut+04dHCAEiHzIrchXuloRaPp9w7LPSD5y2OM42X4tNs9eVxIWO0l0I+arOzFrbtb9xNDtQjqlezMTHA4QqqraA4VAyk6Fft2wUj53hakx4ycOGtwjU57W0dEhQT5eXeRNBhY4315jDhRuqt6DGYEDRvu0hG928jEOYg1MY5v54zo0I2ILg/aFxuzRO2su8+eYknIw33yq7QcAAeiebHFCCLqZZMJo02E2l0yC6rGXIfBQQLb59rrCGksmk1L4yIXDCEVMZ6CI0VxiU30E59fX9eD6L/n1FLqEG5iPOjFBmbUWmg/hmVubb8MwLV0Q4WYmMd/u54PraqnWzg8EDlgnr6YnRsoiZMayApFfp8uXIUesSZo2muuf/O42x3oOzNj6Xdl9mfPYKhN76pyL3s0xtI+uqdlp4p561bFCYP8iwJsea6LTzRtL5CNsfgi2GfljJB99YUL7moyv+ZnE5mck9q85T1J70x6+2YOTZ8H22GPhY9Z11xhp+5j/f5L6lPgCR0A36TKKQo8bgiAfq2jxBA5cPtHZ/GCMcD4hf4rwLfArrczfZwgcuGjf72tCy99IAg/EFzzz+eZaefyMGbFBTIJTdA3zGVAyGcnBcF0RbpUVx4YM8sPDw4zzXbt2LSM8EBgaGuK5sGzZspYh9AjQw8UhKzwhQJHWKTyiDHJvLQEgjxLRjKdEkrpISI2tgiqhEFAIKAQUAgoBhYBCYJ4gsJBoH5D98Ic//P73vw/5Y5TG6aefDjMjPrFhwwYYG+QPTsbWomtwMkgYBA56d+21137yk5885ZRTPvGJT0AQ4XCvetWrfv7zn//iF7/o6elBM4PZ0YAkL4Ut6gb/k6FOyMP84ItURPp973vfUUcd9cpXvhLlIowkZdU0sXlyWyszFAIKAYWAQkAhoBD4XQQOzDTY37Xj9+bAt971rnf99V//9ZlnnvnSl770+OOPv+yyy5797Gc/8MADLe4FIRPOB+GD25GW6N34+DixvVtvvZUQHbyQTMgiGs4444yuri6qFs736KOPkkAbQTshi4ghj1oxT1jgl7/85U996lO33347PA8xMjmLpAQdf29DlIBCQCGgEFAIKAQUAgqBA4LAgRvb9ySbOzAw8A//8A/XXHPNeeedB9l6xjOe8axnPev++++HbxH5Y5MuWtge9IuwHFxNun0RWL58+Zve9Ka3v/3tED4kqRli95a3vIVTsjIZETt6kP/zP//z/e9/PwXRzyYJmfOPPAkUPvzww5dffjlKGDXCHjGUcJaNMCF7kX+SjVPiCgGFgEJAIaAQUAgoBPY7Agsm2nf99dcTvZMeVYJ5RNqWLFny1re+dWpqihgeOElgj25W6JfE50gTq+MUwjt27KAswTzJgSMKtFA38qFuf//3f0+HLwWFwElFFBQxCpJG4Rve8AboI5YwTJBTWEK0D2E2yrIXebVXCCgEFAIKAYWAQkAhMN8QWDA0Zc2aNXAsQnQ33ngj8Tx4GFAeffTRRxxxBIE3SNiuXbu+9KUv0efL1I0PfehDH//4x+mHRUbidrC97u5u0vA8gnZwOOJ2n/nMZ4j2QQH/bWZDyVVXXXXzzTdLvy1VIIwGZKgCVkftz3/+80899VRyhGXCFwnv0Yn82c9+9sorrxS6Od+usbJHIaAQUAgoBBQCCgGFAAgsGNr3nOc852Uvexms7qyzznrPe94DgYOcMZmDw+np6SuuuOLII4+kJ/e2226jF/hf/uVf3vGOd7zgBS+49957aSQBPEKDfHtKLnm5XP6Lv/iL9evXf/GLX4S90X1MvoQGt23bVqlUhO3B52CH8EUSUMPrrruOwX+vf/3rqRoNQj1hkET47rnnnr/5m7+hUvKlCrVXCCgEFAIKAYWAQkAhMN8QWDC0Dwb2+c9/nl7dzs5OOmQJuTGlY3BwEEpXKpUuvPDCd7/73RAyOmohc5s2bfrc5z43OjqKPJE5QKcvuK2tDT6HPAnmZJxzzjmM5yOkt3r1arpumdvBqu5/9Vd/9aIXvQg9Qv6kw5fiRBC/8IUvQCWLxSJqCf5BB4ntyQwSGOSHP/zhD37wg5ydbxdY2aMQUAgoBBQCCgGFgEJAEFgAtI+xejJcD3rHIixMpD388MM3btz45je/mdgbfI6WEHujtxe69opXvILZHlBD4nknnXQSs3eRJCCHBsQgeaQhgr29vULRKEI+OdKxS5rAHmm+4Q3nI84nYwHpDn7ta1/L+i+E91asWMEpCB+0T+KCVEcA8rTTTqM4G9qkFMphq+TIUEJKSf6MVHNcoCRgn1KqZQNilGUTAbVXCCgEFAIKAYWAQkAh8NQRWAC0TxoJf4KEkf6DP/iDX/3qV5/+9KdXrVrFULy//Mu/hDZBwqB0yAiFYpIHhOzcc8+Fb42NjbFHAC4FcUQMSgfBgi+iUMJ1EDJ6exGAscELCeahB6ZIQUbvfetb32KxwDvuuIMoIyHG9773vRSkN/mjH/0oM0UwiV5m9pQVUzlL7ZA2is+Qt+Z3TlGIZg6pCzEMoGoOScga1JSiLuGCwiZFm9orBBQCCgGFgEJAIaAQ2CcILJgFXH7605+2t7cfeuihkDN4EnE+ulZf/vKXf+c73/nABz5w2GGHydRaAm+QP2gWdIp4HpscTkxMkEOsDmoF8WKPElgX3A5CxiFikEIwJcFeqBh6SG/evJmOXZZ3gd4R4UMPDI+ZHxDBk08+mdVhKEgpGe1HEc7C4bATtRRHPwwPhZIPF6RSTqGHhFRBJofwUUwSG+CIJNSmEFAIKAQUAgoBhYBCYF8hsGC4BdyL2J7wJ2ZOQODoVD3//POJ3rHB5CTGRlpCffAq4nxwKZgZYCEAaySKRoJMaBbyEDKEIWSQNsJsHErITYJthAOFhNFfzGBB+ouZUPLII4/ceeedKGEU4JYtW+j2RTlKhA7C/GTAH3sMQIyNySIohAWiHOYHz5NDBCSBDPwPzocqNLCnOHu1KQQUAgoBhYBCQCGgENiHCCwY2sdU3P/5n/9hNi4UjRiekCQWbeEjaevWrYMFMlwPagUD4yyHpCFqhAM5BC8IHDnQKZgWaRgYTIvOXAm2wSZJyLA/YnjwP3ghMz9gaahiqgdKGNJHYA/uSNXs0YYAlA7l6KTz98EHH4RQYgClKC6VopMNzorxcEfqJZ+qseRrX/va1VdfTY5wUPZwSmaiyDwVxNSmEFAIKAQUAgoBhYBCYB8isGBoH1ztoYceOuaYY1gnhbF9DKpjyu3PfvYzyBM0i4gdwTnoFDNqYXvEz1hjDxLGEEAKIsAMX8jcT37yE2Z4wNVgYDfddBM0i8/yEiCEw/GhthtuuIEvtvEhEFggOaCMQoQpThqd9BTD4eBnJDhEIWXRz5eCX/Oa11xyySWQOagkTA4xKc6e2CRGvvrVr2ZZQQ4pRdmRkZGLLrqITBgh1dF9DO+kt5qFYFiMRoojrDaFgEJAIaAQUAgoBBQC+wqBBTO2r6en5+tf//rSpUuhekTOWCH5xBNP/Kd/+icm8MKiYGYSxvuTP/kTRgESRWN5Zz7gS1gOpHbu3IkMs3FJE0sjaAeD5FNvcDs6ao877ji6Vv/f//t/cEqYInOBUcWGMASOghA7+BxRRsJ+pBnJx/fZEOYUUUD2xx57LMXp8KUURBBtUhyCCKVD5oUvfCEGE3pEJ2dhdYQMmSDCWYKIohM9dBwj/LznPU+ag7DaFAIKAYWAQkAhoBBQCOwrBHQ4x77StW/17GEYTIh4GNwIZiYD4EgwPA7qBicjLEc365//+Z9DCiFh8Co2MiFeJCBhFMQ80uwpQg4KOaQshyTYGN4HD0OAgJxM6SAN20MGYSggJqGTTDYRFpInhxgjZxGjOkqRL0XESGkRFbVKiXL2yKNfDilFAjESrepIq00hoBBQCCgEFAIKAYXAU0Fg/nbywnh231qsC2YGf2KDBbKHwMH/4Emst4wMjI29FAQXZCTw1qR1j82NlRzEhJlxKKeE81GqxflIiwzCpFHLXjYRFgJKDoetsySkFPmSSRUkZkxoAt4qJWLsRX+rFAnk2aSup7KXFWHQAPUELvgraeCSHElAOjklzJh8EgiTYEO+leZQZCDTkmgVmZF9WndYLsZTayvRMrXVUs62Mve3fZgBMq1aONy3+NAQaanUsntd/AS4Uq3qOBQzJCF7MGFrmUdCkGH0qmTKvUF6d1UcUkpOtXDeQ48U37u92CD6W1eKhtC6PWppnd27ihZfqdblaCEjP3bQa+W0runia75qkUJAIbB3CMxf2vcE24NvgNsxVO4HP/gBTz16ePnAhnrYtdATeooTFepJPihBK+UzJCQAED7aYpmc5VCYMcIISBofgy8RfgzgJCATctiq6+lMYBib1IgZ4vAwVbgCzREmjc0tMrRfzRNUQYZaSAMX5u1bfNAmTZZaWs3h4hJppr0IcOdD4yQKjoAkBAG5xMIVhBnIlZVpSaKNfDSIKpDkEiNPQSR5oZLambRETqv2p5gQG+RikaZ2uc1oI7XIZSU6Ti2cbbGZp1jpIigOJuDTQkYuKD92rhe3gaBKMwVYueiLoNWqCQoBhcBTR2DB0D6ecbNuzOTgMcfECKJ9//Zv/8aYOaZ04O2eOjSLSYMQBSFqQgQBquXUxSsALwRC/IS0HV8CtqRxt/hjfAlumFLkcHhgQRab2bNhubA9DOaQNOYJY8Bm2s7h/r6agirciIpIw5CwZH9UyjWimWjmSgkNooHUxawgLg2Z0DgOhSQBBQmJLkP0KSXUrcUMRBv4QCAoS0JuAITRxiWWGwCECYEjjAYU7tt2wVOxk7awUbvoxx4yBdVWdHzf1rugtYEJl0YuFlcNrLhG3BhyfWkaOXKfkObUgm6sMl4hoBDYhwjM37F9T7yR+CcecOIbCEXIB3P3uXN64vbMK0lcKV4Bhy2LUZMWH9DCB4qAq8D14kLEi2A/Tnd3X4uSljxn8Sjs0SNoH9j2isPDBu4BTGJr5dBqDmmUMJj9aqfASBUCOOiRoHZ8M/t9WzUtFTZGggsKOaPJbJJJXcLO5YrTdmzDnpYZ5HA1EebyQeawU4xsCbSuPncFJJJD7hCEZYIU+p8Knti5OxpcIwnskUlbuFgYT7toFJWSQ+3McxLGKW8vuxc/mNMgA5itYC2gscnvFLhATy7rHj/egxkx1XaFgEIABBZMtG+uq4VLw0Pg1Xjk4STgfHNJHlT5TRYws/H0BxwYAE9/EMCt4hjYcAw4b3JIgCHOg1MAyKxnMim6O1zCJ3D8bOCMKvYIoHl3sQOSxhisomoaAnGRZpKWXmxaxKmngS4IMaJ2sAUW6gVDMuUq7Ctk5JJxvWggnIzrQtO4FjRcAo2cgjYRJOOKk2b+OL8OTBJKJ1dNDsmRMawkZEMndlKcIiRQKJSC5iAgnA9UaSO3ylNvkSBDXSinXfKxRGxGOfWSwFpMhfORblHDp17v4tAAelwXgAI6rjKNErhYlIo0GHLvSUuRXBxNVq1QCCgE9gkCiyHaJ34Op4VvEF8ofUP7BKCFqKT1oCfBgjXf+9734Ad4axwDXhaXgB8FIj5nxx6ne84559BMlsVhfOQb3vCGP/zDP5Q4gUDKKVEII3zlK1955JFHylI4+JWWa3n6UcIkoh0tNiCW4AJpDg1kPR1WZOR7enzND1L4NLwMAC9VY8Y999zDMo0s+v3a1772xS9+McaQL9tTQYlrx0WhyTh7IZdyXdDMIetQ8i0ZVp3813/9VyS3b9/OV6RZTpLmf/KTn0SSTLFBfizcALA6qCGLSiLMgkcUZ/lxCe8hT0XIgycfpGYEBTg/97nPPfXUUzmFGez3btv9zhQNQ0NDX/jCF+66667zzjvvzW9+M4ZB9bgP3/Oe9/D17b/7u78TU+W1RJq/d1UvslLAIvd8KyLLqlJcR+6Bt7/97cLX97hPFhkCqjkKAYXA3iGwj4fp7J0RT6UUjkQef3gm9MjzjlgL7vapqF0EZcXFwn5Yv5A1Do8++mjAYcoLjGTDhg3k4Dnuv/9+lryBGTzzmc9kLesbb7yRJQaFH3CWhOAgCajDLbfcgpsRKgPI0AIB/OmHC5PgH1x6sY2PJnd3d3MIaaDhrMtIS+Gp8J5WK/arkdApgmcwaWjf9ddfz/Lgb3vb22DVwPi79WLhk7VKyBacD4W0EdJGdVwRXDuXg+bffvvt5Iin5+s1fEIQ5seSRtROESQRo15M4sJRO5wPmU984hMsh0n6z/7sz5AUq0Q5h3/6p3/K8ub/+7//C5IveclLLr30UogsNBpjsOR32/UEc+TORJgEcPHNQ3je6aefjvHcXRhDPs3hLhUZckjwEiJhyCdYy+IW40oBCNeUHyDXlx8vMH73u9+FGQOj4PZUCPriRk+1TiFwUCPAE3YRbDzsaAXPO56AbIugRXvdBBw8m+DAnvAPX/6QTHR+7GMfgx+zVDVp6YgkMPaP//iPpL/zne/gVpHnFHwOMMUGvAsJQZXYIeEZyUdGEgdqLxbCt7Zt2wYjkasv1vI55kcffRTDoBHspaVPg530gVLLv//7v/NM+b//+z/qZcMw8N+99j0Odz/1OGk4pZzlbiegSISMxrYuE16fxrauO1+ygRC87nWvw4A9dHLhxAAYP5Fg5kJBjukolEssl5U9dwXcjlAfGjjFYWdnJ0wRba1K99D8ew/lPhQjUcJGmncJ6AvhPSkuMnRWMklFftc0Exs+//nP822e31vFwSMAUKAHOIISnw7i98trGwjI9SUBwuwRO3hgUS1VCCgEHh+Bve+vmVdkmRgG9hDs4QVXvePufml44vMVOJ7+hAfY4yTIaXkFOYtPJYCEz8DZgyGZgiG3DqdwyRREJ2X5MjKfKhH90Ef8DWlKiYDko1wOKU5OK80hmkVGSkma4pIv8mSKWimINuoVSRgeCQ6xijSmIoPZ//Vf/8Wn9jjkrFhOr+7q1aulFPuWKqlC9FApykUGAZFpCbcOyaFUywbJFz3SUjGefA6Jt8G9RCeHEnok0Woaac7KXjS3TtEoOYUqNsmXTMmnExYzOEVLYef0z5KQ9pKm810OyZEaBUZs2B12VHFBuRnQf9JJJ8ES1qxZA1sFRgn1SUvhEB/60Ifo2F27di056OTrNQy/49OIaJBQEwk2AZMEhs1kNC8QCamUs60mSD6n0CZ3GkVII8AmWGEVYujn8nERW5ZjD7RP2sVeVAlKApTUTlpkqIUqxJ7d04JJy7aWQMt4NHAWe+SUKCSN2lZLRbPIiDz7lgZs41CKI0NBSQOy6CEHDVK8VYpTYhU5e2jjFJlyVuyXHFACPYTl6cfVgeiTiSR7qVcskbTYv7tt6FGbQkAhcLAhsEho38F22R6nvTzxOSt7Eq9//euf8Yxn4Ol59ONZ4WokcB4I4J8gCnybDhkkxVvQwUcmAoR5hoeHKcgpCuKlKEsH38DAADmURQ/RICRZMYfQGp6JvkX4B64Iec5SBQEbDpGHDHFI3yvDj4jZ4PbgGchQigQy1PvjH//4tttuwy2hlupaTaBeQlnkI4YGOhyxCldH1RSnY4uxhmIbSpAhk7P33XcfjhBV1MIhBjMADp2cxVoChEKSMJhFH5Fhw07OUjU5NAFtLU+MfmwmHwvpf0SYU9TFhh4KsgcZxkdiG93NVMSGDPnkIIYBKCSoRo2cEuOpbuvWrVIvaWkjwkQrARO0KUswTNqFNmkmfa/03RN7o4iQCRqIeShHA6UwHp1PahMLKdLqNEQPAwNoKZWSz5QOmCXXCFQlE6vIp2rMoDlUCjJcX/KlsWjgLE1g+CCtRg931N13301xsZBKaRTCJJCcway5RiBqaRfCMD/ICpyPDxsCPmJUxL0kJgH4ddddRwc3ygmFYoaokgT3FUXQTxGuKeAgiQa0oVMGtqKKWqiLqlFCvQDIJSOSyosERcgnE4ViITFIyqKZqCftIh8B9tRy/fXX02EtPxPMIIeCyIgG0iyZxF6gQAOnGG7BzUwmFkozH374YQygCBtq2WgpRX70ox/R245a7mc0kw9KlCVNjQzixB5eyUgjIzckBoM/aWymCxhhcqhLDCOBAVwIEmpTCCgEDioEnrR7OKjQWdCNxXPgQoT34Aw4xIXw0JdMmibsihy6+fB8OBI2KAvUih43Roa94AUv4MPBOHuKQ0ToE/zGN76BPMP8xe/i5gn/4FqIcsHw6Ct8//vfj7NBMz4GSRmVhXchE3KGc8Jj4XcZSXbxxReTLw4MrvDNb34TX4iHg14wGJFAlJAkXCO9z7hkujWpi5AP9lMLo9ZI0JX5pje9CfeMGJnEw9761rcyqg9TIQSf/vSnTzjhBCgj/pheYJpDqxnISCsOOeSQD3/4w89//vNpGsHCX/7yl7hMesP5sDIO8otf/CK8kDmk1EjTcJC0BfoFxeQsfpSBaAzdW7ZsGe2ijTCh//iP/wANjKdvF53YRhH2gAMhIw2doopvf/vbmEcCHsM4OcgHYEIlwfMDH/gAH5jGclD66le/Skc8ZemURy3VYXZvby805eMf/zjkkpgr7aVqQrmHH344Qwm//OUvL126lP5lqNLeuXOsBR8uHPbfcMMNpLGHTKELEkDlrtgy8xlrzoIMe+4cLjcbCMM/uARcTS4xc4NOO+00ofLXXHMNl+/KK69ktgFFuPQkoCkAy6HcS9w/UB/uQJCHctGQ888/HzG4GiAAPgZ88IMfRIBPV69atQoZoAMi1FKW+R/MN0KbtB2d6Pnnf/5nYdXPec5zLrnkEnTSLqADRr58/aIXvQidXGKYKJ/GBn+uCyzwv//7vx988EFeG6iLIRAvfelLucpcNcgT9wlxVvRwCd7ylre8+93vhrFxEzJ5CGGa/6xnPYtpKIcddpiAiT3yM+QGhtLB3rCZexiEqe7mm2/mNuDD4kAhl/Xee+9FLRqEI1Iczdx1XAiqJgLKKe466uIUCeDlugMCZsjFIg0CXDLABITPfe5zmA0+XBFm7QCR3MyIcU9iG3rUphBQCBxcCPB4UtviQ4BHv2w8/YWFSBtxnNzfUAo8HzmchZSIJMPqOYWvxbVcdtlluBMOmfmBL4ScEf945zvfiZ9gxiUFKcI4P87CrkTzH//xH+PDSFMdRXAq7OEEsDeGA/KhZKoWSapAD5MJECCHxPLly+E6uC6EmToAQ4LqcQqfjXfEycFsmBiLF8dtn3322RgGPaIKifdwyCA2NBDGI0jGlEY8IpkELFFCYIyzHJ555pnveMc7YCcwM5gunh6WiQDcC1+LAC6ZQwDBSUN24QSQPMmBHNAfKkFHOBYWUpyCnGU799xzsYqqSTNLpq+vD48LQ+IQBNgDIDpJsEEaqKs1vBLOCiDIYyeAUIoJs+DzR3/0RxBT6AV7vDi0hrJcL2KW4Iw8HALCAWgwEjgWOl/96lcjA0fh6nC9UELDyaF29q2Ns6RlD4bM5oF2YKdcDk4hT/cuCiGpHJKPMNsFF1wAabjiiitEFVVLgj0MGz3SWK4a+ENWUP6Vr3wFmsW7BESfGeIwbNgJzUE/fI6bkLuFGw+1sFj0cMi8Iu4BZGg4lQIy7yFnnXUWzBJ+DDHiJoHlgz9hY6qAqHFl3/e+94kxXD5JsOd+gIGhioQo52ajXRAgGsVGce4obk5QRYBbGt4GQyUfPRA+hLmduHZcNTg9DQFS7kN4Jzc87YWg0xasQhv0EebN1Ydxog0lgjwJfgJMneG9CIW8mUDiORRjoKTcfnSpX3vttfzEEKDhFAdefolcRF5aMIALynsR5klDOPulL32JCwf9FWFYLBFTuU/IwX6o7Uc/+lHSwMirFKp4seEQe9irTSGgEDg4EWh2aqjtYEBAPBBugKc/foXDllvCY4HAVVddhct52ctehvPjEFdBkAmfTXBL8CFmsLtfIYoAeWIvjhZXhzdFLVsLT9LUglfr7++XfIThKwTS3vjGNyJGCAQGw3QBqZGYBNXhOCGC+FR8G5UyvAz3RrwHGTgNTAI7P/WpT3GITjq/4IWiTbgs1AHOBGmDgYlt8AbCJ3h3jCQHJcTqUILLlLYTFKFpwnJoOJkEAvHxuFsMoK8Q9oBXpkaheiw1QnHil2jD+8JaMIOzMB72H/nIRzhL0Avz2MhhQy3C7CF2xMkoS6bwJJlvi7VgxQYxpThVgMZM0QR6DedoTWgQFktEirPSQGgQkT+iaFRH88l/srSPlkpdWEiCqCeoCnNFIWoxDNoHjLwPINDifBjJKfqdYWbkQ0zZ870cJouQAOrXvOY1NEdmbNBeSPNRRx1FDrwHATaA4hCKI4fs4fRACj0ijWFcDlh1T08P2kSGkBvMUlg7OVw47gdpuAhQEeyQNJFCVAmhx07g4laEqCEsphJ7g3LJhSCOSDwMMQ4RgIBi2DHHHENjsYHbm0OuDrcZIViYHPZwY0BwqYg0ReS+4g0HeQ5RJfawJ+dd73oXGuRul5xnP/vZ/B6FSSMPPeVCg6QU5CaE6lEdZZHnfYDfI4BwjbgtaQi3vfxGOMsPB+WQUSyhOPOv169fL7VwSGO5Q3hdoQq0scmFRkBtCgGFwEGFgBrbx6NyMW888WkebhuHxx4fQ/8O8Q/pGJK+HvFqpDmLf4VjCeHA4eFdiMoIQLgTEujBheAzhJmx5h99pngRDgn5UB16EMPpsieNl2JhNonfYAAkj4gFvp+QCQKURRXjC9lTOz6PniwECOFAC6BiuD000L+Jz8Mq/BYBFfIREP0YQ6W0iEMCQlQBX2HDWn7JVMdZjMGRE6ckRIQYSqiFImQiSQ4IoEfQoDoyKYIGPC4MFcYJnyM+R7wKR3vyyScT1yFqJZwVyggxJR6JHtGPtaiiLHs2QYzWyQYLQTkb8vA/eKSIYTkmsYklWAsagjkEFFMZzEeLMBWsEGsl0AMgXCkyRRU5T3ajbOvBR1mMxB60kSl7UY4ZMD8gxQbEkMFITtF8ODQBP1gF+RBT3hloOFDTAw7hoI+VUtjJSFNmh4AwXZwoQT9prjI1ckgraDK1cEdRlhyqQwBKRCbISLvAmUAs8Vf6VZEnLEekEw0iQymAhfeTgMYBO7cZlxU7uSjcElRNbJVKEaBLl2gr8thJGJiA4oUXXgh54s2BmNzKlSs5xdXHBng2aYS5zVhcBgZGHytmfPazn+X2Rp5Lxgg/iCAjIpDHHqqmIVxrLKelwEUOb1ZAganIoIpmyvAD5LGZ9iKGYbQUgkgcEWHS0E2wRYD2ooRBBbyNYCqQcouin+L0sBNyRiEthZ0TC6cuuCNAUQUDG3hPIwROvWwtMAVStVcIKAQOEgSaPk9tix4BedDTTFwIToUEfgX/RwKnjqeRBJ4JFkIaR8KeNPJEWchHnj2ujhw8DXv6ueiBJXxIkIkIHP2MRCmkIIwEB4mLxQPBz8Tn4atw3liCq4Ml4Avxu4SppGrO4s/IQQAWSAQIuompOGNUibejdmzAj6IQzRREIYZhDxvVsUcPG/KchXawx1Q0kEl3KlVwSBXiWclEQOrFck6BBhwFndTFWXIQgOShgcaSSUFxq3hZyAeEgDjfunXrpCz24HGlUtpCgq2VQC2WI4kMFiIspkrVmIEwDWQjH+ORpCwJ9hhGeIk4KOhx4VCFBvRwlj1nZ6pq7kR/6/AJJlCIJPXSQBTCrTkEUozhkLMkxEJsQKyFP2Ai+apXvYreUsJjdCwSwWLQGyE9SmEMvBAyhyqApSEgQCiRWmiO3A8giST3DBUhgzZy2CNMDnQNfKhF7ii00eQzzjiDyBx8C1bH3UKMja5SKSJ3NbXIIVwZkxhciA3ooceW0Cn0jngkQw+5zejNJwwMCeNuZw99pCeUOCI4c7ml4dzqKKTh2EMCKGgXGxyLdhGXpbHclhTBcu5Y4nCc5aIgSQ4bxrDRanJgY6gS9kyryaReIKW9SJIjjBB53ru4aekZh/xBl2H/lIW6YQMBbApKY6maOx/bUC45QERsmHYReOYsasnhhwwI8n4C8lg7Y5TaKQQUAgcXAirat8ivN+4E18WGH6KpHMoeJ4EzkJgTObgQ/A3OlYABTgVhBHC0nMJDUJxDXIuEMcSlUYShSPR2EZyj35YACf10aOCseBQhBHgdXBGRCfTDFYTrsEc5GlCLfMvtSXFcOzZwFseJGH4U3w/LwXVhP9rIJ4EAaXSimVMkqItTKEchmnGTyKCTszQEp4gSFEql5ICAZNJAqkCYTKpGOaRTSCQ5cBECjXhN3DBfQWCEFuE94kDIUxHyqKUWlAg/Q7+YIdrYi2asRSc1IolJHGIqewgQMuhHjKopyyGNIoEqBICIfGqhODW2moMecpCh4RRBjP3ebVIFZcVUGC1qaTV7UUgzwQT0oB1SI5WCOfKUJcDJED36XjGP+BkoEVFDjCZwj8llBRyESaNc8MF4OYUqGkhFtFpA4JRckdY7CaSTNGKcgsBRF/FgdBLwY1gbLx6YAVbwMLQhwyZ3BQFarGK0KPnM/yBOxkQfhjRQFzyVu5d60czNACviZoMpQkxpAgmiwixwg2bRhg2IIS/Ioxb74XDcDzA/2kWadwCJgCLGtWbPBnrsERb70UZZQKAhKKTJNASdCLDnN0iNbPTbcssRGqermhApYXgkoacUJ/KHKpEHZ0qxpwg6qYj7igS/VkgeQT72dPjCYkkAAhtAoaplXtNEtSkEFAIHBwKK9i3y64xvYONBjxvAK+AnaDCPexwDCVyFtJ8ccQN4TZwK6RYueAjKIkBxnJP4GM7ieBgIjyMhzMPwJrwj3Z2EVRAW5y2uBTaD+2SRF8J+aGCjLCbRZ4oxOEs0MzWBTApiFYd4a4gjDg8xLIFbcJZT1M5ZsVz25BMOQYBTeFb2ogd2giNED9bSdvYUFJInaU4hySbgSBWSI24YqodClJAJfaSUjCZEGyZRO5Eehk/hifHcxCzp7ENeMJRm0nwqBUyEaSlptImAhIUkH0sgUtQCywEBEtSFmLSFBBaSgzBn0QxBEasQoCxnKSI51IK81I4wDeEs9VK8JcMhmdJ8JEmLWtEApaAUwkwQJofJBKQRJg0fgoUww5pOTEBAjOrQQHH0y0wL+na5K/72b/8WtcwhEK7DzYAAOaiiCBt3Ajn0laNZrg6nuGQcggwWUlCqoF4pKLBL09gztwYlsD3m28rYSmaEwEoRQ16agDbARxXdzatWrWL8HxO04XNUwWBK0GZGBUrouEeSSmGujBdkOCNxMmm1XAImbWzZskWuCGJcCKoQuOB5JJiKS3NoJr8dBLghYZZoYGtJYhiHskcVabmOUjXFOSVKwFNKoYq+Y+49unexRC4T6JHmFG8dVM0gSEoBCHsuEE1DM5bwhsDvkevFCEvQQACWyQ0J2WXmEznAgioqQl5tCgGFwEGFgKJ9i/xy82Rn40GPg8Fz0FoJmeADePSLgyTIQUL69aAgSOI2kMSRcIgzw1GJZ4Li4FQQxuXA1fC4COM/mD9IHygyEqHB/VApGnBm0D4cPCSJJSqoUWwgTsPEEVTRN0ddxGBaHh0leCZ4GAOS0EBFFCF8gsEEn1ALP8DtIUC91I5+LKQJ+Hj2RDiQJ4dmIkZxcZMIs1Gc0Bp7YVpiJM0hIiWEQxwzQR3oCxqkz1FmVNBY7EQJ8tTFuCtsRoCwEFSASQM0RBwwKGE5DaF2oMNyDtk4S3HBEEDIxzb8Me4ZPchjj7QXYZrJXuwhgTGkaRFp2WgmNtPLLGgIxRHzOEUmVqENnWyURT8GiELq5RQ5iJGD5eDJtQNncoARbidBXJBEJ6ZyvcBfZp+gh0uJpFSEPcTeGOmIQsCBBsGuMIyy1IJOLEE/RaR2Jq+QYP0azEAe/RQUXgUaaCNmRg4b9XITUh3FgYg2UiP0Dg7HKDqaD5h0y7LMCr2fSKJNmoYSJKmdIjQfbsfcIxZDYawbOpl5TeiLO5YhemhAEhmKcDeinAkZ3CSIoY1eYN5k6LRFFRZyFbCEhqOWJkAosQoBmo8xnKUtEFBuJ5GXVqBZriYymIdmkOHm56xooyI21HKWTImPMggPUksfNJiQz1nho3I1GepKJncdLBOFVIckBTlLLQjTFm5jAvC0hbPYRnEG1PKigj2UZU+L2KtNIaAQOLgQ4AGhtsWNAO5cGohXYDIm9zfOD6e1e6txycTqOCXTJzmFSyCaQg6D3HHbbAxp55AgHH4IvoVPwqPjFzmFY2b8O7M6ZOkKHDAakJE9wTB8Ep6SUV8MyYIT4LTwrxRE4L3vfS9+i0ARzolDRl8RdMFJ4xfJgcZRKWEVtFELGy6fHJy96CcSwyETLOgIY5QValHCMHYy6XakFdRCkAM/x2B8TrGBA83EQzPXhEN0ynRgevQuu+wy7OHsmWeeiQas+v/t3Xm4r9X8PvBLxVemzEWqI2PSpCtDqQyJrmTKlNAJKRxDpopSmRIhQ6YKoRRCyBANMqUSUaGQSHNSJLPfa5+7nt++9hl86nzq7H3O/fzxtJ613us93OvprHu/11rPx0kF4Ngg79FlNkV9rPPaVRbqY6HQqpwmXxC0CxADIOPRZizsNjHONXvtKVd8aNasWSKyNc1nR5yqxkLIQ9vXcDjsvCcS4IuJ6QWHLERiS2pE7eSpqd2WSvHa+KVSpDTQo9XoqAEgBqAGw/CIAbjnYiJgekTmLFDqm1OxhLVGTCwotRynGiRY9kjgRsR1raK5lDGj4JSrxURL+Zo4YKFzzpw5EfO5Gfp9fyePosA87DkzCnPH89+wFS881ZCh0IqtLs9//vPThcUcB0bvbCHFkh2/lQaTbI51J3MdWZC6I+/FHt5t+pXJkKTQaBIwamqcLmfUDjkCECZppIIGFmh0vGDG0XtlG0PccGCFEtQ/j8FZYg/O6v1tMHv2bBsNxZsXg06S1OYRmZZDJSk7HrehbblZDXgzTKgefgYf/88aMql0rd6Q17/+9b6p7n89JNWatRMqfPY+a7Wh1v+D3nBDEM5nY6V4aXDSxUuO07Mrcegt9W0aLgVn7k0eygTVexEoAks8Asv6k9e/Hb2WbAT864+0+QSJudy//qY6k4pEhTnGK26e8zFYnAOZ0OSSbrHapdIMJC+FtJlmHNQ16yTPYQaSZpBxQf4ImBrNPdIkmRrJUGsSkrqgnDaMULIBhfJhEY8oplUq867JCUUz51mNosSiFRaFXjiiyGcMCYsixq5JnRsSgYiOR07yjRIryCRtLjR3omt+WMJansyT6KiVtTLJIXPG1yQn6YKqsmLnmdjNxNgDJepNz+I1oSKI2BgZ86UMKP7HYdM5GbTACVAh4xlImxozOrKIEmGfEHDxyoUT8MS0ndMerEMjgMBfjgd0bAEHV2AaUSaMTcqoWTumU5KGqyRtSrOEKkzztDuXhMZVSALEWiquQBWLhk8X4aBfMlvoGqAMgdSmjnnDOYxkGx0AehkQU+OIsVmkBgi6wyVAcUmKC/+2wiiRZhEfkoDFV7QC3PtAP6xSwwf4e8cII0ZyaYidVtaNrHoRicIfAD5Wgvf7Z0crVWpky/gjUoCDjjBmTwP96r05iQvs3h9/MHg3qPIHhjHyVvjQN599kZGHYVqMuoK5glZ3yWm8PFle7yd4CeN2eVdFRIYhCTzvs9Vt8saXWudzDQp6h0tZCAYgMeC4c0++kNtA8Ga6nKKAPCRDqpiOda+iV87JXxq8Ku4G0fKxYA0izcg3SFmBvO7KuD7NwnQAhRJ/L3kPHSoHiEMn3PZmioJOZA4VRlK9n/7HNGqaOA9nsfiTRiwc8FZjz/7H53neRve8Fb0XgSKw9CAwsfVn6Yl2KYzU+JpITBsojtkLLTDzqTHNy+WYG2BiJkO/VJpXzApqTIHSZuY206G5xByMVZhpTNX0mC0UsDHzB4ZhyiEmuUUPGRMeVZroMR0yrUAAzzAJKVAbo/gHgUgyJ7FHuYlTDTfwAEb1il2TJe5CG+vYDDInQWXKzNRFks+mSRr05bDAFXAskQozUSMlZlzCnMQwzIVk1HCYMxTqbuLUylX1KpEP7MQ0bJ7mIbusc8OjKKgySSvoInUEE5k8lcRQKPUuMYIrZWL6AsqErRLg6hFiMSKgyqZ5xI6YskEBlwBdAkGCRSEWoalhAkTc4zMxI2tn3sDheG58jTglFHoUI2FdaIYqV/lJAFY8ESBJlIK3tHGSfrZI4pfquQcHegiAWve4QSd5IGMbttxxgG/ImbswBSLPh5nBU5g6CoGrMGTRQPPZ0OOd3DM6AUQTAWjTzG5MGCym4UAzr6jKeLFiF0Eiyp1jEdA9NQGTzryi8VxZOAQyOolXjAxxSRcRCdMbAg0gex+0KriMMgGP3OCeqIHpleBt1KqfDDjPwStekAqZY3zQxaOXVqTiMhZ6scIiH/imEq9VaYz4wFUyhhWqLm6r8b8nAXY9+j/RW00h00yoZ0Vc9IPd0INOJc9d/AFIyr0XgSKw9CBQ2rdUjHXmJ6FmRjSZZVY2B7iUTSppdTfphk+YOcwfph9zDAF3evSdFzJilGjK3EnAPKejygib6kz2yuazGNWaJjpdmQjJEwg1MX1m6mJ3MEqS5jDFdDdHEtNxUKiemHtm9IQQtZn1QyMI0OwOk0Qac6EjEz5N8opMYtFXmT8KLnSNBvN3yJ/y5Cv1xKI/SMYcsTgWlzyKi8N4ALsg8hg6glLgu3qpzzDposAHrpLhmEBU6jtYV0NmcNtjBpozesXbYeInpqOmyTinkhII81wT9/QNV1AQuxr1QQYZChWmiquUs6K7I94yfBJa6L5HbsS3WIRM5NUncG6o8ehSdqefD0N0jEYPsVzeugwEn6MwLjEU0Dy6hpc5j5QTVh4UDo5RG2d0UaDc+yNSAjGki46xlXeeJAEOUAuuIHOdgxOvIg3wMawDYjREQKvu6NrwMjDqmovBBH0kqZcCecoVhru+jHokr5DxokqZty5vyPD/lEoOJARNtJEfnGyhCBSBpQGBa//yWxpCXTpjtHoocPOHf+4zf/iH3ixicvKvv9kisMydICY+6TdMZqa0TGCDgCZ6TDMmJ5VzJ6aJ1cCUM4sk00AmdMSMaKYhgPPppYzS0cxu5LEHOofpUyUBd9M899SzYsIzb6l0Ec5ExQS16llki4xHVIOMgmtQyxbSSS0E4kwEmFagLariku44ZbyiXBdRe3T3CJD4Q4xvLgpV4jfq0yrkKBx4GLH4404+GKbsznl3hjgQZqM8tFKV9Vk4x1WGIKPMHFdpY5EJfSnn6oBAgtWRQvIJJJL0E1Op4CIwPCqDMTjrQgmEPRKjCufjAK94q9WdG3kHcBpKUuaGTFV6qSQDf2MEE311pAQn5kzepShXqaDSpZCLA+RD9JWpoofmGIrnYtdFqztzCtf1nvhGD2EavAPxR6sCNzTFEwWmg5JR1pcSeTUFTdAe/FeOXU1sUUJSpa7Cum0AAC1KSURBVF5BmGaXyiEEalmkJ/gYbjUUMi12IKQVyHTqq1L3uWombiozTMSgHcAn3xnyyP900ZcqJuinPG8X8AnQ4M5bblPLh+EF8NirCBSBpQSBZvuW/IH2r7wpYfgn3j/9poTJMxMIMguaGMxqmSqUM8WaQlJjQjJnRDgKM9mQpFD9IKmsiQmzXXoNMnRmbh78YVpZvdlLR70IZ9ZUVqM1htLqMV0yKaZp8C2GhpDVq0EaYpeGRKow6EylEBgdvNUaD3XUlPJkW0Ow9AdM0CWEyVaUXYP19PKoMjHGYXeXSkENHlIIQNZTQ0B58CeVuZOkLYBQwp+ARt6lxhXn40kSVCojObd94jaEMFhJL6YTYx4jLxbuMRrHVCaEPLKLPlogtuHSpjcnfhyntfAdB/BCgxJzyYnqnqbBBIsqBeJvgLCieJteQ6teZJgbnE8TN2BCG4iMCwEOk1QZDwc9KhkaXqH4Fn/00hq7atJlsiGtwxCwMkgSHt6QocwugcnjrsmVwOOVxyjxqJxKbiQQ/ycOfg62ggBhYu7xZ4hiGOtB/4DwZA917FUEisDSgEBp39Iwyo2xCNxECAyUgj1sz3EN/MPWNFvQHvnIRzowITM68I+byKeaKQJFoAgUgesQKO27Don+twgUgUVGAO2Tc5IPS4Z4YIFyVGo0yVExkgTbkK9aZLNVUASKQBEoAiMhUNo3EkwVKgJFYHQEsD2UDsmzBOxunTHbH+X5QvioCkHUOrraShaBIlAEisAiIlDat4gAtnsRKAL/HwF5PsRu4HZDgw1n4XyaFLKbrZxvwKeFIlAEisBNg0Bp302Dc60UgaUFAXk+xC4HF5Rl9Zz8GILXpBzCNywBD60tFIEiUASKwI2KQD/gcqPCW+VFYKlDwMJujtAmvRfOZ29f6CDCF84HFydJlzp0GnARKAJFYLEi0GzfYoW/xovAkoWARV6cL5+SwfMs6VredU+NWJP/m1yzZAHQaIpAESgC0xqB0r5pPTx1rgjMOASyb284sZFHUUj+ZVV3yPbNuNDqcBEoAkVgpiNQ2jfTR7D+F4EiUASKQBEoAkVgJAS6t28kmCpUBIpAESgCRaAIFIGZjkBp30wfwfpfBIpAESgCRaAIFIGRECjtGwmmChWBIlAEikARKAJFYKYjUNo300ew/heBIlAEikARKAJFYCQESvtGgqlCRaAIFIEiUASKQBGY6QiU9s30Eaz/RaAIFIEiUASKQBEYCYHSvpFgqlARKAJFoAgUgSJQBGY6AqV9M30E638RKAJFoAgUgSJQBEZCoLRvJJgqVASKQBEoAkWgCBSBmY5Aad9MH8H6XwSKQBEoAkWgCBSBkRAo7RsJpgoVgSJQBIpAESgCRWCmI1DaN9NHsP4XgSJQBIpAESgCRWAkBEr7RoKpQkWgCBSBIlAEikARmOkIlPbN9BGs/0WgCBSBIlAEikARGAmB0r6RYKpQESgCRaAIFIEiUARmOgKlfTN9BOt/ESgCRaAIFIEiUARGQqC0bySYKlQEikARKAJFoAgUgZmOQGnfTB/B+l8EikARKAJFoAgUgZEQKO0bCaYKFYEiUASKQBEoAkVgpiNQ2jfTR7D+F4EiUASKQBEoAkVgJARK+0aCqUJFoAgUgSJQBIpAEZjpCJT2zfQRrP9FoAgUgSJQBIpAERgJgdK+kWCqUBEoAkWgCBSBIlAEZjoCpX0zfQTrfxEoAkWgCBSBIlAERkKgtG8kmCpUBIpAESgCRaAIFIGZjkBp30wfwfpfBIpAESgCRaAIFIGRECjtGwmmChWBIlAEikARKAJFYKYjUNo300ew/heBIlAEikARKAJFYCQElhtJahoL/fe//52vdze72c3mW9/KIlAEikARKAJFoAgsnQjMGNq3IHq3dA5boy4CRaAIFIEiUASKwPVFoIu81xexyheBIlAEikARKAJFYEYiMDNo37///W/ZPuu27soKf//7390nX//85z89ao2A0fjb3/72n//8R4FwBmdIGf7jH/8gn8q//vWvKfz5z39OIfd//etfkx9bLgJFoAgUgSJQBIrAjEZggkhNwwAwNo4tv/zy559//kUXXYTPLbPMMje/+c3vdre7nXPOObe85S1vd7vbIXOrrbbacssth7fts88+K6+88pw5c4jpSD5BkdEr7JDOW9ziFlpdemGEyN///d//aSWmMOCAEepFTBc+DPUtFIEiUASKQBEoAkVg5iIwHWlfWBdMf/3rXz/sYQ/beOONV199dczs+OOPxwKf+tSn3va2t1U4+uijd99999122+3SSy9df/31N9poo4MOOgh7Q+muueYarO7Wt741JagbmpgRSiJwMjWU0vOI+YXh6eiREpyPxaHjzB3gel4EikARKAJFoAgUgSAwHY90oFyck8P74x//+OAHP/jggw++/e1vr2bzzTc/44wz9thjj1VXXdXj/vvvf+6558rY3eUudzn22GMn87yk6JC8v/zlLyussIK7PB9uJ4enI0nMErdTf5vb3EZNLnZ1TJIP4XMNBPQ6kf63CBSBIlAEikARKAIzFYHpuLdPug6cyy67rPuee+6J82XXnXos7corr0T1NG233XYPfehD8TmP97nPfWbNmqVSuo4YuiZXR0PWgvVC+FxSeuqTzyOsHjVELpURPpm/rPzSqQb/iw/KvYpAESgCRaAIFIEiMNMRmHa0L6uuKJds3FprrbXmmmvicFZ18TkFLA1pQ8vwM9eTn/zk1OCCZ511lr5Z5MXkzjvvPGNz2WWXnXzyyRdeeCHC5xFBPO20084880xlXULsUEPlr3zlK6eeeuoVV1xBAxNhlgozfYDrfxEoAkWgCBSBIlAEgsC0ozXIHM/csydPvk2WDp+TjUPFXLe61a2QM4TsTne6k3VYxO65z33uve51L6c6UMDf/e53W2+99T3vec/DDjvs4x//ONa4ySabrL322s6FHHnkkeutt56VYhsBP/nJT1r8JW+d145A9NFJkR133NFWQjsIOcCQO6IZmHovAkWgCBSBIlAEisBMR2Da0T6ZPGQL25N1S/YOA7Num/yfSqu0d7jDHTA20F999dUkt912W+k9TS4c8RnPeAbKeNJJJ1F13HHHnXjiicQQu4svvviQQw753ve+d7/73W/fffdFBKn9zne+8/Wvf/2II47YeeedTzjhBDpf8YpXOC9i/Rf1pG2mD3D9LwJFoAgUgSJQBIpAEJh2Rzqy8OruBAZaxsvstPOIhyGCmnA+BYRPk2vLLbd01PdPf/oT4bvf/e4bbrihQx5rrLGGtB8iSNgWQOu8O+20UxZtt9hii/e97300ULjffvvJCP7qV786/fTTnfyVJjzmmGMsBK+44oo4n76s9F0pAkWgCBSBIlAEisC4ELjqqqtsMENC0JLcx6X5f+qZdtk+9A4KA7dDznAvjxJ47i48DxUjJjbMTFl2EIJDZo7A5ZdfrhLnkynUkQbC1FrSVQCx7i4yv//97z3+Zu4lyTd79uyjjjpq0003ZSjM8n8iWIEiUASKQBEoAkWgCIyIgLMKOF+E8RB8Qzlby0bUsChi0y7bh2zhZ64pUdnGJxsHICu2mpA8SCnb6qfSHf+DGoaHxnmkQXkiGTh31TiJQ0r0TZ6PvMteQKlBy8QD3fbhGMrJ44VTfOhjESgCRaAIFIEiUAQWBQHcI93nkp0JtoOBhKUsitoR+05lVyN2u/HEwDFwPkCgblid/XwK+TiLXXes+6QLWqYcYQI4n75OfuilnFydVJ8mfBFHlOoDqyYydCqT9NseznBookclzmc52JFeykMib7xIq7kIFIEiUASKQBFY2hCQjUI2RI2fDLEPzGeouZEK0472JccW6obqYXJyb5ZrQwfxPGwMFvJ57ugaGQTOt/2S8FMJTTxPDg+Nk97TVw1A9cUFk/wjzwThDTbYwKmOj33sYzglQ5S84x3vkETUhSSjZHoVgSJQBIpAESgCRWBcCOAtslGYCVqSQjjJuPQvRM+0o31oHHdhgXXhYXFd0s5HWyzIOrfh+AWMsEMYYXKYmR9n+8UvfnHJJZfk234RPvvssz3ShsNhh9nDpyOIlX32xU4++pG8lVZa6eUvf/lDHvKQxzzmMc4I+xbMZpttluXgOLMQ+NpUBIpAESgCRaAIFIHREZDkw3BwFSQE/wvTSM5rdCU3WHLZvfba6wZ3vpE6Tg5exg7h8+2VAw88EEzO5yJzwFpllVWC2gUXXPD5z38e/wMfrubDzl/60pdsloSjlJ5v+x1++OEOfDiu64fd1l13XQd1/aTbOuusg0S63/Wud/WtPtTQ7/+y8rKXvWyXXXahH5vEEZvtu5GGuGqLQBEoAkWgCCy1CMhtYSZ+V9YPjA2Zv5sGjZshNzeNpetlRU5OMg+x04uH2Xtn6dajT/QpgAlftiaL3ln29Yj2KYREW9glqQlHpCdHZpQBTQY1xPMoyT2OEdOqzDRt6V7aF3B6LwJFoAgUgSJQBMaCAL5Bzx/+8IeHP/zh73//+x//+MdH7eSc11gMzVfJYqB9IZoJT3l4vGkCjrn5YjHfypvGq/mabmURKAJFoAgUgSKwhCEg/SSr5Vdh/QKtTNahhx7q98MsV+Ib0lVIoTRWDp7eGAxkse3tE7aokDA5tqTZLK2qubFHF4jX67qx/an+IlAEikARKAJFYOlBAOfD7XyQxNlTq45PetKTzjzzTMwEAkgRzmfd0j1JQexwvMgstu/2ZQFXVPgf2ifgnqIY79BWWxEoAkWgCBSBIjDdEMB5ktJzupRvzpJutNFGfjxshx12QPhsM7NRTRYszG+FFVYYr/+LjfZlC53gBRaSCwWVoYPjDbLaikARKAJFoAgUgSIwfRDwCWEnDfjj4IEk3+677+54h9XeED41oUkWQpMUG5fni3Nv33nnnefbK+JxMgPzE6FrXIFVTxEoAkWgCBSBIlAEphsCFjkxH4u8W221lROrLh7KguFC733ve7fffvv8Yq9KW/3GfrR0sdE+fNa3Yz7zmc+gtDhfvqgs8yfy6TZC9acIFIEiUASKQBEoAmNBAM+R5/OxYb8Klg181jlxQcrt9jvkkEO22GILKUCPVnsxP9RoLHavVYJ13cSXIF2MPuc5z+EEzpcPpriPndWOE6nqKgJFoAgUgSJQBIrAmBAYOE+WcbEgdBApOuigg0LMcL6xM7TFtrdPJAivIEWYA7z4bD6tNyY856+Gufk3LKCWnwtoaXURKAJFoAgUgSJQBK4fAngIPocCSYFhQQo28Cl4tPKrde+997bgu80224TzXV/esnBvFhvt45YgbeYbznAIW6WwF+5xW4tAESgCRaAIFIEiMKMRCNsZjjSkIP9nYddPyD772c/282O+5DzknsZF/rqRbka/NnW+CBSBIlAEikARWBIQkAuTBXTUAfNDCl/84hcfccQR42J7A0CLjfaNPZIhpBaKQBEoAkWgCBSBIjCzEEj+DztSsMh7/vnnP+tZzzrqqKPGG8Vio33CKPMb71hWWxEoAkWgCBSBIjBDEcD2fLoZNXLgQc7Pgq/rlFNOGW84i3Nv33wjKRecLyytLAJFoAgUgSJQBJYABIbtelNiQfKuuOIKJzwUbne72/menw/7vfGNb5witoiPizPbF9cHnjcUFjGkdi8CRaAIFIEiUASKwPREANuZ72VjH4d91UTa709/+tOcOXM+97nPoYDjjWLx077xxlNtRaAIFIEiUASKQBGYcQj4ep9Un5/l9YUTX2/xkxbYocfxBlLaN148q60IFIEiUASKQBEoAgtEYL6pPpU+Y+ckh27Pe97zDj30UOu8loOd6l2gohvUsBj29omNq3KYWd7GZPMBv/i/oDXvGxRdOxWBIlAEikARKAJFYBohYN3WV/qyepvvNsvzOcOB89nP57stb33rW1EjAtiR4x3j/XG2xUD7Buw333zzlVZaKb9JAgKBYYRZ2x5kWigCRaAIFIEiUASKwBKDgJ/fxfCuvvrqAw880B4+j/lWn/vzn//8Aw44YIjUj3b4ubbhcSyFmy3G7BrTLivZIkH7sNqxhFQlRaAIFIEiUASKQBGYzghceumlG2+88S9/+UtOWs+96qqrXve61+25557WQqXD3F35gPN4T3UsNtpnDTt5vmFUJrPAobKFIlAEikARKAJFoAgsMQhYycXnXPe4xz3k82T7ZL6e+cxnfuITn7DmqX5I8lnqXRL29mXkEgkya93aoRWhon2acl9iRreBFIEiUASKQBEoAkVgQMCP7Sr/4Q9/ULj44ovxn1133XWfffbB/+x2QwGzsIsdErDzbbzZvsW2ripOYVvhHZismlQO0LRQBIpAESgCRaAIFIElCYHsapPkwufwvOc85zm+yTwcbLDDD+2TFMP53MfL+cC42BZ52RbPQPWUXdnntySNbmMpAkWgCBSBIlAEisCAQA7nWsldffXVre2++93vtuaJ9mFEiJBF3uyCU7bIu/zyyw8dx1JYbNk+3gtJkGGyCF8531hGtEqKQBEoAkWgCBSBaYtAFjmt4Tq3+5a3vEXCbzjtgBdx28mHa665BuFzSQqOdyF0ItsX4mlRGd9kLx+PGY7WcgIhGx4J4KRqsidPfRKVagZ+mlZ3wljd0FfBYwLQi2aPV1555QorrEAyDsRc4hw2Mw4eQmeIP61Z9s7hZ9p0p2fKYRHKJ19Bc6ghz1UWKVeZ1lh0V5N6hViMh0P3FopAESgCRaAIFIEiMCIC+MYUyYHYTKm/MR4naN/AmRgIRcNvpBmxKLxHIRwIq8MLNeUr0iTJaw0Zyl2NT9Hgp4hUFqqzSh0apzWUUV/kadjVp95jTIcsetSFA7QxinjFh+inxGln5VyOPXvUPYQvGq5rXOB/CdPDh0E+XjE32FLDDQJYOUls0qNIF04rF2iyDUWgCBSBIlAEisDSjQAiMQWAm5r2xfyQY0SGeIDroFy3vvWtJ7eGmSFMKtEj5IykKzxpkEeMaEsOj6ReZBInJqccjphetFEVK+5xY3Am9VdcccXtb397jiWf5z5ZgB7eshIeyQ20jMygc95CHGAaodSRAK/i23Bw+rLLLrvzne88b1816T7fplYWgSJQBIpAESgCRWBBCCxe2reszwOiO3gMqoRL/eY3vznppJMwnrvc5S6yehJpyfYlv5Vc11FHHfXzn//8gQ98INqkNYGhgPS4sCg07rTTTqNBa6ih+iTVpM3++Mc/Hn744frOmjVr4E+WVjGwuIHe0UCPvigdznenO93pV7/61Re/+EViesUEDbga6zGK8/3whz/UhV2VaZoXdMp1J0yVoHT55je/id2uuOKKySyGOxLLEWshf+1rX7vjHe8IDcrVC0SB0XmVt6YIFIEiUASKQBEoAtcLgQUxluulZETha5Nw2AzKhY3ZXYj56fykJz3pTW96E26H4iA62I9NeDJhe++9tztapuZVr3rV2muvTThESuGSSy75zne+8+lPf1rN5z//eaRNd2u+lJNHs77whS+8613vWmONNc4999zHPvaxr371q9Un4BiiJJsLFVz04I56ffCDH7zDHe5AZoMNNnjRi16kl4Vdjy4CvnP99a9//UMf+tDLX/7ynXbaaWCTUTLvHZWUjHzve997zDHH4HkY59Zbb/2MZzyDNsFm1RutPPbYY6k966yzPvWpT9397ndHi0mW8M2LZ2uKQBEoAkWgCBSBURBAYKaI3ZS0b2K9EptBd/A5Oa3999//yCOPfMpTnsInfOjEE0/kXwT8kMi97nWv7bbbTg2a+PrXv3611VaTusPM1CBJVB1yyCE77rijvptttpnKXJoUZNe0avrJT37ikbCjyy984QuVpQC1KnCD5gi745eUf/SjH9VLDlKNNOQ973lPxE7ZJT9H/kc/+tGHP/zh+9znPsSOPvpo9dE2V2Tqjd1UzZkzR5cLLrjA409/+lNkDrNU5ow7T5BgqVA6Eb50wWIV3FNIZe9FoAgUgSJQBIpAERgRAQRjyjVix7GITfwqBiYkS4eoWfGM0t///ve+H4jxhGBhV+p33nlnST7Lvn452KOCR8ePw7FQQ5UYHiJlH94jH/lIhEzaLCxK64UXXrjqqqtuueWWxCTb1Bx66KFMnHzyyaF66pG86FFO4fLLL7cCu+2222Ja/KQQOdPrBz/4QeRhJz2pjLBKxUnLKQ/cTnnKFcb23e9+lxLZPg4zysntt9/+bne72+9+9zvyarjEtPKDHvSglVdeWciDY2GxU9T2sQgUgSJQBIpAESgC/xOBKZzP4//sMkaBZTAk7O373//+7rvv/uAHPxinQeP8TtxrX/tafCvsyrY2ZM6vxVnSVbY8igP5ivSjHvWoI444Av/Dk6QGsUPEyyKpzFkO87pTglRplYdDqhA4Fq32qpFsI/ye97wni8iU6Kg+pA0tc33yk5/kEkNWcjE2Cv10sXToQQcdBAUCyvJ/UFOggXsqKZzovOBLLBo32mgjFlFJTm6++eaIqTVf9aG5cp9xlfI4zAHgiJGhBetuSxEoAkWgCBSBIlAEpiMC1/422mMe85gNN9wQm0EB0RqeOjmBV6200kpZcpYIRO8e8IAHJIhU2qKH0n3rW9/CyaTHcDIMiQblJNVoUJMflbNJDsfCpRA78vTIotmu973vfY/mKEzaT2seyeCdVN3//venKr3k5GQT9cLACNDPbfJxO+7lHl4YMdxRpRoXnueUBiWJLmc1lHnueAcfMFquKnCVciRSWXcOiJGGeDLZVstFoAgUgSJQBIrAQhDITEoghSRQZJHUyLb4jVqzc8jDZCXyLyrVnHnmmVYmM5unb4QJRKdKO8GGvtFMpxoT969//WtnQ+V3PEbhIDmlMEEU5uaV+Glx0hnWQT4WyUctZ4ZYLrroIpJIUbQhJ0O88WRQQoCfwkFdXFQRHnyICbFYclQ5KBkEFrEw8Y1lKmSz0KbEyWlWgcuV5z3veVo9/va3v2XbcVd8SBd8SL0Dtu5yeJM9VjP5ElKCB7cCDawoUH7Xu94VC7Q7UPxqaHaRd2eLCYac1cCx5Bf1UmN0Zeb0Ou+883hIcrKtKWWvET2Imnrdg50wjc3555/PeQqZS64xH4jxWhDjjC55q6bo7GMRKAJFoAgUgSJwAxDI5G46VkCYTO5ZUvvc5z5nsdEyo9W8r3zlKybfzMKhVmZqJMSWsxe84AVOgn7jG98YTCcpQ+Diiy+2OY2MwwCEzePhDPTI7GA1TiM4mbDNNttYcnSAAROQbxr0TCkgBpRgIKeffjqL6YXqEGMxrdQ6fpBYWLfNDF968Ytf/OMf/zh8g6QwlfVijkvipVYqym60RzziEbNnz3YuFlHBaggTI+ORMK751re+9TWveQ2UFs5zpng+yuMyCJ/YYjJA84DVj33sY5Z0LX0iSR7dtUrOxbOoFraO1n+hsCBjYiYjTkyLLcojrG9yZqDH/MgYaWKsKAieQo5hhCTjWEzoLhtHEu1bkFH1lMgywkvB2HgtlBU0+ZOCVzzhj8eMSlKVwmSUJItxbyEm2lQEikARKAJFoAiMjoAJN7QJr9DLPLvbbrv5BMd66633rGc9C3VzovSlL31pEnhmfzK++6FV2edBfMfNDjTfADFN4wnuNGQT2rOf/WxfEVGm2byfmZ0eNQ4b4E82cVmctMVrr732eu5zn5uPgRCLJEMpm/3RRKt/vg2yxRZbvPOd7/z2t7/tWMKmm26a05/oBxPEUBHUYt9998Xh6Gf9+OOPx1yp4pi7S727kJEcZR0dFX3HO96BvPpUCP5jDxt2hHhQqBdm4tgDovnGN76RIW4EirnKxnObIJjYD4wUBCCpyC3UFTQ+4CLNJj+nKVwNviQHeTGo4Wta5+tRNJMEqGFDdYmJ3x2RD/Fi1yPJcC86hapLLkDkU3w0kAQBJQrsztdiKilR8FpQa2wynIZZjY6QVR+7xPgfP9mKhx6Vwz4XYqVNRaAIFIEiUASKwIgImFhJmpFNu2ZzC3r2XMn2SYBJNn3gAx8wO9u77ysiZmoCZmFUBDHab7/9bPFaZZVVnENAxc444wyqECMytDmE6sMgSIXNY/SbwdEMJpAK5wrOPvvsXXfdFQNBLXyaA2v8zGc+Q2eIwUBgFFIjZyQbhY9Si8YhQj5pZ31SMg8jpJNXqII7ckbznnvuiczRzxluUzKgkXhDV1AOG8nkBUVEG7XOlcoOuuNCceOcc85BIlHJOEPPQFQGnYtYuPaH1+ITmpV121e84hU77LDD4x//eNhhgSLhEyAQUq4II9wotGxBP2URz8LwYB0cA0GaKEkK1zDjvMYbauTJQPPRj360vYNwsZ6rFUbpBVBfEMTqLMsuJHjKee6VgrJBMlRi4YY/CGzjE4hH3Wlj0V0sHjkQiPmgcrK3C7HVpiJQBIpAESgCReB/IoBCmJ3NxZH0yw4ozsMe9jCfy5CXeepTnyrhZ+nTxG111XTsvKlPv73yla80R+toUpZ1s9ELJ7McTMAMHqqXFJVHYu70oy4EpOhQCBwACYl8yKIkFwoYsjW4nUf0wKdL2Hryk5+sjCChIk972tOsup566qmIIG1qsE9LsZJz+eadyqyIclWAenEjGSgFlaxLVaJMyBVhTcgJE4igj6Lc+973Zj2fokOBMBAcBldxHy8VWY7GaBebMmMHHHAA5xBqTnt09+i0LC8NDPOgTC81wOKlmsQ2YDcU1BsDcDsjgsCxlYs5FwKHz0EKw5X2xK91FLnrIx/5yH3ve18UzZosyVQq0GatVgJPCpBvg6EpBfKc98Z4gRS0hon7LLM/F3Skih6OiYWwMse8PThoxiwr7lPU9rEIFIEiUASKQBG4AQiYZM22OFAKqIW9ZC6q5HFQHJO1H4kgg9iRMd2fcsop5mt5PsJZHtQdMXBIlLwaMnphJgTM5miJO+KhMtf666+PhL35zW/29TeTu9Yvf/nLm2yyyTrrrMPEvFGwrjuyiCTgheE2JO93v/sppy/OZ6vfG97wBp8fRgcTESaD0miiE7NE6RR0dNHJrjMSvlv88Ic/nBsRI889qcef/exn9JMUjniFg5zYyZaQ53VyUWomeDGHqHB3HXjggb5pd/DBB2NyHtWDUvAPfehDlZEzbsWeyl/84hfol0X3SKZ+yj0Bi8FhYU3Sb+6iAp8DNXikjZzCMwB+803kEp7Y9HHHHSctp5fP5skIytAyESwkZgEKOH8ZLNyu7ni0XLHvOeN/ltKt0GN1+J8kKoqJUBot2rjk43/uUox0Rq3uanoVgSJQBIpAESgCi46ASZwSc+tAJHA+OZekkFSaoJE5Mg95yENMxHgCSuARz/OILUnRYUIOf2AmKFRIHoVIVfgfqkeesEoy7mgZbVgNEqKvNJ4zA9hbDBFmd7g8ulARyiWe0E2PoWKyiWgPOhHagEfqJduHPFi0lfmjFpkhzxmcj7AyfzhDg16+iIJ+aHJpkoNE/hBcXuE85OM8twnoRT+x6FEY17UM/4wE7XyyX1LG1a9TcBE7ZhUlQps0QdneRgOgJkSQf6DxSRfQEF6QQ8bJyLn7HDRbKB21EQ4FxMwyYJgctrvuuuuuueaasrhkmLDHEyJ4t0cvh74O29L2uMc9Tq9B1bzWtQoK+/ZhGjrlkOn3oT4QE/Y7bBinAxzeibxwDhoL0xEWRvUFNLsMzau5NUWgCBSBIlAEisD1RcCEK6Okl9k2rMskK3kUtoTrmI4RMmkmHIAAMTTDHe3DPXCJ7EMjKR9kBtfRZO2i0x2ZkQ9SCH+iXA0qaQ0TgZH3oZlaWwmJYTJ64QkuYq6UVUrCoQHM4UIqFZANd00OiLgTtgzNJb8c6+vFUkj4n3QSzZomHLqO83Fe33AJySZu+7UzrXDgA1WYBpcYop8tdlVitwgP3kU+dlWO65r4XDO3XA7I2JNoDRToflfXLssTTjgBVwu3BRyODGX1PMPzLKufe+65PrbMJ3EazvBZnkFTWaVo1RsA8vJ2EniOxhAIJzMS1o6deYYdsYQEHWUoUKuAsTlB47fXaMuboZfKZz7zmeTjvEJGi7lARtilUpNC7nPrJsbDo1+Qs55rH6UyaqhS+pcnMpcRYJ3b7pDJ2zaoUuhVBIpAESgCRaAIXF8EMiObnTPpm2RpUGmeVXC3k8+Or9Sb4sMizMuonkcXMY/m+nTBFjCn0BLcg0BYhLtHMzg2Ij/l52fxS3wGdbHSaH5nNPc4E3/Iq5cV0kt3Vjigxp2YVru/FHxyz6Y1BMZ3YSz1IjbUykn5Oox6vUgKQa/gw0MFbNJdZaiFMlUMeUTyFHQMAyEjXpWygxEjqTCWazmBwe6zn/2sE9QgePrTn64GwWQV7w5XY4lJCVKDIbEZWuYEhuM2BHgGTTLilBdFqNUgv5/61KecTLaRDvq0iUdfP+zrsAjeLdupBok0ZkhhEM/QUkVejY6afIbHNk8f7MnxbPB9/OMfR0MJc5WTfJOGtDZtbCQsCVi2XxA68KVWXx+CpnaPPfawPZNCu0claTPS7rKv0PjqV79qIPlg7ZvOtdZayyvFNzUL0t/6IlAEikARKAJFYL4IYDMhaqE4mXPNqiZu065P60mb2fqlPlQJEzDRm45p09d070I2CIQ2aDWh04a3ZIIOVSLjwhAkjJwRRnL8yoNddG95y1scyzWnm/TxAb3sXkMeQsWwFxlBGw2xmhjSxJAy5qAsT+Tuayd8dghj1qxZISrWkWWjDjvsMD8ttssuu8iR4Y4cIMYHi7mOqDrJ4JG8cDic8wOCCvNRMwRFjD+Aiv/zRfIGV058LJFV+xZl1HjGGMOiwmzQQRE6OcFL5iUknfCFiNMeKlEllI6jLuaFARok2t3BFtE6j+OR5gns5x6rUbaBz7EdTM56q812saWL2Ixx4hcthWGTPlrIB3lUR1322muvJzzhCUZLK3+IGQkjKul61llnoZgIpVV2XJvD8Wq+uHBGdNbsOeNMOP7qJZg9ezZhb4AmAjLJvqmDm4vFgr0hFIvVZ2/YfHW2sggUgSJQBIpAEVgIAmZ8HMOMT8Zsi59lusdDzK0md8ToZS97WRgPMoSKODN68sknK+sSwoQnmPTJSMSoVMgnjmmjPNZjSBlDsIPLOVlszM99+dIKMQub+KVtZoya4n3kmaRcEj0IAHlkDgNxcUBT3MNGlGX44j9bFmHJR0Cl87x4ERKpBrkUDlfxKD6IyxdnkBzy1EYDpsFiTrJiX5N5SxJb7vpiRwp0juuayPYxZk06QPNJnHwKfY4ZTVkvByXa54OHqecxvwkbP/HoKI03eBaWGm0qBU8PNubcNboGslB+TRwQmwKjZDxyIwQL50OZUW+pVB2Z06ovc4imAivYpGGLTjk5/gxDPjgzFLihr45kbBd429veRqeLaX9qZOcfx6BsU+CjH/3owUkadGGUcMZs0NlCESgCRaAIFIEisHAEEIDM72bSTPEeEQmkx1oiMrfPPvskZWOSTQHtQ9Qc5aTZ9E0S/UKVVl11VdmZTNDmaySEQGiAgr64GnnES3IH6/LNFJXs+ggL4be//e3WBqWKrP/ighgOLqE7mZyxkL3D/2T1VlttNbSETnbN/pJ2mACv1OSkQeiEcCQIeeKu7NACowmBALd5ItvFK3rwDZcaSnLIwWY2tId7fBC7Vv7gJASE7z7GayIYl6gAEasMh5+JTRO/eaBJpSaDJHL15IOUOOOWeq0uwXA9lWifeneRUxUuKHLci2TulCtrDbjRn0p3nA/z08qQUeQDjkh/xGiIM0yohxdVeqmc7xWg4Y5QetvIUMsfhXA+lWpYIUkn/XDgmDujw5u6EBPztdvKIlAEikARKAJLOQKZOs2wClgEnqBg6c+HWt7//vejSqZdUy2UHB5A7Pychu1h9uTpgnKot1XM4tsTn/hEM7UJWj1iYPYPJfBIgzndDJ752hqgMhqjLxlUxG9g0Jkf+rKg7MSnKT7khAxJGhxssBXNQp/0kNmfIdRTX7vdsBG0xGFWm9lCRVhnF/3AH/BCSqTAnCLlgOjCSajFIJkTqYVEDCSGZAeBgGXqy0/CrOvl4LDuoR8UjvGaOK/AAIwYDr8OkRKM2JiPB2yj1ZxQCSCXARCnaAGhlU/uVKkhqQxfg0rSnWT4U5S7CzhDqAthaidHpTVo6qsexAY4oNAvR6qVXQDRH+fVR5gqrZO1TS7H1SBOp6jZytjoxU+VkadNCDGR0DIGZBidrLPlIlAEikARKAJFYOEImD3Ns+Zc8/4wTTsGgPD5uQv1qJhdVUgetif5hyTI6vmghx1ZyenQjyOal236CitQb0amDa8w+9Ns4h6US5ghaj6YRzkKobvZnBtIlQ93EDOtuyMtKAQBdAK1oNNxAjzByVwCmtTYCOckAG3EfHLZwQDZPjvQWJdIIsAxO9/8shwr0oTSfpxBVzyiE6EN0pnSWJathYB9seWEg0VnhE84PHfpxR+ehxqRoWGcl4CHCxaMeRS5O7cySGwjf2rmksCJw7DqRa6G3y4FUbmH8Cm4IpyyuwPJ7vq600+nK6rUKLtHSRR6HAow9UghvBRc0UM+HnpMhlbTUJgrOP9bDFEYPawrExWyu9Y88jOF3DVxKTLz19vaIlAEikARKAJFYAEImG0z/2o3fVtpRaHs1PIZDTvq7Jyzh96SqO91WMklg2nggrblveQlL8EEnN30PWfnLwclKeAGttPhRr7I4YvC4TDma5wEJfCbvHbwq1fj1AFKZ7dfZNLdFB/yw2LqcQPnc33xAy2jwZf5LOw6wBuviFHlp9t8dc5XgZV9+cQ3CH0RRVNUhV14pDxEhZjKOXPmiNGBBOHwytfohkhJwieHCvA/acjTTz9dX/UuqsZyTZxJxmPwUDbodedWaGkewzGJpYB4Kod+RpKX8+bqaEh9lDCBwEbDoD96QKz7FOsqUWx9ddHkPlgBAVpNifo0pSb3GBq8jcXJ98H/2I0P9Ci4FAxYUpJGCAHXd3De2GP9DBELApM1t1wEikARKAJFoAgsCIFhes0Uj3KhU6ZUcz3OYKpVQBXM71tttRWulsnX7G92tr8f6zI7OydrSZQJHUmiCpZ9fY1ZmlB2UJKMjGQhEhnWQYkp28fmfJnO+h6+YZEX2QpniCcDwcAys+KXel1kIqXurNhK77GV0PiJA7icEXZ614KkQ6J+eM0hj8kK478anhBOX7aOPPJI36nhvB2H+YgKVpNWNOPTn/60ld+BRMkvOn2hddAQyRt8v/Yz0De4fzsWgSJQBIpAESgCRWB0BNC4UYQRHQQLaSOMLaGJ6JHky4K6p14v1xT9uqN07qgbYkfPoGRe4aEvZoa0hYzqqEt6zbUw4RsB9DEpoeSJPOo+0LhB1eQCJbqQ5EmyZmriRvRPFlY/GJ1cf4PLpX03GLp2LAJFoAgUgSJQBK43AvOSm/mqmMx4cCykDQXEkxbUfaBHoVCDztSjWZQgZAMnG+QHySkF8i5i7Lom+0NSfXSSkc8joFKZmGuKqimPYkkvkvS40l1himQEVP5PnVM6Lujx/wE/BAc851k6PwAAAABJRU5ErkJggg==)"
   ]
  },
  {
   "cell_type": "markdown",
   "metadata": {
    "id": "F5t5FNorC5vq"
   },
   "source": [
    "## Задание\n",
    "\n",
    "Разбейте данные (quantity) на train и test.\n",
    "\n",
    "train - первые 85% данных\n",
    "\n",
    "test - следующие 15% данных\n",
    "\n",
    "Сколько измерений попало в тестовую часть?"
   ]
  },
  {
   "cell_type": "code",
   "execution_count": 16,
   "metadata": {},
   "outputs": [
    {
     "data": {
      "text/plain": [
       "118.14999999999999"
      ]
     },
     "execution_count": 16,
     "metadata": {},
     "output_type": "execute_result"
    }
   ],
   "source": [
    "ts.shape[0] * 0.85"
   ]
  },
  {
   "cell_type": "code",
   "execution_count": 17,
   "metadata": {},
   "outputs": [
    {
     "name": "stdout",
     "output_type": "stream",
     "text": [
      "split index = 118\n"
     ]
    }
   ],
   "source": [
    "split_index = int(0.85*len(ts))\n",
    "print(f\"split index = {split_index}\")"
   ]
  },
  {
   "cell_type": "code",
   "execution_count": 18,
   "metadata": {
    "id": "ygDo6rtuC8st"
   },
   "outputs": [
    {
     "name": "stdout",
     "output_type": "stream",
     "text": [
      "(118, 8)\n",
      "(21, 8)\n"
     ]
    }
   ],
   "source": [
    "Train = ts.iloc[:split_index]\n",
    "Test = ts.iloc[split_index:]\n",
    "\n",
    "print(Train.shape)\n",
    "print(Test.shape)"
   ]
  },
  {
   "cell_type": "markdown",
   "metadata": {
    "id": "iaYAUrLg9-NV"
   },
   "source": [
    "## Задание\n",
    "\n",
    "Разбейте тренировочные и тестовые данные на матрицы объект-признак `X_train`, `X_test` и векторы с целевой переменной `y_train`, `y_test`.\n",
    "\n",
    "Чему равно среднее значение `y_test`? Ответ округлите до целого числа"
   ]
  },
  {
   "cell_type": "code",
   "execution_count": 19,
   "metadata": {
    "id": "vIaGat3iZoBO"
   },
   "outputs": [],
   "source": [
    "X_train = Train.drop(['quantity'], axis=1)\n",
    "y_train = Train.quantity\n",
    "\n",
    "X_test = Test.drop(['quantity'], axis=1)\n",
    "y_test = Test.quantity"
   ]
  },
  {
   "cell_type": "code",
   "execution_count": 20,
   "metadata": {},
   "outputs": [
    {
     "data": {
      "text/plain": [
       "711637.0"
      ]
     },
     "execution_count": 20,
     "metadata": {},
     "output_type": "execute_result"
    }
   ],
   "source": [
    "y_test.mean()"
   ]
  },
  {
   "cell_type": "markdown",
   "metadata": {
    "id": "geL4VodmZoBP"
   },
   "source": [
    "## Прогнозирование временных рядов"
   ]
  },
  {
   "cell_type": "markdown",
   "metadata": {
    "id": "O2JPq5TuZoBP"
   },
   "source": [
    "Обратите внимание, что в функции мы сами по индексу разбили датасет на обучающую и валидационную выборку для обучения моделей. Мы не можем воспользовать train_test_split, так как нам необходимо сохранять хронологию в деление выборки на части, т.е. случайное сэмплирование наблюдений нам не подойдет, в частности, т.к. мы хотим выучить тренд в данных."
   ]
  },
  {
   "cell_type": "markdown",
   "metadata": {
    "id": "6jLdPd3ZZoBP"
   },
   "source": [
    "## Задание\n",
    "\n",
    "Обучите линейную регрессию на тренировочных данных и посчитайте $R^2$ на тесте.\n",
    "\n",
    "Ответ округлите до сотых."
   ]
  },
  {
   "cell_type": "code",
   "execution_count": 21,
   "metadata": {},
   "outputs": [
    {
     "data": {
      "text/plain": [
       "(118, 7)"
      ]
     },
     "execution_count": 21,
     "metadata": {},
     "output_type": "execute_result"
    }
   ],
   "source": [
    "X_train.shape"
   ]
  },
  {
   "cell_type": "code",
   "execution_count": 22,
   "metadata": {},
   "outputs": [
    {
     "data": {
      "text/plain": [
       "(21, 7)"
      ]
     },
     "execution_count": 22,
     "metadata": {},
     "output_type": "execute_result"
    }
   ],
   "source": [
    "X_test.shape"
   ]
  },
  {
   "cell_type": "code",
   "execution_count": 23,
   "metadata": {
    "id": "afwBG1ZzZoBP"
   },
   "outputs": [
    {
     "name": "stdout",
     "output_type": "stream",
     "text": [
      "r2 = 0.5010248271570559\n"
     ]
    }
   ],
   "source": [
    "from sklearn.linear_model import LinearRegression\n",
    "from sklearn.metrics import r2_score\n",
    "\n",
    "model_lr = LinearRegression()\n",
    "model_lr.fit(X_train, y_train)\n",
    "\n",
    "pred_lr = model_lr.predict(X_test)\n",
    "r2_score_lr = r2_score(y_test, pred_lr)\n",
    "print(f\"r2 = {r2_score_lr}\")"
   ]
  },
  {
   "cell_type": "markdown",
   "metadata": {
    "id": "f3wvdnvbN9Sr"
   },
   "source": [
    "## Агрегированные признаки"
   ]
  },
  {
   "cell_type": "markdown",
   "metadata": {
    "id": "dkQuyvzNstRf"
   },
   "source": [
    "Используем функцию, которая возвращает словарь, где ключами являются уникальные категории признака `cat_feature`, а значениями - средние по `real_feature`."
   ]
  },
  {
   "cell_type": "code",
   "execution_count": 24,
   "metadata": {},
   "outputs": [
    {
     "data": {
      "text/plain": [
       "(139, 8)"
      ]
     },
     "execution_count": 24,
     "metadata": {},
     "output_type": "execute_result"
    }
   ],
   "source": [
    "ts.shape"
   ]
  },
  {
   "cell_type": "code",
   "execution_count": 25,
   "metadata": {
    "id": "6DK8i-nfZoBN"
   },
   "outputs": [],
   "source": [
    "def code_mean(data, cat_feature, real_feature):\n",
    "    return dict(data.groupby(cat_feature)[real_feature].mean())"
   ]
  },
  {
   "cell_type": "code",
   "execution_count": 26,
   "metadata": {},
   "outputs": [
    {
     "data": {
      "text/html": [
       "<div>\n",
       "<style scoped>\n",
       "    .dataframe tbody tr th:only-of-type {\n",
       "        vertical-align: middle;\n",
       "    }\n",
       "\n",
       "    .dataframe tbody tr th {\n",
       "        vertical-align: top;\n",
       "    }\n",
       "\n",
       "    .dataframe thead th {\n",
       "        text-align: right;\n",
       "    }\n",
       "</style>\n",
       "<table border=\"1\" class=\"dataframe\">\n",
       "  <thead>\n",
       "    <tr style=\"text-align: right;\">\n",
       "      <th></th>\n",
       "      <th>quantity</th>\n",
       "      <th>lag_1</th>\n",
       "      <th>lag_2</th>\n",
       "      <th>lag_3</th>\n",
       "      <th>lag_4</th>\n",
       "      <th>lag_5</th>\n",
       "      <th>lag_6</th>\n",
       "      <th>lag_7</th>\n",
       "      <th>month</th>\n",
       "    </tr>\n",
       "    <tr>\n",
       "      <th>date</th>\n",
       "      <th></th>\n",
       "      <th></th>\n",
       "      <th></th>\n",
       "      <th></th>\n",
       "      <th></th>\n",
       "      <th></th>\n",
       "      <th></th>\n",
       "      <th></th>\n",
       "      <th></th>\n",
       "    </tr>\n",
       "  </thead>\n",
       "  <tbody>\n",
       "    <tr>\n",
       "      <th>2004-08</th>\n",
       "      <td>251984</td>\n",
       "      <td>157022.0</td>\n",
       "      <td>311445.0</td>\n",
       "      <td>137390.0</td>\n",
       "      <td>185150.0</td>\n",
       "      <td>221952.0</td>\n",
       "      <td>225133.0</td>\n",
       "      <td>227832.0</td>\n",
       "      <td>8</td>\n",
       "    </tr>\n",
       "    <tr>\n",
       "      <th>2004-09</th>\n",
       "      <td>662382</td>\n",
       "      <td>251984.0</td>\n",
       "      <td>157022.0</td>\n",
       "      <td>311445.0</td>\n",
       "      <td>137390.0</td>\n",
       "      <td>185150.0</td>\n",
       "      <td>221952.0</td>\n",
       "      <td>225133.0</td>\n",
       "      <td>9</td>\n",
       "    </tr>\n",
       "    <tr>\n",
       "      <th>2004-10</th>\n",
       "      <td>1171846</td>\n",
       "      <td>662382.0</td>\n",
       "      <td>251984.0</td>\n",
       "      <td>157022.0</td>\n",
       "      <td>311445.0</td>\n",
       "      <td>137390.0</td>\n",
       "      <td>185150.0</td>\n",
       "      <td>221952.0</td>\n",
       "      <td>10</td>\n",
       "    </tr>\n",
       "    <tr>\n",
       "      <th>2004-11</th>\n",
       "      <td>724140</td>\n",
       "      <td>1171846.0</td>\n",
       "      <td>662382.0</td>\n",
       "      <td>251984.0</td>\n",
       "      <td>157022.0</td>\n",
       "      <td>311445.0</td>\n",
       "      <td>137390.0</td>\n",
       "      <td>185150.0</td>\n",
       "      <td>11</td>\n",
       "    </tr>\n",
       "    <tr>\n",
       "      <th>2004-12</th>\n",
       "      <td>380379</td>\n",
       "      <td>724140.0</td>\n",
       "      <td>1171846.0</td>\n",
       "      <td>662382.0</td>\n",
       "      <td>251984.0</td>\n",
       "      <td>157022.0</td>\n",
       "      <td>311445.0</td>\n",
       "      <td>137390.0</td>\n",
       "      <td>12</td>\n",
       "    </tr>\n",
       "  </tbody>\n",
       "</table>\n",
       "</div>"
      ],
      "text/plain": [
       "         quantity      lag_1      lag_2     lag_3     lag_4     lag_5  \\\n",
       "date                                                                    \n",
       "2004-08    251984   157022.0   311445.0  137390.0  185150.0  221952.0   \n",
       "2004-09    662382   251984.0   157022.0  311445.0  137390.0  185150.0   \n",
       "2004-10   1171846   662382.0   251984.0  157022.0  311445.0  137390.0   \n",
       "2004-11    724140  1171846.0   662382.0  251984.0  157022.0  311445.0   \n",
       "2004-12    380379   724140.0  1171846.0  662382.0  251984.0  157022.0   \n",
       "\n",
       "            lag_6     lag_7  month  \n",
       "date                                \n",
       "2004-08  225133.0  227832.0      8  \n",
       "2004-09  221952.0  225133.0      9  \n",
       "2004-10  185150.0  221952.0     10  \n",
       "2004-11  137390.0  185150.0     11  \n",
       "2004-12  311445.0  137390.0     12  "
      ]
     },
     "execution_count": 26,
     "metadata": {},
     "output_type": "execute_result"
    }
   ],
   "source": [
    "ts['month'] = ts.index.month\n",
    "ts.head()"
   ]
  },
  {
   "cell_type": "code",
   "execution_count": null,
   "metadata": {},
   "outputs": [],
   "source": [
    "ts.month"
   ]
  },
  {
   "cell_type": "code",
   "execution_count": 27,
   "metadata": {
    "scrolled": true
   },
   "outputs": [
    {
     "data": {
      "text/plain": [
       "(139, 9)"
      ]
     },
     "execution_count": 27,
     "metadata": {},
     "output_type": "execute_result"
    }
   ],
   "source": [
    "ts.shape"
   ]
  },
  {
   "cell_type": "markdown",
   "metadata": {
    "id": "TrfFa8BfZoBO"
   },
   "source": [
    "## Задание\n",
    "\n",
    "Создайте колонку `month`, содержащую месяц (из даты).\n",
    "\n",
    "Вычислите среднее значение целевой переменной по месяцам (по всем обучающим данным до разбиения на train и test).\n",
    "\n",
    "В какой месяц года среднее количество проданного товара максимально? В ответе укажите номер месяца."
   ]
  },
  {
   "cell_type": "code",
   "execution_count": 31,
   "metadata": {
    "id": "MDChmNuLZoBO"
   },
   "outputs": [],
   "source": [
    "# pd.Series(month_dict, index=month_dict.keys()).sort_values(ascending=False)"
   ]
  },
  {
   "cell_type": "markdown",
   "metadata": {
    "id": "x2CiaWNtZoBO"
   },
   "source": [
    "Далее будем использовать функцию preprocess_data.\n",
    "\n",
    "В функции мы:\n",
    "\n",
    "1) Разбиваем данные на тренировочную и тестовую части\n",
    "\n",
    "2) Генерируем лаговые признаки\n",
    "\n",
    "3) Генерируем агрегированные признаки"
   ]
  },
  {
   "cell_type": "code",
   "execution_count": 32,
   "metadata": {},
   "outputs": [
    {
     "data": {
      "text/html": [
       "<div>\n",
       "<style scoped>\n",
       "    .dataframe tbody tr th:only-of-type {\n",
       "        vertical-align: middle;\n",
       "    }\n",
       "\n",
       "    .dataframe tbody tr th {\n",
       "        vertical-align: top;\n",
       "    }\n",
       "\n",
       "    .dataframe thead th {\n",
       "        text-align: right;\n",
       "    }\n",
       "</style>\n",
       "<table border=\"1\" class=\"dataframe\">\n",
       "  <thead>\n",
       "    <tr style=\"text-align: right;\">\n",
       "      <th></th>\n",
       "      <th>market</th>\n",
       "      <th>month</th>\n",
       "      <th>year</th>\n",
       "      <th>quantity</th>\n",
       "      <th>priceMin</th>\n",
       "      <th>priceMax</th>\n",
       "      <th>priceMod</th>\n",
       "      <th>state</th>\n",
       "      <th>city</th>\n",
       "      <th>date</th>\n",
       "    </tr>\n",
       "    <tr>\n",
       "      <th>date</th>\n",
       "      <th></th>\n",
       "      <th></th>\n",
       "      <th></th>\n",
       "      <th></th>\n",
       "      <th></th>\n",
       "      <th></th>\n",
       "      <th></th>\n",
       "      <th></th>\n",
       "      <th></th>\n",
       "      <th></th>\n",
       "    </tr>\n",
       "  </thead>\n",
       "  <tbody>\n",
       "    <tr>\n",
       "      <th>2004-01</th>\n",
       "      <td>BANGALORE</td>\n",
       "      <td>January</td>\n",
       "      <td>2004</td>\n",
       "      <td>227832</td>\n",
       "      <td>916</td>\n",
       "      <td>1066</td>\n",
       "      <td>991</td>\n",
       "      <td>KNT</td>\n",
       "      <td>BANGALORE</td>\n",
       "      <td>2004-01-01</td>\n",
       "    </tr>\n",
       "    <tr>\n",
       "      <th>2004-02</th>\n",
       "      <td>BANGALORE</td>\n",
       "      <td>February</td>\n",
       "      <td>2004</td>\n",
       "      <td>225133</td>\n",
       "      <td>741</td>\n",
       "      <td>870</td>\n",
       "      <td>793</td>\n",
       "      <td>KNT</td>\n",
       "      <td>BANGALORE</td>\n",
       "      <td>2004-02-01</td>\n",
       "    </tr>\n",
       "    <tr>\n",
       "      <th>2004-03</th>\n",
       "      <td>BANGALORE</td>\n",
       "      <td>March</td>\n",
       "      <td>2004</td>\n",
       "      <td>221952</td>\n",
       "      <td>527</td>\n",
       "      <td>586</td>\n",
       "      <td>556</td>\n",
       "      <td>KNT</td>\n",
       "      <td>BANGALORE</td>\n",
       "      <td>2004-03-01</td>\n",
       "    </tr>\n",
       "    <tr>\n",
       "      <th>2004-04</th>\n",
       "      <td>BANGALORE</td>\n",
       "      <td>April</td>\n",
       "      <td>2004</td>\n",
       "      <td>185150</td>\n",
       "      <td>419</td>\n",
       "      <td>518</td>\n",
       "      <td>465</td>\n",
       "      <td>KNT</td>\n",
       "      <td>BANGALORE</td>\n",
       "      <td>2004-04-01</td>\n",
       "    </tr>\n",
       "    <tr>\n",
       "      <th>2004-05</th>\n",
       "      <td>BANGALORE</td>\n",
       "      <td>May</td>\n",
       "      <td>2004</td>\n",
       "      <td>137390</td>\n",
       "      <td>400</td>\n",
       "      <td>516</td>\n",
       "      <td>455</td>\n",
       "      <td>KNT</td>\n",
       "      <td>BANGALORE</td>\n",
       "      <td>2004-05-01</td>\n",
       "    </tr>\n",
       "    <tr>\n",
       "      <th>...</th>\n",
       "      <td>...</td>\n",
       "      <td>...</td>\n",
       "      <td>...</td>\n",
       "      <td>...</td>\n",
       "      <td>...</td>\n",
       "      <td>...</td>\n",
       "      <td>...</td>\n",
       "      <td>...</td>\n",
       "      <td>...</td>\n",
       "      <td>...</td>\n",
       "    </tr>\n",
       "    <tr>\n",
       "      <th>2015-10</th>\n",
       "      <td>BANGALORE</td>\n",
       "      <td>October</td>\n",
       "      <td>2015</td>\n",
       "      <td>1612160</td>\n",
       "      <td>385</td>\n",
       "      <td>3365</td>\n",
       "      <td>2215</td>\n",
       "      <td>KNT</td>\n",
       "      <td>BANGALORE</td>\n",
       "      <td>2015-10-01</td>\n",
       "    </tr>\n",
       "    <tr>\n",
       "      <th>2015-11</th>\n",
       "      <td>BANGALORE</td>\n",
       "      <td>November</td>\n",
       "      <td>2015</td>\n",
       "      <td>1071872</td>\n",
       "      <td>205</td>\n",
       "      <td>3138</td>\n",
       "      <td>1618</td>\n",
       "      <td>KNT</td>\n",
       "      <td>BANGALORE</td>\n",
       "      <td>2015-11-01</td>\n",
       "    </tr>\n",
       "    <tr>\n",
       "      <th>2015-12</th>\n",
       "      <td>BANGALORE</td>\n",
       "      <td>December</td>\n",
       "      <td>2015</td>\n",
       "      <td>513186</td>\n",
       "      <td>217</td>\n",
       "      <td>2030</td>\n",
       "      <td>1343</td>\n",
       "      <td>KNT</td>\n",
       "      <td>BANGALORE</td>\n",
       "      <td>2015-12-01</td>\n",
       "    </tr>\n",
       "    <tr>\n",
       "      <th>2016-01</th>\n",
       "      <td>BANGALORE</td>\n",
       "      <td>January</td>\n",
       "      <td>2016</td>\n",
       "      <td>507223</td>\n",
       "      <td>200</td>\n",
       "      <td>1943</td>\n",
       "      <td>1448</td>\n",
       "      <td>KNT</td>\n",
       "      <td>BANGALORE</td>\n",
       "      <td>2016-01-01</td>\n",
       "    </tr>\n",
       "    <tr>\n",
       "      <th>2016-02</th>\n",
       "      <td>BANGALORE</td>\n",
       "      <td>February</td>\n",
       "      <td>2016</td>\n",
       "      <td>400359</td>\n",
       "      <td>200</td>\n",
       "      <td>1505</td>\n",
       "      <td>1101</td>\n",
       "      <td>KNT</td>\n",
       "      <td>BANGALORE</td>\n",
       "      <td>2016-02-01</td>\n",
       "    </tr>\n",
       "  </tbody>\n",
       "</table>\n",
       "<p>146 rows × 10 columns</p>\n",
       "</div>"
      ],
      "text/plain": [
       "            market     month  year  quantity  priceMin  priceMax  priceMod  \\\n",
       "date                                                                         \n",
       "2004-01  BANGALORE   January  2004    227832       916      1066       991   \n",
       "2004-02  BANGALORE  February  2004    225133       741       870       793   \n",
       "2004-03  BANGALORE     March  2004    221952       527       586       556   \n",
       "2004-04  BANGALORE     April  2004    185150       419       518       465   \n",
       "2004-05  BANGALORE       May  2004    137390       400       516       455   \n",
       "...            ...       ...   ...       ...       ...       ...       ...   \n",
       "2015-10  BANGALORE   October  2015   1612160       385      3365      2215   \n",
       "2015-11  BANGALORE  November  2015   1071872       205      3138      1618   \n",
       "2015-12  BANGALORE  December  2015    513186       217      2030      1343   \n",
       "2016-01  BANGALORE   January  2016    507223       200      1943      1448   \n",
       "2016-02  BANGALORE  February  2016    400359       200      1505      1101   \n",
       "\n",
       "        state       city       date  \n",
       "date                                 \n",
       "2004-01   KNT  BANGALORE 2004-01-01  \n",
       "2004-02   KNT  BANGALORE 2004-02-01  \n",
       "2004-03   KNT  BANGALORE 2004-03-01  \n",
       "2004-04   KNT  BANGALORE 2004-04-01  \n",
       "2004-05   KNT  BANGALORE 2004-05-01  \n",
       "...       ...        ...        ...  \n",
       "2015-10   KNT  BANGALORE 2015-10-01  \n",
       "2015-11   KNT  BANGALORE 2015-11-01  \n",
       "2015-12   KNT  BANGALORE 2015-12-01  \n",
       "2016-01   KNT  BANGALORE 2016-01-01  \n",
       "2016-02   KNT  BANGALORE 2016-02-01  \n",
       "\n",
       "[146 rows x 10 columns]"
      ]
     },
     "execution_count": 32,
     "metadata": {},
     "output_type": "execute_result"
    }
   ],
   "source": [
    "dfBang"
   ]
  },
  {
   "cell_type": "code",
   "execution_count": 29,
   "metadata": {
    "id": "5nekrTM7Af2D"
   },
   "outputs": [],
   "source": [
    "ts = dfBang.drop(\n",
    "    [\"market\", \"month\", \"year\", \"state\", \"city\", \"priceMin\", \"priceMax\", \"priceMod\", \"date\"], axis=1\n",
    ")"
   ]
  },
  {
   "cell_type": "code",
   "execution_count": 33,
   "metadata": {},
   "outputs": [
    {
     "data": {
      "text/plain": [
       "(146, 1)"
      ]
     },
     "execution_count": 33,
     "metadata": {},
     "output_type": "execute_result"
    }
   ],
   "source": [
    "ts.shape"
   ]
  },
  {
   "cell_type": "code",
   "execution_count": 34,
   "metadata": {
    "id": "VNmGsfnk_gLB"
   },
   "outputs": [
    {
     "name": "stdout",
     "output_type": "stream",
     "text": [
      "118\n"
     ]
    }
   ],
   "source": [
    "index_cut = int(0.815*len(ts))\n",
    "print(index_cut)"
   ]
  },
  {
   "cell_type": "code",
   "execution_count": 35,
   "metadata": {
    "id": "Ts3Y1PrIZoBP"
   },
   "outputs": [],
   "source": [
    "def preprocess_data(data, lag_start=1, lag_end=8, index_cut=index_cut):\n",
    "    data = pd.DataFrame(data.copy())\n",
    "\n",
    "    # добавляем лаги исходного ряда в качестве признаков\n",
    "    for i in range(lag_start, lag_end):\n",
    "        data[f\"lag_{i}\"] = data['quantity'].shift(i)\n",
    "\n",
    "    data = data.dropna()\n",
    "\n",
    "    data[\"month\"] = data.index.month\n",
    "\n",
    "    # считаем средние только по тренировочной части, чтобы избежать лика (data leak)\n",
    "    data[\"month_average\"] = list(map(code_mean(data.iloc[:index_cut], \"month\", \"quantity\").get, data.month))\n",
    "\n",
    "    # выкидываем закодированные средними признаки\n",
    "    data.drop([\"month\"], axis=1, inplace=True)\n",
    "\n",
    "    # разбиваем весь датасет на тренировочную и тестовую выборку\n",
    "    X_train = data.iloc[:index_cut].drop([\"quantity\"], axis=1)\n",
    "    y_train = data.iloc[:index_cut][\"quantity\"]\n",
    "    X_test = data.iloc[index_cut:].drop([\"quantity\"], axis=1)\n",
    "    y_test = data.iloc[index_cut:][\"quantity\"]\n",
    "\n",
    "    return X_train, X_test, y_train, y_test"
   ]
  },
  {
   "cell_type": "code",
   "execution_count": 36,
   "metadata": {
    "colab": {
     "base_uri": "https://localhost:8080/"
    },
    "id": "RD0hBmWRPWeJ",
    "outputId": "3b3790be-7b29-49fe-abb7-65b7a464524a"
   },
   "outputs": [
    {
     "data": {
      "text/plain": [
       "((118, 8), (21, 8))"
      ]
     },
     "execution_count": 36,
     "metadata": {},
     "output_type": "execute_result"
    }
   ],
   "source": [
    "X_train, X_test, y_train, y_test = preprocess_data(ts)\n",
    "\n",
    "X_train.shape, X_test.shape"
   ]
  },
  {
   "cell_type": "code",
   "execution_count": 40,
   "metadata": {},
   "outputs": [
    {
     "data": {
      "text/html": [
       "<div>\n",
       "<style scoped>\n",
       "    .dataframe tbody tr th:only-of-type {\n",
       "        vertical-align: middle;\n",
       "    }\n",
       "\n",
       "    .dataframe tbody tr th {\n",
       "        vertical-align: top;\n",
       "    }\n",
       "\n",
       "    .dataframe thead th {\n",
       "        text-align: right;\n",
       "    }\n",
       "</style>\n",
       "<table border=\"1\" class=\"dataframe\">\n",
       "  <thead>\n",
       "    <tr style=\"text-align: right;\">\n",
       "      <th></th>\n",
       "      <th>lag_1</th>\n",
       "      <th>lag_2</th>\n",
       "      <th>lag_3</th>\n",
       "      <th>lag_4</th>\n",
       "      <th>lag_5</th>\n",
       "      <th>lag_6</th>\n",
       "      <th>lag_7</th>\n",
       "      <th>month_average</th>\n",
       "    </tr>\n",
       "    <tr>\n",
       "      <th>date</th>\n",
       "      <th></th>\n",
       "      <th></th>\n",
       "      <th></th>\n",
       "      <th></th>\n",
       "      <th></th>\n",
       "      <th></th>\n",
       "      <th></th>\n",
       "      <th></th>\n",
       "    </tr>\n",
       "  </thead>\n",
       "  <tbody>\n",
       "    <tr>\n",
       "      <th>2004-08</th>\n",
       "      <td>157022.0</td>\n",
       "      <td>311445.0</td>\n",
       "      <td>137390.0</td>\n",
       "      <td>185150.0</td>\n",
       "      <td>221952.0</td>\n",
       "      <td>225133.0</td>\n",
       "      <td>227832.0</td>\n",
       "      <td>362241.8</td>\n",
       "    </tr>\n",
       "    <tr>\n",
       "      <th>2004-09</th>\n",
       "      <td>251984.0</td>\n",
       "      <td>157022.0</td>\n",
       "      <td>311445.0</td>\n",
       "      <td>137390.0</td>\n",
       "      <td>185150.0</td>\n",
       "      <td>221952.0</td>\n",
       "      <td>225133.0</td>\n",
       "      <td>675778.1</td>\n",
       "    </tr>\n",
       "    <tr>\n",
       "      <th>2004-10</th>\n",
       "      <td>662382.0</td>\n",
       "      <td>251984.0</td>\n",
       "      <td>157022.0</td>\n",
       "      <td>311445.0</td>\n",
       "      <td>137390.0</td>\n",
       "      <td>185150.0</td>\n",
       "      <td>221952.0</td>\n",
       "      <td>1112561.2</td>\n",
       "    </tr>\n",
       "    <tr>\n",
       "      <th>2004-11</th>\n",
       "      <td>1171846.0</td>\n",
       "      <td>662382.0</td>\n",
       "      <td>251984.0</td>\n",
       "      <td>157022.0</td>\n",
       "      <td>311445.0</td>\n",
       "      <td>137390.0</td>\n",
       "      <td>185150.0</td>\n",
       "      <td>820510.3</td>\n",
       "    </tr>\n",
       "    <tr>\n",
       "      <th>2004-12</th>\n",
       "      <td>724140.0</td>\n",
       "      <td>1171846.0</td>\n",
       "      <td>662382.0</td>\n",
       "      <td>251984.0</td>\n",
       "      <td>157022.0</td>\n",
       "      <td>311445.0</td>\n",
       "      <td>137390.0</td>\n",
       "      <td>603110.6</td>\n",
       "    </tr>\n",
       "    <tr>\n",
       "      <th>...</th>\n",
       "      <td>...</td>\n",
       "      <td>...</td>\n",
       "      <td>...</td>\n",
       "      <td>...</td>\n",
       "      <td>...</td>\n",
       "      <td>...</td>\n",
       "      <td>...</td>\n",
       "      <td>...</td>\n",
       "    </tr>\n",
       "    <tr>\n",
       "      <th>2014-01</th>\n",
       "      <td>628220.0</td>\n",
       "      <td>710266.0</td>\n",
       "      <td>1639032.0</td>\n",
       "      <td>1289187.0</td>\n",
       "      <td>511174.0</td>\n",
       "      <td>349474.0</td>\n",
       "      <td>337186.0</td>\n",
       "      <td>414864.5</td>\n",
       "    </tr>\n",
       "    <tr>\n",
       "      <th>2014-02</th>\n",
       "      <td>606710.0</td>\n",
       "      <td>628220.0</td>\n",
       "      <td>710266.0</td>\n",
       "      <td>1639032.0</td>\n",
       "      <td>1289187.0</td>\n",
       "      <td>511174.0</td>\n",
       "      <td>349474.0</td>\n",
       "      <td>332206.9</td>\n",
       "    </tr>\n",
       "    <tr>\n",
       "      <th>2014-03</th>\n",
       "      <td>522132.0</td>\n",
       "      <td>606710.0</td>\n",
       "      <td>628220.0</td>\n",
       "      <td>710266.0</td>\n",
       "      <td>1639032.0</td>\n",
       "      <td>1289187.0</td>\n",
       "      <td>511174.0</td>\n",
       "      <td>364535.8</td>\n",
       "    </tr>\n",
       "    <tr>\n",
       "      <th>2014-04</th>\n",
       "      <td>683236.0</td>\n",
       "      <td>522132.0</td>\n",
       "      <td>606710.0</td>\n",
       "      <td>628220.0</td>\n",
       "      <td>710266.0</td>\n",
       "      <td>1639032.0</td>\n",
       "      <td>1289187.0</td>\n",
       "      <td>371940.7</td>\n",
       "    </tr>\n",
       "    <tr>\n",
       "      <th>2014-05</th>\n",
       "      <td>697423.0</td>\n",
       "      <td>683236.0</td>\n",
       "      <td>522132.0</td>\n",
       "      <td>606710.0</td>\n",
       "      <td>628220.0</td>\n",
       "      <td>710266.0</td>\n",
       "      <td>1639032.0</td>\n",
       "      <td>382211.6</td>\n",
       "    </tr>\n",
       "  </tbody>\n",
       "</table>\n",
       "<p>118 rows × 8 columns</p>\n",
       "</div>"
      ],
      "text/plain": [
       "             lag_1      lag_2      lag_3      lag_4      lag_5      lag_6  \\\n",
       "date                                                                        \n",
       "2004-08   157022.0   311445.0   137390.0   185150.0   221952.0   225133.0   \n",
       "2004-09   251984.0   157022.0   311445.0   137390.0   185150.0   221952.0   \n",
       "2004-10   662382.0   251984.0   157022.0   311445.0   137390.0   185150.0   \n",
       "2004-11  1171846.0   662382.0   251984.0   157022.0   311445.0   137390.0   \n",
       "2004-12   724140.0  1171846.0   662382.0   251984.0   157022.0   311445.0   \n",
       "...            ...        ...        ...        ...        ...        ...   \n",
       "2014-01   628220.0   710266.0  1639032.0  1289187.0   511174.0   349474.0   \n",
       "2014-02   606710.0   628220.0   710266.0  1639032.0  1289187.0   511174.0   \n",
       "2014-03   522132.0   606710.0   628220.0   710266.0  1639032.0  1289187.0   \n",
       "2014-04   683236.0   522132.0   606710.0   628220.0   710266.0  1639032.0   \n",
       "2014-05   697423.0   683236.0   522132.0   606710.0   628220.0   710266.0   \n",
       "\n",
       "             lag_7  month_average  \n",
       "date                               \n",
       "2004-08   227832.0       362241.8  \n",
       "2004-09   225133.0       675778.1  \n",
       "2004-10   221952.0      1112561.2  \n",
       "2004-11   185150.0       820510.3  \n",
       "2004-12   137390.0       603110.6  \n",
       "...            ...            ...  \n",
       "2014-01   337186.0       414864.5  \n",
       "2014-02   349474.0       332206.9  \n",
       "2014-03   511174.0       364535.8  \n",
       "2014-04  1289187.0       371940.7  \n",
       "2014-05  1639032.0       382211.6  \n",
       "\n",
       "[118 rows x 8 columns]"
      ]
     },
     "execution_count": 40,
     "metadata": {},
     "output_type": "execute_result"
    }
   ],
   "source": [
    "X_train"
   ]
  },
  {
   "cell_type": "code",
   "execution_count": 37,
   "metadata": {},
   "outputs": [
    {
     "data": {
      "text/plain": [
       "0.8489208633093526"
      ]
     },
     "execution_count": 37,
     "metadata": {},
     "output_type": "execute_result"
    }
   ],
   "source": [
    "X_train.shape[0] / (X_train.shape[0] + X_test.shape[0])"
   ]
  },
  {
   "cell_type": "code",
   "execution_count": 38,
   "metadata": {},
   "outputs": [
    {
     "data": {
      "text/html": [
       "<div>\n",
       "<style scoped>\n",
       "    .dataframe tbody tr th:only-of-type {\n",
       "        vertical-align: middle;\n",
       "    }\n",
       "\n",
       "    .dataframe tbody tr th {\n",
       "        vertical-align: top;\n",
       "    }\n",
       "\n",
       "    .dataframe thead th {\n",
       "        text-align: right;\n",
       "    }\n",
       "</style>\n",
       "<table border=\"1\" class=\"dataframe\">\n",
       "  <thead>\n",
       "    <tr style=\"text-align: right;\">\n",
       "      <th></th>\n",
       "      <th>lag_1</th>\n",
       "      <th>lag_2</th>\n",
       "      <th>lag_3</th>\n",
       "      <th>lag_4</th>\n",
       "      <th>lag_5</th>\n",
       "      <th>lag_6</th>\n",
       "      <th>lag_7</th>\n",
       "      <th>month_average</th>\n",
       "    </tr>\n",
       "    <tr>\n",
       "      <th>date</th>\n",
       "      <th></th>\n",
       "      <th></th>\n",
       "      <th></th>\n",
       "      <th></th>\n",
       "      <th></th>\n",
       "      <th></th>\n",
       "      <th></th>\n",
       "      <th></th>\n",
       "    </tr>\n",
       "  </thead>\n",
       "  <tbody>\n",
       "    <tr>\n",
       "      <th>2004-08</th>\n",
       "      <td>157022.0</td>\n",
       "      <td>311445.0</td>\n",
       "      <td>137390.0</td>\n",
       "      <td>185150.0</td>\n",
       "      <td>221952.0</td>\n",
       "      <td>225133.0</td>\n",
       "      <td>227832.0</td>\n",
       "      <td>362241.8</td>\n",
       "    </tr>\n",
       "    <tr>\n",
       "      <th>2004-09</th>\n",
       "      <td>251984.0</td>\n",
       "      <td>157022.0</td>\n",
       "      <td>311445.0</td>\n",
       "      <td>137390.0</td>\n",
       "      <td>185150.0</td>\n",
       "      <td>221952.0</td>\n",
       "      <td>225133.0</td>\n",
       "      <td>675778.1</td>\n",
       "    </tr>\n",
       "    <tr>\n",
       "      <th>2004-10</th>\n",
       "      <td>662382.0</td>\n",
       "      <td>251984.0</td>\n",
       "      <td>157022.0</td>\n",
       "      <td>311445.0</td>\n",
       "      <td>137390.0</td>\n",
       "      <td>185150.0</td>\n",
       "      <td>221952.0</td>\n",
       "      <td>1112561.2</td>\n",
       "    </tr>\n",
       "    <tr>\n",
       "      <th>2004-11</th>\n",
       "      <td>1171846.0</td>\n",
       "      <td>662382.0</td>\n",
       "      <td>251984.0</td>\n",
       "      <td>157022.0</td>\n",
       "      <td>311445.0</td>\n",
       "      <td>137390.0</td>\n",
       "      <td>185150.0</td>\n",
       "      <td>820510.3</td>\n",
       "    </tr>\n",
       "    <tr>\n",
       "      <th>2004-12</th>\n",
       "      <td>724140.0</td>\n",
       "      <td>1171846.0</td>\n",
       "      <td>662382.0</td>\n",
       "      <td>251984.0</td>\n",
       "      <td>157022.0</td>\n",
       "      <td>311445.0</td>\n",
       "      <td>137390.0</td>\n",
       "      <td>603110.6</td>\n",
       "    </tr>\n",
       "  </tbody>\n",
       "</table>\n",
       "</div>"
      ],
      "text/plain": [
       "             lag_1      lag_2     lag_3     lag_4     lag_5     lag_6  \\\n",
       "date                                                                    \n",
       "2004-08   157022.0   311445.0  137390.0  185150.0  221952.0  225133.0   \n",
       "2004-09   251984.0   157022.0  311445.0  137390.0  185150.0  221952.0   \n",
       "2004-10   662382.0   251984.0  157022.0  311445.0  137390.0  185150.0   \n",
       "2004-11  1171846.0   662382.0  251984.0  157022.0  311445.0  137390.0   \n",
       "2004-12   724140.0  1171846.0  662382.0  251984.0  157022.0  311445.0   \n",
       "\n",
       "            lag_7  month_average  \n",
       "date                              \n",
       "2004-08  227832.0       362241.8  \n",
       "2004-09  225133.0       675778.1  \n",
       "2004-10  221952.0      1112561.2  \n",
       "2004-11  185150.0       820510.3  \n",
       "2004-12  137390.0       603110.6  "
      ]
     },
     "execution_count": 38,
     "metadata": {},
     "output_type": "execute_result"
    }
   ],
   "source": [
    "X_train.head()"
   ]
  },
  {
   "cell_type": "markdown",
   "metadata": {
    "id": "L8HomB24BB66"
   },
   "source": [
    "## Задание\n",
    "\n",
    "Обучите линейную регрессию на подготовленных тренировочных данных и выведите $R^2$ на тесте.\n",
    "\n",
    "Ответ округлите до сотых."
   ]
  },
  {
   "cell_type": "code",
   "execution_count": 39,
   "metadata": {
    "id": "9A-fJ3yqPhuv"
   },
   "outputs": [
    {
     "name": "stdout",
     "output_type": "stream",
     "text": [
      "r2 = 0.7439158650185003\n"
     ]
    }
   ],
   "source": [
    "model_lr = LinearRegression()\n",
    "model_lr.fit(X_train, y_train)\n",
    "\n",
    "pred_lr = model_lr.predict(X_test)\n",
    "r2_score_lr = r2_score(y_test, pred_lr)\n",
    "print(f\"r2 = {r2_score_lr}\")"
   ]
  },
  {
   "cell_type": "markdown",
   "metadata": {
    "id": "Dw4YWnjDBP8j"
   },
   "source": [
    "## Задание\n",
    "\n",
    "Заново разбейте данные на train и test, используя `preprocess_data` с лагами от 1 до 12 включительно.\n",
    "\n",
    "Обучите линейную регрессию. Чему теперь равен $R^2$? Ответ округлите до сотых."
   ]
  },
  {
   "cell_type": "code",
   "execution_count": 59,
   "metadata": {
    "id": "67WarHLWBLWt"
   },
   "outputs": [
    {
     "data": {
      "text/plain": [
       "((118, 12), (17, 12))"
      ]
     },
     "execution_count": 59,
     "metadata": {},
     "output_type": "execute_result"
    }
   ],
   "source": [
    "X_train, X_test, y_train, y_test = preprocess_data(ts, lag_start=1, lag_end=12)\n",
    "\n",
    "X_train.shape, X_test.shape"
   ]
  },
  {
   "cell_type": "code",
   "execution_count": 60,
   "metadata": {},
   "outputs": [
    {
     "name": "stdout",
     "output_type": "stream",
     "text": [
      "r2 = 0.859115264065872\n"
     ]
    }
   ],
   "source": [
    "model_lr = LinearRegression()\n",
    "model_lr.fit(X_train, y_train)\n",
    "\n",
    "pred_lr = model_lr.predict(X_test)\n",
    "r2_score_lr = r2_score(y_test, pred_lr)\n",
    "print(f\"r2 = {r2_score_lr}\")"
   ]
  },
  {
   "cell_type": "markdown",
   "metadata": {
    "id": "ffy0CYj1Cat6"
   },
   "source": [
    "## Задание\n",
    "\n",
    "Обучите CatBoostRegressor с гиперпараметрами по умолчанию на тех же данных, что и линейную регрессию из предыдущего задания. Чему теперь равен $R^2$? Ответ округлите до десятых."
   ]
  },
  {
   "cell_type": "code",
   "execution_count": 61,
   "metadata": {},
   "outputs": [
    {
     "data": {
      "text/html": [
       "<div>\n",
       "<style scoped>\n",
       "    .dataframe tbody tr th:only-of-type {\n",
       "        vertical-align: middle;\n",
       "    }\n",
       "\n",
       "    .dataframe tbody tr th {\n",
       "        vertical-align: top;\n",
       "    }\n",
       "\n",
       "    .dataframe thead th {\n",
       "        text-align: right;\n",
       "    }\n",
       "</style>\n",
       "<table border=\"1\" class=\"dataframe\">\n",
       "  <thead>\n",
       "    <tr style=\"text-align: right;\">\n",
       "      <th></th>\n",
       "      <th>lag_1</th>\n",
       "      <th>lag_2</th>\n",
       "      <th>lag_3</th>\n",
       "      <th>lag_4</th>\n",
       "      <th>lag_5</th>\n",
       "      <th>lag_6</th>\n",
       "      <th>lag_7</th>\n",
       "      <th>lag_8</th>\n",
       "      <th>lag_9</th>\n",
       "      <th>lag_10</th>\n",
       "      <th>lag_11</th>\n",
       "      <th>month_average</th>\n",
       "    </tr>\n",
       "    <tr>\n",
       "      <th>date</th>\n",
       "      <th></th>\n",
       "      <th></th>\n",
       "      <th></th>\n",
       "      <th></th>\n",
       "      <th></th>\n",
       "      <th></th>\n",
       "      <th></th>\n",
       "      <th></th>\n",
       "      <th></th>\n",
       "      <th></th>\n",
       "      <th></th>\n",
       "      <th></th>\n",
       "    </tr>\n",
       "  </thead>\n",
       "  <tbody>\n",
       "    <tr>\n",
       "      <th>2004-12</th>\n",
       "      <td>724140.0</td>\n",
       "      <td>1171846.0</td>\n",
       "      <td>662382.0</td>\n",
       "      <td>251984.0</td>\n",
       "      <td>157022.0</td>\n",
       "      <td>311445.0</td>\n",
       "      <td>137390.0</td>\n",
       "      <td>185150.0</td>\n",
       "      <td>221952.0</td>\n",
       "      <td>225133.0</td>\n",
       "      <td>227832.0</td>\n",
       "      <td>603110.6</td>\n",
       "    </tr>\n",
       "    <tr>\n",
       "      <th>2005-01</th>\n",
       "      <td>380379.0</td>\n",
       "      <td>724140.0</td>\n",
       "      <td>1171846.0</td>\n",
       "      <td>662382.0</td>\n",
       "      <td>251984.0</td>\n",
       "      <td>157022.0</td>\n",
       "      <td>311445.0</td>\n",
       "      <td>137390.0</td>\n",
       "      <td>185150.0</td>\n",
       "      <td>221952.0</td>\n",
       "      <td>225133.0</td>\n",
       "      <td>414864.5</td>\n",
       "    </tr>\n",
       "    <tr>\n",
       "      <th>2005-02</th>\n",
       "      <td>335679.0</td>\n",
       "      <td>380379.0</td>\n",
       "      <td>724140.0</td>\n",
       "      <td>1171846.0</td>\n",
       "      <td>662382.0</td>\n",
       "      <td>251984.0</td>\n",
       "      <td>157022.0</td>\n",
       "      <td>311445.0</td>\n",
       "      <td>137390.0</td>\n",
       "      <td>185150.0</td>\n",
       "      <td>221952.0</td>\n",
       "      <td>332206.9</td>\n",
       "    </tr>\n",
       "    <tr>\n",
       "      <th>2005-03</th>\n",
       "      <td>279047.0</td>\n",
       "      <td>335679.0</td>\n",
       "      <td>380379.0</td>\n",
       "      <td>724140.0</td>\n",
       "      <td>1171846.0</td>\n",
       "      <td>662382.0</td>\n",
       "      <td>251984.0</td>\n",
       "      <td>157022.0</td>\n",
       "      <td>311445.0</td>\n",
       "      <td>137390.0</td>\n",
       "      <td>185150.0</td>\n",
       "      <td>364535.8</td>\n",
       "    </tr>\n",
       "    <tr>\n",
       "      <th>2005-04</th>\n",
       "      <td>269609.0</td>\n",
       "      <td>279047.0</td>\n",
       "      <td>335679.0</td>\n",
       "      <td>380379.0</td>\n",
       "      <td>724140.0</td>\n",
       "      <td>1171846.0</td>\n",
       "      <td>662382.0</td>\n",
       "      <td>251984.0</td>\n",
       "      <td>157022.0</td>\n",
       "      <td>311445.0</td>\n",
       "      <td>137390.0</td>\n",
       "      <td>371940.7</td>\n",
       "    </tr>\n",
       "    <tr>\n",
       "      <th>...</th>\n",
       "      <td>...</td>\n",
       "      <td>...</td>\n",
       "      <td>...</td>\n",
       "      <td>...</td>\n",
       "      <td>...</td>\n",
       "      <td>...</td>\n",
       "      <td>...</td>\n",
       "      <td>...</td>\n",
       "      <td>...</td>\n",
       "      <td>...</td>\n",
       "      <td>...</td>\n",
       "      <td>...</td>\n",
       "    </tr>\n",
       "    <tr>\n",
       "      <th>2014-05</th>\n",
       "      <td>697423.0</td>\n",
       "      <td>683236.0</td>\n",
       "      <td>522132.0</td>\n",
       "      <td>606710.0</td>\n",
       "      <td>628220.0</td>\n",
       "      <td>710266.0</td>\n",
       "      <td>1639032.0</td>\n",
       "      <td>1289187.0</td>\n",
       "      <td>511174.0</td>\n",
       "      <td>349474.0</td>\n",
       "      <td>337186.0</td>\n",
       "      <td>382211.6</td>\n",
       "    </tr>\n",
       "    <tr>\n",
       "      <th>2014-06</th>\n",
       "      <td>591250.0</td>\n",
       "      <td>697423.0</td>\n",
       "      <td>683236.0</td>\n",
       "      <td>522132.0</td>\n",
       "      <td>606710.0</td>\n",
       "      <td>628220.0</td>\n",
       "      <td>710266.0</td>\n",
       "      <td>1639032.0</td>\n",
       "      <td>1289187.0</td>\n",
       "      <td>511174.0</td>\n",
       "      <td>349474.0</td>\n",
       "      <td>349681.3</td>\n",
       "    </tr>\n",
       "    <tr>\n",
       "      <th>2014-07</th>\n",
       "      <td>496447.0</td>\n",
       "      <td>591250.0</td>\n",
       "      <td>697423.0</td>\n",
       "      <td>683236.0</td>\n",
       "      <td>522132.0</td>\n",
       "      <td>606710.0</td>\n",
       "      <td>628220.0</td>\n",
       "      <td>710266.0</td>\n",
       "      <td>1639032.0</td>\n",
       "      <td>1289187.0</td>\n",
       "      <td>511174.0</td>\n",
       "      <td>308152.9</td>\n",
       "    </tr>\n",
       "    <tr>\n",
       "      <th>2014-08</th>\n",
       "      <td>399867.0</td>\n",
       "      <td>496447.0</td>\n",
       "      <td>591250.0</td>\n",
       "      <td>697423.0</td>\n",
       "      <td>683236.0</td>\n",
       "      <td>522132.0</td>\n",
       "      <td>606710.0</td>\n",
       "      <td>628220.0</td>\n",
       "      <td>710266.0</td>\n",
       "      <td>1639032.0</td>\n",
       "      <td>1289187.0</td>\n",
       "      <td>381130.9</td>\n",
       "    </tr>\n",
       "    <tr>\n",
       "      <th>2014-09</th>\n",
       "      <td>440875.0</td>\n",
       "      <td>399867.0</td>\n",
       "      <td>496447.0</td>\n",
       "      <td>591250.0</td>\n",
       "      <td>697423.0</td>\n",
       "      <td>683236.0</td>\n",
       "      <td>522132.0</td>\n",
       "      <td>606710.0</td>\n",
       "      <td>628220.0</td>\n",
       "      <td>710266.0</td>\n",
       "      <td>1639032.0</td>\n",
       "      <td>703721.7</td>\n",
       "    </tr>\n",
       "  </tbody>\n",
       "</table>\n",
       "<p>118 rows × 12 columns</p>\n",
       "</div>"
      ],
      "text/plain": [
       "            lag_1      lag_2      lag_3      lag_4      lag_5      lag_6  \\\n",
       "date                                                                       \n",
       "2004-12  724140.0  1171846.0   662382.0   251984.0   157022.0   311445.0   \n",
       "2005-01  380379.0   724140.0  1171846.0   662382.0   251984.0   157022.0   \n",
       "2005-02  335679.0   380379.0   724140.0  1171846.0   662382.0   251984.0   \n",
       "2005-03  279047.0   335679.0   380379.0   724140.0  1171846.0   662382.0   \n",
       "2005-04  269609.0   279047.0   335679.0   380379.0   724140.0  1171846.0   \n",
       "...           ...        ...        ...        ...        ...        ...   \n",
       "2014-05  697423.0   683236.0   522132.0   606710.0   628220.0   710266.0   \n",
       "2014-06  591250.0   697423.0   683236.0   522132.0   606710.0   628220.0   \n",
       "2014-07  496447.0   591250.0   697423.0   683236.0   522132.0   606710.0   \n",
       "2014-08  399867.0   496447.0   591250.0   697423.0   683236.0   522132.0   \n",
       "2014-09  440875.0   399867.0   496447.0   591250.0   697423.0   683236.0   \n",
       "\n",
       "             lag_7      lag_8      lag_9     lag_10     lag_11  month_average  \n",
       "date                                                                           \n",
       "2004-12   137390.0   185150.0   221952.0   225133.0   227832.0       603110.6  \n",
       "2005-01   311445.0   137390.0   185150.0   221952.0   225133.0       414864.5  \n",
       "2005-02   157022.0   311445.0   137390.0   185150.0   221952.0       332206.9  \n",
       "2005-03   251984.0   157022.0   311445.0   137390.0   185150.0       364535.8  \n",
       "2005-04   662382.0   251984.0   157022.0   311445.0   137390.0       371940.7  \n",
       "...            ...        ...        ...        ...        ...            ...  \n",
       "2014-05  1639032.0  1289187.0   511174.0   349474.0   337186.0       382211.6  \n",
       "2014-06   710266.0  1639032.0  1289187.0   511174.0   349474.0       349681.3  \n",
       "2014-07   628220.0   710266.0  1639032.0  1289187.0   511174.0       308152.9  \n",
       "2014-08   606710.0   628220.0   710266.0  1639032.0  1289187.0       381130.9  \n",
       "2014-09   522132.0   606710.0   628220.0   710266.0  1639032.0       703721.7  \n",
       "\n",
       "[118 rows x 12 columns]"
      ]
     },
     "execution_count": 61,
     "metadata": {},
     "output_type": "execute_result"
    }
   ],
   "source": [
    "X_train"
   ]
  },
  {
   "cell_type": "code",
   "execution_count": 62,
   "metadata": {
    "id": "PI82_X0zBodW"
   },
   "outputs": [
    {
     "name": "stdout",
     "output_type": "stream",
     "text": [
      "r2 catboost = 0.6115594538881034\n"
     ]
    }
   ],
   "source": [
    "from catboost import CatBoostRegressor\n",
    "\n",
    "model_cb = CatBoostRegressor()\n",
    "model_cb.fit(X_train, y_train, silent=True)\n",
    "pred_cb = model_cb.predict(X_test)\n",
    "\n",
    "r2_score_cb = r2_score(y_test, pred_cb)\n",
    "print(f\"r2 catboost = {r2_score_cb}\")"
   ]
  },
  {
   "cell_type": "markdown",
   "metadata": {
    "id": "z1Kn5JwNDDkc"
   },
   "source": [
    "## Бонусное задание (не проверяется тестами)\n",
    "\n",
    "Попробуйте использовать в качестве экзогенного фактора `priceMod` из исходных данных.\n",
    "\n",
    "Также пробуйте любые модели регрессии и любые наборы гиперпараметров.\n",
    "\n",
    "Единственное требование: в тесте - те же 21 измерений.\n",
    "\n",
    "Какого наилучшего значения $R^2$ на тесте вам удалось добиться?"
   ]
  },
  {
   "cell_type": "code",
   "execution_count": null,
   "metadata": {
    "id": "nWo558UaC6qM"
   },
   "outputs": [],
   "source": [
    "# your code here"
   ]
  }
 ],
 "metadata": {
  "colab": {
   "provenance": []
  },
  "kernelspec": {
   "display_name": "Python 3 (ipykernel)",
   "language": "python",
   "name": "python3"
  },
  "language_info": {
   "codemirror_mode": {
    "name": "ipython",
    "version": 3
   },
   "file_extension": ".py",
   "mimetype": "text/x-python",
   "name": "python",
   "nbconvert_exporter": "python",
   "pygments_lexer": "ipython3",
   "version": "3.11.3"
  },
  "toc": {
   "base_numbering": 1,
   "nav_menu": {},
   "number_sections": true,
   "sideBar": true,
   "skip_h1_title": false,
   "title_cell": "Table of Contents",
   "title_sidebar": "Contents",
   "toc_cell": false,
   "toc_position": {},
   "toc_section_display": true,
   "toc_window_display": false
  }
 },
 "nbformat": 4,
 "nbformat_minor": 1
}
