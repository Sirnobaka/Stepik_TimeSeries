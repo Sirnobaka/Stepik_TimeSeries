{
 "cells": [
  {
   "cell_type": "markdown",
   "id": "93b19e9e",
   "metadata": {
    "toc": true
   },
   "source": [
    "<h1>Table of Contents<span class=\"tocSkip\"></span></h1>\n",
    "<div class=\"toc\"><ul class=\"toc-item\"><li><span><a href=\"#1-Simple-exponential-smoothing\" data-toc-modified-id=\"1-Simple-exponential-smoothing-1\">1 Simple exponential smoothing</a></span></li></ul></div>"
   ]
  },
  {
   "cell_type": "code",
   "execution_count": 1,
   "id": "c05601ed",
   "metadata": {},
   "outputs": [],
   "source": [
    "import math\n",
    "import numpy as np\n",
    "from scipy import stats\n",
    "import matplotlib.pyplot as plt\n",
    "import pandas as pd\n",
    "import seaborn as sns\n",
    "import random\n",
    "import os\n",
    "\n",
    "%matplotlib inline\n",
    "plt.rcParams.update({\n",
    "        'font.size': 14,\n",
    "        'axes.titlesize': 20,\n",
    "        'axes.labelsize': 20,\n",
    "        'xtick.labelsize': 20,\n",
    "        'ytick.labelsize': 20,\n",
    "        'font.size': 20,\n",
    "        'figure.figsize': (10, 7),\n",
    "        'axes.grid': True,\n",
    "        'grid.linestyle': '-',\n",
    "        'grid.alpha': 0.3,\n",
    "        'lines.markersize': 5.0,\n",
    "        'xtick.minor.visible': True,\n",
    "        'xtick.direction': 'in',\n",
    "        'xtick.major.size': 20.0,\n",
    "        'xtick.minor.size': 10.0,\n",
    "        'xtick.top': False,\n",
    "        'xtick.bottom': True,\n",
    "        'ytick.minor.visible': True,\n",
    "        'ytick.direction': 'in',\n",
    "        'ytick.major.size': 12.0,\n",
    "        'ytick.minor.size': 6.0,\n",
    "        'ytick.right': True,\n",
    "        'errorbar.capsize': 0.0,\n",
    "    })"
   ]
  },
  {
   "cell_type": "markdown",
   "id": "e1a7f4f0",
   "metadata": {},
   "source": [
    "# 1 Simple exponential smoothing"
   ]
  },
  {
   "cell_type": "markdown",
   "id": "c3228a7d",
   "metadata": {},
   "source": [
    "Model: <br>\n",
    "$ \\tilde{y}_{t+d} = l $ <br>\n",
    "where <br>\n",
    "$ \\tilde{y}_{t+1} = \\alpha y_{t} + (1 - \\alpha)\\tilde{y}_{t} $\n",
    "\n",
    "y - true value of target <br>\n",
    "$\\tilde{y}$ - predicted value of target <br>\n",
    "$\\alpha$ - hyperparameter"
   ]
  },
  {
   "cell_type": "code",
   "execution_count": 5,
   "id": "f43f3b37",
   "metadata": {},
   "outputs": [],
   "source": [
    "from statsmodels.tsa.api import ExponentialSmoothing, SimpleExpSmoothing, Holt\n",
    "\n",
    "%matplotlib inline \n",
    "\n",
    "data = [\n",
    "    446.6565,\n",
    "    454.4733,\n",
    "    455.663,\n",
    "    423.6322,\n",
    "    456.2713,\n",
    "    440.5881,\n",
    "    425.3325,\n",
    "    485.1494,\n",
    "    506.0482,\n",
    "    526.792,\n",
    "    514.2689,\n",
    "    494.211,\n",
    "]\n",
    "\n",
    "index = pd.date_range(start=\"1996\", end=\"2008\", freq=\"A\")\n",
    "oildata = pd.Series(data, index)"
   ]
  },
  {
   "cell_type": "code",
   "execution_count": null,
   "id": "eaf5d288",
   "metadata": {},
   "outputs": [],
   "source": []
  }
 ],
 "metadata": {
  "kernelspec": {
   "display_name": "Python 3 (ipykernel)",
   "language": "python",
   "name": "python3"
  },
  "language_info": {
   "codemirror_mode": {
    "name": "ipython",
    "version": 3
   },
   "file_extension": ".py",
   "mimetype": "text/x-python",
   "name": "python",
   "nbconvert_exporter": "python",
   "pygments_lexer": "ipython3",
   "version": "3.7.7"
  },
  "toc": {
   "base_numbering": 1,
   "nav_menu": {},
   "number_sections": false,
   "sideBar": true,
   "skip_h1_title": false,
   "title_cell": "Table of Contents",
   "title_sidebar": "Contents",
   "toc_cell": true,
   "toc_position": {},
   "toc_section_display": true,
   "toc_window_display": false
  }
 },
 "nbformat": 4,
 "nbformat_minor": 5
}
